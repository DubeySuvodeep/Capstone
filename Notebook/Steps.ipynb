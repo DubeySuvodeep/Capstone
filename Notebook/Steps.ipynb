{
 "cells": [
  {
   "cell_type": "code",
   "execution_count": 8,
   "id": "02eb61a9-fa98-49c3-92be-9406fb261ace",
   "metadata": {},
   "outputs": [],
   "source": [
    "ticker = [\"MSFT\", \"AMZN\", \"NAT\", \"BAC\", \"DPZ\", \"DIS\", \"KO\", \"MCD\", \"COST\", \"SBUX\"]"
   ]
  },
  {
   "cell_type": "markdown",
   "id": "2809649f-cdc3-4b1c-8353-356234cf726a",
   "metadata": {},
   "source": [
    "#### Take user Input for Initializing a portfolio. \n",
    "\n",
    "1. Ask user to choose if they want to initialize by their own or they want the system to generate for them.\n",
    "2. if they want to choose there own give them the choice from the Universe of stocks we are trackingOut of the universe else ask them to choose the number of stocks they want in their portfolio and system will generate for them.\n",
    "3. Take inputs for time frame.\n",
    "4. User Risk appetite\n",
    "\n",
    "\n",
    "#### Variables\n",
    "\n",
    "1. number_of_stocks\n",
    "2. historic_tf - analysis of stock in history to be done\n",
    "3. future_revaluation_tf - portfolio revaluation required after this many days,months,years\n",
    "4. risk_appetite\n",
    "        "
   ]
  },
  {
   "cell_type": "code",
   "execution_count": 7,
   "id": "6bebf9b7-90d6-48e1-b595-090f085bc3ab",
   "metadata": {},
   "outputs": [
    {
     "name": "stdin",
     "output_type": "stream",
     "text": [
      "What is the number of stocks required in the portfolio (1-10)? 7\n",
      "How frequently you would like to optimze your portfolio? \n",
      "Options 3 month \n",
      " 6_month \n",
      " 12_month 3\n"
     ]
    }
   ],
   "source": [
    "number_of_stocks = int(input(\"What is the number of stocks required in the portfolio (1-10)?\"))\n",
    "# historic_tf = input(\"What is the historic time frame you want to analyse ? \\nOptions 3 month \\n 6_month \\n 12_month \\n 2 year \\n 5 year \\n 10 year\")\n",
    "future_revaluation_tf = int(input(\"How frequently you would like to optimze your portfolio? \\nOptions 3 month \\\n",
    "\\n 6_month \\n 12_month\"))\n",
    "historic_tf = 2 * future_revaluation_tf"
   ]
  },
  {
   "cell_type": "markdown",
   "id": "1f5735e2-c298-4214-9abe-4a70d9b1ed4f",
   "metadata": {},
   "source": [
    "#### For system generation of Portfolio.\n",
    "\n",
    "1. Classify all the stocks in the universe\n",
    "2. evaluate the return for 3 months, 6 months, 12 months, 2 years, 5 years , 10 years\n",
    "3. For a particular time frame, get the return, correlation and sector they belong\n",
    "4. Picking stocks from the universe will be based on least correlated, distributed sectors, and max return obtained as per the beta."
   ]
  },
  {
   "cell_type": "code",
   "execution_count": 1,
   "id": "72ea5266-4a13-4664-8315-b46ac6169ffd",
   "metadata": {},
   "outputs": [],
   "source": []
  },
  {
   "cell_type": "code",
   "execution_count": 5,
   "id": "9451cab1-31da-4108-a3d0-3d9e6ca0a472",
   "metadata": {},
   "outputs": [
    {
     "name": "stdin",
     "output_type": "stream",
     "text": [
      "What is the number of stocks required in the portfolio (1-10)? 6\n",
      "How frequently you would like to optimze your portfolio? \n",
      "Options 3 month \n",
      " 6_month \n",
      " 12_month 3\n"
     ]
    }
   ],
   "source": []
  },
  {
   "cell_type": "code",
   "execution_count": 6,
   "id": "6027636f-af2c-4a18-b0e1-e5cb951c25f6",
   "metadata": {},
   "outputs": [
    {
     "data": {
      "text/plain": [
       "6"
      ]
     },
     "execution_count": 6,
     "metadata": {},
     "output_type": "execute_result"
    }
   ],
   "source": []
  },
  {
   "cell_type": "code",
   "execution_count": null,
   "id": "efaa2299-5af3-4bfb-81bb-646ac1594158",
   "metadata": {},
   "outputs": [],
   "source": []
  }
 ],
 "metadata": {
  "kernelspec": {
   "display_name": "Python 3 (ipykernel)",
   "language": "python",
   "name": "python3"
  },
  "language_info": {
   "codemirror_mode": {
    "name": "ipython",
    "version": 3
   },
   "file_extension": ".py",
   "mimetype": "text/x-python",
   "name": "python",
   "nbconvert_exporter": "python",
   "pygments_lexer": "ipython3",
   "version": "3.12.2"
  }
 },
 "nbformat": 4,
 "nbformat_minor": 5
}
