{
 "cells": [
  {
   "cell_type": "code",
   "execution_count": 48,
   "id": "c0d3e7fa-6350-4a32-8bc1-407100adc824",
   "metadata": {},
   "outputs": [],
   "source": [
    "import pandas as pd \n",
    "import yfinance as yf \n",
    "\n",
    "class YahooFin:\n",
    "\n",
    "    def __init__(self, ticker):\n",
    "        self.historical_stock_price = None\n",
    "        self.ticker = ticker\n",
    "        self.price = None\n",
    "        self.start_date = \"2019-01-01\"\n",
    "        self.end_date = \"2022-12-31\"\n",
    "\n",
    "    # fetching past data from the yahoo finance\n",
    "    def get_data(self):\n",
    "        try:\n",
    "            if type(self.ticker)!=list:\n",
    "                self.ticker = [self.ticker]\n",
    "\n",
    "            self.historical_stock_price = yf.download(self.ticker, start=self.start_date, end=self.end_date, interval=\"1d\")\n",
    "            self.price = self.historical_stock_price['Adj Close']\n",
    "            return self.price\n",
    "            # self.price.index = pd.to_datetime(self.historical_stock_price.index, format=\"%y%m%d\")\n",
    "        except Exception as err:\n",
    "            print(err)      "
   ]
  },
  {
   "cell_type": "code",
   "execution_count": 114,
   "id": "bc04d203-113a-4b5c-bab9-be925c597a61",
   "metadata": {},
   "outputs": [],
   "source": [
    "\"\"\"\n",
    "The BL model takes a Bayesian approach to asset allocation. It combines a prior estimate of return with views on certain assets, to produce a \n",
    "posterior estimate of the expected returns.\n",
    "\n",
    "Advantage of BL:\n",
    "\n",
    "1. you can provide views on only a subset of assets and BL will propagate, taking into account the covariance with other assets.\n",
    "2. you can provide confidence in your views\n",
    "3. BL posterior returns results in much more stable portfolio than using mean historical return.\n",
    "\n",
    "\n",
    "Black Litterman Allocation\n",
    "https://pyportfolioopt.readthedocs.io/en/latest/BlackLitterman.html\n",
    "\n",
    "Interactive BL implementation by Thomas Kirschenman\n",
    "https://github.com/thk3421-models/cardiel\n",
    "\"\"\"\n",
    "import pypfopt\n",
    "from pypfopt import black_litterman, risk_models, objective_functions\n",
    "from pypfopt.black_litterman import BlackLittermanModel\n",
    "from pypfopt.efficient_frontier import EfficientFrontier\n",
    "from pypfopt import DiscreteAllocation\n",
    "\n",
    "# from Collector import YahooFin\n",
    "import yfinance as yf\n",
    "\n",
    "\n",
    "class BlackLitterman:\n",
    "\n",
    "    def __init__(self):\n",
    "        self.delta = None\n",
    "        self.prior = None\n",
    "        self.mcaps = {}\n",
    "        self.cov_shrinkage = None\n",
    "        self.price = None # List of tickers to create a portfolio\n",
    "        self.market_price = None # Any comparision ticker like S&P to refer the market return\n",
    "        self.omega = None\n",
    "        self.return_bl = None\n",
    "        self.alloc = None\n",
    "        self.weight = None\n",
    "        self.viewdict = None\n",
    "        self.cov_mat_bl = None\n",
    "\n",
    "    def get_market_price(self):\n",
    "        return self.market_price\n",
    "\n",
    "    def get_stock_price(self):\n",
    "        return self.price\n",
    "\n",
    "    def initialize_variables(self):\n",
    "        ticker = [\"MSFT\", \"AMZN\", \"NAT\", \"BAC\", \"DPZ\", \"DIS\", \"KO\", \"MCD\", \"COST\", \"SBUX\"]\n",
    "        y_price = YahooFin(ticker=[\"MSFT\", \"AMZN\", \"NAT\", \"BAC\", \"DPZ\", \"DIS\", \"KO\", \"MCD\", \"COST\", \"SBUX\"])\n",
    "        self.price = y_price.get_data()\n",
    "        \n",
    "\n",
    "        y_market_price = YahooFin(ticker=[\"SPY\"])\n",
    "        self.market_price = y_market_price.get_data()\n",
    "\n",
    "        for t in ticker:\n",
    "            s = yf.Ticker(t)\n",
    "            self.mcaps[t] = s.info[\"marketCap\"]\n",
    "\n",
    "        self.cov_shrinkage = risk_models.CovarianceShrinkage(self.price).ledoit_wolf()\n",
    "        self.delta = black_litterman.market_implied_risk_aversion(self.market_price)\n",
    "\n",
    "\n",
    "    def evaluate_prior(self):\n",
    "\n",
    "        \"\"\"\n",
    "            prior: N x 1 vector of prior expected return (by definition)\n",
    "            Prior is quantified by the market-implied risk premium, which is the market's excess return divided by its variance:\n",
    "            delta = ()\n",
    "        \"\"\"\n",
    "        \n",
    "        self.prior = black_litterman.market_implied_prior_returns(self.mcaps, self.delta, self.cov_shrinkage)\n",
    "\n",
    "        # plot a brah \n",
    "        # market_prior.plot.barh(figsize=(10,5));\n",
    "\n",
    "    def evaluate_view(self):\n",
    "        \"\"\"\n",
    "        NOTE: We are using a absolute view for now. This will be replaced by the self.weighted metrics derived from\n",
    "        the tuned FinLLM \n",
    "\n",
    "        viewdict = <call-back function>\n",
    "        confidence = <call-back function>(viewdict)\n",
    "        \"\"\"\n",
    "        self.viewdict = {\n",
    "            \"AMZN\": 0.10,\n",
    "            \"BAC\": 0.30,\n",
    "            \"COST\": 0.05,\n",
    "            \"DIS\": 0.05,\n",
    "            \"DPZ\": 0.20,\n",
    "            \"KO\": -0.05,  # 5% down\n",
    "            \"MCD\": 0.15,\n",
    "            \"MSFT\": 0.10,\n",
    "            \"NAT\": 0.50, \n",
    "            \"SBUX\": 0.10\n",
    "        }\n",
    "\n",
    "        # Either use confidence to evaluate omega or evaluate uncertainity matrix omega by specifying 1 standard deviation\n",
    "        # conidence intervals, i.e bounds which we think will containthe true return 68% of the time. This is better\n",
    "        # than putting arbitary percentage .\n",
    "\n",
    "        #----------------------------------------------------------------------------------------------------------\n",
    "        # confidence =  [\n",
    "        #     0.6,\n",
    "        #     0.4,\n",
    "        #     0.2,\n",
    "        #     0.5,\n",
    "        #     0.7, # confident in dominos\n",
    "        #     0.7, # confident KO will do poorly\n",
    "        #     0.7, \n",
    "        #     0.5,\n",
    "        #     0.1,\n",
    "        #     0.4\n",
    "        # ]\n",
    "\n",
    "        # bl = BlackLittermanModel(self.cov_shrinkage, pi=self.prior, absolute_views=viewdict, omega=\"idzorek\", view_confidences=confidence)\n",
    "\n",
    "        # self.omega = bl.omega\n",
    "\n",
    "        # OR -------------------------------------------------------------------------------------------------------\n",
    "\n",
    "        intervals = [\n",
    "            (0, 0.25),\n",
    "            (0.1, 0.4),\n",
    "            (-0.1, 0.15),\n",
    "            (-0.05, 0.1),\n",
    "            (0.15, 0.25),\n",
    "            (-0.1, 0),\n",
    "            (0.1, 0.2),\n",
    "            (0.08, 0.12),\n",
    "            (0.1, 0.9),\n",
    "            (0, 0.3)\n",
    "        ]\n",
    "\n",
    "        variances = []\n",
    "        for lb, ub in intervals:\n",
    "            sigma = (ub - lb)/2\n",
    "            variances.append(sigma ** 2)\n",
    "\n",
    "        self.omega = np.diag(variances)\n",
    "\n",
    "    def evaluate_posterior(self):\n",
    "\n",
    "        bl = BlackLittermanModel(self.cov_shrinkage, pi=\"market\", market_caps=self.mcaps, risk_aversion=self.delta,\\\n",
    "                                    absolute_views=self.viewdict, omega=self.omega)\n",
    "        # Posterior estimate of returns\n",
    "        self.return_bl = bl.bl_returns()\n",
    "        return_df = pd.DataFrame([self.prior, self.return_bl, pd.Series(self.viewdict)], index=[\"Prior\", \"Posterior\", \"Views\"]).T\n",
    "\n",
    "        # rets_df.plot.bar(figsize=(12,8));\n",
    "\n",
    "        self.cov_mat_bl = bl.bl_cov()\n",
    "\n",
    "    def portfolio_allocation(self):\n",
    "\n",
    "        ef = EfficientFrontier(self.return_bl, self.cov_mat_bl)\n",
    "        ef.add_objective(objective_functions.L2_reg)\n",
    "        ef.max_sharpe()\n",
    "        self.weight = ef.clean_weights()\n",
    "        # pd.Series(self.weight).plot.pie(figsize=(10,10));\n",
    "        da = DiscreteAllocation(self.weight, self.price.iloc[-1], total_portfolio_value=20000)\n",
    "        self.alloc, leftover = da.lp_portfolio()\n",
    "        print(f\"Leftover: ${leftover:.2f}\")\n"
   ]
  },
  {
   "cell_type": "code",
   "execution_count": 115,
   "id": "be9ae69e-f368-4bc5-bb60-9bd3910702b5",
   "metadata": {},
   "outputs": [],
   "source": [
    "\"\"\"\n",
    "low\n",
    "low to moderate\n",
    "moderate\n",
    "moderate high\n",
    "high\n",
    "very high\n",
    "\"\"\"\n",
    "\n",
    "riskometer = {\"low\":0, \"low_to_moderate\":1, \"moderate\":2, \"moderate high\":3, \"high\":4, \"very_high\":5}\n",
    "port_class = {\"low\":[], \"low_to_moderate\":[], \"moderate\":[], \"moderate high\":[], \"high\":[], \"very_high\":[]}\n",
    "\n",
    "stock_universe = ['AAPL','AMGN','AMZN','AXP','BA','CAT','CRM','CSCO','CVX','DIS','DOW','GS','HD','HON','IBM','INTC','JNJ','JPM','KO','MCD','MMM','MRK','MSFT','NKE','PG','TRV','UNH','V','VZ','WMT']"
   ]
  },
  {
   "cell_type": "code",
   "execution_count": 116,
   "id": "dbacb36e",
   "metadata": {},
   "outputs": [],
   "source": [
    "\"Source of info: https://www.bloomberg.com/markets/rates-bonds/government-bonds/us\"\n",
    "treasury_yield_rate = {\"3_month\":4.63, \"6_month\":4.52, \"12_month\":4.30, \"2_year\":4.10, \"5_year\":4.06, \"10_year\":4.24,\"30_year\":4.5}"
   ]
  },
  {
   "cell_type": "code",
   "execution_count": 117,
   "id": "bdb93917-2ab6-4af4-9ec9-b7f501fc37a5",
   "metadata": {},
   "outputs": [],
   "source": [
    "b = BlackLitterman()"
   ]
  },
  {
   "cell_type": "code",
   "execution_count": 118,
   "id": "5a829d9e-2bc4-4cb6-9c8d-6fd4364c9d0d",
   "metadata": {},
   "outputs": [
    {
     "name": "stderr",
     "output_type": "stream",
     "text": [
      "[*********************100%***********************]  10 of 10 completed\n",
      "[*********************100%***********************]  1 of 1 completed\n"
     ]
    }
   ],
   "source": [
    "b.initialize_variables()"
   ]
  },
  {
   "cell_type": "code",
   "execution_count": 119,
   "id": "57663697-7158-4ab3-a2af-8585d2864ebc",
   "metadata": {},
   "outputs": [],
   "source": [
    "b.evaluate_prior()"
   ]
  },
  {
   "cell_type": "code",
   "execution_count": 120,
   "id": "b60dc67c-feab-4ac8-a554-25ba025a35e5",
   "metadata": {},
   "outputs": [],
   "source": [
    "b.evaluate_view()"
   ]
  },
  {
   "cell_type": "code",
   "execution_count": 121,
   "id": "8688a4de-18bd-4478-824a-f7c7f5b0540e",
   "metadata": {},
   "outputs": [],
   "source": [
    "b.evaluate_posterior()"
   ]
  },
  {
   "cell_type": "code",
   "execution_count": 122,
   "id": "3d44b136-d0f2-4f98-975b-84a1aae495ab",
   "metadata": {},
   "outputs": [
    {
     "name": "stdout",
     "output_type": "stream",
     "text": [
      "Leftover: $0.90\n"
     ]
    },
    {
     "name": "stderr",
     "output_type": "stream",
     "text": [
      "/home/diti/miniconda3/envs/devbox/lib/python3.12/site-packages/pypfopt/efficient_frontier/efficient_frontier.py:259: UserWarning: max_sharpe transforms the optimization problem so additional objectives may not work as expected.\n",
      "  warnings.warn(\n"
     ]
    }
   ],
   "source": [
    "b.portfolio_allocation()"
   ]
  },
  {
   "cell_type": "code",
   "execution_count": 123,
   "id": "993fe87a-a265-4347-89ec-788f06a46fc3",
   "metadata": {},
   "outputs": [
    {
     "data": {
      "text/plain": [
       "{'AMZN': 35,\n",
       " 'BAC': 68,\n",
       " 'COST': 2,\n",
       " 'DIS': 13,\n",
       " 'DPZ': 12,\n",
       " 'MCD': 8,\n",
       " 'MSFT': 9,\n",
       " 'NAT': 1062,\n",
       " 'SBUX': 22}"
      ]
     },
     "execution_count": 123,
     "metadata": {},
     "output_type": "execute_result"
    }
   ],
   "source": [
    "b.alloc"
   ]
  }
 ],
 "metadata": {
  "kernelspec": {
   "display_name": "Python 3 (ipykernel)",
   "language": "python",
   "name": "python3"
  },
  "language_info": {
   "codemirror_mode": {
    "name": "ipython",
    "version": 3
   },
   "file_extension": ".py",
   "mimetype": "text/x-python",
   "name": "python",
   "nbconvert_exporter": "python",
   "pygments_lexer": "ipython3",
   "version": "3.12.2"
  }
 },
 "nbformat": 4,
 "nbformat_minor": 5
}
