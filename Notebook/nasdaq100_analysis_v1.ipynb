{
 "cells": [
  {
   "cell_type": "markdown",
   "id": "2d785d38-3f96-44f8-9414-8a62af73bae6",
   "metadata": {},
   "source": [
    "#### Import Libraries"
   ]
  },
  {
   "cell_type": "code",
   "execution_count": 1,
   "id": "81e24222-8182-4709-b0df-1596ce3e6bf6",
   "metadata": {},
   "outputs": [
    {
     "name": "stderr",
     "output_type": "stream",
     "text": [
      "/home/diti/miniconda3/envs/devbox/lib/python3.12/site-packages/telegram/utils/request.py:49: UserWarning: python-telegram-bot is using upstream urllib3. This is allowed but not supported by python-telegram-bot maintainers.\n",
      "  warnings.warn(\n"
     ]
    }
   ],
   "source": [
    "import os, sys\n",
    "import yfinance as yf\n",
    "# import ta\n",
    "import pandas as pd\n",
    "import numpy as np\n",
    "import vectorbt as vbt\n",
    "from datetime import date, timedelta, datetime\n",
    "from itertools import product\n",
    "from IPython.display import clear_output\n",
    "import matplotlib.pyplot as plt\n",
    "from csv import writer\n",
    "import warnings\n",
    "import talib as ta\n",
    "import math\n",
    "import re\n",
    "from warnings import simplefilter\n",
    "simplefilter(action=\"ignore\", category=pd.errors.PerformanceWarning)"
   ]
  },
  {
   "cell_type": "code",
   "execution_count": 77,
   "id": "2967d542-b4b8-4fbb-8241-cf59a2a58b0d",
   "metadata": {},
   "outputs": [],
   "source": [
    "def print_exception_detail(err, *args, **kwargs):\n",
    "    exc_type, exc_obj, exc_tb = sys.exc_info()\n",
    "    if len(args):\n",
    "        for _arg in args:\n",
    "            print(_arg)\n",
    "    print(f\"Error Message: {err}\")\n",
    "    print(f\"Error at line number: {exc_tb.tb_lineno}\")"
   ]
  },
  {
   "cell_type": "markdown",
   "id": "e18e63e1-431c-49e3-8861-488cd7159ed1",
   "metadata": {},
   "source": [
    "##### Tickers of S&P100 and Treasury Bond Rates of 1day frequency"
   ]
  },
  {
   "cell_type": "code",
   "execution_count": 57,
   "id": "e4eabed4-82d8-4010-9b42-5b29a741403f",
   "metadata": {},
   "outputs": [],
   "source": [
    "treasury_bond = [\"^TYX\"]\n",
    "ticker = [\"NVDA\",\"AAPL\",\"MSFT\",\"AMZN\",\"GOOGL\",\"GOOG\",\"META\",\"TSLA\",\"AVGO\",\"COST\",\"NFLX\",\"ASML\",\"TMUS\",\"AMD\",\"CSCO\",\"PEP\",\"ADBE\",\"LIN\",\"AZN\",\"TXN\",\"QCOM\t\",\"INTU\",\"ISRG\",\"AMGN\t\",\"CMCSA\",\"PDD\",\"BKNG\",\"AMAT\",\"ARM\",\"HON\",\"VRTX\",\"PANW\",\"ADP\",\"MU\",\"GILD\",\"ADI\",\"SBUX\",\"MELI\",\"INTC\",\"LRCX\",\"KLAC\",\"MDLZ\",\"ABNB\",\"REGN\",\"CTAS\",\"SNPS\",\"CDNS\",\"PYPL\",\"CRWD\",\"MRVL\",\"MAR\",\"CEG\",\"CSX\",\"ORLY\",\"DASH\",\"WDAY\",\"CHTR\",\"ADSK\",\"FTNT\",\"TTD\",\"ROP\",\"PCAR\",\"NXPI\",\"TEAM\",\"FANG\",\"MNST\",\"CPRT\",\"PAYX\",\"AEP\",\"ODFL\",\"ROST\",\"FAST\",\"KDP\",\"DDOG\",\"EA\",\"BKR\",\"KHC\",\"MCHP\",\"VRSK\",\"GEHC\",\"CTSH\",\"LULU\",\"EXC\",\"XEL\",\"CCEP\",\"IDXX\",\"ON\",\"CSGP\",\"ZS\",\"TTWO\",\"ANSS\",\"CDW\",\"DXCM\",\"BIIB\",\"GFS\",\"ILMN\",\"MDB\",\"WBD\",\"MRNA\",\"DLTR\",\"WBA\"]\n",
    "ticker = [_t.strip() for _t in ticker]"
   ]
  },
  {
   "cell_type": "markdown",
   "id": "e24376a1-cee0-4981-8ce7-bdde95312124",
   "metadata": {},
   "source": [
    "##### Methods to download data"
   ]
  },
  {
   "cell_type": "code",
   "execution_count": 32,
   "id": "8de160f4-6e96-4cff-a097-559864c7087f",
   "metadata": {},
   "outputs": [],
   "source": [
    "def download_data(ticker, interval='1d'):\n",
    "    # dt_range = pd.date_range('2019-12-31', '2020-12-31', freq='6m') \n",
    "    # define start and end date\n",
    "    # end_date = datetime.now()-timedelta(days=30)\n",
    "    # start_date = end_date - timedelta(days=390)\n",
    "\n",
    "    end_date = datetime.now() #- timedelta(days=30)\n",
    "    start_date = end_date - timedelta(days=1855)\n",
    "\n",
    "    # extract data from yahoo finanace\n",
    "    btc_price = vbt.YFData.download(\n",
    "    ticker,\n",
    "    interval=interval,\n",
    "    start = start_date,\n",
    "    end = end_date,\n",
    "    missing_index='drop').get(\"Close\")\n",
    "    df = pd.DataFrame(btc_price)\n",
    "    df.rename(columns={\"Close\":ticker}, inplace=True)\n",
    "    df.index=df.index.strftime(\"%Y-%m-%d\")\n",
    "    df.index = pd.to_datetime(df.index)\n",
    "    return df"
   ]
  },
  {
   "cell_type": "code",
   "execution_count": 58,
   "id": "21a6155f-1d86-467a-b720-b454eeae15ef",
   "metadata": {},
   "outputs": [],
   "source": [
    "df = pd.DataFrame()\n",
    "for _t in ticker:\n",
    "    try:\n",
    "        if df.empty:\n",
    "            df=download_data(_t)\n",
    "        else:\n",
    "            df1 = pd.DataFrame()\n",
    "            df1 = download_data(_t)\n",
    "            # per_chg = len(df.index.difference(df2.index)) #/len(df.index))*100\n",
    "            # print(per_chg)\n",
    "            # if per_chg<518:\n",
    "            df = pd.merge(df, df1, left_index=True, right_index=True, how='inner')  # Only keep matching rows\n",
    "    except Exception as err:\n",
    "        print_exception_detail(err)"
   ]
  },
  {
   "cell_type": "code",
   "execution_count": 70,
   "id": "dc37a177-feee-4e58-aa4d-67bb9e39a877",
   "metadata": {},
   "outputs": [],
   "source": [
    "df_treasury = download_data(treasury_bond[0])"
   ]
  },
  {
   "cell_type": "code",
   "execution_count": 79,
   "id": "b48dbac0-6721-4c7d-9241-b8c330abc35b",
   "metadata": {},
   "outputs": [],
   "source": [
    "df_treasury[f\"{treasury_bond[0]}_pct_change_20\"] = df_treasury[f\"{treasury_bond[0]}\"].pct_change(20)"
   ]
  },
  {
   "cell_type": "code",
   "execution_count": 59,
   "id": "bed8eb6b-bea9-4f60-b3b1-90d2570a2549",
   "metadata": {},
   "outputs": [
    {
     "data": {
      "text/plain": [
       "(291, 101)"
      ]
     },
     "execution_count": 59,
     "metadata": {},
     "output_type": "execute_result"
    }
   ],
   "source": [
    "df.shape"
   ]
  },
  {
   "cell_type": "code",
   "execution_count": 71,
   "id": "b5bdc5d3-425c-40e3-8ad9-a57d063fc44a",
   "metadata": {},
   "outputs": [
    {
     "data": {
      "text/html": [
       "<div>\n",
       "<style scoped>\n",
       "    .dataframe tbody tr th:only-of-type {\n",
       "        vertical-align: middle;\n",
       "    }\n",
       "\n",
       "    .dataframe tbody tr th {\n",
       "        vertical-align: top;\n",
       "    }\n",
       "\n",
       "    .dataframe thead th {\n",
       "        text-align: right;\n",
       "    }\n",
       "</style>\n",
       "<table border=\"1\" class=\"dataframe\">\n",
       "  <thead>\n",
       "    <tr style=\"text-align: right;\">\n",
       "      <th></th>\n",
       "      <th>^TYX</th>\n",
       "    </tr>\n",
       "    <tr>\n",
       "      <th>Date</th>\n",
       "      <th></th>\n",
       "    </tr>\n",
       "  </thead>\n",
       "  <tbody>\n",
       "    <tr>\n",
       "      <th>2019-10-11</th>\n",
       "      <td>2.215</td>\n",
       "    </tr>\n",
       "    <tr>\n",
       "      <th>2019-10-14</th>\n",
       "      <td>2.197</td>\n",
       "    </tr>\n",
       "    <tr>\n",
       "      <th>2019-10-15</th>\n",
       "      <td>2.233</td>\n",
       "    </tr>\n",
       "    <tr>\n",
       "      <th>2019-10-16</th>\n",
       "      <td>2.233</td>\n",
       "    </tr>\n",
       "    <tr>\n",
       "      <th>2019-10-17</th>\n",
       "      <td>2.243</td>\n",
       "    </tr>\n",
       "  </tbody>\n",
       "</table>\n",
       "</div>"
      ],
      "text/plain": [
       "             ^TYX\n",
       "Date             \n",
       "2019-10-11  2.215\n",
       "2019-10-14  2.197\n",
       "2019-10-15  2.233\n",
       "2019-10-16  2.233\n",
       "2019-10-17  2.243"
      ]
     },
     "execution_count": 71,
     "metadata": {},
     "output_type": "execute_result"
    }
   ],
   "source": [
    "df_treasury.head()"
   ]
  },
  {
   "cell_type": "code",
   "execution_count": 80,
   "id": "13354609-999c-4441-ba05-e008330db239",
   "metadata": {},
   "outputs": [],
   "source": [
    "df = pd.merge(df, df_treasury, left_index=True, right_index=True, how=\"inner\")"
   ]
  },
  {
   "cell_type": "code",
   "execution_count": 73,
   "id": "58ef326b-1273-40db-a51f-a27aa760b6c6",
   "metadata": {},
   "outputs": [
    {
     "data": {
      "text/plain": [
       "(291, 102)"
      ]
     },
     "execution_count": 73,
     "metadata": {},
     "output_type": "execute_result"
    }
   ],
   "source": [
    "df.shape"
   ]
  },
  {
   "cell_type": "markdown",
   "id": "b4a34145-48f9-424b-9df8-f769352f4ea2",
   "metadata": {},
   "source": [
    "##### Retain the original dataframe and prepare three different dataframe\n",
    "1. df_tech : Dataframe to evaluate technical scores for last n days (in our case n=20 days)\n",
    "2. df_sharpe : Dataframe to evaluate the sharpe ratio for m days (in our case m>=250 days)\n",
    "3. df_performance : Dataframe to evaluate the performance rank for l days (in our case l=7 days)\n",
    "4. df_slope : Dataframe to evaluate slope for k days (in our case k=Average of price of 6,7 days)"
   ]
  },
  {
   "cell_type": "markdown",
   "id": "e3692456-fe89-470e-a5d9-ca00ac4f11e0",
   "metadata": {},
   "source": [
    "##### Percentile Method\n",
    "\n",
    "$\n",
    " \\frac{rank of an element}{total number of element}\\,* 100 \n",
    "$"
   ]
  },
  {
   "cell_type": "code",
   "execution_count": 60,
   "id": "92478d79-afb3-425d-bfcc-704e8b237264",
   "metadata": {},
   "outputs": [],
   "source": [
    "def percentile(window):\n",
    "    index = window.index[-1]\n",
    "    window = window.rank(method=\"min\", ascending=True).apply(lambda x: (x/20)*100)\n",
    "    return window.loc[index]"
   ]
  },
  {
   "cell_type": "markdown",
   "id": "a68f6577-1337-41f1-a819-0a49f1ca26f5",
   "metadata": {},
   "source": [
    "### Indicator\n",
    "\n",
    "##### There are two sets of indicators used\n",
    "1. ##### For timing the entry and exit; RSI, Stochastic and Bollingier\n",
    "2. ##### For selection of best stocks; Performance Rank and Sharpe Ratio\n",
    "3. ##### As an additional support to our decision; Sentiment of S&P and Slope of the assets for last 1 or 2 weeks\n",
    "\n",
    "#### Stochastic Indicator\n",
    "\n",
    "Stochastic indicator is a momentum indicator that uses support and resistance levels as an oscillator\n",
    "\n",
    "%K = (Current Close - Lowest Low)/(Highest High - Lowest Low) * 100\n",
    "%D = 3-day SMA of %K\n",
    "\n",
    "We will focus on the stock with %D-Slow turnaround in the bottom as they will signal an entry. \n",
    "For normalization of the historic %D, the percentile of value wrt last 20 days is evaluated.\n",
    "\n",
    "#### RSI Indicator\n",
    "\n",
    "\n",
    "#### Bollingier"
   ]
  },
  {
   "cell_type": "code",
   "execution_count": 64,
   "id": "660b5172-97f7-4f6f-a568-671099e3956a",
   "metadata": {},
   "outputs": [],
   "source": [
    "def stochastic_k(price, period):\n",
    "    index = price.index[-1]\n",
    "    sorted_price = price.sort_values(ascending=True)\n",
    "    closing_price = price.loc[index]\n",
    "    highest_high = sorted_price.iloc[-1]\n",
    "    lowest_low = sorted_price.iloc[0]\n",
    "    per_k = (closing_price - lowest_low)/(highest_high-lowest_low)*100\n",
    "    return per_k"
   ]
  },
  {
   "cell_type": "code",
   "execution_count": 65,
   "id": "d4f50110-55c0-4da4-8459-367950ff8e43",
   "metadata": {},
   "outputs": [],
   "source": [
    "# To evaluate zscore using a penalized version error function\n",
    "def zscore(x):\n",
    "    return (math.erf(6-(12*(x/100))))"
   ]
  },
  {
   "cell_type": "code",
   "execution_count": 82,
   "id": "18b8750b-01a2-450d-8175-2115977e2941",
   "metadata": {},
   "outputs": [],
   "source": [
    "def rank_asset(row):\n",
    "    size = len(row)\n",
    "    sorted_row = row.sort_values(ascending=True) \n",
    "    buy_recom = [{col[:col.find('_')]:sorted_row[col]} for col in list(sorted_row[math.floor(size*.75):].index)]\n",
    "    sell_recom = [{col[:col.find('_')]:sorted_row[col]} for col in list(sorted_row[:math.floor(size*.25)].index)]\n",
    "    return buy_recom, sell_recom"
   ]
  },
  {
   "cell_type": "code",
   "execution_count": 129,
   "id": "3a0a7738-d266-464d-96bb-c17d444f4191",
   "metadata": {},
   "outputs": [],
   "source": [
    "for _t in ticker:\n",
    "    try:\n",
    "        # print(_t)\n",
    "        # # Technical Indicator\n",
    "        # # -------------------\n",
    "        \n",
    "        # # RSI of last n days\n",
    "        # df[f\"{_t}_rsi_20\"] = ta.RSI(df[_t], timeperiod=20)\n",
    "        # # Percentile of RSI value wrt last n days. This will give us the respective position\n",
    "        # df[f\"{_t}_rsi_20_percentile_last_20\"]=df[f\"{_t}_rsi_20\"].rolling(window=20).apply(percentile)\n",
    "\n",
    "        # # Stochastic of last n days\n",
    "        # df[f\"{_t}_sto_fast_20\"]=df[f\"{_t}\"].rolling(window=20).apply(lambda x: stochastic_k(x, 20))\n",
    "        # df[f\"{_t}_sto_slow_20\"]=ta.SMA(df[f\"{_t}_sto_fast_20\"],3)\n",
    "        # # Percentile of Stochastic slow value wrt last n days. This will give us the respective position\n",
    "        # df[f\"{_t}_sto_slow_20_percentile_last_20\"]=df[f\"{_t}_sto_slow_20\"].rolling(window=20).apply(percentile)\n",
    "\n",
    "        # # Bollingier Indicator for last n days\n",
    "        # df[f\"{_t}_sma_20\"] = ta.SMA(df[f\"{_t}\"],20)\n",
    "        # df[f\"{_t}_std_20\"] = df[f\"{_t}\"].rolling(window=20).std()\n",
    "        # # Lamda = (P(t) - SMA_20)/Std_20\n",
    "        # df[f\"{_t}_lamda_20\"] = (df[f\"{_t}\"] - df[f\"{_t}_sma_20\"])/df[f\"{_t}_std_20\"]\n",
    "        # # Percentile of lambda value wrt last n days. This will give us the respective position\n",
    "        # df[f\"{_t}_lamda_20_percentile_lst_20\"] = df[f\"{_t}_lamda_20\"].rolling(window=20).apply(percentile)\n",
    "\n",
    "        # # z- scores\n",
    "        # # ---------\n",
    "\n",
    "        # # z-score of RSI\n",
    "        # df[f\"{_t}_rsi_20_zscore\"] = df[f\"{_t}_rsi_20_percentile_last_20\"].apply(zscore)\n",
    "        # # z-score of Stochastic Slow\n",
    "        # df[f\"{_t}_sto_slow_20_zscore\"] = df[f\"{_t}_sto_slow_20_percentile_last_20\"].apply(zscore)\n",
    "        # # z-score of Lambda - a derived bollinger value\n",
    "        # df[f\"{_t}_lamda_20_zscore\"] = df[f\"{_t}_lamda_20_percentile_lst_20\"].apply(zscore)\n",
    "\n",
    "        # # Mean of z-scores of RSI, Stochastic slow and Lambda\n",
    "        # # z-score tends to 1 means indication of reversal at the bottom \n",
    "        # df[f\"{_t}_mean_zscore\"] = (df[f\"{_t}_rsi_20_zscore\"] + df[f\"{_t}_sto_slow_20_zscore\"] + df[f\"{_t}_lamda_20_zscore\"])/3\n",
    "\n",
    "        # # Selection Indicators\n",
    "        # # --------------------\n",
    "\n",
    "        # # Sharpe Ratio - This will be evaluated for long period\n",
    "        # df[f\"{_t}_pct_change_20\"] = df[f\"{_t}\"].pct_change(20)\n",
    "        # df[f\"{_t}_return_std_20\"] = df[f\"{_t}_pct_change_20\"].rolling(window=20).std()\n",
    "        # df[f\"{_t}_sharpe_ratio\"] = (df[f\"{_t}_pct_change_20\"] - df[f\"{treasury_bond[0]}_pct_change_20\"])/df[f\"{_t}_return_std_20\"]\n",
    "\n",
    "        # # Performance Rank - This will be evaluated for last 7 days\n",
    "        # df[f\"{_t}_performance_rank\"] = ((df[f\"{_t}\"] - df[f\"{_t}\"].shift(7))/df[f\"{_t}\"])*100\n",
    "\n",
    "        # # Slope of stock at each timestamp; evaluated {[(P(t)+P(t-1))-(P(t-7)+P(t-8))]/2*P(t)}\n",
    "        # df[f\"{_t}_shift1\"] = df[f\"{_t}\"].shift(1)\n",
    "        # df[f\"{_t}_shift6\"] = df[f\"{_t}\"].shift(6)\n",
    "        # df[f\"{_t}_shift7\"] = df[f\"{_t}\"].shift(7)\n",
    "        # df[f\"{_t}_slope\"] = ((df[f\"{_t}\"] + df[f\"{_t}_shift1\"])-(df[f\"{_t}_shift6\"] + df[f\"{_t}_shift7\"]))/(2*df[f\"{_t}\"] )\n",
    "\n",
    "        # Create three separate set : Top quartile set for buy and low quartile set for sell\n",
    "\n",
    "        # Set of stocks on mean z-score\n",
    "        df[[\"buy_recom_zscore\", \"sell_recom_zscore\"]] = \\\n",
    "                df[[col for col in df.columns if re.search(\".*mean_zscore$\", col)]].apply(rank_asset, axis=1, \\\n",
    "                        result_type='expand')\n",
    "        \n",
    "        # # Set of stocks on the sharpe ratio\n",
    "        # df[[\"buy_recom_sharpe\", \"sell_recom_sharpe\"]] = \\\n",
    "        #         df[[col for col in df.columns if re.search(\".*sharpe_ratio$\", col)]].apply(rank_asset, axis=1, result_type='expand')\n",
    "        \n",
    "        # # Set of stocks on the sharpe ratio\n",
    "        # df[[\"buy_recom_per\", \"sell_recom_per\"]] = \\\n",
    "        #         df[[col for col in df.columns if re.search(\".*performance_rank$\", col)]].apply(rank_asset, axis=1, result_type='expand')\n",
    "    except Exception as err:\n",
    "        print_exception_detail(err)\n",
    "        sys.exit()\n",
    "    "
   ]
  },
  {
   "cell_type": "code",
   "execution_count": 130,
   "id": "0de2a0d3-509a-4b7b-97f2-276f23096082",
   "metadata": {},
   "outputs": [],
   "source": [
    "df.to_csv(\"out.csv\")"
   ]
  },
  {
   "cell_type": "code",
   "execution_count": 131,
   "id": "3cae9d53-1fa6-4c22-ba2e-ccc4174dd27b",
   "metadata": {},
   "outputs": [],
   "source": [
    "df.to_csv(\"out_en_utf.csv\", encoding='utf-8', index=False, header=True)"
   ]
  },
  {
   "cell_type": "code",
   "execution_count": 132,
   "id": "eaa5c034-66bd-4973-be06-a210672e2b94",
   "metadata": {},
   "outputs": [
    {
     "data": {
      "text/html": [
       "<div>\n",
       "<style scoped>\n",
       "    .dataframe tbody tr th:only-of-type {\n",
       "        vertical-align: middle;\n",
       "    }\n",
       "\n",
       "    .dataframe tbody tr th {\n",
       "        vertical-align: top;\n",
       "    }\n",
       "\n",
       "    .dataframe thead th {\n",
       "        text-align: right;\n",
       "    }\n",
       "</style>\n",
       "<table border=\"1\" class=\"dataframe\">\n",
       "  <thead>\n",
       "    <tr style=\"text-align: right;\">\n",
       "      <th></th>\n",
       "      <th>NVDA</th>\n",
       "      <th>AAPL</th>\n",
       "      <th>MSFT</th>\n",
       "      <th>AMZN</th>\n",
       "      <th>GOOGL</th>\n",
       "      <th>GOOG</th>\n",
       "      <th>META</th>\n",
       "      <th>TSLA</th>\n",
       "      <th>AVGO</th>\n",
       "      <th>COST</th>\n",
       "      <th>...</th>\n",
       "      <th>DLTR_shift7</th>\n",
       "      <th>DLTR_slope</th>\n",
       "      <th>WBA_sharpe_ratio</th>\n",
       "      <th>WBA_performance_rank</th>\n",
       "      <th>WBA_shift1</th>\n",
       "      <th>WBA_shift6</th>\n",
       "      <th>WBA_shift7</th>\n",
       "      <th>WBA_slope</th>\n",
       "      <th>buy_recom_zscore</th>\n",
       "      <th>sell_recom_zscore</th>\n",
       "    </tr>\n",
       "    <tr>\n",
       "      <th>Date</th>\n",
       "      <th></th>\n",
       "      <th></th>\n",
       "      <th></th>\n",
       "      <th></th>\n",
       "      <th></th>\n",
       "      <th></th>\n",
       "      <th></th>\n",
       "      <th></th>\n",
       "      <th></th>\n",
       "      <th></th>\n",
       "      <th></th>\n",
       "      <th></th>\n",
       "      <th></th>\n",
       "      <th></th>\n",
       "      <th></th>\n",
       "      <th></th>\n",
       "      <th></th>\n",
       "      <th></th>\n",
       "      <th></th>\n",
       "      <th></th>\n",
       "      <th></th>\n",
       "    </tr>\n",
       "  </thead>\n",
       "  <tbody>\n",
       "    <tr>\n",
       "      <th>2024-11-01</th>\n",
       "      <td>135.399994</td>\n",
       "      <td>222.910004</td>\n",
       "      <td>410.369995</td>\n",
       "      <td>197.929993</td>\n",
       "      <td>171.289993</td>\n",
       "      <td>172.649994</td>\n",
       "      <td>567.159973</td>\n",
       "      <td>248.979996</td>\n",
       "      <td>168.919998</td>\n",
       "      <td>877.309998</td>\n",
       "      <td>...</td>\n",
       "      <td>66.129997</td>\n",
       "      <td>-0.013814</td>\n",
       "      <td>0.207415</td>\n",
       "      <td>1.162787</td>\n",
       "      <td>9.46</td>\n",
       "      <td>9.34</td>\n",
       "      <td>9.35</td>\n",
       "      <td>0.012156</td>\n",
       "      <td>[{'CRWD': 0.9999999990443772}, {'FTNT': 0.9999...</td>\n",
       "      <td>[{'MRNA': -0.9999999999999926}, {'WBD': -0.999...</td>\n",
       "    </tr>\n",
       "    <tr>\n",
       "      <th>2024-11-04</th>\n",
       "      <td>136.050003</td>\n",
       "      <td>222.009995</td>\n",
       "      <td>408.459991</td>\n",
       "      <td>195.779999</td>\n",
       "      <td>169.240005</td>\n",
       "      <td>170.679993</td>\n",
       "      <td>560.679993</td>\n",
       "      <td>242.839996</td>\n",
       "      <td>168.550003</td>\n",
       "      <td>886.070007</td>\n",
       "      <td>...</td>\n",
       "      <td>66.949997</td>\n",
       "      <td>0.000075</td>\n",
       "      <td>0.105502</td>\n",
       "      <td>-0.107184</td>\n",
       "      <td>9.46</td>\n",
       "      <td>9.26</td>\n",
       "      <td>9.34</td>\n",
       "      <td>0.010182</td>\n",
       "      <td>[{'PANW': 0.9999998813789874}, {'KHC': 0.99999...</td>\n",
       "      <td>[{'DLTR': -0.9999999999999926}, {'CHTR': -0.99...</td>\n",
       "    </tr>\n",
       "    <tr>\n",
       "      <th>2024-11-05</th>\n",
       "      <td>139.910004</td>\n",
       "      <td>223.449997</td>\n",
       "      <td>411.459991</td>\n",
       "      <td>199.500000</td>\n",
       "      <td>169.740005</td>\n",
       "      <td>171.410004</td>\n",
       "      <td>572.429993</td>\n",
       "      <td>251.440002</td>\n",
       "      <td>173.899994</td>\n",
       "      <td>890.169983</td>\n",
       "      <td>...</td>\n",
       "      <td>66.449997</td>\n",
       "      <td>0.006515</td>\n",
       "      <td>0.387949</td>\n",
       "      <td>3.742200</td>\n",
       "      <td>9.33</td>\n",
       "      <td>9.44</td>\n",
       "      <td>9.26</td>\n",
       "      <td>0.012994</td>\n",
       "      <td>[{'PEP': 0.9995408721145723}, {'FANG': 0.99977...</td>\n",
       "      <td>[{'DLTR': -0.9999999999999926}, {'AMZN': -0.99...</td>\n",
       "    </tr>\n",
       "    <tr>\n",
       "      <th>2024-11-06</th>\n",
       "      <td>145.610001</td>\n",
       "      <td>222.720001</td>\n",
       "      <td>420.179993</td>\n",
       "      <td>207.089996</td>\n",
       "      <td>176.509995</td>\n",
       "      <td>178.330002</td>\n",
       "      <td>572.049988</td>\n",
       "      <td>288.529999</td>\n",
       "      <td>179.550003</td>\n",
       "      <td>899.250000</td>\n",
       "      <td>...</td>\n",
       "      <td>66.260002</td>\n",
       "      <td>-0.012658</td>\n",
       "      <td>-0.326911</td>\n",
       "      <td>-2.275190</td>\n",
       "      <td>9.62</td>\n",
       "      <td>9.35</td>\n",
       "      <td>9.44</td>\n",
       "      <td>0.003250</td>\n",
       "      <td>[{'LULU': 0.3333333323815019}, {'ASML': 0.3335...</td>\n",
       "      <td>[{'ODFL': -1.0}, {'BKR': -1.0}, {'COST': -1.0}...</td>\n",
       "    </tr>\n",
       "    <tr>\n",
       "      <th>2024-11-07</th>\n",
       "      <td>148.880005</td>\n",
       "      <td>227.479996</td>\n",
       "      <td>425.429993</td>\n",
       "      <td>210.050003</td>\n",
       "      <td>180.750000</td>\n",
       "      <td>182.279999</td>\n",
       "      <td>591.700012</td>\n",
       "      <td>296.910004</td>\n",
       "      <td>183.809998</td>\n",
       "      <td>913.929993</td>\n",
       "      <td>...</td>\n",
       "      <td>64.500000</td>\n",
       "      <td>-0.014636</td>\n",
       "      <td>-0.122428</td>\n",
       "      <td>-0.862998</td>\n",
       "      <td>9.23</td>\n",
       "      <td>9.24</td>\n",
       "      <td>9.35</td>\n",
       "      <td>-0.004854</td>\n",
       "      <td>[{'REGN': -0.3331038287011183}, {'ROST': -0.32...</td>\n",
       "      <td>[{'WBD': -1.0}, {'INTC': -1.0}, {'WDAY': -1.0}...</td>\n",
       "    </tr>\n",
       "  </tbody>\n",
       "</table>\n",
       "<p>5 rows × 2231 columns</p>\n",
       "</div>"
      ],
      "text/plain": [
       "                  NVDA        AAPL        MSFT        AMZN       GOOGL  \\\n",
       "Date                                                                     \n",
       "2024-11-01  135.399994  222.910004  410.369995  197.929993  171.289993   \n",
       "2024-11-04  136.050003  222.009995  408.459991  195.779999  169.240005   \n",
       "2024-11-05  139.910004  223.449997  411.459991  199.500000  169.740005   \n",
       "2024-11-06  145.610001  222.720001  420.179993  207.089996  176.509995   \n",
       "2024-11-07  148.880005  227.479996  425.429993  210.050003  180.750000   \n",
       "\n",
       "                  GOOG        META        TSLA        AVGO        COST  ...  \\\n",
       "Date                                                                    ...   \n",
       "2024-11-01  172.649994  567.159973  248.979996  168.919998  877.309998  ...   \n",
       "2024-11-04  170.679993  560.679993  242.839996  168.550003  886.070007  ...   \n",
       "2024-11-05  171.410004  572.429993  251.440002  173.899994  890.169983  ...   \n",
       "2024-11-06  178.330002  572.049988  288.529999  179.550003  899.250000  ...   \n",
       "2024-11-07  182.279999  591.700012  296.910004  183.809998  913.929993  ...   \n",
       "\n",
       "            DLTR_shift7  DLTR_slope  WBA_sharpe_ratio  WBA_performance_rank  \\\n",
       "Date                                                                          \n",
       "2024-11-01    66.129997   -0.013814          0.207415              1.162787   \n",
       "2024-11-04    66.949997    0.000075          0.105502             -0.107184   \n",
       "2024-11-05    66.449997    0.006515          0.387949              3.742200   \n",
       "2024-11-06    66.260002   -0.012658         -0.326911             -2.275190   \n",
       "2024-11-07    64.500000   -0.014636         -0.122428             -0.862998   \n",
       "\n",
       "            WBA_shift1  WBA_shift6  WBA_shift7  WBA_slope  \\\n",
       "Date                                                        \n",
       "2024-11-01        9.46        9.34        9.35   0.012156   \n",
       "2024-11-04        9.46        9.26        9.34   0.010182   \n",
       "2024-11-05        9.33        9.44        9.26   0.012994   \n",
       "2024-11-06        9.62        9.35        9.44   0.003250   \n",
       "2024-11-07        9.23        9.24        9.35  -0.004854   \n",
       "\n",
       "                                             buy_recom_zscore  \\\n",
       "Date                                                            \n",
       "2024-11-01  [{'CRWD': 0.9999999990443772}, {'FTNT': 0.9999...   \n",
       "2024-11-04  [{'PANW': 0.9999998813789874}, {'KHC': 0.99999...   \n",
       "2024-11-05  [{'PEP': 0.9995408721145723}, {'FANG': 0.99977...   \n",
       "2024-11-06  [{'LULU': 0.3333333323815019}, {'ASML': 0.3335...   \n",
       "2024-11-07  [{'REGN': -0.3331038287011183}, {'ROST': -0.32...   \n",
       "\n",
       "                                            sell_recom_zscore  \n",
       "Date                                                           \n",
       "2024-11-01  [{'MRNA': -0.9999999999999926}, {'WBD': -0.999...  \n",
       "2024-11-04  [{'DLTR': -0.9999999999999926}, {'CHTR': -0.99...  \n",
       "2024-11-05  [{'DLTR': -0.9999999999999926}, {'AMZN': -0.99...  \n",
       "2024-11-06  [{'ODFL': -1.0}, {'BKR': -1.0}, {'COST': -1.0}...  \n",
       "2024-11-07  [{'WBD': -1.0}, {'INTC': -1.0}, {'WDAY': -1.0}...  \n",
       "\n",
       "[5 rows x 2231 columns]"
      ]
     },
     "execution_count": 132,
     "metadata": {},
     "output_type": "execute_result"
    }
   ],
   "source": [
    "df.tail()"
   ]
  },
  {
   "cell_type": "code",
   "execution_count": 304,
   "id": "d08e4bee-b3ab-4815-af56-91f8e7ee422f",
   "metadata": {},
   "outputs": [],
   "source": [
    "# df_sharpe = df_asset[[col for col in df_asset.columns for _t in ticker if re.search(f\"{_t}.*pct_change_20$|^{_t}$\", col)]]"
   ]
  },
  {
   "cell_type": "code",
   "execution_count": 306,
   "id": "ec020b23-7746-4f53-b122-181dc77b0747",
   "metadata": {},
   "outputs": [],
   "source": [
    "# df_sharpe = pd.merge(df_sharpe, df_treasury, left_index=True, right_index=True, how=\"inner\")"
   ]
  },
  {
   "cell_type": "code",
   "execution_count": 317,
   "id": "f209b765-d820-4d16-af18-dd128cac4760",
   "metadata": {},
   "outputs": [],
   "source": [
    "# ticker = [col for col in df_sharpe.columns for _t in ticker if re.search(f\"{_t}.*pct_change_20$\", col)]"
   ]
  },
  {
   "cell_type": "code",
   "execution_count": 324,
   "id": "539f9dd0-b435-445a-99f3-4dcef0899ad1",
   "metadata": {},
   "outputs": [],
   "source": [
    "# df_sharpe.drop(ticker+treasury_bond, axis=1, inplace=True)"
   ]
  },
  {
   "cell_type": "code",
   "execution_count": 336,
   "id": "15777a69-8242-4d90-8c65-eaabf5a649dc",
   "metadata": {},
   "outputs": [],
   "source": [
    "# for _t in ticker:\n",
    "#     df_sharpe[f\"{_t}_return_std_20\"] = df_sharpe[f\"{_t}_pct_change_20\"].rolling(window=20).std()\n",
    "#     df_sharpe[f\"{_t}_sharpe_ratio\"] = (df_sharpe[f\"{_t}_pct_change_20\"] - df_sharpe[f\"{treasury_bond[0]}_pct_change_20\"])/df_sharpe[f\"{_t}_return_std_20\"]"
   ]
  },
  {
   "cell_type": "code",
   "execution_count": 365,
   "id": "955caa9e-7304-4c21-8a84-2d67c2a531e7",
   "metadata": {},
   "outputs": [],
   "source": [
    "# import sys\n",
    "# def rank_asset_sharpe(row):\n",
    "#     # print(row.sort_values(ascending=True))\n",
    "#     size = len(row)\n",
    "#     sorted_row = row.sort_values(ascending=True) \n",
    "#     buy_recom_tech = [{col[:col.find('_')]:sorted_row[col]} for col in list(sorted_row[math.floor(size*.75):].index)]\n",
    "#     sell_recom_tech = [{col[:col.find('_')]:sorted_row[col]} for col in list(sorted_row[:math.floor(size*.25)].index)]\n",
    "#     return buy_recom_tech, sell_recom_tech"
   ]
  },
  {
   "cell_type": "code",
   "execution_count": 357,
   "id": "9e08e849-2020-4b9c-83db-ff29c136baff",
   "metadata": {},
   "outputs": [],
   "source": [
    "# df_sharpe.dropna(inplace=True)"
   ]
  },
  {
   "cell_type": "code",
   "execution_count": 366,
   "id": "31c6469b-bb23-4768-8c3c-b22f561f1e28",
   "metadata": {},
   "outputs": [],
   "source": [
    "# # Apply the function row-wise and unpack the results into multiple columns\n",
    "# df_sharpe[[\"buy_recommendation_sharpe\", \"sell_recommendation_sharpe\"]] = \\\n",
    "# df_sharpe[[col for col in df_sharpe.columns if re.search(f\".*sharpe_ratio$\", col)]].apply(rank_asset_sharpe, axis=1, result_type='expand')"
   ]
  },
  {
   "cell_type": "code",
   "execution_count": 266,
   "id": "f6d7f530-b951-409a-93f4-d088e46ea760",
   "metadata": {},
   "outputs": [],
   "source": [
    "df_original = df.copy()"
   ]
  },
  {
   "cell_type": "code",
   "execution_count": 289,
   "id": "afe9f14f-87ff-4322-9c78-7ff9d19eb59f",
   "metadata": {},
   "outputs": [],
   "source": [
    "df_asset = df_original.copy()\n",
    "df_treasury = df.copy()"
   ]
  },
  {
   "cell_type": "code",
   "execution_count": 371,
   "id": "f074529d-39ef-4243-818d-6b080de21b3f",
   "metadata": {},
   "outputs": [],
   "source": [
    "df_performance_rank = df_original.copy()"
   ]
  },
  {
   "cell_type": "code",
   "execution_count": 374,
   "id": "d674d144-5e72-444d-9a35-aab847d640df",
   "metadata": {},
   "outputs": [],
   "source": [
    "df_performance_rank = df_performance_rank[ticker]"
   ]
  },
  {
   "cell_type": "code",
   "execution_count": 375,
   "id": "a2b1c207-2155-4388-a344-91b3871b1563",
   "metadata": {},
   "outputs": [],
   "source": [
    "# # for _t in ticker:\n",
    "#     df_performance_rank[f\"{_t}_performance_rank\"] = ((df_performance_rank[f\"{_t}\"] - df_performance_rank[f\"{_t}\"].shift(5))/df_performance_rank[f\"{_t}\"])*100"
   ]
  },
  {
   "cell_type": "code",
   "execution_count": 379,
   "id": "335678e2-946f-41a2-8edc-1ddae2e53a3a",
   "metadata": {},
   "outputs": [],
   "source": [
    "# import sys\n",
    "# def rank_asset_performance(row):\n",
    "#     # print(row.sort_values(ascending=True))\n",
    "#     size = len(row)\n",
    "#     sorted_row = row.sort_values(ascending=True) \n",
    "#     buy_recom_per = [{col[:col.find('_')]:sorted_row[col]} for col in list(sorted_row[math.floor(size*.75):].index)]\n",
    "#     sell_recom_per = [{col[:col.find('_')]:sorted_row[col]} for col in list(sorted_row[:math.floor(size*.25)].index)]\n",
    "#     return buy_recom_per, sell_recom_per"
   ]
  },
  {
   "cell_type": "code",
   "execution_count": 380,
   "id": "3add4204-5b9e-4397-a00b-124074fd094a",
   "metadata": {},
   "outputs": [],
   "source": [
    "# # Apply the function row-wise and unpack the results into multiple columns\n",
    "# df_performance_rank[[\"buy_recommendation_per\", \"sell_recommendation_per\"]] = df_performance_rank.apply(rank_asset_performance, axis=1, result_type='expand')"
   ]
  },
  {
   "cell_type": "code",
   "execution_count": 383,
   "id": "dd5170b1-97fe-4c2e-9458-aae0dfc32220",
   "metadata": {},
   "outputs": [],
   "source": [
    "# df_performance_rank.dropna(inplace=True)"
   ]
  },
  {
   "cell_type": "code",
   "execution_count": 146,
   "id": "9845840d-c4d9-4bd3-800c-91d2ab75c05d",
   "metadata": {},
   "outputs": [],
   "source": [
    "#testing of percentile of last 20 days rsi\n",
    "# a = df[21:41][\"MSFT_rsi_20\"].sort_values(ascending=True)\n",
    "# a\n",
    "# pd.to_datetime(a.index)\n",
    "# a=pd.DataFrame(a)\n",
    "# a[\"rank\"] = a[\"MSFT_rsi_20\"].rank(method=\"min\", ascending=True)\n",
    "# a[\"percentile\"] = a[\"rank\"].apply(lambda x: (x/20)*100)"
   ]
  },
  {
   "cell_type": "code",
   "execution_count": 268,
   "id": "cbc46df1-5f2d-4072-8efc-a05bd9fd6a8c",
   "metadata": {},
   "outputs": [],
   "source": [
    "# df.dropna(inplace=True)"
   ]
  },
  {
   "cell_type": "code",
   "execution_count": 270,
   "id": "ee007b1e-0524-4696-8a1c-b20cdd1aceae",
   "metadata": {},
   "outputs": [],
   "source": [
    "# list_of_cols = [col for col in df.columns for _t in ticker if re.search(f\"{_t}.*zscore$|^{_t}$\", col)]"
   ]
  },
  {
   "cell_type": "code",
   "execution_count": 271,
   "id": "55cb03f8-fb37-498f-a635-8249a8617798",
   "metadata": {},
   "outputs": [],
   "source": [
    "# df = df[list_of_cols]"
   ]
  },
  {
   "cell_type": "code",
   "execution_count": 272,
   "id": "72e1b3a4-5c57-4964-bcbd-65193dfa8c99",
   "metadata": {},
   "outputs": [],
   "source": [
    "# for _t in ticker:\n",
    "#     try:\n",
    "#         df[f\"{_t}_cum_zscore\"] = (df[f\"{_t}_rsi_20_zscore\"] + df[f\"{_t}_sto_slow_20_zscore\"] + df[f\"{_t}_lamda_20_zscore\"])/3\n",
    "#     except Exception as err:\n",
    "#         print(f\"Error : {err}\")"
   ]
  },
  {
   "cell_type": "code",
   "execution_count": 273,
   "id": "a0f62b5e-1dbc-4350-8b7b-df9647387735",
   "metadata": {},
   "outputs": [],
   "source": [
    "# df_cum_score = df[[col for col in df.columns for _t in ticker if re.search(f\"{_t}.*cum_zscore$\", col)]]"
   ]
  },
  {
   "cell_type": "code",
   "execution_count": 369,
   "id": "8401ad51-7782-4bce-8fd4-e861077ea3ec",
   "metadata": {},
   "outputs": [],
   "source": [
    "# import sys\n",
    "# def rank_asset(row):\n",
    "#     # print(row.sort_values(ascending=True))\n",
    "#     size = len(row)\n",
    "#     sorted_row = row.sort_values(ascending=True) \n",
    "#     buy_recom_tech = [{col[:col.find('_')]:sorted_row[col]} for col in list(sorted_row[math.floor(size*.75):].index)]\n",
    "#     sell_recom_tech = [{col[:col.find('_')]:sorted_row[col]} for col in list(sorted_row[:math.floor(size*.25)].index)]\n",
    "#     return buy_recom_tech, sell_recom_tech"
   ]
  },
  {
   "cell_type": "code",
   "execution_count": 394,
   "id": "f966ed2b-5534-444c-b29b-90142e230c76",
   "metadata": {},
   "outputs": [],
   "source": [
    "# df_cum_score.drop(columns=['buy_recommendation', 'sell_recommendation'], axis=1, inplace=True)"
   ]
  },
  {
   "cell_type": "code",
   "execution_count": 396,
   "id": "0ecf9dc4-0203-4a8f-80e1-1657b1ca590f",
   "metadata": {},
   "outputs": [],
   "source": [
    "\n",
    "# # Apply the function row-wise and unpack the results into multiple columns\n",
    "# df_cum_score[[\"buy_recommendation_zscore\", \"sell_recommendation_zscore\"]] = df_cum_score.apply(rank_asset, axis=1, result_type='expand')"
   ]
  },
  {
   "cell_type": "code",
   "execution_count": 397,
   "id": "d02cd1f3-82a9-4be4-ab44-5a4cc672948d",
   "metadata": {},
   "outputs": [],
   "source": [
    "# df = df_cum_score.merge(df_sharpe, left_index=True, right_index=True).merge(df_performance_rank, left_index=True, right_index=True)"
   ]
  },
  {
   "cell_type": "code",
   "execution_count": 133,
   "id": "18753993-a5d5-46da-9f41-0290f8e2d652",
   "metadata": {},
   "outputs": [],
   "source": [
    "df_recom = df[[col for col in df.columns if re.search(\".*buy_recom.*\", col)]]"
   ]
  },
  {
   "cell_type": "code",
   "execution_count": 134,
   "id": "5742e902-20f5-4195-8963-00b67557018f",
   "metadata": {},
   "outputs": [
    {
     "name": "stderr",
     "output_type": "stream",
     "text": [
      "/tmp/ipykernel_591139/601615114.py:1: SettingWithCopyWarning: \n",
      "A value is trying to be set on a copy of a slice from a DataFrame\n",
      "\n",
      "See the caveats in the documentation: https://pandas.pydata.org/pandas-docs/stable/user_guide/indexing.html#returning-a-view-versus-a-copy\n",
      "  df_recom.dropna(inplace=True)\n"
     ]
    }
   ],
   "source": [
    "df_recom.dropna(inplace=True)"
   ]
  },
  {
   "cell_type": "code",
   "execution_count": 135,
   "id": "878d9d16-b63b-48c2-b09a-32610b41c827",
   "metadata": {},
   "outputs": [],
   "source": [
    "df_recom = df_recom.iloc[-60:]"
   ]
  },
  {
   "cell_type": "code",
   "execution_count": 136,
   "id": "cd876711-6411-4ebd-a413-b2490e456668",
   "metadata": {},
   "outputs": [],
   "source": [
    "s1 = set([list(_d.keys())[0] for _d in df_recom.loc[\"2024-08-15\"][\"buy_recom_sharpe\"]])"
   ]
  },
  {
   "cell_type": "code",
   "execution_count": 119,
   "id": "f5b4c7c8-c6a1-476f-87c4-fd68264c3239",
   "metadata": {},
   "outputs": [],
   "source": [
    "s2 = set([list(_d.keys())[0] for _d in df_recom.loc[\"2024-08-15\"][\"buy_recom_per\"]])"
   ]
  },
  {
   "cell_type": "code",
   "execution_count": 138,
   "id": "87c011b4-54a0-4ab8-92c4-ed56d0406408",
   "metadata": {},
   "outputs": [],
   "source": [
    "s3 = set([list(_d.keys())[0] for _d in df_recom.loc[\"2024-08-15\"][\"buy_recom_zscore\"]])"
   ]
  },
  {
   "cell_type": "code",
   "execution_count": 120,
   "id": "20f0f03a-4698-4700-8a0b-6ee7835912b6",
   "metadata": {},
   "outputs": [
    {
     "data": {
      "text/plain": [
       "{'FTNT', 'ILMN', 'MELI', 'PDD', 'REGN', 'SBUX'}"
      ]
     },
     "execution_count": 120,
     "metadata": {},
     "output_type": "execute_result"
    }
   ],
   "source": [
    "s1.intersection(s2)"
   ]
  },
  {
   "cell_type": "code",
   "execution_count": 139,
   "id": "3327410f-a386-4e8a-8f0e-c59788ac1d3a",
   "metadata": {},
   "outputs": [
    {
     "data": {
      "text/plain": [
       "{'ADP', 'AEP', 'CTAS', 'EXC', 'ORLY', 'TMUS', 'XEL'}"
      ]
     },
     "execution_count": 139,
     "metadata": {},
     "output_type": "execute_result"
    }
   ],
   "source": [
    "s3.intersection(s1) #.intersection(s2)"
   ]
  },
  {
   "cell_type": "code",
   "execution_count": 141,
   "id": "9377061f-e51a-4d39-bcd8-b6a6cb9c4773",
   "metadata": {},
   "outputs": [
    {
     "data": {
      "text/plain": [
       "set()"
      ]
     },
     "execution_count": 141,
     "metadata": {},
     "output_type": "execute_result"
    }
   ],
   "source": [
    "s3.intersection(s2)"
   ]
  },
  {
   "cell_type": "code",
   "execution_count": 145,
   "id": "ee14e911-5984-4d4b-97ac-cc39c7a7ff66",
   "metadata": {},
   "outputs": [
    {
     "data": {
      "text/plain": [
       "NVDA_slope     0.153752\n",
       "AAPL_slope     0.066465\n",
       "MSFT_slope     0.048139\n",
       "AMZN_slope     0.064728\n",
       "GOOGL_slope    0.013763\n",
       "                 ...   \n",
       "MDB_slope      0.089079\n",
       "WBD_slope     -0.074586\n",
       "MRNA_slope     0.028977\n",
       "DLTR_slope    -0.010546\n",
       "WBA_slope     -0.020333\n",
       "Name: 2024-08-15 00:00:00, Length: 101, dtype: float64"
      ]
     },
     "execution_count": 145,
     "metadata": {},
     "output_type": "execute_result"
    }
   ],
   "source": [
    "df[[col for col in df.columns if re.search(\".*slope.*\", col)]].loc[\"2024-08-15\"]"
   ]
  },
  {
   "cell_type": "code",
   "execution_count": 137,
   "id": "47061b2b-d258-4336-b158-739f3d2f2a7d",
   "metadata": {},
   "outputs": [
    {
     "data": {
      "text/plain": [
       "[{'VRSK': -0.4025707272319509},\n",
       " {'TMUS': -0.36321394692545583},\n",
       " {'CTAS': -0.3333333323815019},\n",
       " {'BIIB': -0.333325969834334},\n",
       " {'ADP': -0.3331038287011183},\n",
       " {'CMCSA': -0.30343799274321176},\n",
       " {'CTSH': -0.23118058558509938},\n",
       " {'MRNA': -0.20128536361597568},\n",
       " {'TEAM': -0.1284114702626017},\n",
       " {'CSGP': 0.20128536361597524},\n",
       " {'EXC': 0.3333333323815019},\n",
       " {'XEL': 0.6367639625775455},\n",
       " {'VRTX': 0.8344201902377639},\n",
       " {'FAST': 0.8378271850603053},\n",
       " {'ODFL': 0.8380493261935208},\n",
       " {'AMGN': 0.8606790313731291},\n",
       " {'BKR': 0.8643154122068878},\n",
       " {'WBD': 0.9696456501454485},\n",
       " {'ORLY': 0.9700972959070948},\n",
       " {'CSX': 0.9927270010867031},\n",
       " {'MNST': 0.996126632414029},\n",
       " {'PEP': 0.9963634995896281},\n",
       " {'KHC': 0.9963635005414521},\n",
       " {'GILD': 0.9999852720501695},\n",
       " {'CHTR': 0.9999999990443772},\n",
       " {'AEP': 0.9999999999999777}]"
      ]
     },
     "execution_count": 137,
     "metadata": {},
     "output_type": "execute_result"
    }
   ],
   "source": [
    "df_recom.loc[\"2024-08-15\"][\"buy_recom_zscore\"]"
   ]
  }
 ],
 "metadata": {
  "kernelspec": {
   "display_name": "Python 3 (ipykernel)",
   "language": "python",
   "name": "python3"
  },
  "language_info": {
   "codemirror_mode": {
    "name": "ipython",
    "version": 3
   },
   "file_extension": ".py",
   "mimetype": "text/x-python",
   "name": "python",
   "nbconvert_exporter": "python",
   "pygments_lexer": "ipython3",
   "version": "3.12.2"
  }
 },
 "nbformat": 4,
 "nbformat_minor": 5
}
