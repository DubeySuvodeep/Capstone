{
 "cells": [
  {
   "cell_type": "code",
   "execution_count": 1,
   "id": "eca76803-cb8c-4d98-8383-25a73b687e6e",
   "metadata": {},
   "outputs": [
    {
     "data": {
      "text/plain": [
       "'Book : Design, Testing, and Optimization of Trading Systems'"
      ]
     },
     "execution_count": 1,
     "metadata": {},
     "output_type": "execute_result"
    }
   ],
   "source": [
    "\"Book : Design, Testing, and Optimization of Trading Systems\""
   ]
  },
  {
   "cell_type": "code",
   "execution_count": 2,
   "id": "1692b394-3caa-4142-9833-9c1efb13c8f9",
   "metadata": {},
   "outputs": [],
   "source": [
    "viewdict = {\n",
    "            \"AMZN\": 0.10,\n",
    "            \"BAC\": 0.30,\n",
    "            \"COST\": 0.05,\n",
    "            \"DIS\": 0.05,\n",
    "            \"DPZ\": 0.20,\n",
    "            \"KO\": -0.05,  # 5% down\n",
    "            \"MCD\": 0.15,\n",
    "            \"MSFT\": 0.10,\n",
    "            \"NAT\": 0.50, \n",
    "            \"SBUX\": 0.10\n",
    "        }"
   ]
  },
  {
   "cell_type": "markdown",
   "id": "9f6c95a1-d0ec-4c94-91dc-cc7e5aa0d75b",
   "metadata": {},
   "source": [
    "Using RSI and MA backtest on last 3 months of data and get the best parameter which gives best return.\n",
    "Take the number of stocks on positive return after sorting in descending order\n",
    "Those number of stocks will become the  part of the portfolio in the BL model\n",
    "\n",
    "For evaluating the view, take the dataframe with signals of buy and sell i.e entries and exits for each stock with the backtested values and then attach the sentiments on those dates for a particular stock and give a view for that stock."
   ]
  },
  {
   "cell_type": "code",
   "execution_count": 10,
   "id": "c7be6bd5-a90d-417a-a4c4-a2fe900bec38",
   "metadata": {},
   "outputs": [
    {
     "name": "stderr",
     "output_type": "stream",
     "text": [
      "/home/diti/miniconda3/envs/devbox/lib/python3.12/site-packages/telegram/utils/request.py:49: UserWarning: python-telegram-bot is using upstream urllib3. This is allowed but not supported by python-telegram-bot maintainers.\n",
      "  warnings.warn(\n"
     ]
    }
   ],
   "source": [
    "import numpy as np\n",
    "import scipy.stats as stats\n",
    "import vectorbt as vbt\n",
    "import warnings\n",
    "warnings.filterwarnings('ignore')\n"
   ]
  },
  {
   "cell_type": "code",
   "execution_count": 49,
   "id": "cd13accd-373f-4dff-aff7-65058ed16155",
   "metadata": {},
   "outputs": [],
   "source": [
    "start = \"2016-01-01 UTC\"\n",
    "end = \"2020-01-01 UTC\"\n",
    "prices = vbt.YFData.download(\"AAPL\", start=start, end=end).get(\"Close\")"
   ]
  },
  {
   "cell_type": "code",
   "execution_count": 50,
   "id": "53b42a09-0786-4756-bcd1-eb3877ad16d5",
   "metadata": {},
   "outputs": [],
   "source": [
    "d = prices.vbt.rolling_split(\n",
    "    n=30,\n",
    "    window_len=365*2,\n",
    "    set_lens=(180,),\n",
    "    left_to_right=False,\n",
    "    plot=True\n",
    ")"
   ]
  },
  {
   "cell_type": "code",
   "execution_count": 51,
   "id": "2069b390-9c1f-4738-87a2-191a89352aa8",
   "metadata": {},
   "outputs": [
    {
     "data": {
      "application/vnd.jupyter.widget-view+json": {
       "model_id": "13bf73e1d00440c184c234e5e8c10d79",
       "version_major": 2,
       "version_minor": 0
      },
      "text/plain": [
       "FigureWidget({\n",
       "    'data': [{'colorscale': [[0.0, '#1f77b4'], [1.0, '#1f77b4']],\n",
       "              'hoverongaps': False,\n",
       "              'name': '0',\n",
       "              'showlegend': True,\n",
       "              'showscale': False,\n",
       "              'type': 'heatmap',\n",
       "              'uid': '23fa2dd8-9fcf-4aeb-aa28-94363483bba0',\n",
       "              'x': array([datetime.datetime(2016, 1, 4, 5, 0, tzinfo=datetime.timezone.utc),\n",
       "                          datetime.datetime(2016, 1, 5, 5, 0, tzinfo=datetime.timezone.utc),\n",
       "                          datetime.datetime(2016, 1, 6, 5, 0, tzinfo=datetime.timezone.utc), ...,\n",
       "                          datetime.datetime(2019, 12, 27, 5, 0, tzinfo=datetime.timezone.utc),\n",
       "                          datetime.datetime(2019, 12, 30, 5, 0, tzinfo=datetime.timezone.utc),\n",
       "                          datetime.datetime(2019, 12, 31, 5, 0, tzinfo=datetime.timezone.utc)],\n",
       "                         dtype=object),\n",
       "              'y': array([29, 28, 27, 26, 25, 24, 23, 22, 21, 20, 19, 18, 17, 16, 15, 14, 13, 12,\n",
       "                          11, 10,  9,  8,  7,  6,  5,  4,  3,  2,  1,  0]),\n",
       "              'z': array([[nan, nan, nan, ..., nan, nan, nan],\n",
       "                          [nan, nan, nan, ..., nan, nan, nan],\n",
       "                          [nan, nan, nan, ..., nan, nan, nan],\n",
       "                          ...,\n",
       "                          [nan, nan, nan, ..., nan, nan, nan],\n",
       "                          [nan, nan, nan, ..., nan, nan, nan],\n",
       "                          [ 0.,  0.,  0., ..., nan, nan, nan]])},\n",
       "             {'colorscale': [[0.0, '#ff7f0e'], [1.0, '#ff7f0e']],\n",
       "              'hoverongaps': False,\n",
       "              'name': '1',\n",
       "              'showlegend': True,\n",
       "              'showscale': False,\n",
       "              'type': 'heatmap',\n",
       "              'uid': '8d2283a8-e3b3-419e-9d38-73bcb544a412',\n",
       "              'x': array([datetime.datetime(2016, 1, 4, 5, 0, tzinfo=datetime.timezone.utc),\n",
       "                          datetime.datetime(2016, 1, 5, 5, 0, tzinfo=datetime.timezone.utc),\n",
       "                          datetime.datetime(2016, 1, 6, 5, 0, tzinfo=datetime.timezone.utc), ...,\n",
       "                          datetime.datetime(2019, 12, 27, 5, 0, tzinfo=datetime.timezone.utc),\n",
       "                          datetime.datetime(2019, 12, 30, 5, 0, tzinfo=datetime.timezone.utc),\n",
       "                          datetime.datetime(2019, 12, 31, 5, 0, tzinfo=datetime.timezone.utc)],\n",
       "                         dtype=object),\n",
       "              'y': array([29, 28, 27, 26, 25, 24, 23, 22, 21, 20, 19, 18, 17, 16, 15, 14, 13, 12,\n",
       "                          11, 10,  9,  8,  7,  6,  5,  4,  3,  2,  1,  0]),\n",
       "              'z': array([[nan, nan, nan, ...,  1.,  1.,  1.],\n",
       "                          [nan, nan, nan, ..., nan, nan, nan],\n",
       "                          [nan, nan, nan, ..., nan, nan, nan],\n",
       "                          ...,\n",
       "                          [nan, nan, nan, ..., nan, nan, nan],\n",
       "                          [nan, nan, nan, ..., nan, nan, nan],\n",
       "                          [nan, nan, nan, ..., nan, nan, nan]])}],\n",
       "    'layout': {'height': 225,\n",
       "               'legend': {'orientation': 'h',\n",
       "                          'traceorder': 'normal',\n",
       "                          'x': 1,\n",
       "                          'xanchor': 'right',\n",
       "                          'y': 1.02,\n",
       "                          'yanchor': 'bottom'},\n",
       "               'margin': {'b': 30, 'l': 30, 'r': 30, 't': 30},\n",
       "               'template': '...',\n",
       "               'width': 700,\n",
       "               'yaxis': {'type': 'category'}}\n",
       "})"
      ]
     },
     "execution_count": 51,
     "metadata": {},
     "output_type": "execute_result"
    }
   ],
   "source": [
    "d"
   ]
  },
  {
   "cell_type": "code",
   "execution_count": 30,
   "id": "dc1be9ae-9c21-48c0-b93a-b6ae6d31f262",
   "metadata": {},
   "outputs": [],
   "source": [
    "(in_price, in_indexes), (out_price, out_indexes) = prices.vbt.rolling_split(\n",
    "    n=30,\n",
    "    window_len=365*2,\n",
    "    set_lens=(180,),\n",
    "    left_to_right=False,\n",
    ")"
   ]
  },
  {
   "cell_type": "code",
   "execution_count": 52,
   "id": "749488ac-a504-4f1e-9dbb-dc60b7b4e15e",
   "metadata": {},
   "outputs": [
    {
     "data": {
      "text/html": [
       "<div>\n",
       "<style scoped>\n",
       "    .dataframe tbody tr th:only-of-type {\n",
       "        vertical-align: middle;\n",
       "    }\n",
       "\n",
       "    .dataframe tbody tr th {\n",
       "        vertical-align: top;\n",
       "    }\n",
       "\n",
       "    .dataframe thead th {\n",
       "        text-align: right;\n",
       "    }\n",
       "</style>\n",
       "<table border=\"1\" class=\"dataframe\">\n",
       "  <thead>\n",
       "    <tr style=\"text-align: right;\">\n",
       "      <th>split_idx</th>\n",
       "      <th>0</th>\n",
       "      <th>1</th>\n",
       "      <th>2</th>\n",
       "      <th>3</th>\n",
       "      <th>4</th>\n",
       "      <th>5</th>\n",
       "      <th>6</th>\n",
       "      <th>7</th>\n",
       "      <th>8</th>\n",
       "      <th>9</th>\n",
       "      <th>...</th>\n",
       "      <th>20</th>\n",
       "      <th>21</th>\n",
       "      <th>22</th>\n",
       "      <th>23</th>\n",
       "      <th>24</th>\n",
       "      <th>25</th>\n",
       "      <th>26</th>\n",
       "      <th>27</th>\n",
       "      <th>28</th>\n",
       "      <th>29</th>\n",
       "    </tr>\n",
       "  </thead>\n",
       "  <tbody>\n",
       "    <tr>\n",
       "      <th>0</th>\n",
       "      <td>42.971344</td>\n",
       "      <td>40.854931</td>\n",
       "      <td>40.211735</td>\n",
       "      <td>39.074306</td>\n",
       "      <td>43.470295</td>\n",
       "      <td>44.226631</td>\n",
       "      <td>45.159542</td>\n",
       "      <td>44.827202</td>\n",
       "      <td>44.034340</td>\n",
       "      <td>45.418285</td>\n",
       "      <td>...</td>\n",
       "      <td>40.310261</td>\n",
       "      <td>37.570805</td>\n",
       "      <td>36.648087</td>\n",
       "      <td>36.502266</td>\n",
       "      <td>41.651314</td>\n",
       "      <td>41.066509</td>\n",
       "      <td>41.897163</td>\n",
       "      <td>45.171734</td>\n",
       "      <td>46.578548</td>\n",
       "      <td>47.834114</td>\n",
       "    </tr>\n",
       "    <tr>\n",
       "      <th>1</th>\n",
       "      <td>42.557522</td>\n",
       "      <td>39.807377</td>\n",
       "      <td>40.968445</td>\n",
       "      <td>38.530426</td>\n",
       "      <td>43.784801</td>\n",
       "      <td>44.539959</td>\n",
       "      <td>45.536968</td>\n",
       "      <td>44.803486</td>\n",
       "      <td>43.941761</td>\n",
       "      <td>45.318581</td>\n",
       "      <td>...</td>\n",
       "      <td>40.422619</td>\n",
       "      <td>37.326973</td>\n",
       "      <td>36.765217</td>\n",
       "      <td>37.711834</td>\n",
       "      <td>40.862457</td>\n",
       "      <td>41.525055</td>\n",
       "      <td>41.412228</td>\n",
       "      <td>46.835419</td>\n",
       "      <td>46.897839</td>\n",
       "      <td>48.765598</td>\n",
       "    </tr>\n",
       "    <tr>\n",
       "      <th>2</th>\n",
       "      <td>42.195713</td>\n",
       "      <td>39.367531</td>\n",
       "      <td>40.776894</td>\n",
       "      <td>38.698330</td>\n",
       "      <td>43.995258</td>\n",
       "      <td>44.428398</td>\n",
       "      <td>45.888294</td>\n",
       "      <td>44.079453</td>\n",
       "      <td>44.433147</td>\n",
       "      <td>45.446770</td>\n",
       "      <td>...</td>\n",
       "      <td>40.864834</td>\n",
       "      <td>37.346092</td>\n",
       "      <td>36.404259</td>\n",
       "      <td>37.362831</td>\n",
       "      <td>40.910477</td>\n",
       "      <td>41.827545</td>\n",
       "      <td>41.510647</td>\n",
       "      <td>45.865540</td>\n",
       "      <td>46.979462</td>\n",
       "      <td>48.940845</td>\n",
       "    </tr>\n",
       "    <tr>\n",
       "      <th>3</th>\n",
       "      <td>42.245380</td>\n",
       "      <td>39.674957</td>\n",
       "      <td>41.178905</td>\n",
       "      <td>38.833103</td>\n",
       "      <td>44.305046</td>\n",
       "      <td>44.713261</td>\n",
       "      <td>46.047340</td>\n",
       "      <td>44.271736</td>\n",
       "      <td>43.659286</td>\n",
       "      <td>45.197525</td>\n",
       "      <td>...</td>\n",
       "      <td>39.557266</td>\n",
       "      <td>37.707058</td>\n",
       "      <td>35.856842</td>\n",
       "      <td>36.975571</td>\n",
       "      <td>40.675209</td>\n",
       "      <td>41.851551</td>\n",
       "      <td>42.948666</td>\n",
       "      <td>45.310978</td>\n",
       "      <td>47.293957</td>\n",
       "      <td>49.101696</td>\n",
       "    </tr>\n",
       "    <tr>\n",
       "      <th>4</th>\n",
       "      <td>42.096409</td>\n",
       "      <td>39.414825</td>\n",
       "      <td>41.318420</td>\n",
       "      <td>38.383820</td>\n",
       "      <td>44.938774</td>\n",
       "      <td>44.663399</td>\n",
       "      <td>45.923916</td>\n",
       "      <td>44.024857</td>\n",
       "      <td>44.010601</td>\n",
       "      <td>45.548847</td>\n",
       "      <td>...</td>\n",
       "      <td>39.189152</td>\n",
       "      <td>37.750088</td>\n",
       "      <td>36.590714</td>\n",
       "      <td>39.502277</td>\n",
       "      <td>41.025707</td>\n",
       "      <td>41.981190</td>\n",
       "      <td>43.431206</td>\n",
       "      <td>44.842834</td>\n",
       "      <td>48.038177</td>\n",
       "      <td>49.809895</td>\n",
       "    </tr>\n",
       "    <tr>\n",
       "      <th>...</th>\n",
       "      <td>...</td>\n",
       "      <td>...</td>\n",
       "      <td>...</td>\n",
       "      <td>...</td>\n",
       "      <td>...</td>\n",
       "      <td>...</td>\n",
       "      <td>...</td>\n",
       "      <td>...</td>\n",
       "      <td>...</td>\n",
       "      <td>...</td>\n",
       "      <td>...</td>\n",
       "      <td>...</td>\n",
       "      <td>...</td>\n",
       "      <td>...</td>\n",
       "      <td>...</td>\n",
       "      <td>...</td>\n",
       "      <td>...</td>\n",
       "      <td>...</td>\n",
       "      <td>...</td>\n",
       "      <td>...</td>\n",
       "      <td>...</td>\n",
       "    </tr>\n",
       "    <tr>\n",
       "      <th>175</th>\n",
       "      <td>46.262501</td>\n",
       "      <td>44.180412</td>\n",
       "      <td>39.189152</td>\n",
       "      <td>37.750088</td>\n",
       "      <td>36.590714</td>\n",
       "      <td>39.502277</td>\n",
       "      <td>41.025707</td>\n",
       "      <td>41.981190</td>\n",
       "      <td>43.431206</td>\n",
       "      <td>44.842834</td>\n",
       "      <td>...</td>\n",
       "      <td>51.396416</td>\n",
       "      <td>51.589943</td>\n",
       "      <td>53.452663</td>\n",
       "      <td>53.418793</td>\n",
       "      <td>56.696674</td>\n",
       "      <td>58.847267</td>\n",
       "      <td>63.561260</td>\n",
       "      <td>64.126625</td>\n",
       "      <td>65.143250</td>\n",
       "      <td>68.974510</td>\n",
       "    </tr>\n",
       "    <tr>\n",
       "      <th>176</th>\n",
       "      <td>44.429020</td>\n",
       "      <td>42.236969</td>\n",
       "      <td>39.698303</td>\n",
       "      <td>33.989895</td>\n",
       "      <td>37.037724</td>\n",
       "      <td>39.786758</td>\n",
       "      <td>40.855251</td>\n",
       "      <td>41.568268</td>\n",
       "      <td>43.623272</td>\n",
       "      <td>45.246151</td>\n",
       "      <td>...</td>\n",
       "      <td>49.020844</td>\n",
       "      <td>51.810081</td>\n",
       "      <td>52.671280</td>\n",
       "      <td>54.916214</td>\n",
       "      <td>56.916821</td>\n",
       "      <td>60.177784</td>\n",
       "      <td>64.170273</td>\n",
       "      <td>64.987961</td>\n",
       "      <td>65.698906</td>\n",
       "      <td>70.342972</td>\n",
       "    </tr>\n",
       "    <tr>\n",
       "      <th>177</th>\n",
       "      <td>42.306305</td>\n",
       "      <td>41.766041</td>\n",
       "      <td>38.460049</td>\n",
       "      <td>35.440903</td>\n",
       "      <td>37.257648</td>\n",
       "      <td>39.805882</td>\n",
       "      <td>41.004101</td>\n",
       "      <td>42.005192</td>\n",
       "      <td>44.108219</td>\n",
       "      <td>45.306164</td>\n",
       "      <td>...</td>\n",
       "      <td>49.952206</td>\n",
       "      <td>52.422119</td>\n",
       "      <td>52.910767</td>\n",
       "      <td>54.928322</td>\n",
       "      <td>57.190174</td>\n",
       "      <td>61.885681</td>\n",
       "      <td>63.726246</td>\n",
       "      <td>64.844818</td>\n",
       "      <td>65.866318</td>\n",
       "      <td>70.316284</td>\n",
       "    </tr>\n",
       "    <tr>\n",
       "      <th>178</th>\n",
       "      <td>42.258488</td>\n",
       "      <td>40.276802</td>\n",
       "      <td>37.489525</td>\n",
       "      <td>35.362015</td>\n",
       "      <td>37.487141</td>\n",
       "      <td>40.936558</td>\n",
       "      <td>40.912876</td>\n",
       "      <td>42.216457</td>\n",
       "      <td>44.681980</td>\n",
       "      <td>45.601456</td>\n",
       "      <td>...</td>\n",
       "      <td>49.388546</td>\n",
       "      <td>54.088879</td>\n",
       "      <td>52.659187</td>\n",
       "      <td>54.284821</td>\n",
       "      <td>58.182018</td>\n",
       "      <td>62.292088</td>\n",
       "      <td>64.483299</td>\n",
       "      <td>64.095070</td>\n",
       "      <td>66.761658</td>\n",
       "      <td>70.733604</td>\n",
       "    </tr>\n",
       "    <tr>\n",
       "      <th>179</th>\n",
       "      <td>41.185169</td>\n",
       "      <td>40.542130</td>\n",
       "      <td>36.031345</td>\n",
       "      <td>36.036121</td>\n",
       "      <td>36.645691</td>\n",
       "      <td>41.636955</td>\n",
       "      <td>41.035309</td>\n",
       "      <td>42.139633</td>\n",
       "      <td>45.138119</td>\n",
       "      <td>45.911144</td>\n",
       "      <td>...</td>\n",
       "      <td>49.719971</td>\n",
       "      <td>53.967926</td>\n",
       "      <td>53.469593</td>\n",
       "      <td>54.921055</td>\n",
       "      <td>58.048965</td>\n",
       "      <td>62.202579</td>\n",
       "      <td>64.808403</td>\n",
       "      <td>62.952244</td>\n",
       "      <td>67.904472</td>\n",
       "      <td>71.250443</td>\n",
       "    </tr>\n",
       "  </tbody>\n",
       "</table>\n",
       "<p>180 rows × 30 columns</p>\n",
       "</div>"
      ],
      "text/plain": [
       "split_idx         0          1          2          3          4          5   \\\n",
       "0          42.971344  40.854931  40.211735  39.074306  43.470295  44.226631   \n",
       "1          42.557522  39.807377  40.968445  38.530426  43.784801  44.539959   \n",
       "2          42.195713  39.367531  40.776894  38.698330  43.995258  44.428398   \n",
       "3          42.245380  39.674957  41.178905  38.833103  44.305046  44.713261   \n",
       "4          42.096409  39.414825  41.318420  38.383820  44.938774  44.663399   \n",
       "..               ...        ...        ...        ...        ...        ...   \n",
       "175        46.262501  44.180412  39.189152  37.750088  36.590714  39.502277   \n",
       "176        44.429020  42.236969  39.698303  33.989895  37.037724  39.786758   \n",
       "177        42.306305  41.766041  38.460049  35.440903  37.257648  39.805882   \n",
       "178        42.258488  40.276802  37.489525  35.362015  37.487141  40.936558   \n",
       "179        41.185169  40.542130  36.031345  36.036121  36.645691  41.636955   \n",
       "\n",
       "split_idx         6          7          8          9   ...         20  \\\n",
       "0          45.159542  44.827202  44.034340  45.418285  ...  40.310261   \n",
       "1          45.536968  44.803486  43.941761  45.318581  ...  40.422619   \n",
       "2          45.888294  44.079453  44.433147  45.446770  ...  40.864834   \n",
       "3          46.047340  44.271736  43.659286  45.197525  ...  39.557266   \n",
       "4          45.923916  44.024857  44.010601  45.548847  ...  39.189152   \n",
       "..               ...        ...        ...        ...  ...        ...   \n",
       "175        41.025707  41.981190  43.431206  44.842834  ...  51.396416   \n",
       "176        40.855251  41.568268  43.623272  45.246151  ...  49.020844   \n",
       "177        41.004101  42.005192  44.108219  45.306164  ...  49.952206   \n",
       "178        40.912876  42.216457  44.681980  45.601456  ...  49.388546   \n",
       "179        41.035309  42.139633  45.138119  45.911144  ...  49.719971   \n",
       "\n",
       "split_idx         21         22         23         24         25         26  \\\n",
       "0          37.570805  36.648087  36.502266  41.651314  41.066509  41.897163   \n",
       "1          37.326973  36.765217  37.711834  40.862457  41.525055  41.412228   \n",
       "2          37.346092  36.404259  37.362831  40.910477  41.827545  41.510647   \n",
       "3          37.707058  35.856842  36.975571  40.675209  41.851551  42.948666   \n",
       "4          37.750088  36.590714  39.502277  41.025707  41.981190  43.431206   \n",
       "..               ...        ...        ...        ...        ...        ...   \n",
       "175        51.589943  53.452663  53.418793  56.696674  58.847267  63.561260   \n",
       "176        51.810081  52.671280  54.916214  56.916821  60.177784  64.170273   \n",
       "177        52.422119  52.910767  54.928322  57.190174  61.885681  63.726246   \n",
       "178        54.088879  52.659187  54.284821  58.182018  62.292088  64.483299   \n",
       "179        53.967926  53.469593  54.921055  58.048965  62.202579  64.808403   \n",
       "\n",
       "split_idx         27         28         29  \n",
       "0          45.171734  46.578548  47.834114  \n",
       "1          46.835419  46.897839  48.765598  \n",
       "2          45.865540  46.979462  48.940845  \n",
       "3          45.310978  47.293957  49.101696  \n",
       "4          44.842834  48.038177  49.809895  \n",
       "..               ...        ...        ...  \n",
       "175        64.126625  65.143250  68.974510  \n",
       "176        64.987961  65.698906  70.342972  \n",
       "177        64.844818  65.866318  70.316284  \n",
       "178        64.095070  66.761658  70.733604  \n",
       "179        62.952244  67.904472  71.250443  \n",
       "\n",
       "[180 rows x 30 columns]"
      ]
     },
     "execution_count": 52,
     "metadata": {},
     "output_type": "execute_result"
    }
   ],
   "source": [
    "out_price"
   ]
  },
  {
   "cell_type": "code",
   "execution_count": 32,
   "id": "ef49542b-48e2-4259-910d-90975f0f1f5a",
   "metadata": {},
   "outputs": [],
   "source": [
    "def simulate_all_params(price, windows, **kwargs):\n",
    "    fast_ma, slow_ma = vbt.MA.run_combs(\n",
    "        price,\n",
    "        windows,\n",
    "        r=2,\n",
    "        short_names=[\"fast\",\"slow\"]\n",
    "    )\n",
    "    entries = fast_ma.ma_crossed_above(slow_ma)\n",
    "    exits = fast_ma.ma_crossed_below(slow_ma)\n",
    "\n",
    "    pf = vbt.Portfolio.from_signals(price, entries, exits, **kwargs)\n",
    "    return pf.sharpe_ratio()"
   ]
  },
  {
   "cell_type": "code",
   "execution_count": 53,
   "id": "0ac46e00-f01f-4467-b72a-ef97221e27aa",
   "metadata": {},
   "outputs": [],
   "source": [
    "def simulate_best_params(price, best_fast_windows, best_slow_windows, **kwargs):\n",
    "    fast_ma = vbt.MA.run(\n",
    "        price,\n",
    "        window=best_fast_windows,\n",
    "        per_column=True\n",
    "    )\n",
    "    slow_ma=vbt.MA.run(\n",
    "        price,\n",
    "        window=best_slow_windows,\n",
    "        per_column=True\n",
    "    )\n",
    "\n",
    "    entries = fast_ma.ma_crossed_above(slow_ma)\n",
    "    exits = fast_ma.ma_crossed_below(slow_ma)\n",
    "\n",
    "    pf = vbt.Portfolio.from_signals(price, entries, exits, **kwargs)\n",
    "    return pf.sharpe_ratio()"
   ]
  },
  {
   "cell_type": "code",
   "execution_count": 54,
   "id": "43731095-ed28-4560-982a-43c55735f9a8",
   "metadata": {},
   "outputs": [],
   "source": [
    "def get_best_index(performance):\n",
    "    return performance[performance.groupby(\"split_idx\").idxmax()].index"
   ]
  },
  {
   "cell_type": "code",
   "execution_count": 55,
   "id": "78d2578c-fb57-4861-932e-8fe24b8e3a33",
   "metadata": {},
   "outputs": [],
   "source": [
    "def get_best_params(best_index, level_name):\n",
    "    return best_index.get_level_values(level_name).to_numpy()"
   ]
  },
  {
   "cell_type": "code",
   "execution_count": 44,
   "id": "7de49a2f-ca16-49e8-ad21-a89ea2780ded",
   "metadata": {},
   "outputs": [],
   "source": [
    "in_sharpe = simulate_all_params(\n",
    "    in_price,\n",
    "    np.arange(10, 40),\n",
    "    direction=\"both\",\n",
    "    freq=\"d\"\n",
    ")"
   ]
  },
  {
   "cell_type": "code",
   "execution_count": 45,
   "id": "19c5baa6-251d-474e-88d8-e62376423b0d",
   "metadata": {},
   "outputs": [
    {
     "data": {
      "application/vnd.jupyter.widget-view+json": {
       "model_id": "616e2185a32b455e9282de8c8e817b08",
       "version_major": 2,
       "version_minor": 0
      },
      "text/plain": [
       "FigureWidget({\n",
       "    'data': [{'name': 'sharpe_ratio',\n",
       "              'showlegend': True,\n",
       "              'type': 'scatter',\n",
       "              'uid': '531a5027-3d6d-44b4-9586-63b193440f7b',\n",
       "              'x': [(10, 11, 0), (10, 11, 1), (10, 11, 2), ..., (38, 39, 27), (38,\n",
       "                    39, 28), (38, 39, 29)],\n",
       "              'y': array([ 1.48299174,  1.31566665,  1.3825952 , ..., -0.87533486, -0.80065718,\n",
       "                          -0.6953146 ])}],\n",
       "    'layout': {'height': 350,\n",
       "               'legend': {'orientation': 'h',\n",
       "                          'traceorder': 'normal',\n",
       "                          'x': 1,\n",
       "                          'xanchor': 'right',\n",
       "                          'y': 1.02,\n",
       "                          'yanchor': 'bottom'},\n",
       "               'margin': {'b': 30, 'l': 30, 'r': 30, 't': 30},\n",
       "               'template': '...',\n",
       "               'width': 700}\n",
       "})"
      ]
     },
     "execution_count": 45,
     "metadata": {},
     "output_type": "execute_result"
    }
   ],
   "source": [
    "in_sharpe.vbt.plot()"
   ]
  },
  {
   "cell_type": "code",
   "execution_count": 56,
   "id": "52855e49-240e-4de6-8210-251ebfb15d8a",
   "metadata": {},
   "outputs": [],
   "source": [
    "in_best_index = get_best_index(in_sharpe)\n",
    "\n",
    "in_best_fast_windows = get_best_params(\n",
    "    in_best_index,\n",
    "    \"fast_window\"\n",
    ")\n",
    "\n",
    "in_best_slow_windows = get_best_params(\n",
    "    in_best_index,\n",
    "    \"slow_window\"\n",
    ")\n",
    "\n",
    "in_best_window_pairs = np.array(\n",
    "    list(\n",
    "        zip(\n",
    "            in_best_fast_windows,\n",
    "            in_best_slow_windows\n",
    "        )\n",
    "    )\n",
    ")\n",
    "\n",
    "out_test_sharpe = simulate_best_params(\n",
    "    out_price,\n",
    "    in_best_fast_windows,\n",
    "    in_best_slow_windows,\n",
    "    direction=\"both\",\n",
    "    freq=\"d\"\n",
    ")"
   ]
  },
  {
   "cell_type": "code",
   "execution_count": 59,
   "id": "0f51dc6d-0695-4353-acbb-ca97a655d84e",
   "metadata": {},
   "outputs": [
    {
     "data": {
      "text/plain": [
       "array([10, 12, 12, 10, 12, 10, 10, 18, 18, 18, 18, 18, 18, 18, 18, 18, 23,\n",
       "       23, 23, 24, 24, 24, 24, 24, 24, 24, 24, 24, 24, 24])"
      ]
     },
     "execution_count": 59,
     "metadata": {},
     "output_type": "execute_result"
    }
   ],
   "source": [
    "in_best_fast_windows"
   ]
  },
  {
   "cell_type": "code",
   "execution_count": 60,
   "id": "d5268e9b-0e23-4171-a913-10175ee8df31",
   "metadata": {},
   "outputs": [
    {
     "data": {
      "text/plain": [
       "array([11, 13, 13, 11, 13, 11, 11, 23, 23, 23, 23, 23, 23, 23, 23, 23, 26,\n",
       "       26, 26, 25, 25, 25, 25, 25, 25, 25, 25, 25, 25, 25])"
      ]
     },
     "execution_count": 60,
     "metadata": {},
     "output_type": "execute_result"
    }
   ],
   "source": [
    "in_best_slow_windows"
   ]
  },
  {
   "cell_type": "code",
   "execution_count": 57,
   "id": "38c8339e-157d-4795-aa0a-d58d5460713b",
   "metadata": {},
   "outputs": [
    {
     "data": {
      "text/plain": [
       "ma_window  ma_window  split_idx\n",
       "10         11         0            0.104949\n",
       "12         13         1            0.318319\n",
       "                      2            0.971218\n",
       "10         11         3            1.386787\n",
       "12         13         4            1.303270\n",
       "10         11         5            2.133303\n",
       "                      6            2.043532\n",
       "18         23         7            1.756911\n",
       "                      8            2.219373\n",
       "                      9            2.283886\n",
       "                      10           2.544002\n",
       "                      11           2.724652\n",
       "                      12           2.389906\n",
       "                      13           2.838683\n",
       "                      14           2.393309\n",
       "                      15           1.116314\n",
       "23         26         16           0.670550\n",
       "                      17           0.594140\n",
       "                      18           0.816456\n",
       "24         25         19           0.276336\n",
       "                      20          -0.052512\n",
       "                      21          -0.363497\n",
       "                      22          -0.895641\n",
       "                      23          -0.665975\n",
       "                      24          -0.147559\n",
       "                      25           0.369173\n",
       "                      26           0.710683\n",
       "                      27           0.463619\n",
       "                      28           1.064845\n",
       "                      29           1.437162\n",
       "Name: sharpe_ratio, dtype: float64"
      ]
     },
     "execution_count": 57,
     "metadata": {},
     "output_type": "execute_result"
    }
   ],
   "source": [
    "out_test_sharpe"
   ]
  },
  {
   "cell_type": "code",
   "execution_count": 58,
   "id": "4b8b7505-3a9e-416a-b2ba-15328266f86f",
   "metadata": {},
   "outputs": [
    {
     "data": {
      "text/plain": [
       "(-1.084925756504446, 0.8587781936832611)"
      ]
     },
     "execution_count": 58,
     "metadata": {},
     "output_type": "execute_result"
    }
   ],
   "source": [
    "t, p = stats.ttest_ind(\n",
    "    a=out_test_sharpe.values,\n",
    "    b=in_sharpe[in_best_index].values,\n",
    "    alternative=\"greater\"\n",
    ")\n",
    "\n",
    "t,p"
   ]
  },
  {
   "cell_type": "code",
   "execution_count": 66,
   "id": "25e127c8-71f8-48f7-86d8-34c32df6b706",
   "metadata": {},
   "outputs": [
    {
     "data": {
      "text/plain": [
       "array([1.48299174, 1.65829639, 1.65773656, 1.26682913, 0.84855086,\n",
       "       0.74689375, 0.7638398 , 0.75910151, 0.65572604, 0.72939225,\n",
       "       0.80372315, 1.09832068, 0.99308825, 1.14479249, 1.01930191,\n",
       "       1.04498651, 1.3131161 , 1.37596945, 1.43877296, 1.81287839,\n",
       "       1.8389251 , 2.14768585, 2.0663446 , 1.40120782, 1.42426319,\n",
       "       1.49925815, 1.5477486 , 1.61025142, 1.65815904, 1.75581214])"
      ]
     },
     "execution_count": 66,
     "metadata": {},
     "output_type": "execute_result"
    }
   ],
   "source": [
    "in_sharpe[in_best_index].values"
   ]
  },
  {
   "cell_type": "code",
   "execution_count": 70,
   "id": "ff966f49-e3de-41d5-b00b-736ce7026421",
   "metadata": {},
   "outputs": [
    {
     "data": {
      "text/plain": [
       "ma_window  ma_window  split_idx\n",
       "10         11         0            0.104949\n",
       "12         13         1            0.318319\n",
       "                      2            0.971218\n",
       "10         11         3            1.386787\n",
       "12         13         4            1.303270\n",
       "10         11         5            2.133303\n",
       "                      6            2.043532\n",
       "18         23         7            1.756911\n",
       "                      8            2.219373\n",
       "                      9            2.283886\n",
       "                      10           2.544002\n",
       "                      11           2.724652\n",
       "                      12           2.389906\n",
       "                      13           2.838683\n",
       "                      14           2.393309\n",
       "                      15           1.116314\n",
       "23         26         16           0.670550\n",
       "                      17           0.594140\n",
       "                      18           0.816456\n",
       "24         25         19           0.276336\n",
       "                      20          -0.052512\n",
       "                      21          -0.363497\n",
       "                      22          -0.895641\n",
       "                      23          -0.665975\n",
       "                      24          -0.147559\n",
       "                      25           0.369173\n",
       "                      26           0.710683\n",
       "                      27           0.463619\n",
       "                      28           1.064845\n",
       "                      29           1.437162\n",
       "Name: sharpe_ratio, dtype: float64"
      ]
     },
     "execution_count": 70,
     "metadata": {},
     "output_type": "execute_result"
    }
   ],
   "source": [
    "out_test_sharpe"
   ]
  },
  {
   "cell_type": "code",
   "execution_count": 17,
   "id": "3686c1de-f1f8-4c8e-866b-90dbf6c0e094",
   "metadata": {},
   "outputs": [
    {
     "name": "stdout",
     "output_type": "stream",
     "text": [
      "[[-16.71094331   7.98706688]\n",
      " [  2.99066332  11.28806518]\n",
      " [ -8.51241338  12.43989023]\n",
      " [ 25.01124231  -9.47642126]\n",
      " [  8.49202017  13.68308096]\n",
      " [-10.62477625  -6.32113038]\n",
      " [ -2.53288771   9.72161092]\n",
      " [ 12.33239514  -2.82870138]\n",
      " [-14.37597564 -10.39329065]\n",
      " [ -0.81072806   5.64079876]\n",
      " [ 13.18991782   5.59385488]\n",
      " [ -7.10168565  21.94305699]\n",
      " [ -2.89718137   8.9054597 ]\n",
      " [ -6.98769842  31.28575332]\n",
      " [ 16.24447992  -5.35081847]\n",
      " [ -8.88767293 -11.3170015 ]\n",
      " [ 22.1048468    4.99283225]\n",
      " [ 19.81774257   8.28133491]\n",
      " [ -4.7859835   -4.90434393]\n",
      " [  7.56114187  11.02547098]\n",
      " [  5.85626015   9.33538195]\n",
      " [ 19.60072096   4.03652816]\n",
      " [ 24.69813495   2.12152611]\n",
      " [  0.64806246   7.71439413]\n",
      " [  6.82154903  15.48014775]\n",
      " [ 20.7875683   18.6022884 ]\n",
      " [ 17.14181105  22.77557028]\n",
      " [ 10.59772535   2.2481689 ]\n",
      " [ -5.71634821  23.12896933]\n",
      " [  8.87059265  11.21472552]\n",
      " [  6.43548296  10.25344331]\n",
      " [ 10.47445561  -4.75801397]\n",
      " [-21.4138727    7.77607714]\n",
      " [ -7.90255103  -5.84294478]\n",
      " [  3.85695225   7.70943478]\n",
      " [ 14.00123362   5.0055048 ]\n",
      " [  6.17148739  -5.8477521 ]\n",
      " [ 22.50597413  -3.10111687]\n",
      " [ 11.49312461   0.30701351]\n",
      " [  8.25061645  -0.97808785]\n",
      " [ 10.34572815   5.43659762]\n",
      " [ -0.43231355   1.05932858]\n",
      " [ -2.73426132  16.75126609]\n",
      " [ 12.2336523  -11.07728046]\n",
      " [  1.51030467   5.79537661]\n",
      " [  7.22967725   5.29716231]\n",
      " [  5.81027362   0.44089274]\n",
      " [ -5.64278486   4.68803503]\n",
      " [  6.75903425 -14.73862565]\n",
      " [  6.34053473  26.03088182]]\n",
      "TtestResult(statistic=array([-0.02405628,  0.26355631]), pvalue=array([0.98090542, 0.79322704]), df=array([49, 49]))\n"
     ]
    }
   ],
   "source": [
    "\n",
    "rvs = st.norm.rvs(loc=5, scale=10, size=(50, 2))\n",
    "print(rvs)\n",
    "print(st.ttest_1samp(rvs, 5.0))"
   ]
  },
  {
   "cell_type": "code",
   "execution_count": null,
   "id": "386e936a-9e36-4819-b014-bdd25cc630c6",
   "metadata": {},
   "outputs": [],
   "source": []
  },
  {
   "cell_type": "code",
   "execution_count": 18,
   "id": "bfbb6ce9-3039-411f-8f35-bac491b5fdee",
   "metadata": {},
   "outputs": [
    {
     "data": {
      "text/plain": [
       "array([1, 1, 1, 0, 0, 1, 0, 1, 1, 1, 0, 1, 0, 0, 0, 0, 1, 1, 1, 1, 1, 0,\n",
       "       0, 1, 1, 1, 1, 0, 1, 1, 0, 0, 1, 1, 1, 0, 1, 1, 0, 0, 1, 0, 1, 0,\n",
       "       1, 1, 0, 0, 1, 1, 1, 0, 0, 1, 1, 0, 1, 1, 1, 1, 0, 1, 1, 1, 1, 1,\n",
       "       0, 0, 0, 1, 1, 1, 1, 0, 0, 1, 1, 0, 0, 0, 0, 0, 1, 0, 0, 1, 1, 1,\n",
       "       0, 1, 0, 0, 1, 1, 1, 0, 1, 1, 0, 1])"
      ]
     },
     "execution_count": 18,
     "metadata": {},
     "output_type": "execute_result"
    }
   ],
   "source": [
    "np.random.randint(0,2,100)"
   ]
  }
 ],
 "metadata": {
  "kernelspec": {
   "display_name": "Python 3 (ipykernel)",
   "language": "python",
   "name": "python3"
  },
  "language_info": {
   "codemirror_mode": {
    "name": "ipython",
    "version": 3
   },
   "file_extension": ".py",
   "mimetype": "text/x-python",
   "name": "python",
   "nbconvert_exporter": "python",
   "pygments_lexer": "ipython3",
   "version": "3.12.2"
  }
 },
 "nbformat": 4,
 "nbformat_minor": 5
}
