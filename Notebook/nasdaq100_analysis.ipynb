{
 "cells": [
  {
   "cell_type": "code",
   "execution_count": 183,
   "id": "81e24222-8182-4709-b0df-1596ce3e6bf6",
   "metadata": {},
   "outputs": [],
   "source": [
    "import os, sys\n",
    "import yfinance as yf\n",
    "# import ta\n",
    "import pandas as pd\n",
    "import numpy as np\n",
    "import vectorbt as vbt\n",
    "from datetime import date, timedelta, datetime\n",
    "from itertools import product\n",
    "from IPython.display import clear_output\n",
    "import matplotlib.pyplot as plt\n",
    "from csv import writer\n",
    "import warnings"
   ]
  },
  {
   "cell_type": "code",
   "execution_count": 192,
   "id": "d32b813f-5cb3-4793-a911-a5bd1670b648",
   "metadata": {},
   "outputs": [],
   "source": [
    "import talib as ta\n",
    "import math\n",
    "import re"
   ]
  },
  {
   "cell_type": "code",
   "execution_count": 188,
   "id": "be25fcb7-b24b-43d6-8463-614d92b1888c",
   "metadata": {},
   "outputs": [],
   "source": [
    "from warnings import simplefilter\n",
    "simplefilter(action=\"ignore\", category=pd.errors.PerformanceWarning)"
   ]
  },
  {
   "cell_type": "code",
   "execution_count": 175,
   "id": "9d2880fa-6b53-4030-8bc5-1157a884f8b9",
   "metadata": {},
   "outputs": [],
   "source": [
    "# ticker = [\"NVDA\",\n",
    "# \"AAPL\",\n",
    "# \"MSFT\",\n",
    "# \"AMZN\",\n",
    "# \"GOOGL\",\n",
    "# \"GOOG\",\n",
    "# \"META\",\n",
    "# \"TSLA\",\n",
    "# \"AVGO\",\n",
    "# \"COST\",\n",
    "# \"NFLX\",\n",
    "# \"ASML\",\n",
    "# \"TMUS\",\n",
    "# \"AMD\",\n",
    "# \"CSCO\",\n",
    "# \"PEP\",\n",
    "# \"ADBE\",\n",
    "# \"LIN\",\n",
    "# \"AZN\",\n",
    "# \"TXN\",\n",
    "# \"QCOM\t\",\n",
    "# \"INTU\",\n",
    "# \"ISRG\",\n",
    "# \"AMGN\t\",\n",
    "# \"CMCSA\",\n",
    "# \"PDD\",\n",
    "# \"BKNG\",\n",
    "# \"AMAT\",\n",
    "# \"ARM\",\n",
    "# \"HON\",\n",
    "# \"VRTX\",\n",
    "# \"PANW\",\n",
    "# \"ADP\",\n",
    "# \"MU\",\n",
    "# \"GILD\",\n",
    "# \"ADI\",\n",
    "# \"SBUX\",\n",
    "# \"MELI\",\n",
    "# \"INTC\",\n",
    "# \"LRCX\",\n",
    "# \"KLAC\",\n",
    "# \"MDLZ\",\n",
    "# \"ABNB\",\n",
    "# \"REGN\",\n",
    "# \"CTAS\",\n",
    "# \"SNPS\",\n",
    "# \"CDNS\",\n",
    "# \"PYPL\",\n",
    "# \"CRWD\",\n",
    "# \"MRVL\",\n",
    "# \"MAR\",\n",
    "# \"CEG\",\n",
    "# \"CSX\",\n",
    "# \"ORLY\",\n",
    "# \"DASH\",\n",
    "# \"WDAY\",\n",
    "# \"CHTR\",\n",
    "# \"ADSK\",\n",
    "# \"FTNT\",\n",
    "# \"TTD\",\n",
    "# \"ROP\",\n",
    "# \"PCAR\",\n",
    "# \"NXPI\",\n",
    "# \"TEAM\",\n",
    "# \"FANG\",\n",
    "# \"MNST\",\n",
    "# \"CPRT\",\n",
    "# \"PAYX\",\n",
    "# \"AEP\",\n",
    "# \"ODFL\",\n",
    "# \"ROST\",\n",
    "# \"FAST\",\n",
    "# \"KDP\",\n",
    "# \"DDOG\",\n",
    "# \"EA\",\n",
    "# \"BKR\",\n",
    "# \"KHC\",\n",
    "# \"MCHP\",\n",
    "# \"VRSK\",\n",
    "# \"GEHC\",\n",
    "# \"CTSH\",\n",
    "# \"LULU\",\n",
    "# \"EXC\",\n",
    "# \"XEL\",\n",
    "# \"CCEP\",\n",
    "# \"IDXX\",\n",
    "# \"ON\",\n",
    "# \"CSGP\",\n",
    "# \"ZS\",\n",
    "# \"TTWO\",\n",
    "# \"ANSS\",\n",
    "# \"CDW\",\n",
    "# \"DXCM\",\n",
    "# \"BIIB\",\n",
    "# \"GFS\",\n",
    "# \"ILMN\",\n",
    "# \"MDB\",\n",
    "# \"WBD\",\n",
    "# \"MRNA\",\n",
    "# \"DLTR\",\n",
    "# \"WBA\"]"
   ]
  },
  {
   "cell_type": "code",
   "execution_count": 332,
   "id": "6d815e5c-3a2b-4b16-be35-28aaa261e7b7",
   "metadata": {},
   "outputs": [],
   "source": [
    "ticker = [\"MSFT\", \"AMZN\", \"NAT\", \"BAC\", \"DPZ\", \"DIS\", \"KO\", \"MCD\", \"COST\", \"SBUX\"]\n",
    "treasury_bond = [\"^TYX\"]"
   ]
  },
  {
   "cell_type": "code",
   "execution_count": 260,
   "id": "8de160f4-6e96-4cff-a097-559864c7087f",
   "metadata": {},
   "outputs": [],
   "source": [
    "def download_data(list_of_tickers, interval='1d'):\n",
    "    # dt_range = pd.date_range('2019-12-31', '2020-12-31', freq='6m') \n",
    "    # define start and end date\n",
    "    # end_date = datetime.now()-timedelta(days=30)\n",
    "    # start_date = end_date - timedelta(days=390)\n",
    "\n",
    "    end_date = datetime.now() #- timedelta(days=30)\n",
    "    start_date = end_date - timedelta(days=1855)\n",
    "\n",
    "    # extract data from yahoo finanace\n",
    "    btc_price = vbt.YFData.download(\n",
    "    list_of_tickers,\n",
    "    interval=interval,\n",
    "    start = start_date,\n",
    "    end = end_date,\n",
    "    missing_index='drop').get(\"Close\")\n",
    "    return pd.DataFrame(btc_price)"
   ]
  },
  {
   "cell_type": "code",
   "execution_count": 285,
   "id": "21a6155f-1d86-467a-b720-b454eeae15ef",
   "metadata": {},
   "outputs": [
    {
     "name": "stdout",
     "output_type": "stream",
     "text": [
      "^TYX\n"
     ]
    }
   ],
   "source": [
    "df = pd.DataFrame()\n",
    "# ticker = treasury_bond\n",
    "for _t in ticker:\n",
    "    print(_t)\n",
    "    try:\n",
    "        if df.empty:\n",
    "            df=download_data([_t])\n",
    "            df.rename(columns={\"Close\":_t}, inplace=True)\n",
    "            df.index=df.index.strftime(\"%Y-%m-%d\")\n",
    "            df.index = pd.to_datetime(df.index)\n",
    "        else:\n",
    "            df1 = pd.DataFrame()\n",
    "            df1 = download_data([_t])\n",
    "            df1.rename(columns={\"Close\":_t}, inplace=True)\n",
    "            df1.index=df.index.strftime(\"%Y-%m-%d\")\n",
    "            df1.index = pd.to_datetime(df.index)\n",
    "            df = pd.merge(df, df1, left_index=True, right_index=True, how='inner')  # Only keep matching rows\n",
    "            # print(df.head())\n",
    "    except Exception as err:\n",
    "        print(err)"
   ]
  },
  {
   "cell_type": "code",
   "execution_count": 288,
   "id": "bed8eb6b-bea9-4f60-b3b1-90d2570a2549",
   "metadata": {},
   "outputs": [
    {
     "data": {
      "text/plain": [
       "Index(['^TYX'], dtype='object')"
      ]
     },
     "execution_count": 288,
     "metadata": {},
     "output_type": "execute_result"
    }
   ],
   "source": [
    "df.columns"
   ]
  },
  {
   "cell_type": "code",
   "execution_count": 133,
   "id": "77ae6c2b-8ebb-469c-ab85-76bd9cf16b00",
   "metadata": {},
   "outputs": [],
   "source": [
    "# _t=\"MSFT\"\n",
    "# df=download_data(_t)\n",
    "# df.rename(columns={\"Close\":_t}, inplace=True)\n",
    "\n",
    "# _t=\"AMZN\"\n",
    "# df1=download_data(_t)\n",
    "# df1.rename(columns={\"Close\":_t}, inplace=True)\n",
    "\n",
    "# df = pd.merge(df, df1, left_index=True, right_index=True, how='inner')\n"
   ]
  },
  {
   "cell_type": "code",
   "execution_count": 370,
   "id": "b0f5f486-f1b2-48c4-b1b9-dc5fae793852",
   "metadata": {},
   "outputs": [
    {
     "data": {
      "text/plain": [
       "Index(['MSFT', 'AMZN', 'NAT', 'BAC', 'DPZ', 'DIS', 'KO', 'MCD', 'COST', 'SBUX',\n",
       "       ...\n",
       "       'MSFT_pct_change_20', 'AMZN_pct_change_20', 'NAT_pct_change_20',\n",
       "       'BAC_pct_change_20', 'DPZ_pct_change_20', 'DIS_pct_change_20',\n",
       "       'KO_pct_change_20', 'MCD_pct_change_20', 'COST_pct_change_20',\n",
       "       'SBUX_pct_change_20'],\n",
       "      dtype='object', length=140)"
      ]
     },
     "execution_count": 370,
     "metadata": {},
     "output_type": "execute_result"
    }
   ],
   "source": [
    "df_asset.columns"
   ]
  },
  {
   "cell_type": "code",
   "execution_count": 179,
   "id": "0c48e95a-2ef3-4cfa-b4ac-86fb32447a6d",
   "metadata": {},
   "outputs": [],
   "source": [
    "# Use in case you construct the dataframe with a list of stocks \n",
    "# df.index=df.index.strftime(\"%Y-%m-%d\")\n",
    "# df.index = pd.to_datetime(df.index)"
   ]
  },
  {
   "cell_type": "code",
   "execution_count": 184,
   "id": "92478d79-afb3-425d-bfcc-704e8b237264",
   "metadata": {},
   "outputs": [],
   "source": [
    "def percentile(window):\n",
    "    index = window.index[-1]\n",
    "    window = window.rank(method=\"min\", ascending=True).apply(lambda x: (x/20)*100)\n",
    "    return window.loc[index]"
   ]
  },
  {
   "cell_type": "code",
   "execution_count": 185,
   "id": "660b5172-97f7-4f6f-a568-671099e3956a",
   "metadata": {},
   "outputs": [],
   "source": [
    "def stochastic_k(price, period):\n",
    "    index = price.index[-1]\n",
    "    sorted_price = price.sort_values(ascending=True)\n",
    "    # print(sorted_price)\n",
    "    closing_price = price.loc[index]\n",
    "    # print(closing_price)\n",
    "    highest_high = sorted_price.iloc[-1]\n",
    "    # print(highest_high)\n",
    "    lowest_low = sorted_price.iloc[0]\n",
    "    # print(lowest_low)\n",
    "    per_k = (closing_price - lowest_low)/(highest_high-lowest_low)*100\n",
    "    return per_k"
   ]
  },
  {
   "cell_type": "code",
   "execution_count": 186,
   "id": "d4f50110-55c0-4da4-8459-367950ff8e43",
   "metadata": {},
   "outputs": [],
   "source": [
    "def zscore(x):\n",
    "    return (math.erf(6-(12*(x/100))))"
   ]
  },
  {
   "cell_type": "code",
   "execution_count": 299,
   "id": "3a0a7738-d266-464d-96bb-c17d444f4191",
   "metadata": {},
   "outputs": [
    {
     "name": "stdout",
     "output_type": "stream",
     "text": [
      "^TYX\n"
     ]
    }
   ],
   "source": [
    "# df = df_asset\n",
    "df = df_treasury\n",
    "for _t in treasury_bond:\n",
    "    try:\n",
    "        print(_t)\n",
    "        # df[f\"{_t}_rsi_20\"] = ta.RSI(df[_t], timeperiod=20)\n",
    "        # df[f\"{_t}_rsi_20_percentile_last_20\"]=df[f\"{_t}_rsi_20\"].rolling(window=20).apply(percentile)\n",
    "        # df[f\"{_t}_sto_fast_20\"]=df[f\"{_t}\"].rolling(window=20).apply(lambda x: stochastic_k(x, 20))\n",
    "        # df[f\"{_t}_sto_slow_20\"]=ta.SMA(df[f\"{_t}_sto_fast_20\"],3)\n",
    "        # df[f\"{_t}_sto_slow_20_percentile_last_20\"]=df[f\"{_t}_sto_slow_20\"].rolling(window=20).apply(percentile)\n",
    "        # df[f\"{_t}_sma_20\"] = ta.SMA(df[f\"{_t}\"],20)\n",
    "        # df[f\"{_t}_std_20\"] = df[f\"{_t}\"].rolling(window=20).std()\n",
    "        # df[f\"{_t}_lamda_20\"] = (df[f\"{_t}\"] - df[f\"{_t}_sma_20\"])/df[f\"{_t}_std_20\"]\n",
    "        # df[f\"{_t}_lamda_20_percentile_lst_20\"] = df[f\"{_t}_lamda_20\"].rolling(window=20).apply(percentile)\n",
    "        # df[f\"{_t}_rsi_20_zscore\"] = df[f\"{_t}_rsi_20_percentile_last_20\"].apply(zscore)\n",
    "        # df[f\"{_t}_sto_slow_20_zscore\"] = df[f\"{_t}_sto_slow_20_percentile_last_20\"].apply(zscore)\n",
    "        # df[f\"{_t}_lamda_20_zscore\"] = df[f\"{_t}_lamda_20_percentile_lst_20\"].apply(zscore)\n",
    "        df[f\"{_t}_pct_change_20\"] = df[f\"{_t}\"].pct_change(20)\n",
    "    except Exception as err:\n",
    "        print(f\"Error  {err}\")\n",
    "    "
   ]
  },
  {
   "cell_type": "code",
   "execution_count": 304,
   "id": "d08e4bee-b3ab-4815-af56-91f8e7ee422f",
   "metadata": {},
   "outputs": [],
   "source": [
    "df_sharpe = df_asset[[col for col in df_asset.columns for _t in ticker if re.search(f\"{_t}.*pct_change_20$|^{_t}$\", col)]]"
   ]
  },
  {
   "cell_type": "code",
   "execution_count": 305,
   "id": "bc762708-c9ea-4cbd-bc48-d75a346d3630",
   "metadata": {},
   "outputs": [
    {
     "data": {
      "text/plain": [
       "Index(['MSFT', 'AMZN', 'NAT', 'BAC', 'DPZ', 'DIS', 'KO', 'MCD', 'COST', 'SBUX',\n",
       "       'MSFT_pct_change_20', 'AMZN_pct_change_20', 'NAT_pct_change_20',\n",
       "       'BAC_pct_change_20', 'DPZ_pct_change_20', 'DIS_pct_change_20',\n",
       "       'KO_pct_change_20', 'MCD_pct_change_20', 'COST_pct_change_20',\n",
       "       'SBUX_pct_change_20'],\n",
       "      dtype='object')"
      ]
     },
     "execution_count": 305,
     "metadata": {},
     "output_type": "execute_result"
    }
   ],
   "source": [
    "df_sharpe.columns"
   ]
  },
  {
   "cell_type": "code",
   "execution_count": 306,
   "id": "ec020b23-7746-4f53-b122-181dc77b0747",
   "metadata": {},
   "outputs": [],
   "source": [
    "df_sharpe = pd.merge(df_sharpe, df_treasury, left_index=True, right_index=True, how=\"inner\")"
   ]
  },
  {
   "cell_type": "code",
   "execution_count": 308,
   "id": "fa4428f1-8b9f-4807-968b-6f2914ea6132",
   "metadata": {},
   "outputs": [
    {
     "data": {
      "text/plain": [
       "(1278, 22)"
      ]
     },
     "execution_count": 308,
     "metadata": {},
     "output_type": "execute_result"
    }
   ],
   "source": [
    "df_sharpe.shape"
   ]
  },
  {
   "cell_type": "code",
   "execution_count": 313,
   "id": "219e4613-1181-4118-90e3-41b1eeba8db0",
   "metadata": {},
   "outputs": [
    {
     "name": "stdout",
     "output_type": "stream",
     "text": [
      "None\n"
     ]
    }
   ],
   "source": [
    "ticker.extend(treasury_bond)"
   ]
  },
  {
   "cell_type": "code",
   "execution_count": 317,
   "id": "f209b765-d820-4d16-af18-dd128cac4760",
   "metadata": {},
   "outputs": [],
   "source": [
    "ticker = [col for col in df_sharpe.columns for _t in ticker if re.search(f\"{_t}.*pct_change_20$\", col)]"
   ]
  },
  {
   "cell_type": "code",
   "execution_count": 324,
   "id": "539f9dd0-b435-445a-99f3-4dcef0899ad1",
   "metadata": {},
   "outputs": [],
   "source": [
    "df_sharpe.drop(ticker+treasury_bond, axis=1, inplace=True)"
   ]
  },
  {
   "cell_type": "code",
   "execution_count": 335,
   "id": "19d51751-aac7-416f-aa55-406078c6c0a6",
   "metadata": {},
   "outputs": [
    {
     "data": {
      "text/plain": [
       "(1278, 12)"
      ]
     },
     "execution_count": 335,
     "metadata": {},
     "output_type": "execute_result"
    }
   ],
   "source": [
    "df_sharpe.shape"
   ]
  },
  {
   "cell_type": "code",
   "execution_count": 336,
   "id": "15777a69-8242-4d90-8c65-eaabf5a649dc",
   "metadata": {},
   "outputs": [],
   "source": [
    "for _t in ticker:\n",
    "    df_sharpe[f\"{_t}_return_std_20\"] = df_sharpe[f\"{_t}_pct_change_20\"].rolling(window=20).std()\n",
    "    df_sharpe[f\"{_t}_sharpe_ratio\"] = (df_sharpe[f\"{_t}_pct_change_20\"] - df_sharpe[f\"{treasury_bond[0]}_pct_change_20\"])/df_sharpe[f\"{_t}_return_std_20\"]"
   ]
  },
  {
   "cell_type": "code",
   "execution_count": 365,
   "id": "955caa9e-7304-4c21-8a84-2d67c2a531e7",
   "metadata": {},
   "outputs": [],
   "source": [
    "import sys\n",
    "def rank_asset_sharpe(row):\n",
    "    # print(row.sort_values(ascending=True))\n",
    "    size = len(row)\n",
    "    sorted_row = row.sort_values(ascending=True) \n",
    "    buy_recom_tech = [{col[:col.find('_')]:sorted_row[col]} for col in list(sorted_row[math.floor(size*.75):].index)]\n",
    "    sell_recom_tech = [{col[:col.find('_')]:sorted_row[col]} for col in list(sorted_row[:math.floor(size*.25)].index)]\n",
    "    return buy_recom_tech, sell_recom_tech"
   ]
  },
  {
   "cell_type": "code",
   "execution_count": 357,
   "id": "9e08e849-2020-4b9c-83db-ff29c136baff",
   "metadata": {},
   "outputs": [],
   "source": [
    "df_sharpe.dropna(inplace=True)"
   ]
  },
  {
   "cell_type": "code",
   "execution_count": 366,
   "id": "31c6469b-bb23-4768-8c3c-b22f561f1e28",
   "metadata": {},
   "outputs": [],
   "source": [
    "# Apply the function row-wise and unpack the results into multiple columns\n",
    "df_sharpe[[\"buy_recommendation_sharpe\", \"sell_recommendation_sharpe\"]] = \\\n",
    "df_sharpe[[col for col in df_sharpe.columns if re.search(f\".*sharpe_ratio$\", col)]].apply(rank_asset_sharpe, axis=1, result_type='expand')"
   ]
  },
  {
   "cell_type": "code",
   "execution_count": 368,
   "id": "1e165368-fb79-48de-9777-60f7db2656e4",
   "metadata": {},
   "outputs": [
    {
     "data": {
      "text/html": [
       "<div>\n",
       "<style scoped>\n",
       "    .dataframe tbody tr th:only-of-type {\n",
       "        vertical-align: middle;\n",
       "    }\n",
       "\n",
       "    .dataframe tbody tr th {\n",
       "        vertical-align: top;\n",
       "    }\n",
       "\n",
       "    .dataframe thead th {\n",
       "        text-align: right;\n",
       "    }\n",
       "</style>\n",
       "<table border=\"1\" class=\"dataframe\">\n",
       "  <thead>\n",
       "    <tr style=\"text-align: right;\">\n",
       "      <th></th>\n",
       "      <th>MSFT_pct_change_20</th>\n",
       "      <th>AMZN_pct_change_20</th>\n",
       "      <th>NAT_pct_change_20</th>\n",
       "      <th>BAC_pct_change_20</th>\n",
       "      <th>DPZ_pct_change_20</th>\n",
       "      <th>DIS_pct_change_20</th>\n",
       "      <th>KO_pct_change_20</th>\n",
       "      <th>MCD_pct_change_20</th>\n",
       "      <th>COST_pct_change_20</th>\n",
       "      <th>SBUX_pct_change_20</th>\n",
       "      <th>...</th>\n",
       "      <th>KO_return_std_20</th>\n",
       "      <th>KO_sharpe_ratio</th>\n",
       "      <th>MCD_return_std_20</th>\n",
       "      <th>MCD_sharpe_ratio</th>\n",
       "      <th>COST_return_std_20</th>\n",
       "      <th>COST_sharpe_ratio</th>\n",
       "      <th>SBUX_return_std_20</th>\n",
       "      <th>SBUX_sharpe_ratio</th>\n",
       "      <th>buy_recommendation_sharpe</th>\n",
       "      <th>sell_recommendation_sharpe</th>\n",
       "    </tr>\n",
       "    <tr>\n",
       "      <th>Date</th>\n",
       "      <th></th>\n",
       "      <th></th>\n",
       "      <th></th>\n",
       "      <th></th>\n",
       "      <th></th>\n",
       "      <th></th>\n",
       "      <th></th>\n",
       "      <th></th>\n",
       "      <th></th>\n",
       "      <th></th>\n",
       "      <th></th>\n",
       "      <th></th>\n",
       "      <th></th>\n",
       "      <th></th>\n",
       "      <th></th>\n",
       "      <th></th>\n",
       "      <th></th>\n",
       "      <th></th>\n",
       "      <th></th>\n",
       "      <th></th>\n",
       "      <th></th>\n",
       "    </tr>\n",
       "  </thead>\n",
       "  <tbody>\n",
       "    <tr>\n",
       "      <th>2019-12-05</th>\n",
       "      <td>0.044288</td>\n",
       "      <td>-0.030789</td>\n",
       "      <td>0.088089</td>\n",
       "      <td>0.014659</td>\n",
       "      <td>0.032575</td>\n",
       "      <td>0.123181</td>\n",
       "      <td>0.033992</td>\n",
       "      <td>0.006564</td>\n",
       "      <td>-0.028086</td>\n",
       "      <td>0.022679</td>\n",
       "      <td>...</td>\n",
       "      <td>0.022351</td>\n",
       "      <td>2.494718</td>\n",
       "      <td>0.038286</td>\n",
       "      <td>0.740012</td>\n",
       "      <td>0.011966</td>\n",
       "      <td>-0.528072</td>\n",
       "      <td>0.028464</td>\n",
       "      <td>1.561496</td>\n",
       "      <td>[{'KO': 2.49471800033549}, {'MSFT': 3.24665421...</td>\n",
       "      <td>[{'COST': -0.5280723695995184}, {'AMZN': -0.44...</td>\n",
       "    </tr>\n",
       "    <tr>\n",
       "      <th>2019-12-06</th>\n",
       "      <td>0.055500</td>\n",
       "      <td>-0.020468</td>\n",
       "      <td>0.211744</td>\n",
       "      <td>0.018773</td>\n",
       "      <td>0.013761</td>\n",
       "      <td>0.110559</td>\n",
       "      <td>0.048508</td>\n",
       "      <td>0.018241</td>\n",
       "      <td>-0.033616</td>\n",
       "      <td>0.058591</td>\n",
       "      <td>...</td>\n",
       "      <td>0.025547</td>\n",
       "      <td>3.837294</td>\n",
       "      <td>0.037064</td>\n",
       "      <td>1.828266</td>\n",
       "      <td>0.014175</td>\n",
       "      <td>1.122057</td>\n",
       "      <td>0.029576</td>\n",
       "      <td>3.655377</td>\n",
       "      <td>[{'KO': 3.8372944140467844}, {'DIS': 4.9754078...</td>\n",
       "      <td>[{'COST': 1.122056944038532}, {'AMZN': 1.62234...</td>\n",
       "    </tr>\n",
       "    <tr>\n",
       "      <th>2019-12-09</th>\n",
       "      <td>0.040525</td>\n",
       "      <td>-0.020365</td>\n",
       "      <td>0.275582</td>\n",
       "      <td>0.013017</td>\n",
       "      <td>0.020345</td>\n",
       "      <td>0.059800</td>\n",
       "      <td>0.043361</td>\n",
       "      <td>0.011971</td>\n",
       "      <td>-0.024652</td>\n",
       "      <td>0.060430</td>\n",
       "      <td>...</td>\n",
       "      <td>0.027589</td>\n",
       "      <td>3.866099</td>\n",
       "      <td>0.035963</td>\n",
       "      <td>2.093043</td>\n",
       "      <td>0.015226</td>\n",
       "      <td>2.538362</td>\n",
       "      <td>0.029175</td>\n",
       "      <td>4.241062</td>\n",
       "      <td>[{'KO': 3.866098609284175}, {'SBUX': 4.2410618...</td>\n",
       "      <td>[{'MCD': 2.093043185521019}, {'BAC': 2.2352275...</td>\n",
       "    </tr>\n",
       "    <tr>\n",
       "      <th>2019-12-10</th>\n",
       "      <td>0.037878</td>\n",
       "      <td>-0.018311</td>\n",
       "      <td>0.236231</td>\n",
       "      <td>0.016065</td>\n",
       "      <td>0.016210</td>\n",
       "      <td>0.068451</td>\n",
       "      <td>0.044978</td>\n",
       "      <td>0.018477</td>\n",
       "      <td>-0.016820</td>\n",
       "      <td>0.049013</td>\n",
       "      <td>...</td>\n",
       "      <td>0.028949</td>\n",
       "      <td>4.030213</td>\n",
       "      <td>0.034408</td>\n",
       "      <td>2.620595</td>\n",
       "      <td>0.015619</td>\n",
       "      <td>3.513301</td>\n",
       "      <td>0.027255</td>\n",
       "      <td>4.428792</td>\n",
       "      <td>[{'SBUX': 4.428792132022334}, {'DIS': 4.540825...</td>\n",
       "      <td>[{'NAT': 2.4280057398202164}, {'MCD': 2.620595...</td>\n",
       "    </tr>\n",
       "    <tr>\n",
       "      <th>2019-12-11</th>\n",
       "      <td>0.034991</td>\n",
       "      <td>-0.016468</td>\n",
       "      <td>0.203981</td>\n",
       "      <td>0.022172</td>\n",
       "      <td>0.056643</td>\n",
       "      <td>0.065017</td>\n",
       "      <td>0.051112</td>\n",
       "      <td>0.013907</td>\n",
       "      <td>-0.017304</td>\n",
       "      <td>0.039246</td>\n",
       "      <td>...</td>\n",
       "      <td>0.029876</td>\n",
       "      <td>4.013447</td>\n",
       "      <td>0.032677</td>\n",
       "      <td>2.530759</td>\n",
       "      <td>0.016033</td>\n",
       "      <td>3.211427</td>\n",
       "      <td>0.025688</td>\n",
       "      <td>4.205837</td>\n",
       "      <td>[{'SBUX': 4.20583679182492}, {'DIS': 4.2963861...</td>\n",
       "      <td>[{'NAT': 2.0369108215531715}, {'MCD': 2.530759...</td>\n",
       "    </tr>\n",
       "  </tbody>\n",
       "</table>\n",
       "<p>5 rows × 33 columns</p>\n",
       "</div>"
      ],
      "text/plain": [
       "            MSFT_pct_change_20  AMZN_pct_change_20  NAT_pct_change_20  \\\n",
       "Date                                                                    \n",
       "2019-12-05            0.044288           -0.030789           0.088089   \n",
       "2019-12-06            0.055500           -0.020468           0.211744   \n",
       "2019-12-09            0.040525           -0.020365           0.275582   \n",
       "2019-12-10            0.037878           -0.018311           0.236231   \n",
       "2019-12-11            0.034991           -0.016468           0.203981   \n",
       "\n",
       "            BAC_pct_change_20  DPZ_pct_change_20  DIS_pct_change_20  \\\n",
       "Date                                                                  \n",
       "2019-12-05           0.014659           0.032575           0.123181   \n",
       "2019-12-06           0.018773           0.013761           0.110559   \n",
       "2019-12-09           0.013017           0.020345           0.059800   \n",
       "2019-12-10           0.016065           0.016210           0.068451   \n",
       "2019-12-11           0.022172           0.056643           0.065017   \n",
       "\n",
       "            KO_pct_change_20  MCD_pct_change_20  COST_pct_change_20  \\\n",
       "Date                                                                  \n",
       "2019-12-05          0.033992           0.006564           -0.028086   \n",
       "2019-12-06          0.048508           0.018241           -0.033616   \n",
       "2019-12-09          0.043361           0.011971           -0.024652   \n",
       "2019-12-10          0.044978           0.018477           -0.016820   \n",
       "2019-12-11          0.051112           0.013907           -0.017304   \n",
       "\n",
       "            SBUX_pct_change_20  ...  KO_return_std_20  KO_sharpe_ratio  \\\n",
       "Date                            ...                                      \n",
       "2019-12-05            0.022679  ...          0.022351         2.494718   \n",
       "2019-12-06            0.058591  ...          0.025547         3.837294   \n",
       "2019-12-09            0.060430  ...          0.027589         3.866099   \n",
       "2019-12-10            0.049013  ...          0.028949         4.030213   \n",
       "2019-12-11            0.039246  ...          0.029876         4.013447   \n",
       "\n",
       "            MCD_return_std_20  MCD_sharpe_ratio  COST_return_std_20  \\\n",
       "Date                                                                  \n",
       "2019-12-05           0.038286          0.740012            0.011966   \n",
       "2019-12-06           0.037064          1.828266            0.014175   \n",
       "2019-12-09           0.035963          2.093043            0.015226   \n",
       "2019-12-10           0.034408          2.620595            0.015619   \n",
       "2019-12-11           0.032677          2.530759            0.016033   \n",
       "\n",
       "            COST_sharpe_ratio  SBUX_return_std_20  SBUX_sharpe_ratio  \\\n",
       "Date                                                                   \n",
       "2019-12-05          -0.528072            0.028464           1.561496   \n",
       "2019-12-06           1.122057            0.029576           3.655377   \n",
       "2019-12-09           2.538362            0.029175           4.241062   \n",
       "2019-12-10           3.513301            0.027255           4.428792   \n",
       "2019-12-11           3.211427            0.025688           4.205837   \n",
       "\n",
       "                                    buy_recommendation_sharpe  \\\n",
       "Date                                                            \n",
       "2019-12-05  [{'KO': 2.49471800033549}, {'MSFT': 3.24665421...   \n",
       "2019-12-06  [{'KO': 3.8372944140467844}, {'DIS': 4.9754078...   \n",
       "2019-12-09  [{'KO': 3.866098609284175}, {'SBUX': 4.2410618...   \n",
       "2019-12-10  [{'SBUX': 4.428792132022334}, {'DIS': 4.540825...   \n",
       "2019-12-11  [{'SBUX': 4.20583679182492}, {'DIS': 4.2963861...   \n",
       "\n",
       "                                   sell_recommendation_sharpe  \n",
       "Date                                                           \n",
       "2019-12-05  [{'COST': -0.5280723695995184}, {'AMZN': -0.44...  \n",
       "2019-12-06  [{'COST': 1.122056944038532}, {'AMZN': 1.62234...  \n",
       "2019-12-09  [{'MCD': 2.093043185521019}, {'BAC': 2.2352275...  \n",
       "2019-12-10  [{'NAT': 2.4280057398202164}, {'MCD': 2.620595...  \n",
       "2019-12-11  [{'NAT': 2.0369108215531715}, {'MCD': 2.530759...  \n",
       "\n",
       "[5 rows x 33 columns]"
      ]
     },
     "execution_count": 368,
     "metadata": {},
     "output_type": "execute_result"
    }
   ],
   "source": [
    "df_sharpe.head()"
   ]
  },
  {
   "cell_type": "code",
   "execution_count": 266,
   "id": "f6d7f530-b951-409a-93f4-d088e46ea760",
   "metadata": {},
   "outputs": [],
   "source": [
    "df_original = df.copy()"
   ]
  },
  {
   "cell_type": "code",
   "execution_count": 289,
   "id": "afe9f14f-87ff-4322-9c78-7ff9d19eb59f",
   "metadata": {},
   "outputs": [],
   "source": [
    "df_asset = df_original.copy()\n",
    "df_treasury = df.copy()"
   ]
  },
  {
   "cell_type": "code",
   "execution_count": 371,
   "id": "f074529d-39ef-4243-818d-6b080de21b3f",
   "metadata": {},
   "outputs": [],
   "source": [
    "df_performance_rank = df_original.copy()"
   ]
  },
  {
   "cell_type": "code",
   "execution_count": 374,
   "id": "d674d144-5e72-444d-9a35-aab847d640df",
   "metadata": {},
   "outputs": [],
   "source": [
    "df_performance_rank = df_performance_rank[ticker]"
   ]
  },
  {
   "cell_type": "code",
   "execution_count": 375,
   "id": "a2b1c207-2155-4388-a344-91b3871b1563",
   "metadata": {},
   "outputs": [],
   "source": [
    "for _t in ticker:\n",
    "    df_performance_rank[f\"{_t}_performance_rank\"] = ((df_performance_rank[f\"{_t}\"] - df_performance_rank[f\"{_t}\"].shift(5))/df_performance_rank[f\"{_t}\"])*100"
   ]
  },
  {
   "cell_type": "code",
   "execution_count": 376,
   "id": "a9567fc7-d191-4470-8fff-f18dfec4b18d",
   "metadata": {},
   "outputs": [
    {
     "data": {
      "text/plain": [
       "Index(['MSFT', 'AMZN', 'NAT', 'BAC', 'DPZ', 'DIS', 'KO', 'MCD', 'COST', 'SBUX',\n",
       "       'MSFT_performance_rank', 'AMZN_performance_rank',\n",
       "       'NAT_performance_rank', 'BAC_performance_rank', 'DPZ_performance_rank',\n",
       "       'DIS_performance_rank', 'KO_performance_rank', 'MCD_performance_rank',\n",
       "       'COST_performance_rank', 'SBUX_performance_rank'],\n",
       "      dtype='object')"
      ]
     },
     "execution_count": 376,
     "metadata": {},
     "output_type": "execute_result"
    }
   ],
   "source": [
    "df_performance_rank.columns"
   ]
  },
  {
   "cell_type": "code",
   "execution_count": 379,
   "id": "335678e2-946f-41a2-8edc-1ddae2e53a3a",
   "metadata": {},
   "outputs": [],
   "source": [
    "import sys\n",
    "def rank_asset_performance(row):\n",
    "    # print(row.sort_values(ascending=True))\n",
    "    size = len(row)\n",
    "    sorted_row = row.sort_values(ascending=True) \n",
    "    buy_recom_per = [{col[:col.find('_')]:sorted_row[col]} for col in list(sorted_row[math.floor(size*.75):].index)]\n",
    "    sell_recom_per = [{col[:col.find('_')]:sorted_row[col]} for col in list(sorted_row[:math.floor(size*.25)].index)]\n",
    "    return buy_recom_per, sell_recom_per"
   ]
  },
  {
   "cell_type": "code",
   "execution_count": 380,
   "id": "3add4204-5b9e-4397-a00b-124074fd094a",
   "metadata": {},
   "outputs": [],
   "source": [
    "# Apply the function row-wise and unpack the results into multiple columns\n",
    "df_performance_rank[[\"buy_recommendation_per\", \"sell_recommendation_per\"]] = df_performance_rank.apply(rank_asset_performance, axis=1, result_type='expand')"
   ]
  },
  {
   "cell_type": "code",
   "execution_count": 383,
   "id": "dd5170b1-97fe-4c2e-9458-aae0dfc32220",
   "metadata": {},
   "outputs": [],
   "source": [
    "df_performance_rank.dropna(inplace=True)"
   ]
  },
  {
   "cell_type": "code",
   "execution_count": 384,
   "id": "33e9ce93-a2f3-4248-941d-a92be7f831d5",
   "metadata": {},
   "outputs": [
    {
     "data": {
      "text/html": [
       "<div>\n",
       "<style scoped>\n",
       "    .dataframe tbody tr th:only-of-type {\n",
       "        vertical-align: middle;\n",
       "    }\n",
       "\n",
       "    .dataframe tbody tr th {\n",
       "        vertical-align: top;\n",
       "    }\n",
       "\n",
       "    .dataframe thead th {\n",
       "        text-align: right;\n",
       "    }\n",
       "</style>\n",
       "<table border=\"1\" class=\"dataframe\">\n",
       "  <thead>\n",
       "    <tr style=\"text-align: right;\">\n",
       "      <th></th>\n",
       "      <th>MSFT</th>\n",
       "      <th>AMZN</th>\n",
       "      <th>NAT</th>\n",
       "      <th>BAC</th>\n",
       "      <th>DPZ</th>\n",
       "      <th>DIS</th>\n",
       "      <th>KO</th>\n",
       "      <th>MCD</th>\n",
       "      <th>COST</th>\n",
       "      <th>SBUX</th>\n",
       "      <th>...</th>\n",
       "      <th>NAT_performance_rank</th>\n",
       "      <th>BAC_performance_rank</th>\n",
       "      <th>DPZ_performance_rank</th>\n",
       "      <th>DIS_performance_rank</th>\n",
       "      <th>KO_performance_rank</th>\n",
       "      <th>MCD_performance_rank</th>\n",
       "      <th>COST_performance_rank</th>\n",
       "      <th>SBUX_performance_rank</th>\n",
       "      <th>buy_recommendation_per</th>\n",
       "      <th>sell_recommendation_per</th>\n",
       "    </tr>\n",
       "    <tr>\n",
       "      <th>Date</th>\n",
       "      <th></th>\n",
       "      <th></th>\n",
       "      <th></th>\n",
       "      <th></th>\n",
       "      <th></th>\n",
       "      <th></th>\n",
       "      <th></th>\n",
       "      <th></th>\n",
       "      <th></th>\n",
       "      <th></th>\n",
       "      <th></th>\n",
       "      <th></th>\n",
       "      <th></th>\n",
       "      <th></th>\n",
       "      <th></th>\n",
       "      <th></th>\n",
       "      <th></th>\n",
       "      <th></th>\n",
       "      <th></th>\n",
       "      <th></th>\n",
       "      <th></th>\n",
       "    </tr>\n",
       "  </thead>\n",
       "  <tbody>\n",
       "    <tr>\n",
       "      <th>2019-10-17</th>\n",
       "      <td>133.424896</td>\n",
       "      <td>89.374001</td>\n",
       "      <td>2.639202</td>\n",
       "      <td>26.724695</td>\n",
       "      <td>242.758667</td>\n",
       "      <td>130.551910</td>\n",
       "      <td>46.072277</td>\n",
       "      <td>184.166718</td>\n",
       "      <td>277.312317</td>\n",
       "      <td>77.639999</td>\n",
       "      <td>...</td>\n",
       "      <td>2.784812</td>\n",
       "      <td>5.981492</td>\n",
       "      <td>0.655121</td>\n",
       "      <td>2.289042</td>\n",
       "      <td>0.241671</td>\n",
       "      <td>-2.373684</td>\n",
       "      <td>1.739414</td>\n",
       "      <td>0.382413</td>\n",
       "      <td>[{'DI': 130.55191040039062}, {'MSF': 133.42489...</td>\n",
       "      <td>[{'MCD': -2.3736841887228604}, {'KO': 0.241671...</td>\n",
       "    </tr>\n",
       "    <tr>\n",
       "      <th>2019-10-18</th>\n",
       "      <td>131.247177</td>\n",
       "      <td>87.875504</td>\n",
       "      <td>2.672610</td>\n",
       "      <td>26.804176</td>\n",
       "      <td>242.048660</td>\n",
       "      <td>129.092239</td>\n",
       "      <td>46.920231</td>\n",
       "      <td>185.635773</td>\n",
       "      <td>277.734161</td>\n",
       "      <td>77.406067</td>\n",
       "      <td>...</td>\n",
       "      <td>-3.249978</td>\n",
       "      <td>4.744644</td>\n",
       "      <td>-0.817373</td>\n",
       "      <td>0.664690</td>\n",
       "      <td>2.701682</td>\n",
       "      <td>-0.249387</td>\n",
       "      <td>1.736794</td>\n",
       "      <td>-0.383579</td>\n",
       "      <td>[{'DI': 129.0922393798828}, {'MSF': 131.247177...</td>\n",
       "      <td>[{'NAT': -3.2499778317744803}, {'MSFT': -1.651...</td>\n",
       "    </tr>\n",
       "    <tr>\n",
       "      <th>2019-10-21</th>\n",
       "      <td>132.221375</td>\n",
       "      <td>89.282997</td>\n",
       "      <td>2.632520</td>\n",
       "      <td>27.395901</td>\n",
       "      <td>243.771515</td>\n",
       "      <td>128.470886</td>\n",
       "      <td>46.449154</td>\n",
       "      <td>186.837753</td>\n",
       "      <td>276.101837</td>\n",
       "      <td>76.794235</td>\n",
       "      <td>...</td>\n",
       "      <td>-6.598986</td>\n",
       "      <td>6.060616</td>\n",
       "      <td>2.065873</td>\n",
       "      <td>0.429897</td>\n",
       "      <td>1.714904</td>\n",
       "      <td>0.700521</td>\n",
       "      <td>1.182418</td>\n",
       "      <td>-1.487983</td>\n",
       "      <td>[{'DI': 128.47088623046875}, {'MSF': 132.22137...</td>\n",
       "      <td>[{'NAT': -6.598986196734346}, {'SBUX': -1.4879...</td>\n",
       "    </tr>\n",
       "    <tr>\n",
       "      <th>2019-10-22</th>\n",
       "      <td>130.253769</td>\n",
       "      <td>88.286499</td>\n",
       "      <td>2.665928</td>\n",
       "      <td>27.554873</td>\n",
       "      <td>245.115723</td>\n",
       "      <td>130.581512</td>\n",
       "      <td>46.123676</td>\n",
       "      <td>177.417938</td>\n",
       "      <td>275.083923</td>\n",
       "      <td>75.093697</td>\n",
       "      <td>...</td>\n",
       "      <td>3.258159</td>\n",
       "      <td>4.711543</td>\n",
       "      <td>1.239686</td>\n",
       "      <td>1.993961</td>\n",
       "      <td>0.631401</td>\n",
       "      <td>-3.989555</td>\n",
       "      <td>0.526728</td>\n",
       "      <td>-3.582550</td>\n",
       "      <td>[{'MSF': 130.25376892089844}, {'DI': 130.58151...</td>\n",
       "      <td>[{'MCD': -3.9895548926307844}, {'MSFT': -3.813...</td>\n",
       "    </tr>\n",
       "    <tr>\n",
       "      <th>2019-10-23</th>\n",
       "      <td>131.084778</td>\n",
       "      <td>88.108498</td>\n",
       "      <td>2.819602</td>\n",
       "      <td>27.749170</td>\n",
       "      <td>242.332642</td>\n",
       "      <td>129.328949</td>\n",
       "      <td>46.800331</td>\n",
       "      <td>177.364517</td>\n",
       "      <td>272.653748</td>\n",
       "      <td>74.445862</td>\n",
       "      <td>...</td>\n",
       "      <td>5.213241</td>\n",
       "      <td>3.978360</td>\n",
       "      <td>0.015647</td>\n",
       "      <td>0.205894</td>\n",
       "      <td>2.104679</td>\n",
       "      <td>-4.563024</td>\n",
       "      <td>-0.491017</td>\n",
       "      <td>-4.798177</td>\n",
       "      <td>[{'DI': 129.32894897460938}, {'MSF': 131.08477...</td>\n",
       "      <td>[{'SBUX': -4.798177206098772}, {'MCD': -4.5630...</td>\n",
       "    </tr>\n",
       "  </tbody>\n",
       "</table>\n",
       "<p>5 rows × 22 columns</p>\n",
       "</div>"
      ],
      "text/plain": [
       "                  MSFT       AMZN       NAT        BAC         DPZ  \\\n",
       "Date                                                                 \n",
       "2019-10-17  133.424896  89.374001  2.639202  26.724695  242.758667   \n",
       "2019-10-18  131.247177  87.875504  2.672610  26.804176  242.048660   \n",
       "2019-10-21  132.221375  89.282997  2.632520  27.395901  243.771515   \n",
       "2019-10-22  130.253769  88.286499  2.665928  27.554873  245.115723   \n",
       "2019-10-23  131.084778  88.108498  2.819602  27.749170  242.332642   \n",
       "\n",
       "                   DIS         KO         MCD        COST       SBUX  ...  \\\n",
       "Date                                                                  ...   \n",
       "2019-10-17  130.551910  46.072277  184.166718  277.312317  77.639999  ...   \n",
       "2019-10-18  129.092239  46.920231  185.635773  277.734161  77.406067  ...   \n",
       "2019-10-21  128.470886  46.449154  186.837753  276.101837  76.794235  ...   \n",
       "2019-10-22  130.581512  46.123676  177.417938  275.083923  75.093697  ...   \n",
       "2019-10-23  129.328949  46.800331  177.364517  272.653748  74.445862  ...   \n",
       "\n",
       "            NAT_performance_rank  BAC_performance_rank  DPZ_performance_rank  \\\n",
       "Date                                                                           \n",
       "2019-10-17              2.784812              5.981492              0.655121   \n",
       "2019-10-18             -3.249978              4.744644             -0.817373   \n",
       "2019-10-21             -6.598986              6.060616              2.065873   \n",
       "2019-10-22              3.258159              4.711543              1.239686   \n",
       "2019-10-23              5.213241              3.978360              0.015647   \n",
       "\n",
       "            DIS_performance_rank  KO_performance_rank  MCD_performance_rank  \\\n",
       "Date                                                                          \n",
       "2019-10-17              2.289042             0.241671             -2.373684   \n",
       "2019-10-18              0.664690             2.701682             -0.249387   \n",
       "2019-10-21              0.429897             1.714904              0.700521   \n",
       "2019-10-22              1.993961             0.631401             -3.989555   \n",
       "2019-10-23              0.205894             2.104679             -4.563024   \n",
       "\n",
       "            COST_performance_rank  SBUX_performance_rank  \\\n",
       "Date                                                       \n",
       "2019-10-17               1.739414               0.382413   \n",
       "2019-10-18               1.736794              -0.383579   \n",
       "2019-10-21               1.182418              -1.487983   \n",
       "2019-10-22               0.526728              -3.582550   \n",
       "2019-10-23              -0.491017              -4.798177   \n",
       "\n",
       "                                       buy_recommendation_per  \\\n",
       "Date                                                            \n",
       "2019-10-17  [{'DI': 130.55191040039062}, {'MSF': 133.42489...   \n",
       "2019-10-18  [{'DI': 129.0922393798828}, {'MSF': 131.247177...   \n",
       "2019-10-21  [{'DI': 128.47088623046875}, {'MSF': 132.22137...   \n",
       "2019-10-22  [{'MSF': 130.25376892089844}, {'DI': 130.58151...   \n",
       "2019-10-23  [{'DI': 129.32894897460938}, {'MSF': 131.08477...   \n",
       "\n",
       "                                      sell_recommendation_per  \n",
       "Date                                                           \n",
       "2019-10-17  [{'MCD': -2.3736841887228604}, {'KO': 0.241671...  \n",
       "2019-10-18  [{'NAT': -3.2499778317744803}, {'MSFT': -1.651...  \n",
       "2019-10-21  [{'NAT': -6.598986196734346}, {'SBUX': -1.4879...  \n",
       "2019-10-22  [{'MCD': -3.9895548926307844}, {'MSFT': -3.813...  \n",
       "2019-10-23  [{'SBUX': -4.798177206098772}, {'MCD': -4.5630...  \n",
       "\n",
       "[5 rows x 22 columns]"
      ]
     },
     "execution_count": 384,
     "metadata": {},
     "output_type": "execute_result"
    }
   ],
   "source": [
    "df_performance_rank.head()"
   ]
  },
  {
   "cell_type": "code",
   "execution_count": 146,
   "id": "9845840d-c4d9-4bd3-800c-91d2ab75c05d",
   "metadata": {},
   "outputs": [],
   "source": [
    "#testing of percentile of last 20 days rsi\n",
    "# a = df[21:41][\"MSFT_rsi_20\"].sort_values(ascending=True)\n",
    "# a\n",
    "# pd.to_datetime(a.index)\n",
    "# a=pd.DataFrame(a)\n",
    "# a[\"rank\"] = a[\"MSFT_rsi_20\"].rank(method=\"min\", ascending=True)\n",
    "# a[\"percentile\"] = a[\"rank\"].apply(lambda x: (x/20)*100)"
   ]
  },
  {
   "cell_type": "code",
   "execution_count": 268,
   "id": "cbc46df1-5f2d-4072-8efc-a05bd9fd6a8c",
   "metadata": {},
   "outputs": [],
   "source": [
    "df.dropna(inplace=True)"
   ]
  },
  {
   "cell_type": "code",
   "execution_count": 269,
   "id": "2a345a47-8195-47b0-baab-e15db1ca69d7",
   "metadata": {},
   "outputs": [
    {
     "data": {
      "text/plain": [
       "(1238, 130)"
      ]
     },
     "execution_count": 269,
     "metadata": {},
     "output_type": "execute_result"
    }
   ],
   "source": [
    "df.shape"
   ]
  },
  {
   "cell_type": "code",
   "execution_count": 270,
   "id": "ee007b1e-0524-4696-8a1c-b20cdd1aceae",
   "metadata": {},
   "outputs": [],
   "source": [
    "list_of_cols = [col for col in df.columns for _t in ticker if re.search(f\"{_t}.*zscore$|^{_t}$\", col)]"
   ]
  },
  {
   "cell_type": "code",
   "execution_count": 271,
   "id": "55cb03f8-fb37-498f-a635-8249a8617798",
   "metadata": {},
   "outputs": [],
   "source": [
    "df = df[list_of_cols]"
   ]
  },
  {
   "cell_type": "code",
   "execution_count": 272,
   "id": "72e1b3a4-5c57-4964-bcbd-65193dfa8c99",
   "metadata": {},
   "outputs": [],
   "source": [
    "for _t in ticker:\n",
    "    try:\n",
    "        df[f\"{_t}_cum_zscore\"] = (df[f\"{_t}_rsi_20_zscore\"] + df[f\"{_t}_sto_slow_20_zscore\"] + df[f\"{_t}_lamda_20_zscore\"])/3\n",
    "    except Exception as err:\n",
    "        print(f\"Error : {err}\")"
   ]
  },
  {
   "cell_type": "code",
   "execution_count": 273,
   "id": "a0f62b5e-1dbc-4350-8b7b-df9647387735",
   "metadata": {},
   "outputs": [],
   "source": [
    "df_cum_score = df[[col for col in df.columns for _t in ticker if re.search(f\"{_t}.*cum_zscore$\", col)]]"
   ]
  },
  {
   "cell_type": "code",
   "execution_count": 275,
   "id": "1dc0ae2f-17dc-4910-9b4e-d6849e54efa2",
   "metadata": {},
   "outputs": [
    {
     "data": {
      "text/html": [
       "<div>\n",
       "<style scoped>\n",
       "    .dataframe tbody tr th:only-of-type {\n",
       "        vertical-align: middle;\n",
       "    }\n",
       "\n",
       "    .dataframe tbody tr th {\n",
       "        vertical-align: top;\n",
       "    }\n",
       "\n",
       "    .dataframe thead th {\n",
       "        text-align: right;\n",
       "    }\n",
       "</style>\n",
       "<table border=\"1\" class=\"dataframe\">\n",
       "  <thead>\n",
       "    <tr style=\"text-align: right;\">\n",
       "      <th></th>\n",
       "      <th>MSFT</th>\n",
       "      <th>AMZN</th>\n",
       "      <th>NAT</th>\n",
       "      <th>BAC</th>\n",
       "      <th>DPZ</th>\n",
       "      <th>DIS</th>\n",
       "      <th>KO</th>\n",
       "      <th>MCD</th>\n",
       "      <th>COST</th>\n",
       "      <th>SBUX</th>\n",
       "      <th>...</th>\n",
       "      <th>MSFT_cum_zscore</th>\n",
       "      <th>AMZN_cum_zscore</th>\n",
       "      <th>NAT_cum_zscore</th>\n",
       "      <th>BAC_cum_zscore</th>\n",
       "      <th>DPZ_cum_zscore</th>\n",
       "      <th>DIS_cum_zscore</th>\n",
       "      <th>KO_cum_zscore</th>\n",
       "      <th>MCD_cum_zscore</th>\n",
       "      <th>COST_cum_zscore</th>\n",
       "      <th>SBUX_cum_zscore</th>\n",
       "    </tr>\n",
       "    <tr>\n",
       "      <th>Date</th>\n",
       "      <th></th>\n",
       "      <th></th>\n",
       "      <th></th>\n",
       "      <th></th>\n",
       "      <th></th>\n",
       "      <th></th>\n",
       "      <th></th>\n",
       "      <th></th>\n",
       "      <th></th>\n",
       "      <th></th>\n",
       "      <th></th>\n",
       "      <th></th>\n",
       "      <th></th>\n",
       "      <th></th>\n",
       "      <th></th>\n",
       "      <th></th>\n",
       "      <th></th>\n",
       "      <th></th>\n",
       "      <th></th>\n",
       "      <th></th>\n",
       "      <th></th>\n",
       "    </tr>\n",
       "  </thead>\n",
       "  <tbody>\n",
       "    <tr>\n",
       "      <th>2019-12-06</th>\n",
       "      <td>145.437210</td>\n",
       "      <td>87.580002</td>\n",
       "      <td>2.687969</td>\n",
       "      <td>29.898638</td>\n",
       "      <td>271.270630</td>\n",
       "      <td>145.631912</td>\n",
       "      <td>46.960068</td>\n",
       "      <td>175.042450</td>\n",
       "      <td>271.068024</td>\n",
       "      <td>78.055252</td>\n",
       "      <td>...</td>\n",
       "      <td>0.666437</td>\n",
       "      <td>0.636771</td>\n",
       "      <td>-1.0</td>\n",
       "      <td>0.333333</td>\n",
       "      <td>1.000000</td>\n",
       "      <td>1.0</td>\n",
       "      <td>-1.000000</td>\n",
       "      <td>-1.000000</td>\n",
       "      <td>0.999993</td>\n",
       "      <td>-1.0</td>\n",
       "    </tr>\n",
       "    <tr>\n",
       "      <th>2019-12-09</th>\n",
       "      <td>145.063431</td>\n",
       "      <td>87.475502</td>\n",
       "      <td>2.795488</td>\n",
       "      <td>29.756567</td>\n",
       "      <td>271.081207</td>\n",
       "      <td>144.201843</td>\n",
       "      <td>46.658051</td>\n",
       "      <td>174.442078</td>\n",
       "      <td>271.260956</td>\n",
       "      <td>78.019073</td>\n",
       "      <td>...</td>\n",
       "      <td>0.996349</td>\n",
       "      <td>0.666437</td>\n",
       "      <td>-1.0</td>\n",
       "      <td>-0.303438</td>\n",
       "      <td>1.000000</td>\n",
       "      <td>1.0</td>\n",
       "      <td>-0.970105</td>\n",
       "      <td>-0.999993</td>\n",
       "      <td>0.999770</td>\n",
       "      <td>-1.0</td>\n",
       "    </tr>\n",
       "    <tr>\n",
       "      <th>2019-12-10</th>\n",
       "      <td>144.843018</td>\n",
       "      <td>86.960503</td>\n",
       "      <td>2.775328</td>\n",
       "      <td>29.774323</td>\n",
       "      <td>270.011566</td>\n",
       "      <td>144.093338</td>\n",
       "      <td>46.399174</td>\n",
       "      <td>174.683990</td>\n",
       "      <td>271.830750</td>\n",
       "      <td>77.802055</td>\n",
       "      <td>...</td>\n",
       "      <td>0.999756</td>\n",
       "      <td>0.666437</td>\n",
       "      <td>-1.0</td>\n",
       "      <td>-0.329704</td>\n",
       "      <td>1.000000</td>\n",
       "      <td>1.0</td>\n",
       "      <td>-0.837827</td>\n",
       "      <td>-0.999993</td>\n",
       "      <td>0.995904</td>\n",
       "      <td>-1.0</td>\n",
       "    </tr>\n",
       "    <tr>\n",
       "      <th>2019-12-11</th>\n",
       "      <td>145.389282</td>\n",
       "      <td>87.435997</td>\n",
       "      <td>2.775328</td>\n",
       "      <td>29.872007</td>\n",
       "      <td>277.944214</td>\n",
       "      <td>145.562866</td>\n",
       "      <td>46.554497</td>\n",
       "      <td>174.477936</td>\n",
       "      <td>271.389648</td>\n",
       "      <td>78.299385</td>\n",
       "      <td>...</td>\n",
       "      <td>0.966239</td>\n",
       "      <td>0.336962</td>\n",
       "      <td>-1.0</td>\n",
       "      <td>-0.329926</td>\n",
       "      <td>0.333326</td>\n",
       "      <td>1.0</td>\n",
       "      <td>-0.837827</td>\n",
       "      <td>-0.970105</td>\n",
       "      <td>0.992720</td>\n",
       "      <td>-1.0</td>\n",
       "    </tr>\n",
       "    <tr>\n",
       "      <th>2019-12-12</th>\n",
       "      <td>146.865219</td>\n",
       "      <td>88.016502</td>\n",
       "      <td>2.761889</td>\n",
       "      <td>30.795517</td>\n",
       "      <td>281.435486</td>\n",
       "      <td>145.730530</td>\n",
       "      <td>46.718445</td>\n",
       "      <td>175.902634</td>\n",
       "      <td>273.264465</td>\n",
       "      <td>79.764267</td>\n",
       "      <td>...</td>\n",
       "      <td>-0.333333</td>\n",
       "      <td>-0.534611</td>\n",
       "      <td>-1.0</td>\n",
       "      <td>-0.996364</td>\n",
       "      <td>-0.003636</td>\n",
       "      <td>1.0</td>\n",
       "      <td>-0.735904</td>\n",
       "      <td>-1.000000</td>\n",
       "      <td>0.303438</td>\n",
       "      <td>-1.0</td>\n",
       "    </tr>\n",
       "  </tbody>\n",
       "</table>\n",
       "<p>5 rows × 50 columns</p>\n",
       "</div>"
      ],
      "text/plain": [
       "                  MSFT       AMZN       NAT        BAC         DPZ  \\\n",
       "Date                                                                 \n",
       "2019-12-06  145.437210  87.580002  2.687969  29.898638  271.270630   \n",
       "2019-12-09  145.063431  87.475502  2.795488  29.756567  271.081207   \n",
       "2019-12-10  144.843018  86.960503  2.775328  29.774323  270.011566   \n",
       "2019-12-11  145.389282  87.435997  2.775328  29.872007  277.944214   \n",
       "2019-12-12  146.865219  88.016502  2.761889  30.795517  281.435486   \n",
       "\n",
       "                   DIS         KO         MCD        COST       SBUX  ...  \\\n",
       "Date                                                                  ...   \n",
       "2019-12-06  145.631912  46.960068  175.042450  271.068024  78.055252  ...   \n",
       "2019-12-09  144.201843  46.658051  174.442078  271.260956  78.019073  ...   \n",
       "2019-12-10  144.093338  46.399174  174.683990  271.830750  77.802055  ...   \n",
       "2019-12-11  145.562866  46.554497  174.477936  271.389648  78.299385  ...   \n",
       "2019-12-12  145.730530  46.718445  175.902634  273.264465  79.764267  ...   \n",
       "\n",
       "            MSFT_cum_zscore  AMZN_cum_zscore  NAT_cum_zscore  BAC_cum_zscore  \\\n",
       "Date                                                                           \n",
       "2019-12-06         0.666437         0.636771            -1.0        0.333333   \n",
       "2019-12-09         0.996349         0.666437            -1.0       -0.303438   \n",
       "2019-12-10         0.999756         0.666437            -1.0       -0.329704   \n",
       "2019-12-11         0.966239         0.336962            -1.0       -0.329926   \n",
       "2019-12-12        -0.333333        -0.534611            -1.0       -0.996364   \n",
       "\n",
       "            DPZ_cum_zscore  DIS_cum_zscore  KO_cum_zscore  MCD_cum_zscore  \\\n",
       "Date                                                                        \n",
       "2019-12-06        1.000000             1.0      -1.000000       -1.000000   \n",
       "2019-12-09        1.000000             1.0      -0.970105       -0.999993   \n",
       "2019-12-10        1.000000             1.0      -0.837827       -0.999993   \n",
       "2019-12-11        0.333326             1.0      -0.837827       -0.970105   \n",
       "2019-12-12       -0.003636             1.0      -0.735904       -1.000000   \n",
       "\n",
       "            COST_cum_zscore  SBUX_cum_zscore  \n",
       "Date                                          \n",
       "2019-12-06         0.999993             -1.0  \n",
       "2019-12-09         0.999770             -1.0  \n",
       "2019-12-10         0.995904             -1.0  \n",
       "2019-12-11         0.992720             -1.0  \n",
       "2019-12-12         0.303438             -1.0  \n",
       "\n",
       "[5 rows x 50 columns]"
      ]
     },
     "execution_count": 275,
     "metadata": {},
     "output_type": "execute_result"
    }
   ],
   "source": [
    "df.head()"
   ]
  },
  {
   "cell_type": "code",
   "execution_count": 277,
   "id": "e7bb10f6-50ed-4e5a-ad3f-7b8733224c49",
   "metadata": {},
   "outputs": [
    {
     "data": {
      "text/html": [
       "<div>\n",
       "<style scoped>\n",
       "    .dataframe tbody tr th:only-of-type {\n",
       "        vertical-align: middle;\n",
       "    }\n",
       "\n",
       "    .dataframe tbody tr th {\n",
       "        vertical-align: top;\n",
       "    }\n",
       "\n",
       "    .dataframe thead th {\n",
       "        text-align: right;\n",
       "    }\n",
       "</style>\n",
       "<table border=\"1\" class=\"dataframe\">\n",
       "  <thead>\n",
       "    <tr style=\"text-align: right;\">\n",
       "      <th></th>\n",
       "      <th>MSFT_cum_zscore</th>\n",
       "      <th>AMZN_cum_zscore</th>\n",
       "      <th>NAT_cum_zscore</th>\n",
       "      <th>BAC_cum_zscore</th>\n",
       "      <th>DPZ_cum_zscore</th>\n",
       "      <th>DIS_cum_zscore</th>\n",
       "      <th>KO_cum_zscore</th>\n",
       "      <th>MCD_cum_zscore</th>\n",
       "      <th>COST_cum_zscore</th>\n",
       "      <th>SBUX_cum_zscore</th>\n",
       "    </tr>\n",
       "    <tr>\n",
       "      <th>Date</th>\n",
       "      <th></th>\n",
       "      <th></th>\n",
       "      <th></th>\n",
       "      <th></th>\n",
       "      <th></th>\n",
       "      <th></th>\n",
       "      <th></th>\n",
       "      <th></th>\n",
       "      <th></th>\n",
       "      <th></th>\n",
       "    </tr>\n",
       "  </thead>\n",
       "  <tbody>\n",
       "    <tr>\n",
       "      <th>2019-12-06</th>\n",
       "      <td>0.666437</td>\n",
       "      <td>0.636771</td>\n",
       "      <td>-1.0</td>\n",
       "      <td>0.333333</td>\n",
       "      <td>1.000000</td>\n",
       "      <td>1.0</td>\n",
       "      <td>-1.000000</td>\n",
       "      <td>-1.000000</td>\n",
       "      <td>0.999993</td>\n",
       "      <td>-1.0</td>\n",
       "    </tr>\n",
       "    <tr>\n",
       "      <th>2019-12-09</th>\n",
       "      <td>0.996349</td>\n",
       "      <td>0.666437</td>\n",
       "      <td>-1.0</td>\n",
       "      <td>-0.303438</td>\n",
       "      <td>1.000000</td>\n",
       "      <td>1.0</td>\n",
       "      <td>-0.970105</td>\n",
       "      <td>-0.999993</td>\n",
       "      <td>0.999770</td>\n",
       "      <td>-1.0</td>\n",
       "    </tr>\n",
       "    <tr>\n",
       "      <th>2019-12-10</th>\n",
       "      <td>0.999756</td>\n",
       "      <td>0.666437</td>\n",
       "      <td>-1.0</td>\n",
       "      <td>-0.329704</td>\n",
       "      <td>1.000000</td>\n",
       "      <td>1.0</td>\n",
       "      <td>-0.837827</td>\n",
       "      <td>-0.999993</td>\n",
       "      <td>0.995904</td>\n",
       "      <td>-1.0</td>\n",
       "    </tr>\n",
       "    <tr>\n",
       "      <th>2019-12-11</th>\n",
       "      <td>0.966239</td>\n",
       "      <td>0.336962</td>\n",
       "      <td>-1.0</td>\n",
       "      <td>-0.329926</td>\n",
       "      <td>0.333326</td>\n",
       "      <td>1.0</td>\n",
       "      <td>-0.837827</td>\n",
       "      <td>-0.970105</td>\n",
       "      <td>0.992720</td>\n",
       "      <td>-1.0</td>\n",
       "    </tr>\n",
       "    <tr>\n",
       "      <th>2019-12-12</th>\n",
       "      <td>-0.333333</td>\n",
       "      <td>-0.534611</td>\n",
       "      <td>-1.0</td>\n",
       "      <td>-0.996364</td>\n",
       "      <td>-0.003636</td>\n",
       "      <td>1.0</td>\n",
       "      <td>-0.735904</td>\n",
       "      <td>-1.000000</td>\n",
       "      <td>0.303438</td>\n",
       "      <td>-1.0</td>\n",
       "    </tr>\n",
       "  </tbody>\n",
       "</table>\n",
       "</div>"
      ],
      "text/plain": [
       "            MSFT_cum_zscore  AMZN_cum_zscore  NAT_cum_zscore  BAC_cum_zscore  \\\n",
       "Date                                                                           \n",
       "2019-12-06         0.666437         0.636771            -1.0        0.333333   \n",
       "2019-12-09         0.996349         0.666437            -1.0       -0.303438   \n",
       "2019-12-10         0.999756         0.666437            -1.0       -0.329704   \n",
       "2019-12-11         0.966239         0.336962            -1.0       -0.329926   \n",
       "2019-12-12        -0.333333        -0.534611            -1.0       -0.996364   \n",
       "\n",
       "            DPZ_cum_zscore  DIS_cum_zscore  KO_cum_zscore  MCD_cum_zscore  \\\n",
       "Date                                                                        \n",
       "2019-12-06        1.000000             1.0      -1.000000       -1.000000   \n",
       "2019-12-09        1.000000             1.0      -0.970105       -0.999993   \n",
       "2019-12-10        1.000000             1.0      -0.837827       -0.999993   \n",
       "2019-12-11        0.333326             1.0      -0.837827       -0.970105   \n",
       "2019-12-12       -0.003636             1.0      -0.735904       -1.000000   \n",
       "\n",
       "            COST_cum_zscore  SBUX_cum_zscore  \n",
       "Date                                          \n",
       "2019-12-06         0.999993             -1.0  \n",
       "2019-12-09         0.999770             -1.0  \n",
       "2019-12-10         0.995904             -1.0  \n",
       "2019-12-11         0.992720             -1.0  \n",
       "2019-12-12         0.303438             -1.0  "
      ]
     },
     "execution_count": 277,
     "metadata": {},
     "output_type": "execute_result"
    }
   ],
   "source": [
    "df_cum_score.head()"
   ]
  },
  {
   "cell_type": "code",
   "execution_count": 369,
   "id": "8401ad51-7782-4bce-8fd4-e861077ea3ec",
   "metadata": {},
   "outputs": [],
   "source": [
    "import sys\n",
    "def rank_asset(row):\n",
    "    # print(row.sort_values(ascending=True))\n",
    "    size = len(row)\n",
    "    sorted_row = row.sort_values(ascending=True) \n",
    "    buy_recom_tech = [{col[:col.find('_')]:sorted_row[col]} for col in list(sorted_row[math.floor(size*.75):].index)]\n",
    "    sell_recom_tech = [{col[:col.find('_')]:sorted_row[col]} for col in list(sorted_row[:math.floor(size*.25)].index)]\n",
    "    return buy_recom_tech, sell_recom_tech"
   ]
  },
  {
   "cell_type": "code",
   "execution_count": 394,
   "id": "f966ed2b-5534-444c-b29b-90142e230c76",
   "metadata": {},
   "outputs": [],
   "source": [
    "df_cum_score.drop(columns=['buy_recommendation', 'sell_recommendation'], axis=1, inplace=True)"
   ]
  },
  {
   "cell_type": "code",
   "execution_count": 395,
   "id": "d34f3179-d4b4-4d1a-9616-de57242765da",
   "metadata": {},
   "outputs": [
    {
     "data": {
      "text/plain": [
       "Index(['MSFT_cum_zscore', 'AMZN_cum_zscore', 'NAT_cum_zscore',\n",
       "       'BAC_cum_zscore', 'DPZ_cum_zscore', 'DIS_cum_zscore', 'KO_cum_zscore',\n",
       "       'MCD_cum_zscore', 'COST_cum_zscore', 'SBUX_cum_zscore'],\n",
       "      dtype='object')"
      ]
     },
     "execution_count": 395,
     "metadata": {},
     "output_type": "execute_result"
    }
   ],
   "source": [
    "df_cum_score.columns"
   ]
  },
  {
   "cell_type": "code",
   "execution_count": 396,
   "id": "0ecf9dc4-0203-4a8f-80e1-1657b1ca590f",
   "metadata": {},
   "outputs": [],
   "source": [
    "\n",
    "# Apply the function row-wise and unpack the results into multiple columns\n",
    "df_cum_score[[\"buy_recommendation_zscore\", \"sell_recommendation_zscore\"]] = df_cum_score.apply(rank_asset, axis=1, result_type='expand')"
   ]
  },
  {
   "cell_type": "code",
   "execution_count": 281,
   "id": "f2b010b7-707c-42e3-9304-56e858561e23",
   "metadata": {},
   "outputs": [
    {
     "data": {
      "text/html": [
       "<div>\n",
       "<style scoped>\n",
       "    .dataframe tbody tr th:only-of-type {\n",
       "        vertical-align: middle;\n",
       "    }\n",
       "\n",
       "    .dataframe tbody tr th {\n",
       "        vertical-align: top;\n",
       "    }\n",
       "\n",
       "    .dataframe thead th {\n",
       "        text-align: right;\n",
       "    }\n",
       "</style>\n",
       "<table border=\"1\" class=\"dataframe\">\n",
       "  <thead>\n",
       "    <tr style=\"text-align: right;\">\n",
       "      <th></th>\n",
       "      <th>MSFT_cum_zscore</th>\n",
       "      <th>AMZN_cum_zscore</th>\n",
       "      <th>NAT_cum_zscore</th>\n",
       "      <th>BAC_cum_zscore</th>\n",
       "      <th>DPZ_cum_zscore</th>\n",
       "      <th>DIS_cum_zscore</th>\n",
       "      <th>KO_cum_zscore</th>\n",
       "      <th>MCD_cum_zscore</th>\n",
       "      <th>COST_cum_zscore</th>\n",
       "      <th>SBUX_cum_zscore</th>\n",
       "      <th>buy_recommendation</th>\n",
       "      <th>sell_recommendation</th>\n",
       "    </tr>\n",
       "    <tr>\n",
       "      <th>Date</th>\n",
       "      <th></th>\n",
       "      <th></th>\n",
       "      <th></th>\n",
       "      <th></th>\n",
       "      <th></th>\n",
       "      <th></th>\n",
       "      <th></th>\n",
       "      <th></th>\n",
       "      <th></th>\n",
       "      <th></th>\n",
       "      <th></th>\n",
       "      <th></th>\n",
       "    </tr>\n",
       "  </thead>\n",
       "  <tbody>\n",
       "    <tr>\n",
       "      <th>2019-12-06</th>\n",
       "      <td>0.666437</td>\n",
       "      <td>0.636771</td>\n",
       "      <td>-1.0</td>\n",
       "      <td>0.333333</td>\n",
       "      <td>1.000000</td>\n",
       "      <td>1.0</td>\n",
       "      <td>-1.000000</td>\n",
       "      <td>-1.000000</td>\n",
       "      <td>0.999993</td>\n",
       "      <td>-1.0</td>\n",
       "      <td>[NAT, MCD]</td>\n",
       "      <td>[COST, DPZ, DIS]</td>\n",
       "    </tr>\n",
       "    <tr>\n",
       "      <th>2019-12-09</th>\n",
       "      <td>0.996349</td>\n",
       "      <td>0.666437</td>\n",
       "      <td>-1.0</td>\n",
       "      <td>-0.303438</td>\n",
       "      <td>1.000000</td>\n",
       "      <td>1.0</td>\n",
       "      <td>-0.970105</td>\n",
       "      <td>-0.999993</td>\n",
       "      <td>0.999770</td>\n",
       "      <td>-1.0</td>\n",
       "      <td>[NAT, SBUX]</td>\n",
       "      <td>[COST, DPZ, DIS]</td>\n",
       "    </tr>\n",
       "    <tr>\n",
       "      <th>2019-12-10</th>\n",
       "      <td>0.999756</td>\n",
       "      <td>0.666437</td>\n",
       "      <td>-1.0</td>\n",
       "      <td>-0.329704</td>\n",
       "      <td>1.000000</td>\n",
       "      <td>1.0</td>\n",
       "      <td>-0.837827</td>\n",
       "      <td>-0.999993</td>\n",
       "      <td>0.995904</td>\n",
       "      <td>-1.0</td>\n",
       "      <td>[NAT, SBUX]</td>\n",
       "      <td>[MSFT, DPZ, DIS]</td>\n",
       "    </tr>\n",
       "    <tr>\n",
       "      <th>2019-12-11</th>\n",
       "      <td>0.966239</td>\n",
       "      <td>0.336962</td>\n",
       "      <td>-1.0</td>\n",
       "      <td>-0.329926</td>\n",
       "      <td>0.333326</td>\n",
       "      <td>1.0</td>\n",
       "      <td>-0.837827</td>\n",
       "      <td>-0.970105</td>\n",
       "      <td>0.992720</td>\n",
       "      <td>-1.0</td>\n",
       "      <td>[NAT, SBUX]</td>\n",
       "      <td>[MSFT, COST, DIS]</td>\n",
       "    </tr>\n",
       "    <tr>\n",
       "      <th>2019-12-12</th>\n",
       "      <td>-0.333333</td>\n",
       "      <td>-0.534611</td>\n",
       "      <td>-1.0</td>\n",
       "      <td>-0.996364</td>\n",
       "      <td>-0.003636</td>\n",
       "      <td>1.0</td>\n",
       "      <td>-0.735904</td>\n",
       "      <td>-1.000000</td>\n",
       "      <td>0.303438</td>\n",
       "      <td>-1.0</td>\n",
       "      <td>[SBUX, MCD]</td>\n",
       "      <td>[DPZ, COST, DIS]</td>\n",
       "    </tr>\n",
       "  </tbody>\n",
       "</table>\n",
       "</div>"
      ],
      "text/plain": [
       "            MSFT_cum_zscore  AMZN_cum_zscore  NAT_cum_zscore  BAC_cum_zscore  \\\n",
       "Date                                                                           \n",
       "2019-12-06         0.666437         0.636771            -1.0        0.333333   \n",
       "2019-12-09         0.996349         0.666437            -1.0       -0.303438   \n",
       "2019-12-10         0.999756         0.666437            -1.0       -0.329704   \n",
       "2019-12-11         0.966239         0.336962            -1.0       -0.329926   \n",
       "2019-12-12        -0.333333        -0.534611            -1.0       -0.996364   \n",
       "\n",
       "            DPZ_cum_zscore  DIS_cum_zscore  KO_cum_zscore  MCD_cum_zscore  \\\n",
       "Date                                                                        \n",
       "2019-12-06        1.000000             1.0      -1.000000       -1.000000   \n",
       "2019-12-09        1.000000             1.0      -0.970105       -0.999993   \n",
       "2019-12-10        1.000000             1.0      -0.837827       -0.999993   \n",
       "2019-12-11        0.333326             1.0      -0.837827       -0.970105   \n",
       "2019-12-12       -0.003636             1.0      -0.735904       -1.000000   \n",
       "\n",
       "            COST_cum_zscore  SBUX_cum_zscore buy_recommendation  \\\n",
       "Date                                                              \n",
       "2019-12-06         0.999993             -1.0         [NAT, MCD]   \n",
       "2019-12-09         0.999770             -1.0        [NAT, SBUX]   \n",
       "2019-12-10         0.995904             -1.0        [NAT, SBUX]   \n",
       "2019-12-11         0.992720             -1.0        [NAT, SBUX]   \n",
       "2019-12-12         0.303438             -1.0        [SBUX, MCD]   \n",
       "\n",
       "           sell_recommendation  \n",
       "Date                            \n",
       "2019-12-06    [COST, DPZ, DIS]  \n",
       "2019-12-09    [COST, DPZ, DIS]  \n",
       "2019-12-10    [MSFT, DPZ, DIS]  \n",
       "2019-12-11   [MSFT, COST, DIS]  \n",
       "2019-12-12    [DPZ, COST, DIS]  "
      ]
     },
     "execution_count": 281,
     "metadata": {},
     "output_type": "execute_result"
    }
   ],
   "source": [
    "df_cum_score.head()"
   ]
  },
  {
   "cell_type": "code",
   "execution_count": null,
   "id": "1e2ca3e4-2b7b-4377-932c-8c2ccbbe0dc1",
   "metadata": {},
   "outputs": [],
   "source": []
  },
  {
   "cell_type": "code",
   "execution_count": 344,
   "id": "373f67ff-bcbe-4fdd-937f-4f6d26998219",
   "metadata": {},
   "outputs": [],
   "source": [
    "X= np.linspace(0,100,100)"
   ]
  },
  {
   "cell_type": "code",
   "execution_count": 348,
   "id": "0ba8d721-04a3-42cd-8af8-fa238f546b80",
   "metadata": {},
   "outputs": [
    {
     "data": {
      "text/plain": [
       "array([  0.        ,   1.01010101,   2.02020202,   3.03030303,\n",
       "         4.04040404,   5.05050505,   6.06060606,   7.07070707,\n",
       "         8.08080808,   9.09090909,  10.1010101 ,  11.11111111,\n",
       "        12.12121212,  13.13131313,  14.14141414,  15.15151515,\n",
       "        16.16161616,  17.17171717,  18.18181818,  19.19191919,\n",
       "        20.2020202 ,  21.21212121,  22.22222222,  23.23232323,\n",
       "        24.24242424,  25.25252525,  26.26262626,  27.27272727,\n",
       "        28.28282828,  29.29292929,  30.3030303 ,  31.31313131,\n",
       "        32.32323232,  33.33333333,  34.34343434,  35.35353535,\n",
       "        36.36363636,  37.37373737,  38.38383838,  39.39393939,\n",
       "        40.4040404 ,  41.41414141,  42.42424242,  43.43434343,\n",
       "        44.44444444,  45.45454545,  46.46464646,  47.47474747,\n",
       "        48.48484848,  49.49494949,  50.50505051,  51.51515152,\n",
       "        52.52525253,  53.53535354,  54.54545455,  55.55555556,\n",
       "        56.56565657,  57.57575758,  58.58585859,  59.5959596 ,\n",
       "        60.60606061,  61.61616162,  62.62626263,  63.63636364,\n",
       "        64.64646465,  65.65656566,  66.66666667,  67.67676768,\n",
       "        68.68686869,  69.6969697 ,  70.70707071,  71.71717172,\n",
       "        72.72727273,  73.73737374,  74.74747475,  75.75757576,\n",
       "        76.76767677,  77.77777778,  78.78787879,  79.7979798 ,\n",
       "        80.80808081,  81.81818182,  82.82828283,  83.83838384,\n",
       "        84.84848485,  85.85858586,  86.86868687,  87.87878788,\n",
       "        88.88888889,  89.8989899 ,  90.90909091,  91.91919192,\n",
       "        92.92929293,  93.93939394,  94.94949495,  95.95959596,\n",
       "        96.96969697,  97.97979798,  98.98989899, 100.        ])"
      ]
     },
     "execution_count": 348,
     "metadata": {},
     "output_type": "execute_result"
    }
   ],
   "source": [
    "X"
   ]
  },
  {
   "cell_type": "code",
   "execution_count": 345,
   "id": "736350a7-6bb2-46e7-b4f4-bfae424df618",
   "metadata": {},
   "outputs": [],
   "source": [
    "y = np.vectorize(lambda x : math.erf(6-(12*(x/100))))"
   ]
  },
  {
   "cell_type": "code",
   "execution_count": 346,
   "id": "47afcaac-5227-447e-922f-0bc29ed00ac3",
   "metadata": {},
   "outputs": [],
   "source": [
    "_y = y(X)"
   ]
  },
  {
   "cell_type": "code",
   "execution_count": 347,
   "id": "58e82057-f1b0-4f2b-a1d8-816b9fae09d0",
   "metadata": {},
   "outputs": [
    {
     "data": {
      "text/plain": [
       "array([ 1.        ,  1.        ,  1.        ,  1.        ,  1.        ,\n",
       "        1.        ,  1.        ,  1.        ,  1.        ,  1.        ,\n",
       "        1.        ,  1.        ,  1.        ,  1.        ,  1.        ,\n",
       "        1.        ,  0.99999999,  0.99999997,  0.99999993,  0.99999983,\n",
       "        0.99999957,  0.99999897,  0.99999757,  0.99999444,  0.99998764,\n",
       "        0.99997328,  0.99994383,  0.99988519,  0.99977177,  0.99955876,\n",
       "        0.99917028,  0.99848224,  0.99729885,  0.99532227,  0.99211623,\n",
       "        0.98706622,  0.97934147,  0.96786665,  0.95131363,  0.92812486,\n",
       "        0.89657862,  0.85490253,  0.80143431,  0.73481899,  0.65422141,\n",
       "        0.55952373,  0.45147336,  0.33174894,  0.20292138,  0.06830298,\n",
       "       -0.06830298, -0.20292138, -0.33174894, -0.45147336, -0.55952373,\n",
       "       -0.65422141, -0.73481899, -0.80143431, -0.85490253, -0.89657862,\n",
       "       -0.92812486, -0.95131363, -0.96786665, -0.97934147, -0.98706622,\n",
       "       -0.99211623, -0.99532227, -0.99729885, -0.99848224, -0.99917028,\n",
       "       -0.99955876, -0.99977177, -0.99988519, -0.99994383, -0.99997328,\n",
       "       -0.99998764, -0.99999444, -0.99999757, -0.99999897, -0.99999957,\n",
       "       -0.99999983, -0.99999993, -0.99999997, -0.99999999, -1.        ,\n",
       "       -1.        , -1.        , -1.        , -1.        , -1.        ,\n",
       "       -1.        , -1.        , -1.        , -1.        , -1.        ,\n",
       "       -1.        , -1.        , -1.        , -1.        , -1.        ])"
      ]
     },
     "execution_count": 347,
     "metadata": {},
     "output_type": "execute_result"
    }
   ],
   "source": [
    "_y"
   ]
  },
  {
   "cell_type": "code",
   "execution_count": 310,
   "id": "5dd3a7fd-dceb-4142-9bad-4aa44142c69c",
   "metadata": {},
   "outputs": [],
   "source": [
    "import matplotlib.pyplot as plt\n"
   ]
  },
  {
   "cell_type": "code",
   "execution_count": 311,
   "id": "b14a369d-8023-449b-81d7-ac71111932c5",
   "metadata": {},
   "outputs": [
    {
     "data": {
      "image/png": "[encoded data removed]",
      "text/plain": [
       "<Figure size 1000x600 with 1 Axes>"
      ]
     },
     "metadata": {},
     "output_type": "display_data"
    }
   ],
   "source": [
    "plt.plot(X,_y)\n",
    "plt.show()"
   ]
  },
  {
   "cell_type": "code",
   "execution_count": 385,
   "id": "e5a9f9ef-ac79-404d-9c47-b4f541f347cb",
   "metadata": {},
   "outputs": [
    {
     "data": {
      "text/plain": [
       "Index(['MSFT_cum_zscore', 'AMZN_cum_zscore', 'NAT_cum_zscore',\n",
       "       'BAC_cum_zscore', 'DPZ_cum_zscore', 'DIS_cum_zscore', 'KO_cum_zscore',\n",
       "       'MCD_cum_zscore', 'COST_cum_zscore', 'SBUX_cum_zscore',\n",
       "       'buy_recommendation', 'sell_recommendation'],\n",
       "      dtype='object')"
      ]
     },
     "execution_count": 385,
     "metadata": {},
     "output_type": "execute_result"
    }
   ],
   "source": [
    "df_cum_score.columns"
   ]
  },
  {
   "cell_type": "code",
   "execution_count": 386,
   "id": "725b58ed-d669-4c0b-a6d2-cd02c4daadda",
   "metadata": {},
   "outputs": [
    {
     "data": {
      "text/plain": [
       "Index(['MSFT', 'AMZN', 'NAT', 'BAC', 'DPZ', 'DIS', 'KO', 'MCD', 'COST', 'SBUX',\n",
       "       'MSFT_performance_rank', 'AMZN_performance_rank',\n",
       "       'NAT_performance_rank', 'BAC_performance_rank', 'DPZ_performance_rank',\n",
       "       'DIS_performance_rank', 'KO_performance_rank', 'MCD_performance_rank',\n",
       "       'COST_performance_rank', 'SBUX_performance_rank',\n",
       "       'buy_recommendation_per', 'sell_recommendation_per'],\n",
       "      dtype='object')"
      ]
     },
     "execution_count": 386,
     "metadata": {},
     "output_type": "execute_result"
    }
   ],
   "source": [
    "df_performance_rank.columns"
   ]
  },
  {
   "cell_type": "code",
   "execution_count": 387,
   "id": "fba25fcf-7157-4236-8b6a-3c5d041dbbaa",
   "metadata": {},
   "outputs": [
    {
     "data": {
      "text/plain": [
       "Index(['MSFT_pct_change_20', 'AMZN_pct_change_20', 'NAT_pct_change_20',\n",
       "       'BAC_pct_change_20', 'DPZ_pct_change_20', 'DIS_pct_change_20',\n",
       "       'KO_pct_change_20', 'MCD_pct_change_20', 'COST_pct_change_20',\n",
       "       'SBUX_pct_change_20', '^TYX_pct_change_20', 'MSFT_return_std_20',\n",
       "       'MSFT_sharpe_ratio', 'AMZN_return_std_20', 'AMZN_sharpe_ratio',\n",
       "       'NAT_return_std_20', 'NAT_sharpe_ratio', 'BAC_return_std_20',\n",
       "       'BAC_sharpe_ratio', 'DPZ_return_std_20', 'DPZ_sharpe_ratio',\n",
       "       'DIS_return_std_20', 'DIS_sharpe_ratio', 'KO_return_std_20',\n",
       "       'KO_sharpe_ratio', 'MCD_return_std_20', 'MCD_sharpe_ratio',\n",
       "       'COST_return_std_20', 'COST_sharpe_ratio', 'SBUX_return_std_20',\n",
       "       'SBUX_sharpe_ratio', 'buy_recommendation_sharpe',\n",
       "       'sell_recommendation_sharpe'],\n",
       "      dtype='object')"
      ]
     },
     "execution_count": 387,
     "metadata": {},
     "output_type": "execute_result"
    }
   ],
   "source": [
    "df_sharpe.columns"
   ]
  },
  {
   "cell_type": "code",
   "execution_count": 397,
   "id": "d02cd1f3-82a9-4be4-ab44-5a4cc672948d",
   "metadata": {},
   "outputs": [],
   "source": [
    "df = df_cum_score.merge(df_sharpe, left_index=True, right_index=True).merge(df_performance_rank, left_index=True, right_index=True)"
   ]
  },
  {
   "cell_type": "code",
   "execution_count": 398,
   "id": "18753993-a5d5-46da-9f41-0290f8e2d652",
   "metadata": {},
   "outputs": [],
   "source": [
    "df = df[[col for col in df.columns if re.search(\".*recommendation.*\", col)]]"
   ]
  },
  {
   "cell_type": "code",
   "execution_count": 401,
   "id": "8cee2bef-0f26-4696-ae57-481f57ce3913",
   "metadata": {},
   "outputs": [
    {
     "data": {
      "text/plain": [
       "Index(['buy_recommendation_zscore', 'sell_recommendation_zscore',\n",
       "       'buy_recommendation_sharpe', 'sell_recommendation_sharpe',\n",
       "       'buy_recommendation_per', 'sell_recommendation_per'],\n",
       "      dtype='object')"
      ]
     },
     "execution_count": 401,
     "metadata": {},
     "output_type": "execute_result"
    }
   ],
   "source": [
    "df.columns"
   ]
  },
  {
   "cell_type": "code",
   "execution_count": 402,
   "id": "e73b8504-fab7-4112-9bb3-156485be3b29",
   "metadata": {},
   "outputs": [
    {
     "data": {
      "text/html": [
       "<div>\n",
       "<style scoped>\n",
       "    .dataframe tbody tr th:only-of-type {\n",
       "        vertical-align: middle;\n",
       "    }\n",
       "\n",
       "    .dataframe tbody tr th {\n",
       "        vertical-align: top;\n",
       "    }\n",
       "\n",
       "    .dataframe thead th {\n",
       "        text-align: right;\n",
       "    }\n",
       "</style>\n",
       "<table border=\"1\" class=\"dataframe\">\n",
       "  <thead>\n",
       "    <tr style=\"text-align: right;\">\n",
       "      <th></th>\n",
       "      <th>buy_recommendation_zscore</th>\n",
       "      <th>sell_recommendation_zscore</th>\n",
       "      <th>buy_recommendation_sharpe</th>\n",
       "      <th>sell_recommendation_sharpe</th>\n",
       "      <th>buy_recommendation_per</th>\n",
       "      <th>sell_recommendation_per</th>\n",
       "    </tr>\n",
       "    <tr>\n",
       "      <th>Date</th>\n",
       "      <th></th>\n",
       "      <th></th>\n",
       "      <th></th>\n",
       "      <th></th>\n",
       "      <th></th>\n",
       "      <th></th>\n",
       "    </tr>\n",
       "  </thead>\n",
       "  <tbody>\n",
       "    <tr>\n",
       "      <th>2019-12-06</th>\n",
       "      <td>[{'COST': 0.9999926345973377}, {'DPZ': 0.99999...</td>\n",
       "      <td>[{'NAT': -1.0}, {'MCD': -0.9999999999999926}]</td>\n",
       "      <td>[{'KO': 3.8372944140467844}, {'DIS': 4.9754078...</td>\n",
       "      <td>[{'COST': 1.122056944038532}, {'AMZN': 1.62234...</td>\n",
       "      <td>[{'MSF': 145.4372100830078}, {'DI': 145.631912...</td>\n",
       "      <td>[{'AMZN': -2.8088593663403802}, {'DPZ': -2.697...</td>\n",
       "    </tr>\n",
       "    <tr>\n",
       "      <th>2019-12-09</th>\n",
       "      <td>[{'COST': 0.9997702581257896}, {'DPZ': 0.99999...</td>\n",
       "      <td>[{'NAT': -1.0}, {'SBUX': -0.9999999999924244}]</td>\n",
       "      <td>[{'KO': 3.866098609284175}, {'SBUX': 4.2410618...</td>\n",
       "      <td>[{'MCD': 2.093043185521019}, {'BAC': 2.2352275...</td>\n",
       "      <td>[{'DI': 144.20184326171875}, {'MSF': 145.06343...</td>\n",
       "      <td>[{'DIS': -3.0161965425422723}, {'DPZ': -2.6818...</td>\n",
       "    </tr>\n",
       "    <tr>\n",
       "      <th>2019-12-10</th>\n",
       "      <td>[{'MSFT': 0.9997557683697859}, {'DPZ': 0.99999...</td>\n",
       "      <td>[{'NAT': -0.9999999999962011}, {'SBUX': -0.999...</td>\n",
       "      <td>[{'SBUX': 4.428792132022334}, {'DIS': 4.540825...</td>\n",
       "      <td>[{'NAT': 2.4280057398202164}, {'MCD': 2.620595...</td>\n",
       "      <td>[{'DI': 144.0933380126953}, {'MSF': 144.843017...</td>\n",
       "      <td>[{'AMZN': -1.7680423039410036}, {'DIS': -1.697...</td>\n",
       "    </tr>\n",
       "    <tr>\n",
       "      <th>2019-12-11</th>\n",
       "      <td>[{'MSFT': 0.9662386553229071}, {'COST': 0.9927...</td>\n",
       "      <td>[{'NAT': -0.9999999990406004}, {'SBUX': -0.999...</td>\n",
       "      <td>[{'SBUX': 4.20583679182492}, {'DIS': 4.2963861...</td>\n",
       "      <td>[{'NAT': 2.0369108215531715}, {'MCD': 2.530759...</td>\n",
       "      <td>[{'MSF': 145.3892822265625}, {'DI': 145.562866...</td>\n",
       "      <td>[{'AMZN': -0.6845042468372208}, {'KO': -0.6302...</td>\n",
       "    </tr>\n",
       "    <tr>\n",
       "      <th>2019-12-12</th>\n",
       "      <td>[{'DPZ': -0.003636499450972367}, {'COST': 0.30...</td>\n",
       "      <td>[{'SBUX': -1.0}, {'MCD': -0.9999999999999926}]</td>\n",
       "      <td>[{'SBUX': 2.643103248577448}, {'MSFT': 2.79183...</td>\n",
       "      <td>[{'COST': -0.26880207436692766}, {'DIS': 0.179...</td>\n",
       "      <td>[{'DI': 145.73052978515625}, {'MSF': 146.86521...</td>\n",
       "      <td>[{'KO': -0.09236577893616049}, {'DIS': 0.21656...</td>\n",
       "    </tr>\n",
       "  </tbody>\n",
       "</table>\n",
       "</div>"
      ],
      "text/plain": [
       "                                    buy_recommendation_zscore  \\\n",
       "Date                                                            \n",
       "2019-12-06  [{'COST': 0.9999926345973377}, {'DPZ': 0.99999...   \n",
       "2019-12-09  [{'COST': 0.9997702581257896}, {'DPZ': 0.99999...   \n",
       "2019-12-10  [{'MSFT': 0.9997557683697859}, {'DPZ': 0.99999...   \n",
       "2019-12-11  [{'MSFT': 0.9662386553229071}, {'COST': 0.9927...   \n",
       "2019-12-12  [{'DPZ': -0.003636499450972367}, {'COST': 0.30...   \n",
       "\n",
       "                                   sell_recommendation_zscore  \\\n",
       "Date                                                            \n",
       "2019-12-06      [{'NAT': -1.0}, {'MCD': -0.9999999999999926}]   \n",
       "2019-12-09     [{'NAT': -1.0}, {'SBUX': -0.9999999999924244}]   \n",
       "2019-12-10  [{'NAT': -0.9999999999962011}, {'SBUX': -0.999...   \n",
       "2019-12-11  [{'NAT': -0.9999999990406004}, {'SBUX': -0.999...   \n",
       "2019-12-12     [{'SBUX': -1.0}, {'MCD': -0.9999999999999926}]   \n",
       "\n",
       "                                    buy_recommendation_sharpe  \\\n",
       "Date                                                            \n",
       "2019-12-06  [{'KO': 3.8372944140467844}, {'DIS': 4.9754078...   \n",
       "2019-12-09  [{'KO': 3.866098609284175}, {'SBUX': 4.2410618...   \n",
       "2019-12-10  [{'SBUX': 4.428792132022334}, {'DIS': 4.540825...   \n",
       "2019-12-11  [{'SBUX': 4.20583679182492}, {'DIS': 4.2963861...   \n",
       "2019-12-12  [{'SBUX': 2.643103248577448}, {'MSFT': 2.79183...   \n",
       "\n",
       "                                   sell_recommendation_sharpe  \\\n",
       "Date                                                            \n",
       "2019-12-06  [{'COST': 1.122056944038532}, {'AMZN': 1.62234...   \n",
       "2019-12-09  [{'MCD': 2.093043185521019}, {'BAC': 2.2352275...   \n",
       "2019-12-10  [{'NAT': 2.4280057398202164}, {'MCD': 2.620595...   \n",
       "2019-12-11  [{'NAT': 2.0369108215531715}, {'MCD': 2.530759...   \n",
       "2019-12-12  [{'COST': -0.26880207436692766}, {'DIS': 0.179...   \n",
       "\n",
       "                                       buy_recommendation_per  \\\n",
       "Date                                                            \n",
       "2019-12-06  [{'MSF': 145.4372100830078}, {'DI': 145.631912...   \n",
       "2019-12-09  [{'DI': 144.20184326171875}, {'MSF': 145.06343...   \n",
       "2019-12-10  [{'DI': 144.0933380126953}, {'MSF': 144.843017...   \n",
       "2019-12-11  [{'MSF': 145.3892822265625}, {'DI': 145.562866...   \n",
       "2019-12-12  [{'DI': 145.73052978515625}, {'MSF': 146.86521...   \n",
       "\n",
       "                                      sell_recommendation_per  \n",
       "Date                                                           \n",
       "2019-12-06  [{'AMZN': -2.8088593663403802}, {'DPZ': -2.697...  \n",
       "2019-12-09  [{'DIS': -3.0161965425422723}, {'DPZ': -2.6818...  \n",
       "2019-12-10  [{'AMZN': -1.7680423039410036}, {'DIS': -1.697...  \n",
       "2019-12-11  [{'AMZN': -0.6845042468372208}, {'KO': -0.6302...  \n",
       "2019-12-12  [{'KO': -0.09236577893616049}, {'DIS': 0.21656...  "
      ]
     },
     "execution_count": 402,
     "metadata": {},
     "output_type": "execute_result"
    }
   ],
   "source": [
    "df.head()"
   ]
  },
  {
   "cell_type": "code",
   "execution_count": 413,
   "id": "c1fd7a90-9274-42e0-9a9d-f023d4afe66c",
   "metadata": {},
   "outputs": [],
   "source": [
    "df_slope = df_original.copy()"
   ]
  },
  {
   "cell_type": "code",
   "execution_count": 414,
   "id": "e076ca49-1535-4f68-bb0f-3570123c0462",
   "metadata": {},
   "outputs": [],
   "source": [
    "df_slope = df_slope[ticker]"
   ]
  },
  {
   "cell_type": "code",
   "execution_count": 415,
   "id": "97cac74e-c561-49a8-b1c2-7e0918b9f618",
   "metadata": {},
   "outputs": [],
   "source": [
    "for _t in ticker:\n",
    "    df_slope[f\"{_t}_shift1\"] = df_slope[f\"{_t}\"].shift(1)\n",
    "    df_slope[f\"{_t}_shift6\"] = df_slope[f\"{_t}\"].shift(6)\n",
    "    df_slope[f\"{_t}_shift7\"] = df_slope[f\"{_t}\"].shift(7)\n",
    "    df_slope[f\"{_t}_slope\"] = ((df_slope[f\"{_t}\"] + df_slope[f\"{_t}_shift1\"])-(df_slope[f\"{_t}_shift6\"] + df_slope[f\"{_t}_shift7\"]))/(2*df_slope[f\"{_t}\"] )\n",
    "    "
   ]
  },
  {
   "cell_type": "code",
   "execution_count": 416,
   "id": "e5be0662-4816-4540-9ae2-091bbb5326bf",
   "metadata": {},
   "outputs": [],
   "source": [
    "df_slope.dropna(inplace=True)"
   ]
  },
  {
   "cell_type": "code",
   "execution_count": 417,
   "id": "c6beba21-682a-43a2-9562-ca7c164109eb",
   "metadata": {},
   "outputs": [],
   "source": [
    "df_slope = df_slope[[col for col in df_slope.columns if re.search(f\".*slope.*\", col)]]"
   ]
  },
  {
   "cell_type": "code",
   "execution_count": 459,
   "id": "453ad3f0-f3b3-47a9-9f2d-a923d668b6a1",
   "metadata": {},
   "outputs": [
    {
     "data": {
      "text/plain": [
       "Date\n",
       "2024-10-24    424.730011\n",
       "2024-10-25    428.149994\n",
       "2024-10-28    426.589996\n",
       "2024-10-29    431.950012\n",
       "2024-10-30    432.529999\n",
       "2024-10-31    406.350006\n",
       "2024-11-01    410.369995\n",
       "2024-11-04    408.459991\n",
       "2024-11-05    411.459991\n",
       "2024-11-06    420.179993\n",
       "Name: MSFT, dtype: float64"
      ]
     },
     "execution_count": 459,
     "metadata": {},
     "output_type": "execute_result"
    }
   ],
   "source": [
    "df_original[\"MSFT\"][-10:]"
   ]
  },
  {
   "cell_type": "code",
   "execution_count": 454,
   "id": "a4de07da-991b-4aa4-8a77-c622f7a2a18a",
   "metadata": {},
   "outputs": [
    {
     "data": {
      "text/plain": [
       "Date\n",
       "2024-10-10   -0.005435\n",
       "2024-10-11   -0.001814\n",
       "2024-10-14    0.003412\n",
       "2024-10-15    0.014663\n",
       "2024-10-16    0.012749\n",
       "2024-10-17    0.000804\n",
       "2024-10-18    0.001889\n",
       "2024-10-21    0.005707\n",
       "2024-10-22    0.012666\n",
       "2024-10-23    0.016757\n",
       "2024-10-24    0.017034\n",
       "2024-10-25    0.023403\n",
       "2024-10-28    0.023278\n",
       "2024-10-29    0.025003\n",
       "2024-10-30    0.021027\n",
       "2024-10-31   -0.016279\n",
       "2024-11-01   -0.039732\n",
       "2024-11-04   -0.041681\n",
       "2024-11-05   -0.042313\n",
       "2024-11-06   -0.032010\n",
       "Name: MSFT_slope, dtype: float64"
      ]
     },
     "execution_count": 454,
     "metadata": {},
     "output_type": "execute_result"
    }
   ],
   "source": [
    "df_slope[\"MSFT_slope\"][-20:]"
   ]
  },
  {
   "cell_type": "code",
   "execution_count": 424,
   "id": "12a357c0-1929-49b6-bf36-1fb025731894",
   "metadata": {},
   "outputs": [],
   "source": [
    "# import seaborn as sns\n",
    "# import matplotlib.pyplot as plt\n",
    "# %matplotlib inline\n",
    "# sns.set_style('darkgrid')"
   ]
  },
  {
   "cell_type": "code",
   "execution_count": 457,
   "id": "75b1d6ce-8c9b-49c6-8628-7763e4d2f01d",
   "metadata": {},
   "outputs": [
    {
     "data": {
      "text/plain": [
       "[<matplotlib.lines.Line2D at 0x7495ca56b7a0>]"
      ]
     },
     "execution_count": 457,
     "metadata": {},
     "output_type": "execute_result"
    }
   ],
   "source": [
    "plt.plot(df_original[-10:].index, \"MSFT\", data=df_original[-10:])"
   ]
  },
  {
   "cell_type": "code",
   "execution_count": 458,
   "id": "22d7e52c-4e7e-4870-a78a-27dc7c0db315",
   "metadata": {},
   "outputs": [
    {
     "data": {
      "image/png": "[encoded data removed]",
      "text/plain": [
       "<Figure size 1000x600 with 1 Axes>"
      ]
     },
     "metadata": {},
     "output_type": "display_data"
    }
   ],
   "source": [
    "plt.show()"
   ]
  }
 ],
 "metadata": {
  "kernelspec": {
   "display_name": "Python 3 (ipykernel)",
   "language": "python",
   "name": "python3"
  },
  "language_info": {
   "codemirror_mode": {
    "name": "ipython",
    "version": 3
   },
   "file_extension": ".py",
   "mimetype": "text/x-python",
   "name": "python",
   "nbconvert_exporter": "python",
   "pygments_lexer": "ipython3",
   "version": "3.12.2"
  }
 },
 "nbformat": 4,
 "nbformat_minor": 5
}
