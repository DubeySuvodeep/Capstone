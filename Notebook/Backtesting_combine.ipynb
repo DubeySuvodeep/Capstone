{
 "cells": [
  {
   "cell_type": "code",
   "execution_count": 1,
   "id": "cd4ebd67-a601-4def-9aa2-ebc0edc1d44b",
   "metadata": {},
   "outputs": [
    {
     "name": "stderr",
     "output_type": "stream",
     "text": [
      "/home/diti/miniconda3/envs/devbox/lib/python3.12/site-packages/telegram/utils/request.py:49: UserWarning: python-telegram-bot is using upstream urllib3. This is allowed but not supported by python-telegram-bot maintainers.\n",
      "  warnings.warn(\n"
     ]
    }
   ],
   "source": [
    "import os, sys\n",
    "import yfinance as yf\n",
    "# import ta\n",
    "import pandas as pd\n",
    "import numpy as np\n",
    "import vectorbt as vbt\n",
    "from datetime import date, timedelta, datetime\n",
    "from itertools import product\n",
    "from IPython.display import clear_output\n",
    "import matplotlib.pyplot as mp\n",
    "from csv import writer\n",
    "import warnings"
   ]
  },
  {
   "cell_type": "code",
   "execution_count": 2,
   "id": "fba1bb73-e87d-459e-863a-3f9699f530c3",
   "metadata": {},
   "outputs": [],
   "source": [
    "warnings.filterwarnings('ignore')"
   ]
  },
  {
   "cell_type": "markdown",
   "id": "25cd2016-9ea3-4e11-829a-6fb3d8148b49",
   "metadata": {},
   "source": [
    "Strategies\n",
    "\n",
    "RSI and Moving Average Crossover Strategy Indicators: \\\n",
    "1. RSI (21), 5 Exponential Moving Average (EMA), 12 Exponential Moving Average (EMA).\n",
    "2. Entry Rules:Buy Signal: When the 5EMA crosses above the 12EMA and the RSI crosses above the 50 level.\n",
    "3. Sell Signal: When the 5EMA crosses below the 12EMA and the RSI crosses below the 50 level.\n",
    "4. Stop Loss/Take Profit: Set a stop loss of 15 pips and a take profit of 30 pips.\n",
    "5. Example: If you are trading EUR/USD on a 30-minute chart and the 5EMA crosses above the 12EMA while the RSI crosses above 50, you would enter a buy position. Conversely, if the 5EMA crosses below the 12EMA and the RSI crosses below 50, you would enter a sell position ."
   ]
  },
  {
   "cell_type": "code",
   "execution_count": 67,
   "id": "9012a39b-6ecd-43a7-9ddc-13183ee587e3",
   "metadata": {},
   "outputs": [],
   "source": [
    "def execute_main():\n",
    "    # dt_range = pd.date_range('2019-12-31', '2020-12-31', freq='6m') \n",
    "    # define start and end date\n",
    "    end_date = datetime.now()-timedelta(days=30)\n",
    "    start_date = end_date - timedelta(days=390)\n",
    "\n",
    "    # extract data from yahoo finanace\n",
    "    btc_price = vbt.YFData.download(\n",
    "    [\"BTC-USD\", \"ETH-USD\"], #\"XMR-USD\", \"ADA-USD\"],\n",
    "    interval='1d',\n",
    "    start = start_date,\n",
    "    end = end_date,\n",
    "    missing_index='drop').get(\"Close\")\n",
    "\n",
    "    # Initialize a Indicator Factory using custom indicator\n",
    "    # Step2. Receipe how to create an indicator\n",
    "    ind = vbt.IndicatorFactory(\n",
    "        class_name = \"Combination\",\n",
    "        short_name = \"comb\",\n",
    "        input_names = [\"close\"],\n",
    "        param_names = [\"rsi_window\", \"ma_window\"],\n",
    "        output_names = [\"value\"]\n",
    "    ).from_apply_func(\n",
    "        custom_indicator,\n",
    "        rsi_window=[14, 20],\n",
    "        ma_window=[50, 60]\n",
    "    )\n",
    "\n",
    "    # Step3. execute the custom indicator with the given parameters\n",
    "    res = ind.run(\n",
    "        btc_price,\n",
    "        rsi_window=[10, 20, 30],\n",
    "        ma_window=[50, 60, 70]\n",
    "    )\n",
    "\n",
    "    return res\n",
    "\n",
    "    # Results\n",
    "    for _col in res.value.columns:\n",
    "        print(\"-------------------{}------------------------------\".format(_col))\n",
    "        _asset = res.value[_col].to_numpy()\n",
    "        _entry = np.where(_asset==1, True, False)\n",
    "        _exit = np.where(_asset==-1, True, False)\n",
    "        \n",
    "        pf = vbt.Portfolio.from_signals(btc_price[_col[2]], _entry, _exit)\n",
    "        print(pf.stats())\n",
    "        pf.plot(title=_col[2]).show()\n",
    "        print(\"----------------------------------------------------------\")"
   ]
  },
  {
   "cell_type": "code",
   "execution_count": 68,
   "id": "c450d252-c7b4-40d1-946c-d113938aee33",
   "metadata": {},
   "outputs": [],
   "source": [
    "# Step 1. Create a custom indicator\n",
    "def custom_indicator(close, rsi_window=14, ma_window=50):\n",
    "    rsi = vbt.RSI.run(close, window=rsi_window).rsi.to_numpy()\n",
    "    ma = vbt.MA.run(close, ma_window).ma.to_numpy()\n",
    "    # we will create a signal\n",
    "    # For example rsi between 35 and 70, and price will be above ma,we will buy\n",
    "    trend = np.where(rsi>70, -1, 0)\n",
    "    trend = np.where((rsi<30) & (close < ma), 1, trend)\n",
    "    return trend"
   ]
  },
  {
   "cell_type": "code",
   "execution_count": 69,
   "id": "d50158e4-6d8c-40de-ba06-578d5c4dd0d8",
   "metadata": {},
   "outputs": [],
   "source": [
    "res  = execute_main()"
   ]
  },
  {
   "cell_type": "code",
   "execution_count": 70,
   "id": "eb710f38-5e19-44b2-809b-4e7f4a7f8eab",
   "metadata": {},
   "outputs": [],
   "source": [
    "btc_usd_entries = res.value[10][50]['BTC-USD'][res.value[10][50]['BTC-USD']==1]\n"
   ]
  },
  {
   "cell_type": "code",
   "execution_count": 71,
   "id": "5d27926f-25f5-4826-a9e8-f0fcafccc102",
   "metadata": {},
   "outputs": [
    {
     "data": {
      "text/plain": [
       "Date\n",
       "2024-01-18 00:00:00+00:00    1\n",
       "2024-01-19 00:00:00+00:00    1\n",
       "2024-01-20 00:00:00+00:00    1\n",
       "2024-01-21 00:00:00+00:00    1\n",
       "2024-01-22 00:00:00+00:00    1\n",
       "2024-01-23 00:00:00+00:00    1\n",
       "2024-01-25 00:00:00+00:00    1\n",
       "2024-04-17 00:00:00+00:00    1\n",
       "2024-04-18 00:00:00+00:00    1\n",
       "2024-04-30 00:00:00+00:00    1\n",
       "2024-05-01 00:00:00+00:00    1\n",
       "2024-05-02 00:00:00+00:00    1\n",
       "2024-06-14 00:00:00+00:00    1\n",
       "2024-06-18 00:00:00+00:00    1\n",
       "2024-06-19 00:00:00+00:00    1\n",
       "2024-06-20 00:00:00+00:00    1\n",
       "2024-06-21 00:00:00+00:00    1\n",
       "2024-06-22 00:00:00+00:00    1\n",
       "2024-06-23 00:00:00+00:00    1\n",
       "2024-06-24 00:00:00+00:00    1\n",
       "2024-06-25 00:00:00+00:00    1\n",
       "2024-06-26 00:00:00+00:00    1\n",
       "2024-06-27 00:00:00+00:00    1\n",
       "2024-06-28 00:00:00+00:00    1\n",
       "2024-06-29 00:00:00+00:00    1\n",
       "2024-07-05 00:00:00+00:00    1\n",
       "2024-07-07 00:00:00+00:00    1\n",
       "2024-07-11 00:00:00+00:00    1\n",
       "2024-08-04 00:00:00+00:00    1\n",
       "2024-08-05 00:00:00+00:00    1\n",
       "2024-08-06 00:00:00+00:00    1\n",
       "2024-08-07 00:00:00+00:00    1\n",
       "2024-09-02 00:00:00+00:00    1\n",
       "2024-09-03 00:00:00+00:00    1\n",
       "2024-09-04 00:00:00+00:00    1\n",
       "2024-09-05 00:00:00+00:00    1\n",
       "2024-09-06 00:00:00+00:00    1\n",
       "2024-09-07 00:00:00+00:00    1\n",
       "2024-09-08 00:00:00+00:00    1\n",
       "Name: BTC-USD, dtype: int64"
      ]
     },
     "execution_count": 71,
     "metadata": {},
     "output_type": "execute_result"
    }
   ],
   "source": [
    "btc_usd_entries"
   ]
  },
  {
   "cell_type": "code",
   "execution_count": 77,
   "id": "caeaeb20-adee-46b9-aea1-d4076bcca913",
   "metadata": {},
   "outputs": [],
   "source": [
    "df = pd.DataFrame({'a':[1,2,3,4], 'b':[3,5,6,7]})"
   ]
  },
  {
   "cell_type": "code",
   "execution_count": 78,
   "id": "93b21744-e081-4c34-a473-9c78fe8eddb4",
   "metadata": {},
   "outputs": [
    {
     "data": {
      "text/html": [
       "<div>\n",
       "<style scoped>\n",
       "    .dataframe tbody tr th:only-of-type {\n",
       "        vertical-align: middle;\n",
       "    }\n",
       "\n",
       "    .dataframe tbody tr th {\n",
       "        vertical-align: top;\n",
       "    }\n",
       "\n",
       "    .dataframe thead th {\n",
       "        text-align: right;\n",
       "    }\n",
       "</style>\n",
       "<table border=\"1\" class=\"dataframe\">\n",
       "  <thead>\n",
       "    <tr style=\"text-align: right;\">\n",
       "      <th></th>\n",
       "      <th>a</th>\n",
       "      <th>b</th>\n",
       "    </tr>\n",
       "  </thead>\n",
       "  <tbody>\n",
       "    <tr>\n",
       "      <th>0</th>\n",
       "      <td>1</td>\n",
       "      <td>3</td>\n",
       "    </tr>\n",
       "    <tr>\n",
       "      <th>1</th>\n",
       "      <td>2</td>\n",
       "      <td>5</td>\n",
       "    </tr>\n",
       "    <tr>\n",
       "      <th>2</th>\n",
       "      <td>3</td>\n",
       "      <td>6</td>\n",
       "    </tr>\n",
       "    <tr>\n",
       "      <th>3</th>\n",
       "      <td>4</td>\n",
       "      <td>7</td>\n",
       "    </tr>\n",
       "  </tbody>\n",
       "</table>\n",
       "</div>"
      ],
      "text/plain": [
       "   a  b\n",
       "0  1  3\n",
       "1  2  5\n",
       "2  3  6\n",
       "3  4  7"
      ]
     },
     "execution_count": 78,
     "metadata": {},
     "output_type": "execute_result"
    }
   ],
   "source": [
    "df"
   ]
  }
 ],
 "metadata": {
  "kernelspec": {
   "display_name": "Python 3 (ipykernel)",
   "language": "python",
   "name": "python3"
  },
  "language_info": {
   "codemirror_mode": {
    "name": "ipython",
    "version": 3
   },
   "file_extension": ".py",
   "mimetype": "text/x-python",
   "name": "python",
   "nbconvert_exporter": "python",
   "pygments_lexer": "ipython3",
   "version": "3.12.2"
  }
 },
 "nbformat": 4,
 "nbformat_minor": 5
}
