{
 "cells": [
  {
   "cell_type": "markdown",
   "id": "2d785d38-3f96-44f8-9414-8a62af73bae6",
   "metadata": {},
   "source": [
    "#### Import Libraries"
   ]
  },
  {
   "cell_type": "code",
   "execution_count": 1,
   "id": "81e24222-8182-4709-b0df-1596ce3e6bf6",
   "metadata": {},
   "outputs": [
    {
     "name": "stderr",
     "output_type": "stream",
     "text": [
      "/home/diti/miniconda3/envs/devbox/lib/python3.12/site-packages/telegram/utils/request.py:49: UserWarning: python-telegram-bot is using upstream urllib3. This is allowed but not supported by python-telegram-bot maintainers.\n",
      "  warnings.warn(\n"
     ]
    }
   ],
   "source": [
    "import os, sys\n",
    "import yfinance as yf\n",
    "# import ta\n",
    "import pandas as pd\n",
    "import numpy as np\n",
    "import vectorbt as vbt\n",
    "from datetime import date, timedelta, datetime\n",
    "from itertools import product\n",
    "from IPython.display import clear_output\n",
    "import matplotlib.pyplot as plt\n",
    "from csv import writer\n",
    "import warnings\n",
    "import talib as ta\n",
    "import math\n",
    "import re\n",
    "from warnings import simplefilter\n",
    "simplefilter(action=\"ignore\", category=pd.errors.PerformanceWarning)"
   ]
  },
  {
   "cell_type": "code",
   "execution_count": 2,
   "id": "2967d542-b4b8-4fbb-8241-cf59a2a58b0d",
   "metadata": {},
   "outputs": [],
   "source": [
    "def print_exception_detail(err, *args, **kwargs):\n",
    "    exc_type, exc_obj, exc_tb = sys.exc_info()\n",
    "    if len(args):\n",
    "        for _arg in args:\n",
    "            print(_arg)\n",
    "    print(f\"Error Message: {err}\")\n",
    "    print(f\"Error at line number: {exc_tb.tb_lineno}\")"
   ]
  },
  {
   "cell_type": "markdown",
   "id": "e18e63e1-431c-49e3-8861-488cd7159ed1",
   "metadata": {},
   "source": [
    "#### Tickers of S&P100 and Treasury Bond Rates of 1day frequency"
   ]
  },
  {
   "cell_type": "code",
   "execution_count": 3,
   "id": "e4eabed4-82d8-4010-9b42-5b29a741403f",
   "metadata": {},
   "outputs": [],
   "source": [
    "treasury_bond = [\"^TYX\"]\n",
    "smp100 = [\"^OEX\"]\n",
    "\n",
    "ticker = [\"NVDA\",\"AAPL\",\"MSFT\",\"AMZN\",\"GOOGL\",\"GOOG\",\"META\",\"TSLA\",\"AVGO\",\"COST\",\"NFLX\",\"ASML\",\"TMUS\",\"AMD\",\"CSCO\",\"PEP\",\"ADBE\",\"LIN\",\"AZN\",\"TXN\",\"QCOM\t\",\"INTU\",\"ISRG\",\"AMGN\t\",\"CMCSA\",\"PDD\",\"BKNG\",\"AMAT\",\"ARM\",\"HON\",\"VRTX\",\"PANW\",\"ADP\",\"MU\",\"GILD\",\"ADI\",\"SBUX\",\"MELI\",\"INTC\",\"LRCX\",\"KLAC\",\"MDLZ\",\"ABNB\",\"REGN\",\"CTAS\",\"SNPS\",\"CDNS\",\"PYPL\",\"CRWD\",\"MRVL\",\"MAR\",\"CEG\",\"CSX\",\"ORLY\",\"DASH\",\"WDAY\",\"CHTR\",\"ADSK\",\"FTNT\",\"TTD\",\"ROP\",\"PCAR\",\"NXPI\",\"TEAM\",\"FANG\",\"MNST\",\"CPRT\",\"PAYX\",\"AEP\",\"ODFL\",\"ROST\",\"FAST\",\"KDP\",\"DDOG\",\"EA\",\"BKR\",\"KHC\",\"MCHP\",\"VRSK\",\"GEHC\",\"CTSH\",\"LULU\",\"EXC\",\"XEL\",\"CCEP\",\"IDXX\",\"ON\",\"CSGP\",\"ZS\",\"TTWO\",\"ANSS\",\"CDW\",\"DXCM\",\"BIIB\",\"GFS\",\"ILMN\",\"MDB\",\"WBD\",\"MRNA\",\"DLTR\",\"WBA\"]\n",
    "ticker = [_t.strip() for _t in ticker]"
   ]
  },
  {
   "cell_type": "markdown",
   "id": "e24376a1-cee0-4981-8ce7-bdde95312124",
   "metadata": {},
   "source": [
    "##### Methods to download data"
   ]
  },
  {
   "cell_type": "code",
   "execution_count": 19,
   "id": "8de160f4-6e96-4cff-a097-559864c7087f",
   "metadata": {},
   "outputs": [],
   "source": [
    "def download_data(ticker, interval='1d'):\n",
    "    # dt_range = pd.date_range('2019-12-31', '2020-12-31', freq='6m') \n",
    "    # define start and end date\n",
    "    # end_date = datetime.now()-timedelta(days=30)\n",
    "    # start_date = end_date - timedelta(days=390)\n",
    "\n",
    "    end_date = datetime.now() #- timedelta(days=30)\n",
    "    start_date = end_date - timedelta(days=1855)\n",
    "\n",
    "    # extract data from yahoo finanace\n",
    "    btc_price = vbt.YFData.download(\n",
    "    ticker,\n",
    "    interval=interval,\n",
    "    start = start_date,\n",
    "    end = end_date,\n",
    "    missing_index='drop').get(\"Close\")\n",
    "    df = pd.DataFrame(btc_price)\n",
    "    df.rename(columns={\"Close\":ticker}, inplace=True)\n",
    "    df.head()\n",
    "    df.index=df.index.strftime(\"%Y-%m-%d\")\n",
    "    df.index = pd.to_datetime(df.index)\n",
    "    return df"
   ]
  },
  {
   "cell_type": "code",
   "execution_count": 5,
   "id": "21a6155f-1d86-467a-b720-b454eeae15ef",
   "metadata": {},
   "outputs": [],
   "source": [
    "# df = pd.DataFrame()\n",
    "# for _t in ticker:\n",
    "#     try:\n",
    "#         if df.empty:\n",
    "#             df=download_data(_t)\n",
    "#         else:\n",
    "#             df1 = pd.DataFrame()\n",
    "#             df1 = download_data(_t)\n",
    "#             # per_chg = len(df.index.difference(df2.index)) #/len(df.index))*100\n",
    "#             # print(per_chg)\n",
    "#             # if per_chg<518:\n",
    "#             df = pd.merge(df, df1, left_index=True, right_index=True, how='inner')  # Only keep matching rows\n",
    "#     except Exception as err:\n",
    "#         print_exception_detail(err)"
   ]
  },
  {
   "cell_type": "code",
   "execution_count": 30,
   "id": "dc37a177-feee-4e58-aa4d-67bb9e39a877",
   "metadata": {},
   "outputs": [],
   "source": [
    "# # # Treasury bill data downloaded and percentage change on a window of 20\n",
    "# df_treasury = download_data(treasury_bond[0])\n",
    "\n",
    "# # # SMP 100 data download\n",
    "# df_smp100 = download_data(smp100[0])"
   ]
  },
  {
   "cell_type": "code",
   "execution_count": 31,
   "id": "13354609-999c-4441-ba05-e008330db239",
   "metadata": {},
   "outputs": [],
   "source": [
    "# # # Merge ticker price with treasury bill and smp100 \n",
    "\n",
    "# df = pd.merge(df, df_treasury, left_index=True, right_index=True, how=\"inner\")\n",
    "# df = pd.merge(df, df_smp100, left_index=True, right_index=True, how=\"inner\")"
   ]
  },
  {
   "cell_type": "code",
   "execution_count": 42,
   "id": "7f3b1010-0e27-4a6d-b31b-1e6045a01049",
   "metadata": {},
   "outputs": [],
   "source": [
    "# if \"^TYX_x\" in df.columns:\n",
    "#     df.drop(columns=[\"^TYX_x\"], inplace=True)\n",
    "# if \"^TYX_y\" in df.columns:\n",
    "#     df.drop(columns=[\"^TYX_y\"], inplace=True)\n",
    "\n",
    "# df_treasury[f\"{treasury_bond[0]}_pct_change_20\"] = df_treasury[f\"{treasury_bond[0]}\"].pct_change(20)"
   ]
  },
  {
   "cell_type": "markdown",
   "id": "e3692456-fe89-470e-a5d9-ca00ac4f11e0",
   "metadata": {},
   "source": [
    "##### Percentile Method\n",
    "\n",
    "$\n",
    " \\frac{rank of an element}{total number of element}\\,* 100 \n",
    "$"
   ]
  },
  {
   "cell_type": "code",
   "execution_count": 10,
   "id": "92478d79-afb3-425d-bfcc-704e8b237264",
   "metadata": {},
   "outputs": [],
   "source": [
    "def percentile(window):\n",
    "    index = window.index[-1]\n",
    "    window = window.rank(method=\"min\", ascending=True).apply(lambda x: (x/20)*100)\n",
    "    return window.loc[index]"
   ]
  },
  {
   "cell_type": "markdown",
   "id": "a68f6577-1337-41f1-a819-0a49f1ca26f5",
   "metadata": {},
   "source": [
    "### Indicator\n",
    "\n",
    "##### There are two sets of indicators used\n",
    "1. ##### For timing the entry and exit; RSI, Stochastic and Bollingier\n",
    "2. ##### For selection of best stocks; Performance Rank and Sharpe Ratio\n",
    "3. ##### As an additional support to our decision; Sentiment of S&P and Slope of the assets for last 1 or 2 weeks\n",
    "\n",
    "#### Stochastic Indicator\n",
    "\n",
    "Stochastic indicator is a momentum indicator that uses support and resistance levels as an oscillator\n",
    "\n",
    "%K = (Current Close - Lowest Low)/(Highest High - Lowest Low) * 100\n",
    "%D = 3-day SMA of %K\n",
    "\n",
    "We will focus on the stock with %D-Slow turnaround in the bottom as they will signal an entry. \n",
    "For normalization of the historic %D, the percentile of value wrt last 20 days is evaluated.\n",
    "\n",
    "#### RSI Indicator\n",
    "\n",
    "\n",
    "#### Bollingier"
   ]
  },
  {
   "cell_type": "code",
   "execution_count": 34,
   "id": "660b5172-97f7-4f6f-a568-671099e3956a",
   "metadata": {},
   "outputs": [],
   "source": [
    "def stochastic_k(price, period):\n",
    "    index = price.index[-1]\n",
    "    sorted_price = price.sort_values(ascending=True)\n",
    "    closing_price = price.loc[index]\n",
    "    highest_high = sorted_price.iloc[-1]\n",
    "    lowest_low = sorted_price.iloc[0]\n",
    "    per_k = (closing_price - lowest_low)/(highest_high-lowest_low)*100\n",
    "    return per_k"
   ]
  },
  {
   "cell_type": "code",
   "execution_count": 35,
   "id": "d4f50110-55c0-4da4-8459-367950ff8e43",
   "metadata": {},
   "outputs": [],
   "source": [
    "# To evaluate zscore using a penalized version error function\n",
    "def zscore(x):\n",
    "    return (math.erf(6-(12*(x/100))))"
   ]
  },
  {
   "cell_type": "code",
   "execution_count": 36,
   "id": "18b8750b-01a2-450d-8175-2115977e2941",
   "metadata": {},
   "outputs": [],
   "source": [
    "def rank_asset(row):\n",
    "    size = len(row)\n",
    "    sorted_row = row.sort_values(ascending=True) \n",
    "    buy_recom = [{col[:col.find('_')]:sorted_row[col]} for col in list(sorted_row[math.floor(size*.75):].index)]\n",
    "    sell_recom = [{col[:col.find('_')]:sorted_row[col]} for col in list(sorted_row[:math.floor(size*.25)].index)]\n",
    "    return buy_recom, sell_recom"
   ]
  },
  {
   "cell_type": "code",
   "execution_count": 37,
   "id": "0d920523-dc66-4001-a83e-1957941198c0",
   "metadata": {},
   "outputs": [],
   "source": [
    "def return_interval(window, ticker, mov):\n",
    "    if mov==\"up\":\n",
    "        # print(window[f\"{ticker}_std_20\"].div(window[f\"{ticker}_mean_20\"]))\n",
    "        return ((window[f\"{ticker}_expected_upward_movement\"]-window[f\"{ticker}_std_by_mean\"]), (window[f\"{ticker}_expected_upward_movement\"]+window[f\"{ticker}_std_by_mean\"]))\n",
    "    else:\n",
    "        return ((window[f\"{ticker}_expected_downward_movement\"]-window[f\"{ticker}_std_by_mean\"]), (window[f\"{ticker}_expected_downward_movement\"]+window[f\"{ticker}_std_by_mean\"]))"
   ]
  },
  {
   "cell_type": "code",
   "execution_count": 59,
   "id": "3a0a7738-d266-464d-96bb-c17d444f4191",
   "metadata": {},
   "outputs": [
    {
     "name": "stdout",
     "output_type": "stream",
     "text": [
      "NVDA\n",
      "AAPL\n",
      "MSFT\n",
      "AMZN\n",
      "GOOGL\n",
      "GOOG\n",
      "META\n",
      "TSLA\n",
      "AVGO\n",
      "COST\n",
      "NFLX\n",
      "ASML\n",
      "TMUS\n",
      "AMD\n",
      "CSCO\n",
      "PEP\n",
      "ADBE\n",
      "LIN\n",
      "AZN\n",
      "TXN\n",
      "QCOM\n",
      "INTU\n",
      "ISRG\n",
      "AMGN\n",
      "CMCSA\n",
      "PDD\n",
      "BKNG\n",
      "AMAT\n",
      "ARM\n",
      "HON\n",
      "VRTX\n",
      "PANW\n",
      "ADP\n",
      "MU\n",
      "GILD\n",
      "ADI\n",
      "SBUX\n",
      "MELI\n",
      "INTC\n",
      "LRCX\n",
      "KLAC\n",
      "MDLZ\n",
      "ABNB\n",
      "REGN\n",
      "CTAS\n",
      "SNPS\n",
      "CDNS\n",
      "PYPL\n",
      "CRWD\n",
      "MRVL\n",
      "MAR\n",
      "CEG\n",
      "CSX\n",
      "ORLY\n",
      "DASH\n",
      "WDAY\n",
      "CHTR\n",
      "ADSK\n",
      "FTNT\n",
      "TTD\n",
      "ROP\n",
      "PCAR\n",
      "NXPI\n",
      "TEAM\n",
      "FANG\n",
      "MNST\n",
      "CPRT\n",
      "PAYX\n",
      "AEP\n",
      "ODFL\n",
      "ROST\n",
      "FAST\n",
      "KDP\n",
      "DDOG\n",
      "EA\n",
      "BKR\n",
      "KHC\n",
      "MCHP\n",
      "VRSK\n",
      "GEHC\n",
      "CTSH\n",
      "LULU\n",
      "EXC\n",
      "XEL\n",
      "CCEP\n",
      "IDXX\n",
      "ON\n",
      "CSGP\n",
      "ZS\n",
      "TTWO\n",
      "ANSS\n",
      "CDW\n",
      "DXCM\n",
      "BIIB\n",
      "GFS\n",
      "ILMN\n",
      "MDB\n",
      "WBD\n",
      "MRNA\n",
      "DLTR\n",
      "WBA\n"
     ]
    }
   ],
   "source": [
    "for _t in ticker:\n",
    "    try:\n",
    "        print(_t)\n",
    "        # # Technical Indicator\n",
    "        # # -------------------\n",
    "\n",
    "        # mean\n",
    "        df[f\"{_t}_mean_20\"]=df[f\"{_t}\"].rolling(window=20).mean()\n",
    "        \n",
    "        # # RSI of last n days\n",
    "        # df[f\"{_t}_rsi_20\"] = ta.RSI(df[_t], timeperiod=20)\n",
    "        # # Percentile of RSI value wrt last n days. This will give us the respective position\n",
    "        # df[f\"{_t}_rsi_20_percentile_last_20\"]=df[f\"{_t}_rsi_20\"].rolling(window=20).apply(percentile)\n",
    "\n",
    "        # # Stochastic of last n days\n",
    "        # df[f\"{_t}_sto_fast_20\"]=df[f\"{_t}\"].rolling(window=20).apply(lambda x: stochastic_k(x, 20))\n",
    "        # df[f\"{_t}_sto_slow_20\"]=ta.SMA(df[f\"{_t}_sto_fast_20\"],3)\n",
    "        # # Percentile of Stochastic slow value wrt last n days. This will give us the respective position\n",
    "        # df[f\"{_t}_sto_slow_20_percentile_last_20\"]=df[f\"{_t}_sto_slow_20\"].rolling(window=20).apply(percentile)\n",
    "\n",
    "        # # Bollingier Indicator for last n days\n",
    "        # df[f\"{_t}_sma_20\"] = ta.SMA(df[f\"{_t}\"],20)\n",
    "        # df[f\"{_t}_std_20\"] = df[f\"{_t}\"].rolling(window=20).std()\n",
    "        # # Lamda = (P(t) - SMA_20)/Std_20\n",
    "        # df[f\"{_t}_lamda_20\"] = (df[f\"{_t}\"] - df[f\"{_t}_sma_20\"])/df[f\"{_t}_std_20\"]\n",
    "        # # Percentile of lambda value wrt last n days. This will give us the respective position\n",
    "        # df[f\"{_t}_lamda_20_percentile_lst_20\"] = df[f\"{_t}_lamda_20\"].rolling(window=20).apply(percentile)\n",
    "\n",
    "        # # z- scores\n",
    "        # # ---------\n",
    "\n",
    "        # # z-score of RSI\n",
    "        # df[f\"{_t}_rsi_20_zscore\"] = df[f\"{_t}_rsi_20_percentile_last_20\"].apply(zscore)\n",
    "        # # z-score of Stochastic Slow\n",
    "        # df[f\"{_t}_sto_slow_20_zscore\"] = df[f\"{_t}_sto_slow_20_percentile_last_20\"].apply(zscore)\n",
    "        # # z-score of Lambda - a derived bollinger value\n",
    "        # df[f\"{_t}_lamda_20_zscore\"] = df[f\"{_t}_lamda_20_percentile_lst_20\"].apply(zscore)\n",
    "\n",
    "        # # Mean of z-scores of RSI, Stochastic slow and Lambda\n",
    "        # # z-score tends to 1 means indication of reversal at the bottom \n",
    "        # df[f\"{_t}_mean_zscore\"] = (df[f\"{_t}_rsi_20_zscore\"] + df[f\"{_t}_sto_slow_20_zscore\"] + df[f\"{_t}_lamda_20_zscore\"])/3\n",
    "\n",
    "        # # Selection Indicators\n",
    "        # # --------------------\n",
    "\n",
    "        # # Sharpe Ratio - This will be evaluated for long period\n",
    "        # df[f\"{_t}_pct_change_20\"] = df[f\"{_t}\"].pct_change(20)\n",
    "        # df[f\"{_t}_return_std_20\"] = df[f\"{_t}_pct_change_20\"].rolling(window=20).std()\n",
    "        df[f\"{_t}_sharpe_ratio_t\"] = (df[f\"{_t}_pct_change_20\"] - df[f\"{treasury_bond[0]}_pct_change_20\"])/df[f\"{_t}_return_std_20\"]\n",
    "        df[f\"{_t}_sharpe_ratio\"] = ((1 - (df[f\"{_t}_sharpe_ratio_t\"] - df[f\"{_t}_sharpe_ratio_t\"].min())/(df[f\"{_t}_sharpe_ratio_t\"].max() - df[f\"{_t}_sharpe_ratio_t\"].min()))*100).apply(zscore)\n",
    "\n",
    "        # # Performance Rank - This will be evaluated for last 7 days\n",
    "        df[f\"{_t}_performance_rank_t\"] = ((df[f\"{_t}\"] - df[f\"{_t}\"].shift(7))/df[f\"{_t}\"])*100\n",
    "        df[f\"{_t}_performance_rank\"] = ((1 - (df[f\"{_t}_performance_rank_t\"] - df[f\"{_t}_performance_rank_t\"].min())/(df[f\"{_t}_performance_rank_t\"].max() - df[f\"{_t}_performance_rank_t\"].min()))*100).apply(zscore)\n",
    "\n",
    "        # # Slope of stock at each timestamp; evaluated {[(P(t)+P(t-1))-(P(t-7)+P(t-8))]/2*P(t)}\n",
    "        # df[f\"{_t}_shift1\"] = df[f\"{_t}\"].shift(1)\n",
    "        # df[f\"{_t}_shift6\"] = df[f\"{_t}\"].shift(6)\n",
    "        # df[f\"{_t}_shift7\"] = df[f\"{_t}\"].shift(7)\n",
    "        # df[f\"{_t}_slope\"] = ((df[f\"{_t}\"] + df[f\"{_t}_shift1\"])-(df[f\"{_t}_shift6\"] + df[f\"{_t}_shift7\"]))/(2*df[f\"{_t}\"] )\n",
    "\n",
    "        # Percentage expected increase wrt to upper bollingier band\n",
    "        df[f\"{_t}_expected_upward_movement\"] = (((df[f\"{_t}_sma_20\"] + 2 * df[f\"{_t}_std_20\"])-(df[f\"{_t}\"]))/(df[f\"{_t}\"]))\n",
    "        df[f\"{_t}_expected_downward_movement\"] = (((df[f\"{_t}\"]) - (df[f\"{_t}_sma_20\"] - 2 * df[f\"{_t}_std_20\"]))/(df[f\"{_t}\"]))\n",
    "\n",
    "        # confidence interval i.e 1 std deviation\n",
    "        df[f\"{_t}_std_by_mean\"] = df[f\"{_t}_std_20\"].div(df[f\"{_t}_mean_20\"])\n",
    "        df[f\"{_t}_expected_upward_movement_interval\"] = df.apply(return_interval, args=(_t, \"up\"), axis=1)\n",
    "        df[f\"{_t}_expected_downward_movement_interval\"] = df.apply(return_interval, args=(_t, \"down\"), axis=1)\n",
    "\n",
    "        # Create three separate set : Top quartile set for buy and low quartile set for sell\n",
    "\n",
    "        # Set of stocks on mean z-score\n",
    "        df[[\"buy_recom_zscore\", \"sell_recom_zscore\"]] = \\\n",
    "                df[[col for col in df.columns if re.search(\".*mean_zscore$\", col)]].apply(rank_asset, axis=1, \\\n",
    "                        result_type='expand')\n",
    "        \n",
    "        # # Set of stocks on the sharpe ratio\n",
    "        df[[\"buy_recom_sharpe\", \"sell_recom_sharpe\"]] = \\\n",
    "                df[[col for col in df.columns if re.search(\".*sharpe_ratio$\", col)]].apply(rank_asset, axis=1, result_type='expand')\n",
    "        \n",
    "        # # Set of stocks on the sharpe ratio\n",
    "        df[[\"buy_recom_perf\", \"sell_recom_perf\"]] = \\\n",
    "                df[[col for col in df.columns if re.search(\".*performance_rank$\", col)]].apply(rank_asset, axis=1, result_type='expand')\n",
    "    except Exception as err:\n",
    "        print_exception_detail(err)\n",
    "        sys.exit()\n",
    "    "
   ]
  },
  {
   "cell_type": "code",
   "execution_count": 62,
   "id": "0de2a0d3-509a-4b7b-97f2-276f23096082",
   "metadata": {},
   "outputs": [],
   "source": [
    "# # Save the file\n",
    "# df.to_csv(\"out_2024_11_13_1251.csv\")"
   ]
  },
  {
   "cell_type": "code",
   "execution_count": 63,
   "id": "9ae5b24a-84ee-43a3-9ec9-aec7671b5639",
   "metadata": {},
   "outputs": [],
   "source": [
    "# df = pd.read_csv('out.csv', index_col='Date', parse_dates=True)\n",
    "# df.to_csv(\"out_en_utf.csv\", encoding='utf-8', index=False, header=True)"
   ]
  },
  {
   "cell_type": "code",
   "execution_count": 101,
   "id": "99f66839-1449-4455-bf6a-dab76e36e6c4",
   "metadata": {},
   "outputs": [
    {
     "name": "stdout",
     "output_type": "stream",
     "text": [
      "MDB\n",
      "MDB_rsi_20\n",
      "MDB_rsi_20_percentile_last_20\n",
      "MDB_sto_fast_20\n",
      "MDB_sto_slow_20\n",
      "MDB_sto_slow_20_percentile_last_20\n",
      "MDB_sma_20\n",
      "MDB_std_20\n",
      "MDB_lamda_20\n",
      "MDB_lamda_20_percentile_lst_20\n",
      "MDB_rsi_20_zscore\n",
      "MDB_sto_slow_20_zscore\n",
      "MDB_lamda_20_zscore\n",
      "MDB_mean_zscore\n",
      "MDB_pct_change_20\n",
      "MDB_return_std_20\n",
      "MDB_sharpe_ratio\n",
      "MDB_performance_rank\n",
      "MDB_shift1\n",
      "MDB_shift6\n",
      "MDB_shift7\n",
      "MDB_slope\n",
      "MDB_mean_20\n",
      "MDB_sharpe_ratio_t\n",
      "MDB_performance_rank_t\n",
      "MDB_expected_upward_movement\n",
      "MDB_expected_downward_movement\n",
      "MDB_std_by_mean\n",
      "MDB_expected_upward_movement_interval\n",
      "MDB_expected_downward_movement_interval\n"
     ]
    }
   ],
   "source": [
    "for i in df.columns:\n",
    "    if 'MDB' in i:\n",
    "        print(i)"
   ]
  },
  {
   "cell_type": "code",
   "execution_count": 65,
   "id": "5336f761-a74c-46ca-8046-346d39bf51ce",
   "metadata": {},
   "outputs": [],
   "source": [
    "df.dropna(inplace=True)"
   ]
  },
  {
   "cell_type": "code",
   "execution_count": 67,
   "id": "00df649d-b227-4876-8bac-8412062c629c",
   "metadata": {},
   "outputs": [
    {
     "data": {
      "text/html": [
       "<div>\n",
       "<style scoped>\n",
       "    .dataframe tbody tr th:only-of-type {\n",
       "        vertical-align: middle;\n",
       "    }\n",
       "\n",
       "    .dataframe tbody tr th {\n",
       "        vertical-align: top;\n",
       "    }\n",
       "\n",
       "    .dataframe thead th {\n",
       "        text-align: right;\n",
       "    }\n",
       "</style>\n",
       "<table border=\"1\" class=\"dataframe\">\n",
       "  <thead>\n",
       "    <tr style=\"text-align: right;\">\n",
       "      <th></th>\n",
       "      <th>NVDA_expected_upward_movement</th>\n",
       "      <th>NVDA_expected_upward_movement_interval</th>\n",
       "    </tr>\n",
       "    <tr>\n",
       "      <th>Date</th>\n",
       "      <th></th>\n",
       "      <th></th>\n",
       "    </tr>\n",
       "  </thead>\n",
       "  <tbody>\n",
       "    <tr>\n",
       "      <th>2024-11-01</th>\n",
       "      <td>0.075515</td>\n",
       "      <td>(0.044284086847466646, 0.1067457472070577)</td>\n",
       "    </tr>\n",
       "    <tr>\n",
       "      <th>2024-11-04</th>\n",
       "      <td>0.064724</td>\n",
       "      <td>(0.03789937202441962, 0.09154868878382574)</td>\n",
       "    </tr>\n",
       "    <tr>\n",
       "      <th>2024-11-05</th>\n",
       "      <td>0.036028</td>\n",
       "      <td>(0.01020047585651837, 0.06185573880491675)</td>\n",
       "    </tr>\n",
       "    <tr>\n",
       "      <th>2024-11-06</th>\n",
       "      <td>0.002424</td>\n",
       "      <td>(-0.024597816791777263, 0.029446590618765395)</td>\n",
       "    </tr>\n",
       "    <tr>\n",
       "      <th>2024-11-07</th>\n",
       "      <td>-0.007408</td>\n",
       "      <td>(-0.038283224925790074, 0.023467523557181885)</td>\n",
       "    </tr>\n",
       "  </tbody>\n",
       "</table>\n",
       "</div>"
      ],
      "text/plain": [
       "            NVDA_expected_upward_movement  \\\n",
       "Date                                        \n",
       "2024-11-01                       0.075515   \n",
       "2024-11-04                       0.064724   \n",
       "2024-11-05                       0.036028   \n",
       "2024-11-06                       0.002424   \n",
       "2024-11-07                      -0.007408   \n",
       "\n",
       "                   NVDA_expected_upward_movement_interval  \n",
       "Date                                                       \n",
       "2024-11-01     (0.044284086847466646, 0.1067457472070577)  \n",
       "2024-11-04     (0.03789937202441962, 0.09154868878382574)  \n",
       "2024-11-05     (0.01020047585651837, 0.06185573880491675)  \n",
       "2024-11-06  (-0.024597816791777263, 0.029446590618765395)  \n",
       "2024-11-07  (-0.038283224925790074, 0.023467523557181885)  "
      ]
     },
     "execution_count": 67,
     "metadata": {},
     "output_type": "execute_result"
    }
   ],
   "source": [
    "df[[\"NVDA_expected_upward_movement\", \"NVDA_expected_upward_movement_interval\"]].tail()"
   ]
  },
  {
   "cell_type": "markdown",
   "id": "a6a7dfc3-373c-4e74-931d-5038670d47a5",
   "metadata": {},
   "source": [
    "#### -------------------data preperation complete------------------------------------"
   ]
  },
  {
   "cell_type": "markdown",
   "id": "1a37c6d3-8233-47a4-be48-b054512b31d9",
   "metadata": {},
   "source": [
    "### Selection of Stocks\n",
    "### ----------------------------------------------------"
   ]
  },
  {
   "cell_type": "markdown",
   "id": "e29db529-d28c-40f4-aa57-5cf607218cee",
   "metadata": {},
   "source": [
    "#### set selected for portfolio stocks"
   ]
  },
  {
   "cell_type": "code",
   "execution_count": 70,
   "id": "1f78d731-5417-4315-a38e-cc4c61603305",
   "metadata": {},
   "outputs": [],
   "source": [
    "df[\"set_tech\"] = df[\"buy_recom_zscore\"].apply(lambda x : {list(_d.keys())[0] for _d in x})\n",
    "df[\"set_sharpe\"] = df[\"buy_recom_sharpe\"].apply(lambda x : {list(_d.keys())[0] for _d in x})\n",
    "df[\"set_perf\"] = df[\"buy_recom_perf\"].apply(lambda x : {list(_d.keys())[0] for _d in x})"
   ]
  },
  {
   "cell_type": "code",
   "execution_count": 71,
   "id": "c3fec81f-f9ed-48cd-8f96-3103ad150bba",
   "metadata": {},
   "outputs": [],
   "source": [
    "df[\"tech_inter_sharpe\"] = df[[\"set_tech\", \"set_sharpe\"]].apply(lambda x : x[\"set_tech\"].intersection(x[\"set_sharpe\"]), axis=1)\n",
    "df[\"tech_inter_perf\"] = df[[\"set_tech\", \"set_perf\"]].apply(lambda x : x[\"set_tech\"].intersection(x[\"set_perf\"]), axis=1)\n",
    "df[\"sharpe_inter_perf\"] = df[[\"set_sharpe\", \"set_perf\"]].apply(lambda x : x[\"set_sharpe\"].intersection(x[\"set_perf\"]), axis=1)\n",
    "df[\"tech_inter_sharpe_inter_perf\"] = df[[\"set_tech\",\"set_sharpe\",\"set_perf\"]].apply(lambda x : (x[\"set_tech\"].intersection(x[\"set_perf\"]).intersection(x[\"set_sharpe\"])), axis=1)"
   ]
  },
  {
   "cell_type": "markdown",
   "id": "98553117-83f5-4501-b434-fb7162b9224a",
   "metadata": {},
   "source": [
    "#### set of randomly selected stocks"
   ]
  },
  {
   "cell_type": "code",
   "execution_count": 72,
   "id": "17be2e8d-34b8-4d43-99b3-def801a88c95",
   "metadata": {},
   "outputs": [],
   "source": [
    "import random\n",
    "\n",
    "def return_rand_ticker(window, ticker, num_of_rand):\n",
    "    return random.sample(ticker, num_of_rand)\n",
    "    \n",
    "df[\"random_selection\"] = df.apply(return_rand_ticker, args=(ticker, 10), axis=1)"
   ]
  },
  {
   "cell_type": "code",
   "execution_count": 73,
   "id": "0c94330c-56f5-44a1-9ed9-a09a4ca8383c",
   "metadata": {},
   "outputs": [],
   "source": [
    "df.dropna(inplace=True)"
   ]
  },
  {
   "cell_type": "markdown",
   "id": "6eac7f11-b469-494d-bd79-2dc93188a6f9",
   "metadata": {},
   "source": [
    "#### Backtesting"
   ]
  },
  {
   "cell_type": "code",
   "execution_count": 106,
   "id": "de9b2be9-08f7-4547-a5b6-ad73d10d0ece",
   "metadata": {},
   "outputs": [],
   "source": [
    "blacklit_df = df.iloc[-120:]"
   ]
  },
  {
   "cell_type": "code",
   "execution_count": 107,
   "id": "f1d6d7ff-6528-4af0-8f54-530c91ca3b5f",
   "metadata": {},
   "outputs": [],
   "source": [
    "buy_recom_col = [col for col in df.columns if re.search(\".*buy_recom.*\", col)]\n",
    "set_col = [col for col in df.columns if re.search(\".*set.*\", col)]\n",
    "set_inter_col = [col for col in df.columns if re.search(\".*inter.*\", col)]\n",
    "score_col = [col for col in df.columns if re.search(\".*_mean_zscore.*|.*_performance_rank$|.*_sharpe_ratio$|.*slope$|.*expected.*\", col)]"
   ]
  },
  {
   "cell_type": "code",
   "execution_count": 104,
   "id": "7a92f3a8-e4ef-4381-bdbf-54d9b3e331a1",
   "metadata": {},
   "outputs": [],
   "source": [
    "# score_col"
   ]
  },
  {
   "cell_type": "code",
   "execution_count": 108,
   "id": "264cc3bd-d154-484b-b1bf-413887f9e580",
   "metadata": {},
   "outputs": [],
   "source": [
    "blacklit_df = blacklit_df[buy_recom_col+set_col+set_inter_col+score_col+ticker+smp100+[\"random_selection\"]]"
   ]
  },
  {
   "cell_type": "markdown",
   "id": "169bd103-aa60-4797-ba47-af91f4f0db98",
   "metadata": {},
   "source": [
    "Hierarchy of sets to be seen while searching for stocks:\n",
    "\n",
    "1. tech_inter_sharpe_inter_perf\n",
    "2. tech_inter_sharpe\n",
    "3. sharpe_inter_perf\n",
    "4. tech_inter_perf\n",
    "5. set_sharpe\n",
    "\n",
    "If User wants a portfolio of 10 stocks, the portfolio building logic would be\n",
    "\n",
    "1. find the number of stocks in the given hierarchy of sets, starting from top if we get stocks say `n`\n",
    "2. if `n`>10 : find the top 10 using cumulative score of (zscore + performance_rank + sharpe_ratio + slope + sentiment)\n",
    "3. if `n`==10: no further search required\n",
    "4. if `n`<10: take all the stocks from the current set, then look for the remaining stocks in the next set and repeat steps 1..4"
   ]
  },
  {
   "cell_type": "code",
   "execution_count": 84,
   "id": "4f282669-f722-4f26-be57-778e615a1a51",
   "metadata": {},
   "outputs": [],
   "source": [
    "from collections import OrderedDict"
   ]
  },
  {
   "cell_type": "code",
   "execution_count": 80,
   "id": "89d91904-d27d-4a0e-aaa5-df634ee14a06",
   "metadata": {},
   "outputs": [],
   "source": [
    "# check for \n",
    "num_of_stock = 10\n",
    "\n",
    "def return_view_and_interval(list_of_stock, window):\n",
    "    score_dict = {_l:0 for _l in list_of_stock}\n",
    "    # for k, v in score_dict.items():\n",
    "    for k in list_of_stock:\n",
    "        if window[f\"{k}_slope\"]>0:\n",
    "            score_dict[k] = score_dict[k] + window[f\"{k}_mean_zscore\"] + window[f\"{k}_sharpe_ratio\"] + window[f\"{k}_performance_rank\"]\n",
    "            score_dict[k] = window[f\"{k}_expected_upward_movement\"] * score_dict[k]/3\n",
    "        else:\n",
    "            del score_dict[k]\n",
    "    return score_dict"
   ]
  },
  {
   "cell_type": "code",
   "execution_count": 85,
   "id": "d94f7c0c-3511-4de7-9d55-39ce5a850ef9",
   "metadata": {},
   "outputs": [],
   "source": [
    "def return_portfolio_view_dict(window):\n",
    "    od = OrderedDict()\n",
    "    od['tech_inter_sharpe_inter_perf'] = window[\"tech_inter_sharpe_inter_perf\"]\n",
    "    od['tech_inter_sharpe'] = window[\"tech_inter_sharpe\"]\n",
    "    od['sharpe_inter_perf'] = window[\"sharpe_inter_perf\"]\n",
    "    od['tech_inter_perf'] = window[\"tech_inter_perf\"]\n",
    "    od['set_sharpe'] = window[\"set_sharpe\"]\n",
    "    \n",
    "    portfolio = []\n",
    "    \n",
    "    for key, value in od.items():\n",
    "        if value:\n",
    "            score_dict = return_view_and_interval(list(value), window)\n",
    "            sorted_stock = sorted(score_dict, key=score_dict.get, reverse=True)\n",
    "\n",
    "            if len(portfolio)>=10:\n",
    "                portfolio_dict = return_view_and_interval(portfolio, window)\n",
    "                return portfolio_dict\n",
    "            else:\n",
    "                len_diff = num_of_stock-len(portfolio)\n",
    "                if len_diff:\n",
    "                    portfolio.extend(sorted_stock[:len_diff])"
   ]
  },
  {
   "cell_type": "code",
   "execution_count": 144,
   "id": "d0477802-94d3-4741-99cf-74d90b1de8e3",
   "metadata": {},
   "outputs": [],
   "source": [
    "blacklit_df = blacklit_df.loc[:,~blacklit_df.columns.duplicated()].copy()"
   ]
  },
  {
   "cell_type": "code",
   "execution_count": 147,
   "id": "2aaaed1c-b84c-473c-8b18-4d5499e3750d",
   "metadata": {},
   "outputs": [],
   "source": [
    "def return_portfolio_interval_dict(window):\n",
    "    interval = {}\n",
    "    try:\n",
    "        for k,v in window[\"portfolio_view_dict\"].items():\n",
    "            # print(k)\n",
    "            # print(v)\n",
    "            interval[k]=window[f\"{k}_expected_upward_movement_interval\"]\n",
    "        return interval\n",
    "    except Exception as err:\n",
    "        print_exception_detail(err)\n",
    "        print(window[\"portfolio_view_dict\"])\n",
    "        return {}"
   ]
  },
  {
   "cell_type": "code",
   "execution_count": 149,
   "id": "fa4dfb12-31d4-4da9-b61e-48eba985804c",
   "metadata": {},
   "outputs": [
    {
     "name": "stdout",
     "output_type": "stream",
     "text": [
      "Error Message: 'NoneType' object has no attribute 'items'\n",
      "Error at line number: 12\n",
      "None\n",
      "Error Message: 'NoneType' object has no attribute 'items'\n",
      "Error at line number: 12\n",
      "None\n",
      "Error Message: 'NoneType' object has no attribute 'items'\n",
      "Error at line number: 12\n",
      "None\n",
      "Error Message: 'NoneType' object has no attribute 'items'\n",
      "Error at line number: 12\n",
      "None\n",
      "Error Message: 'NoneType' object has no attribute 'items'\n",
      "Error at line number: 12\n",
      "None\n",
      "Error Message: 'NoneType' object has no attribute 'items'\n",
      "Error at line number: 12\n",
      "None\n",
      "Error Message: 'NoneType' object has no attribute 'items'\n",
      "Error at line number: 12\n",
      "None\n",
      "Error Message: 'NoneType' object has no attribute 'items'\n",
      "Error at line number: 12\n",
      "None\n",
      "Error Message: 'NoneType' object has no attribute 'items'\n",
      "Error at line number: 12\n",
      "None\n",
      "Error Message: 'NoneType' object has no attribute 'items'\n",
      "Error at line number: 12\n",
      "None\n",
      "Error Message: 'NoneType' object has no attribute 'items'\n",
      "Error at line number: 12\n",
      "None\n",
      "Error Message: 'NoneType' object has no attribute 'items'\n",
      "Error at line number: 12\n",
      "None\n",
      "Error Message: 'NoneType' object has no attribute 'items'\n",
      "Error at line number: 12\n",
      "None\n",
      "Error Message: 'NoneType' object has no attribute 'items'\n",
      "Error at line number: 12\n",
      "None\n",
      "Error Message: 'NoneType' object has no attribute 'items'\n",
      "Error at line number: 12\n",
      "None\n",
      "Error Message: 'NoneType' object has no attribute 'items'\n",
      "Error at line number: 12\n",
      "None\n",
      "Error Message: 'NoneType' object has no attribute 'items'\n",
      "Error at line number: 12\n",
      "None\n",
      "Error Message: 'NoneType' object has no attribute 'items'\n",
      "Error at line number: 12\n",
      "None\n",
      "Error Message: 'NoneType' object has no attribute 'items'\n",
      "Error at line number: 12\n",
      "None\n",
      "Error Message: 'NoneType' object has no attribute 'items'\n",
      "Error at line number: 12\n",
      "None\n",
      "Error Message: 'NoneType' object has no attribute 'items'\n",
      "Error at line number: 12\n",
      "None\n",
      "Error Message: 'NoneType' object has no attribute 'items'\n",
      "Error at line number: 12\n",
      "None\n",
      "Error Message: 'NoneType' object has no attribute 'items'\n",
      "Error at line number: 12\n",
      "None\n",
      "Error Message: 'NoneType' object has no attribute 'items'\n",
      "Error at line number: 12\n",
      "None\n",
      "Error Message: 'NoneType' object has no attribute 'items'\n",
      "Error at line number: 12\n",
      "None\n",
      "Error Message: 'NoneType' object has no attribute 'items'\n",
      "Error at line number: 12\n",
      "None\n",
      "Error Message: 'NoneType' object has no attribute 'items'\n",
      "Error at line number: 12\n",
      "None\n",
      "Error Message: 'NoneType' object has no attribute 'items'\n",
      "Error at line number: 12\n",
      "None\n",
      "Error Message: 'NoneType' object has no attribute 'items'\n",
      "Error at line number: 12\n",
      "None\n",
      "Error Message: 'NoneType' object has no attribute 'items'\n",
      "Error at line number: 12\n",
      "None\n",
      "Error Message: 'NoneType' object has no attribute 'items'\n",
      "Error at line number: 12\n",
      "None\n",
      "Error Message: 'NoneType' object has no attribute 'items'\n",
      "Error at line number: 12\n",
      "None\n",
      "Error Message: 'NoneType' object has no attribute 'items'\n",
      "Error at line number: 12\n",
      "None\n",
      "Error Message: 'NoneType' object has no attribute 'items'\n",
      "Error at line number: 12\n",
      "None\n",
      "Error Message: 'NoneType' object has no attribute 'items'\n",
      "Error at line number: 12\n",
      "None\n",
      "Error Message: 'NoneType' object has no attribute 'items'\n",
      "Error at line number: 12\n",
      "None\n",
      "Error Message: 'NoneType' object has no attribute 'items'\n",
      "Error at line number: 12\n",
      "None\n",
      "Error Message: 'NoneType' object has no attribute 'items'\n",
      "Error at line number: 12\n",
      "None\n",
      "Error Message: 'NoneType' object has no attribute 'items'\n",
      "Error at line number: 12\n",
      "None\n",
      "Error Message: 'NoneType' object has no attribute 'items'\n",
      "Error at line number: 12\n",
      "None\n",
      "Error Message: 'NoneType' object has no attribute 'items'\n",
      "Error at line number: 12\n",
      "None\n",
      "Error Message: 'NoneType' object has no attribute 'items'\n",
      "Error at line number: 12\n",
      "None\n",
      "Error Message: 'NoneType' object has no attribute 'items'\n",
      "Error at line number: 12\n",
      "None\n",
      "Error Message: 'NoneType' object has no attribute 'items'\n",
      "Error at line number: 12\n",
      "None\n",
      "Error Message: 'NoneType' object has no attribute 'items'\n",
      "Error at line number: 12\n",
      "None\n",
      "Error Message: 'NoneType' object has no attribute 'items'\n",
      "Error at line number: 12\n",
      "None\n",
      "Error Message: 'NoneType' object has no attribute 'items'\n",
      "Error at line number: 12\n",
      "None\n",
      "Error Message: 'NoneType' object has no attribute 'items'\n",
      "Error at line number: 12\n",
      "None\n",
      "Error Message: 'NoneType' object has no attribute 'items'\n",
      "Error at line number: 12\n",
      "None\n",
      "Error Message: 'NoneType' object has no attribute 'items'\n",
      "Error at line number: 12\n",
      "None\n",
      "Error Message: 'NoneType' object has no attribute 'items'\n",
      "Error at line number: 12\n",
      "None\n",
      "Error Message: 'NoneType' object has no attribute 'items'\n",
      "Error at line number: 12\n",
      "None\n",
      "Error Message: 'NoneType' object has no attribute 'items'\n",
      "Error at line number: 12\n",
      "None\n",
      "Error Message: 'NoneType' object has no attribute 'items'\n",
      "Error at line number: 12\n",
      "None\n"
     ]
    },
    {
     "data": {
      "text/plain": [
       "Date\n",
       "2024-05-20    False\n",
       "2024-05-21    False\n",
       "2024-05-22    False\n",
       "2024-05-23    False\n",
       "2024-05-24    False\n",
       "              ...  \n",
       "2024-11-01    False\n",
       "2024-11-04    False\n",
       "2024-11-05    False\n",
       "2024-11-06    False\n",
       "2024-11-07    False\n",
       "Name: portfolio_interval, Length: 120, dtype: bool"
      ]
     },
     "execution_count": 149,
     "metadata": {},
     "output_type": "execute_result"
    }
   ],
   "source": [
    "# blacklit_df[\"portfolio_view_dict\"] = blacklit_df.apply(return_portfolio_view_dict, axis=1)\n",
    "blacklit_df[\"portfolio_interval\"] = blacklit_df.apply(return_portfolio_interval_dict, axis=1)\n",
    "blacklit_df[\"portfolio_interval\"]==None"
   ]
  },
  {
   "cell_type": "code",
   "execution_count": 152,
   "id": "5ae2a0b1-83a7-4015-8981-2150b02deb6a",
   "metadata": {},
   "outputs": [],
   "source": [
    "def return_view_dict_rand(window):\n",
    "    \n",
    "    list_of_stock = window[\"random_selection\"]\n",
    "    score_dict = {_l:0 for _l in list_of_stock}\n",
    "    # for k, v in score_dict.items():\n",
    "    for k in list_of_stock:\n",
    "        score_dict[k] = score_dict[k] + window[f\"{k}_mean_zscore\"] + window[f\"{k}_sharpe_ratio\"] + window[f\"{k}_performance_rank\"]\n",
    "        score_dict[k] = window[f\"{k}_expected_upward_movement\"]*(score_dict[k]/3)\n",
    "    return score_dict"
   ]
  },
  {
   "cell_type": "code",
   "execution_count": 156,
   "id": "de6534fb-a096-4db7-b00b-2199a5b2b109",
   "metadata": {},
   "outputs": [],
   "source": [
    "def return_portfolio_interval_dict_rand(window):\n",
    "    interval = {}\n",
    "    try:\n",
    "        for k,v in window[\"portfolio_rand_view_dict\"].items():\n",
    "            # print(k)\n",
    "            # print(v)\n",
    "            interval[k]=window[f\"{k}_expected_upward_movement_interval\"]\n",
    "        return interval\n",
    "    except Exception as err:\n",
    "        print_exception_detail(err)\n",
    "        print(window[\"portfolio_view_dict\"])\n",
    "        return {}"
   ]
  },
  {
   "cell_type": "code",
   "execution_count": 157,
   "id": "6f6da7ce-5c6a-4bb6-930e-d717d488cbab",
   "metadata": {},
   "outputs": [],
   "source": [
    "# blacklit_df[\"portfolio_rand_view_dict\"] = blacklit_df.apply(return_view_dict_rand, axis=1)\n",
    "blacklit_df[\"portfolio_rand_interval\"] = blacklit_df.apply(return_portfolio_interval_dict_rand, axis=1)"
   ]
  },
  {
   "cell_type": "code",
   "execution_count": 158,
   "id": "cb708753-0fa1-4a2e-bd28-edd1e78eddfb",
   "metadata": {},
   "outputs": [],
   "source": [
    "blacklit_df = blacklit_df.mask(blacklit_df.eq('None')).dropna()"
   ]
  },
  {
   "cell_type": "code",
   "execution_count": 337,
   "id": "2bdbbce0-84f9-41c3-9d97-efb2270608bc",
   "metadata": {},
   "outputs": [],
   "source": [
    "portfolio = blacklit_df.copy()\n",
    "portfolio_rand = blacklit_df.copy()"
   ]
  },
  {
   "cell_type": "code",
   "execution_count": 338,
   "id": "3490761c-92dd-4bac-8c72-66d32091e09c",
   "metadata": {},
   "outputs": [],
   "source": [
    "portfolio = portfolio[ticker+[\"portfolio_view_dict\", \"portfolio_interval\"]+smp100]\n",
    "portfolio_rand = portfolio_rand[ticker+smp100+[\"portfolio_rand_view_dict\", \"portfolio_rand_interval\"]]"
   ]
  },
  {
   "cell_type": "code",
   "execution_count": 339,
   "id": "d355c003-746b-42d3-827d-006767171cd0",
   "metadata": {},
   "outputs": [],
   "source": [
    "portfolio = portfolio.iloc[::-1]\n",
    "portfolio_rand = portfolio_rand.iloc[::-1]"
   ]
  },
  {
   "cell_type": "code",
   "execution_count": 489,
   "id": "10c4e2d8-b0b5-4357-a0f0-79d449afc089",
   "metadata": {},
   "outputs": [
    {
     "name": "stdout",
     "output_type": "stream",
     "text": [
      "(46, 315)\n",
      "(66, 306)\n"
     ]
    }
   ],
   "source": [
    "print(portfolio.shape)\n",
    "print(portfolio_rand.shape)"
   ]
  },
  {
   "cell_type": "code",
   "execution_count": 341,
   "id": "2fcfdfef-2325-4748-8728-0b981aac7a8a",
   "metadata": {},
   "outputs": [],
   "source": [
    "# set(portfolio.index).intersection(set(portfolio_rand.index))"
   ]
  },
  {
   "cell_type": "markdown",
   "id": "0427ea0b-17be-4a33-a285-0598e2419ff6",
   "metadata": {},
   "source": [
    "### Asset allocation"
   ]
  },
  {
   "cell_type": "code",
   "execution_count": 498,
   "id": "70adcd1a-62c7-43d7-b61e-46ad28906333",
   "metadata": {},
   "outputs": [],
   "source": [
    "\"\"\"\n",
    "The BL model takes a Bayesian approach to asset allocation. It combines a prior estimate of return with views on certain assets, to produce a \n",
    "posterior estimate of the expected returns.\n",
    "\n",
    "Advantage of BL:\n",
    "\n",
    "1. you can provide views on only a subset of assets and BL will propagate, taking into account the covariance with other assets.\n",
    "2. you can provide confidence in your views\n",
    "3. BL posterior returns results in much more stable portfolio than using mean historical return.\n",
    "\n",
    "\n",
    "Black Litterman Allocation\n",
    "https://pyportfolioopt.readthedocs.io/en/latest/BlackLitterman.html\n",
    "\n",
    "Interactive BL implementation by Thomas Kirschenman\n",
    "https://github.com/thk3421-models/cardiel\n",
    "\"\"\"\n",
    "import pypfopt\n",
    "from pypfopt import black_litterman, risk_models, objective_functions\n",
    "from pypfopt.black_litterman import BlackLittermanModel\n",
    "from pypfopt.efficient_frontier import EfficientFrontier\n",
    "from pypfopt import DiscreteAllocation\n",
    "\n",
    "# from Collector import YahooFin\n",
    "import yfinance as yf\n",
    "\n",
    "\n",
    "class BlackLitterman:\n",
    "    \n",
    "    all_ticker = None\n",
    "    market_ticker = None\n",
    "    all_mcaps = {}\n",
    "    # price = None\n",
    "    # market_price = None\n",
    "    # cov_shrinkage = None\n",
    "    # delta = None\n",
    "    # prior = None\n",
    "\n",
    "    def __init__(self, window, port_type, portfolio_df):\n",
    "        self.window = window\n",
    "        self.delta = None\n",
    "        self.prior = None\n",
    "        self.mcaps = {}\n",
    "        self.cov_shrinkage = None\n",
    "        self.price = None # List of tickers to create a portfolio\n",
    "        self.market_price = None # Any comparision ticker like S&P to refer the market return\n",
    "        self.omega = None\n",
    "        self.return_bl = None\n",
    "        self.alloc = None\n",
    "        self.weight = None\n",
    "        self.viewdict = None\n",
    "        self.cov_mat_bl = None\n",
    "        self.ticker = None\n",
    "        self.market_ticker = None\n",
    "        # self.df = df\n",
    "        self.index = None\n",
    "        self.port_type = port_type\n",
    "        self.portfolio_df = portfolio_df\n",
    "\n",
    "    @classmethod\n",
    "    def create_mcaps(cls):\n",
    "        for t in cls.all_ticker:\n",
    "            s = yf.Ticker(t)\n",
    "            cls.all_mcaps[t] = s.info[\"marketCap\"]\n",
    "\n",
    "    def initialize_variables(self):\n",
    "        if self.port_type==\"portfolio\":\n",
    "            self.viewdict = self.window[\"portfolio_view_dict\"]\n",
    "            self.interval = self.window[\"portfolio_interval\"]\n",
    "        else:\n",
    "            self.viewdict = self.window[\"portfolio_rand_view_dict\"]\n",
    "            self.interval = self.window[\"portfolio_rand_interval\"]\n",
    "\n",
    "        self.ticker = [k for k,v in self.viewdict.items()]\n",
    "        print(self.ticker)\n",
    "        self.price = self.portfolio_df[self.ticker][::-1]\n",
    "        self.market_price = self.portfolio_df[smp100][::-1]\n",
    "        self.mcaps = {k:BlackLitterman.all_mcaps[k] for k in BlackLitterman.all_mcaps.keys() if k in self.ticker}\n",
    "        print(self.mcaps)\n",
    "        self.window = self.window[self.ticker]\n",
    "\n",
    "        self.cov_shrinkage = risk_models.CovarianceShrinkage(self.price).ledoit_wolf()\n",
    "        self.delta = black_litterman.market_implied_risk_aversion(self.market_price).item()\n",
    "\n",
    "    def evaluate_prior(self):\n",
    "        \"\"\"\n",
    "            prior: N x 1 vector of prior expected return (by definition)\n",
    "            Prior is quantified by the market-implied risk premium, which is the market's excess return divided by its variance:\n",
    "            delta = ()\n",
    "        \"\"\"\n",
    "        self.prior = black_litterman.market_implied_prior_returns(self.mcaps, self.delta, self.cov_shrinkage)\n",
    "\n",
    "    def evaluate_view(self):\n",
    "        \"\"\"\n",
    "        NOTE: We are using a absolute view for now. This will be replaced by the self.weighted metrics derived from\n",
    "        the tuned FinLLM \n",
    "\n",
    "        viewdict = <call-back function>\n",
    "        confidence = <call-back function>(viewdict)\n",
    "        \"\"\"\n",
    "        variances = []\n",
    "        _interval = [v for k, v in self.interval.items()]\n",
    "        for lb, ub in _interval:\n",
    "            sigma = (ub - lb)/2\n",
    "            variances.append(sigma ** 2)\n",
    "\n",
    "        self.omega = np.diag(variances)\n",
    "\n",
    "    def evaluate_posterior(self):\n",
    "\n",
    "        bl = BlackLittermanModel(self.cov_shrinkage, pi=\"market\", \\\n",
    "                                 market_caps=self.mcaps, risk_aversion=self.delta,\\\n",
    "                                    absolute_views=self.viewdict, omega=self.omega)\n",
    "        # Posterior estimate of returns\n",
    "        self.return_bl = bl.bl_returns()\n",
    "        return_df = pd.DataFrame([self.prior, self.return_bl, pd.Series(self.viewdict)], index=[\"Prior\", \"Posterior\", \"Views\"]).T\n",
    "\n",
    "        # rets_df.plot.bar(figsize=(12,8));\n",
    "\n",
    "        self.cov_mat_bl = bl.bl_cov()\n",
    "\n",
    "    def portfolio_allocation(self):\n",
    "\n",
    "        ef = EfficientFrontier(self.return_bl, self.cov_mat_bl)\n",
    "        ef.add_objective(objective_functions.L2_reg)\n",
    "        ef.max_sharpe()\n",
    "        self.weight = ef.clean_weights()\n",
    "        # pd.Series(self.weight).plot.pie(figsize=(10,10));\n",
    "        da = DiscreteAllocation(self.weight, pd.to_numeric(self.window, errors='coerce').astype('float64'), total_portfolio_value=20000)\n",
    "        self.alloc, leftover = da.lp_portfolio()\n",
    "        print(f\"Leftover: ${leftover:.2f}\")"
   ]
  },
  {
   "cell_type": "code",
   "execution_count": 499,
   "id": "104dc247-5ade-43ce-bb4c-97906c850d6b",
   "metadata": {},
   "outputs": [],
   "source": [
    "# Inititalize class variables\n",
    "\n",
    "BlackLitterman.all_ticker = ticker\n",
    "BlackLitterman.market_ticker = smp100\n",
    "BlackLitterman.all_mcaps = {}\n",
    "BlackLitterman.create_mcaps()\n"
   ]
  },
  {
   "cell_type": "code",
   "execution_count": 500,
   "id": "5f778ce9-aab9-4cd9-bf40-bb7c70ee7631",
   "metadata": {},
   "outputs": [],
   "source": [
    "# BlackLitterman.price = portfolio[BlackLitterman.ticker][::-1]\n",
    "# BlackLitterman.market_price = portfolio[smp100][::-1]"
   ]
  },
  {
   "cell_type": "code",
   "execution_count": 492,
   "id": "236ab6ab-37da-4dee-b5d8-80736b3344de",
   "metadata": {},
   "outputs": [],
   "source": [
    "# window = portfolio.loc[portfolio.index[0]]\n",
    "# window_rand = portfolio_rand.loc[portfolio.index[0]]"
   ]
  },
  {
   "cell_type": "code",
   "execution_count": 501,
   "id": "cb75b7bc-09c4-41b9-aadc-8f189a284c3f",
   "metadata": {},
   "outputs": [],
   "source": [
    "def allocate_assets(window, port_type, portfolio):\n",
    "    b = BlackLitterman(window, port_type, portfolio)\n",
    "    b.initialize_variables()\n",
    "    b.evaluate_prior()\n",
    "    b.evaluate_view()\n",
    "    b.evaluate_posterior()\n",
    "    b.portfolio_allocation()\n",
    "    return b.alloc"
   ]
  },
  {
   "cell_type": "code",
   "execution_count": 502,
   "id": "1534de45-8464-4049-a67f-d2079db024e1",
   "metadata": {},
   "outputs": [
    {
     "name": "stdout",
     "output_type": "stream",
     "text": [
      "['CHTR', 'GFS', 'ROP', 'ODFL', 'EA', 'ADP', 'FAST', 'TEAM', 'ABNB', 'BKR']\n",
      "{'ADP': 125659160576, 'ABNB': 83713196032, 'CHTR': 57495531520, 'ROP': 60972015616, 'TEAM': 65670782976, 'ODFL': 48016748544, 'FAST': 48085184512, 'EA': 42454126592, 'BKR': 42836582400, 'GFS': 23222562816}\n",
      "Leftover: $34.67\n",
      "['WBA', 'LULU', 'INTC', 'TEAM', 'FAST', 'EA', 'ADP', 'CMCSA', 'BKR', 'GFS']\n",
      "{'CMCSA': 167908573184, 'ADP': 125659160576, 'INTC': 104999976960, 'TEAM': 65670782976, 'FAST': 48085184512, 'EA': 42454126592, 'BKR': 42836582400, 'LULU': 40281907200, 'GFS': 23222562816, 'WBA': 7950153216}\n",
      "Leftover: $4.47\n",
      "['WBA', 'MDB', 'LULU', 'MRVL', 'WBD', 'ODFL', 'VRSK', 'BKNG', 'ILMN', 'TEAM']\n",
      "{'BKNG': 165385535488, 'MRVL': 79118704640, 'TEAM': 65670782976, 'ODFL': 48016748544, 'VRSK': 40749260800, 'LULU': 40281907200, 'ILMN': 23188908032, 'MDB': 22923921408, 'WBD': 23673088000, 'WBA': 7950153216}\n",
      "Leftover: $3.74\n",
      "['ADSK', 'WBA', 'MDB', 'INTC', 'ODFL', 'LULU', 'BKNG', 'WBD', 'CDNS', 'EA']\n",
      "{'BKNG': 165385535488, 'INTC': 104999976960, 'CDNS': 83024896000, 'ADSK': 67468324864, 'ODFL': 48016748544, 'EA': 42454126592, 'LULU': 40281907200, 'MDB': 22923921408, 'WBD': 23673088000, 'WBA': 7950153216}\n",
      "Leftover: $16.28\n",
      "['WBA', 'MDB', 'BKNG', 'INTC', 'ODFL', 'CMCSA', 'WBD', 'LULU', 'CHTR', 'TEAM']\n",
      "{'CMCSA': 167908573184, 'BKNG': 165385535488, 'INTC': 104999976960, 'CHTR': 57495531520, 'TEAM': 65670782976, 'ODFL': 48016748544, 'LULU': 40281907200, 'MDB': 22923921408, 'WBD': 23673088000, 'WBA': 7950153216}\n",
      "Leftover: $194.91\n",
      "['PDD', 'TMUS', 'MRVL', 'AMD', 'INTC', 'LULU', 'MDB']\n",
      "{'TMUS': 277693628416, 'AMD': 231128711168, 'PDD': 156806037504, 'INTC': 104999976960, 'MRVL': 79118704640, 'LULU': 40281907200, 'MDB': 22923921408}\n",
      "Leftover: $28.30\n",
      "['INTC', 'MELI', 'IDXX', 'MRVL', 'ABNB', 'ZS', 'TEAM', 'MDB']\n",
      "{'MELI': 98510118912, 'INTC': 104999976960, 'ABNB': 83713196032, 'MRVL': 79118704640, 'TEAM': 65670782976, 'IDXX': 35063029760, 'ZS': 33011798016, 'MDB': 22923921408}\n",
      "Leftover: $0.55\n",
      "['AMD', 'GEHC', 'INTC', 'CRWD', 'WBA', 'ABNB', 'SNPS', 'CPRT', 'MDB', 'ZS']\n",
      "{'AMD': 231128711168, 'INTC': 104999976960, 'ABNB': 83713196032, 'SNPS': 85904015360, 'CRWD': 87264854016, 'CPRT': 55413329920, 'GEHC': 38098636800, 'ZS': 33011798016, 'MDB': 22923921408, 'WBA': 7950153216}\n",
      "Leftover: $0.90\n",
      "['DASH', 'INTC', 'WBA', 'CRWD', 'ABNB', 'SNPS', 'ILMN', 'MDB', 'CPRT', 'GFS']\n",
      "{'INTC': 104999976960, 'ABNB': 83713196032, 'SNPS': 85904015360, 'CRWD': 87264854016, 'DASH': 73188622336, 'CPRT': 55413329920, 'GFS': 23222562816, 'ILMN': 23188908032, 'MDB': 22923921408, 'WBA': 7950153216}\n",
      "Leftover: $9.04\n",
      "['DASH', 'PDD', 'INTC', 'WBA', 'CHTR', 'AMD', 'MDB', 'ILMN', 'ABNB', 'SNPS']\n",
      "{'AMD': 231128711168, 'PDD': 156806037504, 'INTC': 104999976960, 'ABNB': 83713196032, 'SNPS': 85904015360, 'DASH': 73188622336, 'CHTR': 57495531520, 'ILMN': 23188908032, 'MDB': 22923921408, 'WBA': 7950153216}\n",
      "Leftover: $5.32\n",
      "['DASH', 'PDD', 'CHTR', 'ABNB', 'ILMN', 'AMD', 'ZS', 'CPRT', 'TEAM', 'MAR']\n",
      "{'AMD': 231128711168, 'PDD': 156806037504, 'ABNB': 83713196032, 'MAR': 79909183488, 'DASH': 73188622336, 'CHTR': 57495531520, 'TEAM': 65670782976, 'CPRT': 55413329920, 'ZS': 33011798016, 'ILMN': 23188908032}\n"
     ]
    },
    {
     "name": "stderr",
     "output_type": "stream",
     "text": [
      "/home/diti/miniconda3/envs/devbox/lib/python3.12/site-packages/pypfopt/efficient_frontier/efficient_frontier.py:259: UserWarning:\n",
      "\n",
      "max_sharpe transforms the optimization problem so additional objectives may not work as expected.\n",
      "\n",
      "/home/diti/miniconda3/envs/devbox/lib/python3.12/site-packages/pypfopt/efficient_frontier/efficient_frontier.py:259: UserWarning:\n",
      "\n",
      "max_sharpe transforms the optimization problem so additional objectives may not work as expected.\n",
      "\n",
      "/home/diti/miniconda3/envs/devbox/lib/python3.12/site-packages/pypfopt/efficient_frontier/efficient_frontier.py:259: UserWarning:\n",
      "\n",
      "max_sharpe transforms the optimization problem so additional objectives may not work as expected.\n",
      "\n",
      "/home/diti/miniconda3/envs/devbox/lib/python3.12/site-packages/pypfopt/efficient_frontier/efficient_frontier.py:259: UserWarning:\n",
      "\n",
      "max_sharpe transforms the optimization problem so additional objectives may not work as expected.\n",
      "\n",
      "/home/diti/miniconda3/envs/devbox/lib/python3.12/site-packages/pypfopt/efficient_frontier/efficient_frontier.py:259: UserWarning:\n",
      "\n",
      "max_sharpe transforms the optimization problem so additional objectives may not work as expected.\n",
      "\n",
      "/home/diti/miniconda3/envs/devbox/lib/python3.12/site-packages/pypfopt/efficient_frontier/efficient_frontier.py:259: UserWarning:\n",
      "\n",
      "max_sharpe transforms the optimization problem so additional objectives may not work as expected.\n",
      "\n",
      "/home/diti/miniconda3/envs/devbox/lib/python3.12/site-packages/pypfopt/efficient_frontier/efficient_frontier.py:259: UserWarning:\n",
      "\n",
      "max_sharpe transforms the optimization problem so additional objectives may not work as expected.\n",
      "\n",
      "/home/diti/miniconda3/envs/devbox/lib/python3.12/site-packages/pypfopt/efficient_frontier/efficient_frontier.py:259: UserWarning:\n",
      "\n",
      "max_sharpe transforms the optimization problem so additional objectives may not work as expected.\n",
      "\n",
      "/home/diti/miniconda3/envs/devbox/lib/python3.12/site-packages/pypfopt/efficient_frontier/efficient_frontier.py:259: UserWarning:\n",
      "\n",
      "max_sharpe transforms the optimization problem so additional objectives may not work as expected.\n",
      "\n",
      "/home/diti/miniconda3/envs/devbox/lib/python3.12/site-packages/pypfopt/efficient_frontier/efficient_frontier.py:259: UserWarning:\n",
      "\n",
      "max_sharpe transforms the optimization problem so additional objectives may not work as expected.\n",
      "\n",
      "/home/diti/miniconda3/envs/devbox/lib/python3.12/site-packages/pypfopt/efficient_frontier/efficient_frontier.py:259: UserWarning:\n",
      "\n",
      "max_sharpe transforms the optimization problem so additional objectives may not work as expected.\n",
      "\n"
     ]
    },
    {
     "name": "stdout",
     "output_type": "stream",
     "text": [
      "Leftover: $3.86\n",
      "['PDD', 'CHTR', 'CEG', 'WBA', 'ABNB', 'AMD', 'ZS', 'ILMN', 'BKR', 'TEAM']\n",
      "{'AMD': 231128711168, 'PDD': 156806037504, 'ABNB': 83713196032, 'CEG': 71854309376, 'CHTR': 57495531520, 'TEAM': 65670782976, 'BKR': 42836582400, 'ZS': 33011798016, 'ILMN': 23188908032, 'WBA': 7950153216}\n",
      "Leftover: $14.23\n",
      "['BKNG', 'ADSK', 'INTC', 'TSLA', 'AMD', 'WBA', 'EXC', 'CMCSA', 'XEL', 'PDD']\n",
      "{'TSLA': 1050973634560, 'AMD': 231128711168, 'CMCSA': 167908573184, 'PDD': 156806037504, 'BKNG': 165385535488, 'INTC': 104999976960, 'ADSK': 67468324864, 'EXC': 38258905088, 'XEL': 39476264960, 'WBA': 7950153216}\n",
      "Leftover: $375.39\n",
      "['BKNG', 'INTC', 'AMD', 'WBA', 'EXC', 'CSCO', 'ADSK', 'XEL', 'CMCSA', 'PDD']\n",
      "{'AMD': 231128711168, 'CSCO': 233581182976, 'CMCSA': 167908573184, 'PDD': 156806037504, 'BKNG': 165385535488, 'INTC': 104999976960, 'ADSK': 67468324864, 'EXC': 38258905088, 'XEL': 39476264960, 'WBA': 7950153216}\n",
      "Leftover: $117.41\n",
      "['KDP', 'EXC', 'XEL', 'AMD', 'INTC', 'TSLA', 'MAR', 'CMCSA', 'PDD', 'PANW']\n",
      "{'TSLA': 1050973634560, 'AMD': 231128711168, 'CMCSA': 167908573184, 'PDD': 156806037504, 'PANW': 132726456320, 'INTC': 104999976960, 'MAR': 79909183488, 'KDP': 45468205056, 'EXC': 38258905088, 'XEL': 39476264960}\n",
      "Leftover: $54.40\n",
      "['REGN', 'MELI', 'CTAS', 'ROP', 'CTSH', 'WBD', 'XEL', 'GILD', 'ADP', 'EXC']\n",
      "{'ADP': 125659160576, 'GILD': 116414078976, 'MELI': 98510118912, 'REGN': 89149177856, 'CTAS': 90528530432, 'ROP': 60972015616, 'CTSH': 40469155840, 'EXC': 38258905088, 'XEL': 39476264960, 'WBD': 23673088000}\n",
      "Leftover: $28.86\n",
      "['REGN', 'CSGP', 'CTAS', 'KDP', 'CCEP', 'MDB', 'ADP', 'PAYX', 'XEL', 'GILD']\n",
      "{'ADP': 125659160576, 'GILD': 116414078976, 'REGN': 89149177856, 'CTAS': 90528530432, 'PAYX': 52987777024, 'KDP': 45468205056, 'XEL': 39476264960, 'CCEP': 36756758528, 'CSGP': 31021672448, 'MDB': 22923921408}\n",
      "Leftover: $87.01\n",
      "['CSCO', 'MDB', 'ADP', 'XEL', 'IDXX', 'GILD', 'WBD', 'EXC', 'ZS', 'PANW']\n",
      "{'CSCO': 233581182976, 'PANW': 132726456320, 'ADP': 125659160576, 'GILD': 116414078976, 'EXC': 38258905088, 'XEL': 39476264960, 'IDXX': 35063029760, 'ZS': 33011798016, 'MDB': 22923921408, 'WBD': 23673088000}\n",
      "Leftover: $1.37\n",
      "['MDLZ', 'MDB', 'CSGP', 'ADP', 'XEL', 'MRVL', 'IDXX', 'GILD', 'EXC', 'MELI']\n",
      "{'ADP': 125659160576, 'GILD': 116414078976, 'MELI': 98510118912, 'MDLZ': 87735443456, 'MRVL': 79118704640, 'EXC': 38258905088, 'XEL': 39476264960, 'IDXX': 35063029760, 'CSGP': 31021672448, 'MDB': 22923921408}\n",
      "Leftover: $18.02\n",
      "['MDB', 'KDP', 'TSLA', 'MDLZ', 'CSGP', 'ADP', 'XEL', 'GILD', 'PAYX', 'EXC']\n",
      "{'TSLA': 1050973634560, 'ADP': 125659160576, 'GILD': 116414078976, 'MDLZ': 87735443456, 'PAYX': 52987777024, 'KDP': 45468205056, 'EXC': 38258905088, 'XEL': 39476264960, 'CSGP': 31021672448, 'MDB': 22923921408}\n",
      "Leftover: $97.04\n",
      "['TEAM', 'ROP', 'ADP', 'GILD', 'KDP', 'GEHC', 'XEL', 'EXC', 'MDB', 'MDLZ']\n",
      "{'ADP': 125659160576, 'GILD': 116414078976, 'MDLZ': 87735443456, 'ROP': 60972015616, 'TEAM': 65670782976, 'KDP': 45468205056, 'GEHC': 38098636800, 'EXC': 38258905088, 'XEL': 39476264960, 'MDB': 22923921408}\n"
     ]
    },
    {
     "name": "stderr",
     "output_type": "stream",
     "text": [
      "/home/diti/miniconda3/envs/devbox/lib/python3.12/site-packages/pypfopt/efficient_frontier/efficient_frontier.py:259: UserWarning:\n",
      "\n",
      "max_sharpe transforms the optimization problem so additional objectives may not work as expected.\n",
      "\n",
      "/home/diti/miniconda3/envs/devbox/lib/python3.12/site-packages/pypfopt/efficient_frontier/efficient_frontier.py:259: UserWarning:\n",
      "\n",
      "max_sharpe transforms the optimization problem so additional objectives may not work as expected.\n",
      "\n",
      "/home/diti/miniconda3/envs/devbox/lib/python3.12/site-packages/pypfopt/efficient_frontier/efficient_frontier.py:259: UserWarning:\n",
      "\n",
      "max_sharpe transforms the optimization problem so additional objectives may not work as expected.\n",
      "\n",
      "/home/diti/miniconda3/envs/devbox/lib/python3.12/site-packages/pypfopt/efficient_frontier/efficient_frontier.py:259: UserWarning:\n",
      "\n",
      "max_sharpe transforms the optimization problem so additional objectives may not work as expected.\n",
      "\n",
      "/home/diti/miniconda3/envs/devbox/lib/python3.12/site-packages/pypfopt/efficient_frontier/efficient_frontier.py:259: UserWarning:\n",
      "\n",
      "max_sharpe transforms the optimization problem so additional objectives may not work as expected.\n",
      "\n",
      "/home/diti/miniconda3/envs/devbox/lib/python3.12/site-packages/pypfopt/efficient_frontier/efficient_frontier.py:259: UserWarning:\n",
      "\n",
      "max_sharpe transforms the optimization problem so additional objectives may not work as expected.\n",
      "\n",
      "/home/diti/miniconda3/envs/devbox/lib/python3.12/site-packages/pypfopt/efficient_frontier/efficient_frontier.py:259: UserWarning:\n",
      "\n",
      "max_sharpe transforms the optimization problem so additional objectives may not work as expected.\n",
      "\n",
      "/home/diti/miniconda3/envs/devbox/lib/python3.12/site-packages/pypfopt/efficient_frontier/efficient_frontier.py:259: UserWarning:\n",
      "\n",
      "max_sharpe transforms the optimization problem so additional objectives may not work as expected.\n",
      "\n",
      "/home/diti/miniconda3/envs/devbox/lib/python3.12/site-packages/pypfopt/efficient_frontier/efficient_frontier.py:259: UserWarning:\n",
      "\n",
      "max_sharpe transforms the optimization problem so additional objectives may not work as expected.\n",
      "\n",
      "/home/diti/miniconda3/envs/devbox/lib/python3.12/site-packages/pypfopt/efficient_frontier/efficient_frontier.py:259: UserWarning:\n",
      "\n",
      "max_sharpe transforms the optimization problem so additional objectives may not work as expected.\n",
      "\n"
     ]
    },
    {
     "name": "stdout",
     "output_type": "stream",
     "text": [
      "Leftover: $37.10\n",
      "['CHTR', 'SBUX', 'MELI', 'WDAY', 'TEAM', 'LIN', 'ADP', 'MDLZ']\n",
      "{'LIN': 216287625216, 'ADP': 125659160576, 'SBUX': 112035135488, 'MELI': 98510118912, 'MDLZ': 87735443456, 'WDAY': 73261899776, 'CHTR': 57495531520, 'TEAM': 65670782976}\n",
      "Leftover: $1.53\n",
      "['SBUX', 'CHTR', 'ILMN', 'MELI', 'ISRG', 'WDAY', 'TEAM', 'ON', 'MRVL', 'MDLZ']\n",
      "{'ISRG': 191093604352, 'SBUX': 112035135488, 'MELI': 98510118912, 'MDLZ': 87735443456, 'MRVL': 79118704640, 'WDAY': 73261899776, 'CHTR': 57495531520, 'TEAM': 65670782976, 'ON': 29094709248, 'ILMN': 23188908032}\n",
      "Leftover: $34.30\n",
      "['CHTR', 'EXC', 'TMUS', 'TTWO', 'WDAY', 'CTAS']\n",
      "{'TMUS': 277693628416, 'CTAS': 90528530432, 'WDAY': 73261899776, 'CHTR': 57495531520, 'EXC': 38258905088, 'TTWO': 31755118592}\n"
     ]
    },
    {
     "name": "stderr",
     "output_type": "stream",
     "text": [
      "/home/diti/miniconda3/envs/devbox/lib/python3.12/site-packages/pypfopt/efficient_frontier/efficient_frontier.py:259: UserWarning:\n",
      "\n",
      "max_sharpe transforms the optimization problem so additional objectives may not work as expected.\n",
      "\n",
      "/home/diti/miniconda3/envs/devbox/lib/python3.12/site-packages/pypfopt/efficient_frontier/efficient_frontier.py:259: UserWarning:\n",
      "\n",
      "max_sharpe transforms the optimization problem so additional objectives may not work as expected.\n",
      "\n",
      "/home/diti/miniconda3/envs/devbox/lib/python3.12/site-packages/pypfopt/efficient_frontier/efficient_frontier.py:259: UserWarning:\n",
      "\n",
      "max_sharpe transforms the optimization problem so additional objectives may not work as expected.\n",
      "\n"
     ]
    },
    {
     "name": "stdout",
     "output_type": "stream",
     "text": [
      "Leftover: $68.05\n",
      "['MELI', 'CHTR', 'REGN', 'EXC', 'ISRG', 'MDLZ', 'FTNT', 'TTWO', 'CTAS', 'LIN']\n",
      "{'LIN': 216287625216, 'ISRG': 191093604352, 'MELI': 98510118912, 'MDLZ': 87735443456, 'REGN': 89149177856, 'CTAS': 90528530432, 'CHTR': 57495531520, 'FTNT': 76273565696, 'EXC': 38258905088, 'TTWO': 31755118592}\n",
      "Leftover: $58.80\n",
      "['ILMN', 'MELI', 'FTNT', 'REGN', 'ISRG', 'EA', 'TTWO', 'EXC', 'ADP', 'XEL']\n",
      "{'ISRG': 191093604352, 'ADP': 125659160576, 'MELI': 98510118912, 'REGN': 89149177856, 'FTNT': 76273565696, 'EA': 42454126592, 'EXC': 38258905088, 'XEL': 39476264960, 'TTWO': 31755118592, 'ILMN': 23188908032}\n",
      "Leftover: $15.02\n",
      "['XEL', 'MELI', 'ILMN', 'DASH', 'FTNT', 'ISRG', 'EA', 'GEHC', 'MDLZ', 'EXC']\n",
      "{'ISRG': 191093604352, 'MELI': 98510118912, 'MDLZ': 87735443456, 'DASH': 73188622336, 'FTNT': 76273565696, 'EA': 42454126592, 'GEHC': 38098636800, 'EXC': 38258905088, 'XEL': 39476264960, 'ILMN': 23188908032}\n",
      "Leftover: $2.01\n",
      "['XEL', 'MELI', 'ILMN', 'CMCSA', 'DASH', 'REGN', 'FTNT', 'MDLZ', 'ORLY', 'GEHC']\n",
      "{'CMCSA': 167908573184, 'MELI': 98510118912, 'MDLZ': 87735443456, 'REGN': 89149177856, 'ORLY': 71885078528, 'DASH': 73188622336, 'FTNT': 76273565696, 'GEHC': 38098636800, 'XEL': 39476264960, 'ILMN': 23188908032}\n"
     ]
    },
    {
     "name": "stderr",
     "output_type": "stream",
     "text": [
      "/home/diti/miniconda3/envs/devbox/lib/python3.12/site-packages/pypfopt/efficient_frontier/efficient_frontier.py:259: UserWarning:\n",
      "\n",
      "max_sharpe transforms the optimization problem so additional objectives may not work as expected.\n",
      "\n",
      "/home/diti/miniconda3/envs/devbox/lib/python3.12/site-packages/pypfopt/efficient_frontier/efficient_frontier.py:259: UserWarning:\n",
      "\n",
      "max_sharpe transforms the optimization problem so additional objectives may not work as expected.\n",
      "\n",
      "/home/diti/miniconda3/envs/devbox/lib/python3.12/site-packages/pypfopt/efficient_frontier/efficient_frontier.py:259: UserWarning:\n",
      "\n",
      "max_sharpe transforms the optimization problem so additional objectives may not work as expected.\n",
      "\n",
      "/home/diti/miniconda3/envs/devbox/lib/python3.12/site-packages/pypfopt/efficient_frontier/efficient_frontier.py:259: UserWarning:\n",
      "\n",
      "max_sharpe transforms the optimization problem so additional objectives may not work as expected.\n",
      "\n",
      "/home/diti/miniconda3/envs/devbox/lib/python3.12/site-packages/cvxpy/problems/problem.py:1407: UserWarning:\n",
      "\n",
      "Solution may be inaccurate. Try another solver, adjusting the solver settings, or solve with verbose=True for more information.\n",
      "\n",
      "/home/diti/miniconda3/envs/devbox/lib/python3.12/site-packages/pypfopt/efficient_frontier/efficient_frontier.py:259: UserWarning:\n",
      "\n",
      "max_sharpe transforms the optimization problem so additional objectives may not work as expected.\n",
      "\n",
      "/home/diti/miniconda3/envs/devbox/lib/python3.12/site-packages/pypfopt/efficient_frontier/efficient_frontier.py:259: UserWarning:\n",
      "\n",
      "max_sharpe transforms the optimization problem so additional objectives may not work as expected.\n",
      "\n",
      "/home/diti/miniconda3/envs/devbox/lib/python3.12/site-packages/pypfopt/efficient_frontier/efficient_frontier.py:259: UserWarning:\n",
      "\n",
      "max_sharpe transforms the optimization problem so additional objectives may not work as expected.\n",
      "\n",
      "/home/diti/miniconda3/envs/devbox/lib/python3.12/site-packages/pypfopt/efficient_frontier/efficient_frontier.py:259: UserWarning:\n",
      "\n",
      "max_sharpe transforms the optimization problem so additional objectives may not work as expected.\n",
      "\n",
      "/home/diti/miniconda3/envs/devbox/lib/python3.12/site-packages/pypfopt/efficient_frontier/efficient_frontier.py:259: UserWarning:\n",
      "\n",
      "max_sharpe transforms the optimization problem so additional objectives may not work as expected.\n",
      "\n",
      "/home/diti/miniconda3/envs/devbox/lib/python3.12/site-packages/pypfopt/efficient_frontier/efficient_frontier.py:259: UserWarning:\n",
      "\n",
      "max_sharpe transforms the optimization problem so additional objectives may not work as expected.\n",
      "\n"
     ]
    },
    {
     "name": "stdout",
     "output_type": "stream",
     "text": [
      "Leftover: $180.68\n",
      "['XEL', 'WBA', 'DASH', 'MELI', 'GEHC', 'CMCSA', 'MDLZ', 'REGN', 'EXC']\n",
      "{'CMCSA': 167908573184, 'MELI': 98510118912, 'MDLZ': 87735443456, 'REGN': 89149177856, 'DASH': 73188622336, 'GEHC': 38098636800, 'EXC': 38258905088, 'XEL': 39476264960, 'WBA': 7950153216}\n",
      "Leftover: $0.14\n",
      "['XEL', 'WBA', 'MELI', 'EXC', 'ORLY', 'GEHC', 'ADP', 'MDLZ', 'MDB']\n",
      "{'ADP': 125659160576, 'MELI': 98510118912, 'MDLZ': 87735443456, 'ORLY': 71885078528, 'GEHC': 38098636800, 'EXC': 38258905088, 'XEL': 39476264960, 'MDB': 22923921408, 'WBA': 7950153216}\n",
      "Leftover: $118.86\n",
      "['XEL', 'WBA', 'DASH', 'VRTX', 'EXC', 'ADP', 'MDLZ', 'MELI', 'TMUS']\n",
      "{'TMUS': 277693628416, 'VRTX': 127268249600, 'ADP': 125659160576, 'MELI': 98510118912, 'MDLZ': 87735443456, 'DASH': 73188622336, 'EXC': 38258905088, 'XEL': 39476264960, 'WBA': 7950153216}\n",
      "Leftover: $5.12\n",
      "['XEL', 'AEP', 'ILMN', 'ADP', 'EA', 'CTAS', 'TTD', 'FTNT']\n",
      "{'ADP': 125659160576, 'CTAS': 90528530432, 'FTNT': 76273565696, 'TTD': 64450895872, 'AEP': 49701625856, 'EA': 42454126592, 'XEL': 39476264960, 'ILMN': 23188908032}\n",
      "Leftover: $5.83\n",
      "['AEP', 'EXC', 'ADP', 'ISRG', 'MDLZ', 'DASH', 'TMUS', 'MELI', 'ILMN', 'REGN']\n",
      "{'TMUS': 277693628416, 'ISRG': 191093604352, 'ADP': 125659160576, 'MELI': 98510118912, 'MDLZ': 87735443456, 'REGN': 89149177856, 'DASH': 73188622336, 'AEP': 49701625856, 'EXC': 38258905088, 'ILMN': 23188908032}\n",
      "Leftover: $13.17\n",
      "['CHTR', 'CMCSA', 'EA', 'GEHC', 'REGN', 'MNST', 'ADP', 'EXC', 'MDLZ', 'TMUS']\n",
      "{'TMUS': 277693628416, 'CMCSA': 167908573184, 'ADP': 125659160576, 'MDLZ': 87735443456, 'REGN': 89149177856, 'CHTR': 57495531520, 'MNST': 54568099840, 'EA': 42454126592, 'GEHC': 38098636800, 'EXC': 38258905088}\n",
      "Leftover: $32.18\n",
      "['VRTX', 'CHTR', 'GILD', 'WBA', 'REGN', 'EA', 'GEHC', 'ADP', 'MNST', 'MELI']\n",
      "{'VRTX': 127268249600, 'ADP': 125659160576, 'GILD': 116414078976, 'MELI': 98510118912, 'REGN': 89149177856, 'CHTR': 57495531520, 'MNST': 54568099840, 'EA': 42454126592, 'GEHC': 38098636800, 'WBA': 7950153216}\n",
      "Leftover: $49.17\n",
      "['ODFL', 'GILD', 'CSGP', 'ILMN', 'EA', 'BKR', 'WBA', 'CHTR', 'ADP', 'REGN']\n",
      "{'ADP': 125659160576, 'GILD': 116414078976, 'REGN': 89149177856, 'CHTR': 57495531520, 'ODFL': 48016748544, 'EA': 42454126592, 'BKR': 42836582400, 'CSGP': 31021672448, 'ILMN': 23188908032, 'WBA': 7950153216}\n",
      "Leftover: $13.05\n",
      "['GILD', 'ON', 'WBA', 'EXC', 'ODFL', 'CHTR', 'BKR', 'EA', 'ADP', 'MDLZ']\n",
      "{'ADP': 125659160576, 'GILD': 116414078976, 'MDLZ': 87735443456, 'CHTR': 57495531520, 'ODFL': 48016748544, 'EA': 42454126592, 'BKR': 42836582400, 'EXC': 38258905088, 'ON': 29094709248, 'WBA': 7950153216}\n",
      "Leftover: $26.67\n",
      "['ON', 'ODFL', 'REGN', 'ILMN', 'CSGP', 'GILD', 'EXC', 'EA', 'ADP', 'BKR']\n",
      "{'ADP': 125659160576, 'GILD': 116414078976, 'REGN': 89149177856, 'ODFL': 48016748544, 'EA': 42454126592, 'BKR': 42836582400, 'EXC': 38258905088, 'ON': 29094709248, 'CSGP': 31021672448, 'ILMN': 23188908032}\n",
      "Leftover: $0.82\n",
      "['MDB', 'ODFL', 'REGN', 'ON', 'ILMN', 'WBA', 'ADP', 'CSGP', 'GILD', 'BKR']\n",
      "{'ADP': 125659160576, 'GILD': 116414078976, 'REGN': 89149177856, 'ODFL': 48016748544, 'BKR': 42836582400, 'ON': 29094709248, 'CSGP': 31021672448, 'ILMN': 23188908032, 'MDB': 22923921408, 'WBA': 7950153216}\n",
      "Leftover: $23.92\n",
      "['TEAM', 'MDB', 'ODFL', 'CTAS', 'WBA', 'ADP', 'CSGP', 'GILD', 'BKR', 'CHTR']\n",
      "{'ADP': 125659160576, 'GILD': 116414078976, 'CTAS': 90528530432, 'CHTR': 57495531520, 'TEAM': 65670782976, 'ODFL': 48016748544, 'BKR': 42836582400, 'CSGP': 31021672448, 'MDB': 22923921408, 'WBA': 7950153216}\n",
      "Leftover: $1.19\n",
      "['INTC', 'ILMN', 'ODFL', 'AMGN', 'GILD', 'GEHC', 'CHTR', 'CTSH', 'CMCSA', 'GFS']\n",
      "{'AMGN': 160827195392, 'CMCSA': 167908573184, 'GILD': 116414078976, 'INTC': 104999976960, 'CHTR': 57495531520, 'ODFL': 48016748544, 'GEHC': 38098636800, 'CTSH': 40469155840, 'GFS': 23222562816, 'ILMN': 23188908032}\n",
      "Leftover: $2.22\n",
      "['TSLA', 'INTC', 'GILD', 'REGN', 'ON', 'EA', 'AMGN', 'GEHC', 'CHTR', 'CTSH']\n",
      "{'TSLA': 1050973634560, 'AMGN': 160827195392, 'GILD': 116414078976, 'INTC': 104999976960, 'REGN': 89149177856, 'CHTR': 57495531520, 'EA': 42454126592, 'GEHC': 38098636800, 'CTSH': 40469155840, 'ON': 29094709248}\n",
      "Leftover: $15.81\n",
      "['REGN', 'AMD', 'INTC', 'GILD', 'MELI', 'GFS', 'ILMN', 'AMGN']\n",
      "{'AMD': 231128711168, 'AMGN': 160827195392, 'GILD': 116414078976, 'MELI': 98510118912, 'INTC': 104999976960, 'REGN': 89149177856, 'GFS': 23222562816, 'ILMN': 23188908032}\n",
      "Leftover: $48.15\n",
      "['AVGO', 'TTD', 'AMD', 'INTC', 'GFS', 'GEHC', 'EA', 'MELI', 'AMGN', 'ILMN']\n",
      "{'AVGO': 811489951744, 'AMD': 231128711168, 'AMGN': 160827195392, 'MELI': 98510118912, 'INTC': 104999976960, 'TTD': 64450895872, 'EA': 42454126592, 'GEHC': 38098636800, 'GFS': 23222562816, 'ILMN': 23188908032}\n",
      "Leftover: $22.18\n",
      "['CDNS', 'SNPS', 'TTD', 'VRSK', 'TSLA', 'AAPL', 'GFS', 'INTC', 'MELI', 'GEHC']\n",
      "{'AAPL': 3384880922624, 'TSLA': 1050973634560, 'MELI': 98510118912, 'INTC': 104999976960, 'SNPS': 85904015360, 'CDNS': 83024896000, 'TTD': 64450895872, 'VRSK': 40749260800, 'GEHC': 38098636800, 'GFS': 23222562816}\n",
      "Leftover: $14.22\n",
      "['NFLX', 'REGN', 'TSLA', 'MSFT', 'SNPS', 'AAPL', 'AMAT', 'GFS', 'ILMN', 'INTC']\n",
      "{'AAPL': 3384880922624, 'MSFT': 3118709080064, 'TSLA': 1050973634560, 'NFLX': 353956593664, 'AMAT': 150989586432, 'INTC': 104999976960, 'REGN': 89149177856, 'SNPS': 85904015360, 'GFS': 23222562816, 'ILMN': 23188908032}\n",
      "Leftover: $60.92\n"
     ]
    },
    {
     "name": "stderr",
     "output_type": "stream",
     "text": [
      "/home/diti/miniconda3/envs/devbox/lib/python3.12/site-packages/pypfopt/efficient_frontier/efficient_frontier.py:259: UserWarning:\n",
      "\n",
      "max_sharpe transforms the optimization problem so additional objectives may not work as expected.\n",
      "\n",
      "/home/diti/miniconda3/envs/devbox/lib/python3.12/site-packages/pypfopt/efficient_frontier/efficient_frontier.py:259: UserWarning:\n",
      "\n",
      "max_sharpe transforms the optimization problem so additional objectives may not work as expected.\n",
      "\n",
      "/home/diti/miniconda3/envs/devbox/lib/python3.12/site-packages/pypfopt/efficient_frontier/efficient_frontier.py:259: UserWarning:\n",
      "\n",
      "max_sharpe transforms the optimization problem so additional objectives may not work as expected.\n",
      "\n",
      "/home/diti/miniconda3/envs/devbox/lib/python3.12/site-packages/pypfopt/efficient_frontier/efficient_frontier.py:259: UserWarning:\n",
      "\n",
      "max_sharpe transforms the optimization problem so additional objectives may not work as expected.\n",
      "\n",
      "/home/diti/miniconda3/envs/devbox/lib/python3.12/site-packages/pypfopt/efficient_frontier/efficient_frontier.py:259: UserWarning:\n",
      "\n",
      "max_sharpe transforms the optimization problem so additional objectives may not work as expected.\n",
      "\n",
      "/home/diti/miniconda3/envs/devbox/lib/python3.12/site-packages/pypfopt/efficient_frontier/efficient_frontier.py:259: UserWarning:\n",
      "\n",
      "max_sharpe transforms the optimization problem so additional objectives may not work as expected.\n",
      "\n",
      "/home/diti/miniconda3/envs/devbox/lib/python3.12/site-packages/pypfopt/efficient_frontier/efficient_frontier.py:259: UserWarning:\n",
      "\n",
      "max_sharpe transforms the optimization problem so additional objectives may not work as expected.\n",
      "\n",
      "/home/diti/miniconda3/envs/devbox/lib/python3.12/site-packages/pypfopt/efficient_frontier/efficient_frontier.py:259: UserWarning:\n",
      "\n",
      "max_sharpe transforms the optimization problem so additional objectives may not work as expected.\n",
      "\n",
      "/home/diti/miniconda3/envs/devbox/lib/python3.12/site-packages/pypfopt/efficient_frontier/efficient_frontier.py:259: UserWarning:\n",
      "\n",
      "max_sharpe transforms the optimization problem so additional objectives may not work as expected.\n",
      "\n",
      "/home/diti/miniconda3/envs/devbox/lib/python3.12/site-packages/pypfopt/efficient_frontier/efficient_frontier.py:259: UserWarning:\n",
      "\n",
      "max_sharpe transforms the optimization problem so additional objectives may not work as expected.\n",
      "\n",
      "/home/diti/miniconda3/envs/devbox/lib/python3.12/site-packages/pypfopt/efficient_frontier/efficient_frontier.py:259: UserWarning:\n",
      "\n",
      "max_sharpe transforms the optimization problem so additional objectives may not work as expected.\n",
      "\n",
      "/home/diti/miniconda3/envs/devbox/lib/python3.12/site-packages/pypfopt/efficient_frontier/efficient_frontier.py:259: UserWarning:\n",
      "\n",
      "max_sharpe transforms the optimization problem so additional objectives may not work as expected.\n",
      "\n"
     ]
    }
   ],
   "source": [
    "portfolio[\"portfolio\"] = portfolio.apply(allocate_assets, args=(\"portfolio\", portfolio,), axis=1)"
   ]
  },
  {
   "cell_type": "code",
   "execution_count": 503,
   "id": "5fe65ea1-f46b-44e7-8d33-7213685054a0",
   "metadata": {},
   "outputs": [
    {
     "name": "stdout",
     "output_type": "stream",
     "text": [
      "['KLAC', 'AMAT', 'MRVL', 'GOOG', 'PEP', 'WBA', 'ADBE', 'PAYX', 'WBD', 'ASML']\n",
      "{'GOOG': 2204606398464, 'ASML': 260052844544, 'PEP': 223874482176, 'ADBE': 233702195200, 'AMAT': 150989586432, 'KLAC': 85817745408, 'MRVL': 79118704640, 'PAYX': 52987777024, 'WBD': 23673088000, 'WBA': 7950153216}\n",
      "Leftover: $6.32\n",
      "['NVDA', 'FAST', 'CMCSA', 'MCHP', 'NXPI', 'AMZN', 'AZN', 'AMAT', 'ROST', 'MDB']\n",
      "{'NVDA': 3603459473408, 'AMZN': 2220347621376, 'AZN': 200795521024, 'CMCSA': 167908573184, 'AMAT': 150989586432, 'NXPI': 56408653824, 'ROST': 46683885568, 'FAST': 48085184512, 'MCHP': 35501731840, 'MDB': 22923921408}\n",
      "Leftover: $51.42\n",
      "['MSFT', 'INTC', 'KLAC', 'VRSK', 'MRNA', 'DASH', 'NFLX', 'PCAR', 'CRWD', 'DLTR']\n",
      "{'MSFT': 3118709080064, 'NFLX': 353956593664, 'INTC': 104999976960, 'KLAC': 85817745408, 'CRWD': 87264854016, 'DASH': 73188622336, 'PCAR': 61264568320, 'VRSK': 40749260800, 'MRNA': 16177747968, 'DLTR': 13452049408}\n",
      "Leftover: $149.99\n",
      "['GFS', 'AMD', 'MSFT', 'REGN', 'GOOGL', 'INTU', 'ABNB', 'LULU', 'ADP', 'CDW']\n",
      "{'MSFT': 3118709080064, 'GOOGL': 2204467986432, 'AMD': 231128711168, 'INTU': 199649181696, 'ADP': 125659160576, 'ABNB': 83713196032, 'REGN': 89149177856, 'LULU': 40281907200, 'CDW': 25252196352, 'GFS': 23222562816}\n",
      "Leftover: $29.68\n",
      "['AVGO', 'AMZN', 'MAR', 'FANG', 'AMD', 'PANW', 'MU', 'ODFL', 'AAPL', 'EXC']\n",
      "{'AAPL': 3384880922624, 'AMZN': 2220347621376, 'AVGO': 811489951744, 'AMD': 231128711168, 'PANW': 132726456320, 'MU': 112519364608, 'MAR': 79909183488, 'FANG': 52009078784, 'ODFL': 48016748544, 'EXC': 38258905088}\n",
      "Leftover: $67.04\n",
      "['AZN', 'PAYX', 'COST', 'ILMN', 'INTC', 'SBUX', 'BKR', 'PANW', 'TSLA', 'ARM']\n",
      "{'TSLA': 1050973634560, 'COST': 413609558016, 'AZN': 200795521024, 'ARM': 142536622080, 'PANW': 132726456320, 'SBUX': 112035135488, 'INTC': 104999976960, 'PAYX': 52987777024, 'BKR': 42836582400, 'ILMN': 23188908032}\n",
      "Leftover: $16.96\n",
      "['ZS', 'CMCSA', 'TTWO', 'ROP', 'ILMN', 'CCEP', 'AMGN', 'DLTR', 'SNPS', 'EA']\n",
      "{'AMGN': 160827195392, 'CMCSA': 167908573184, 'SNPS': 85904015360, 'ROP': 60972015616, 'EA': 42454126592, 'CCEP': 36756758528, 'ZS': 33011798016, 'TTWO': 31755118592, 'ILMN': 23188908032, 'DLTR': 13452049408}\n",
      "Leftover: $3.41\n",
      "['MSFT', 'AAPL', 'NVDA', 'MU', 'AMAT', 'PAYX', 'PEP', 'SNPS', 'LIN', 'GILD']\n",
      "{'NVDA': 3603459473408, 'AAPL': 3384880922624, 'MSFT': 3118709080064, 'PEP': 223874482176, 'LIN': 216287625216, 'AMAT': 150989586432, 'MU': 112519364608, 'GILD': 116414078976, 'SNPS': 85904015360, 'PAYX': 52987777024}\n",
      "Leftover: $49.60\n",
      "['MRVL', 'FTNT', 'CSX', 'ADI', 'ROP', 'PANW', 'CSGP', 'CHTR', 'CRWD', 'LULU']\n",
      "{'PANW': 132726456320, 'ADI': 106907353088, 'CRWD': 87264854016, 'MRVL': 79118704640, 'CSX': 69847375872, 'CHTR': 57495531520, 'FTNT': 76273565696, 'ROP': 60972015616, 'LULU': 40281907200, 'CSGP': 31021672448}\n",
      "Leftover: $186.63\n",
      "['CSX', 'PEP', 'EXC', 'CCEP', 'ROP', 'DASH', 'TXN', 'MRNA', 'AMZN', 'AMGN']\n",
      "{'AMZN': 2220347621376, 'PEP': 223874482176, 'TXN': 190361436160, 'AMGN': 160827195392, 'CSX': 69847375872, 'DASH': 73188622336, 'ROP': 60972015616, 'EXC': 38258905088, 'CCEP': 36756758528, 'MRNA': 16177747968}\n",
      "Leftover: $1.64\n",
      "['MAR', 'TTD', 'VRSK', 'MSFT', 'DASH', 'MCHP', 'MDLZ', 'AVGO', 'ODFL', 'REGN']\n",
      "{'MSFT': 3118709080064, 'AVGO': 811489951744, 'MDLZ': 87735443456, 'REGN': 89149177856, 'MAR': 79909183488, 'DASH': 73188622336, 'TTD': 64450895872, 'ODFL': 48016748544, 'MCHP': 35501731840, 'VRSK': 40749260800}\n",
      "Leftover: $53.95\n",
      "['ORLY', 'CDNS', 'ROP', 'EA', 'AVGO', 'MRVL', 'PEP', 'TEAM', 'MDB', 'NFLX']\n",
      "{'AVGO': 811489951744, 'NFLX': 353956593664, 'PEP': 223874482176, 'CDNS': 83024896000, 'MRVL': 79118704640, 'ORLY': 71885078528, 'ROP': 60972015616, 'TEAM': 65670782976, 'EA': 42454126592, 'MDB': 22923921408}\n"
     ]
    },
    {
     "name": "stderr",
     "output_type": "stream",
     "text": [
      "/home/diti/miniconda3/envs/devbox/lib/python3.12/site-packages/pypfopt/efficient_frontier/efficient_frontier.py:259: UserWarning:\n",
      "\n",
      "max_sharpe transforms the optimization problem so additional objectives may not work as expected.\n",
      "\n",
      "/home/diti/miniconda3/envs/devbox/lib/python3.12/site-packages/pypfopt/efficient_frontier/efficient_frontier.py:259: UserWarning:\n",
      "\n",
      "max_sharpe transforms the optimization problem so additional objectives may not work as expected.\n",
      "\n",
      "/home/diti/miniconda3/envs/devbox/lib/python3.12/site-packages/pypfopt/efficient_frontier/efficient_frontier.py:259: UserWarning:\n",
      "\n",
      "max_sharpe transforms the optimization problem so additional objectives may not work as expected.\n",
      "\n",
      "/home/diti/miniconda3/envs/devbox/lib/python3.12/site-packages/pypfopt/efficient_frontier/efficient_frontier.py:259: UserWarning:\n",
      "\n",
      "max_sharpe transforms the optimization problem so additional objectives may not work as expected.\n",
      "\n",
      "/home/diti/miniconda3/envs/devbox/lib/python3.12/site-packages/pypfopt/efficient_frontier/efficient_frontier.py:259: UserWarning:\n",
      "\n",
      "max_sharpe transforms the optimization problem so additional objectives may not work as expected.\n",
      "\n",
      "/home/diti/miniconda3/envs/devbox/lib/python3.12/site-packages/pypfopt/efficient_frontier/efficient_frontier.py:259: UserWarning:\n",
      "\n",
      "max_sharpe transforms the optimization problem so additional objectives may not work as expected.\n",
      "\n",
      "/home/diti/miniconda3/envs/devbox/lib/python3.12/site-packages/pypfopt/efficient_frontier/efficient_frontier.py:259: UserWarning:\n",
      "\n",
      "max_sharpe transforms the optimization problem so additional objectives may not work as expected.\n",
      "\n",
      "/home/diti/miniconda3/envs/devbox/lib/python3.12/site-packages/pypfopt/efficient_frontier/efficient_frontier.py:259: UserWarning:\n",
      "\n",
      "max_sharpe transforms the optimization problem so additional objectives may not work as expected.\n",
      "\n",
      "/home/diti/miniconda3/envs/devbox/lib/python3.12/site-packages/pypfopt/efficient_frontier/efficient_frontier.py:259: UserWarning:\n",
      "\n",
      "max_sharpe transforms the optimization problem so additional objectives may not work as expected.\n",
      "\n",
      "/home/diti/miniconda3/envs/devbox/lib/python3.12/site-packages/pypfopt/efficient_frontier/efficient_frontier.py:259: UserWarning:\n",
      "\n",
      "max_sharpe transforms the optimization problem so additional objectives may not work as expected.\n",
      "\n",
      "/home/diti/miniconda3/envs/devbox/lib/python3.12/site-packages/pypfopt/efficient_frontier/efficient_frontier.py:259: UserWarning:\n",
      "\n",
      "max_sharpe transforms the optimization problem so additional objectives may not work as expected.\n",
      "\n",
      "/home/diti/miniconda3/envs/devbox/lib/python3.12/site-packages/pypfopt/efficient_frontier/efficient_frontier.py:259: UserWarning:\n",
      "\n",
      "max_sharpe transforms the optimization problem so additional objectives may not work as expected.\n",
      "\n"
     ]
    },
    {
     "name": "stdout",
     "output_type": "stream",
     "text": [
      "Leftover: $79.04\n",
      "['MDB', 'ASML', 'AMAT', 'CTSH', 'ADSK', 'AVGO', 'INTU', 'XEL', 'MU', 'ABNB']\n",
      "{'AVGO': 811489951744, 'ASML': 260052844544, 'INTU': 199649181696, 'AMAT': 150989586432, 'MU': 112519364608, 'ABNB': 83713196032, 'ADSK': 67468324864, 'CTSH': 40469155840, 'XEL': 39476264960, 'MDB': 22923921408}\n",
      "Leftover: $25.93\n",
      "['BKNG', 'PYPL', 'REGN', 'MNST', 'CSCO', 'DASH', 'SNPS', 'FAST', 'EXC', 'GOOGL']\n",
      "{'GOOGL': 2204467986432, 'CSCO': 233581182976, 'BKNG': 165385535488, 'REGN': 89149177856, 'SNPS': 85904015360, 'PYPL': 87010451456, 'DASH': 73188622336, 'MNST': 54568099840, 'FAST': 48085184512, 'EXC': 38258905088}\n",
      "Leftover: $142.86\n",
      "['KHC', 'ANSS', 'ORLY', 'ARM', 'AMD', 'QCOM', 'KLAC', 'LULU', 'GILD', 'CDW']\n",
      "{'AMD': 231128711168, 'QCOM': 177909989376, 'ARM': 142536622080, 'GILD': 116414078976, 'KLAC': 85817745408, 'ORLY': 71885078528, 'KHC': 38626934784, 'LULU': 40281907200, 'ANSS': 30192373760, 'CDW': 25252196352}\n",
      "Leftover: $64.57\n",
      "['NVDA', 'PAYX', 'TEAM', 'MRVL', 'META', 'CPRT', 'ILMN', 'WBA', 'FTNT', 'MRNA']\n",
      "{'NVDA': 3603459473408, 'META': 1467636645888, 'MRVL': 79118704640, 'FTNT': 76273565696, 'TEAM': 65670782976, 'CPRT': 55413329920, 'PAYX': 52987777024, 'ILMN': 23188908032, 'MRNA': 16177747968, 'WBA': 7950153216}\n",
      "Leftover: $14.98\n",
      "['AMD', 'ANSS', 'PDD', 'KLAC', 'AMGN', 'DLTR', 'BKR', 'MNST', 'MRNA', 'WBA']\n",
      "{'AMD': 231128711168, 'AMGN': 160827195392, 'PDD': 156806037504, 'KLAC': 85817745408, 'MNST': 54568099840, 'BKR': 42836582400, 'ANSS': 30192373760, 'MRNA': 16177747968, 'DLTR': 13452049408, 'WBA': 7950153216}\n",
      "Leftover: $37.11\n",
      "['ZS', 'ASML', 'PYPL', 'GEHC', 'AAPL', 'TSLA', 'KDP', 'WBD', 'CSCO', 'CHTR']\n",
      "{'AAPL': 3384880922624, 'TSLA': 1050973634560, 'ASML': 260052844544, 'CSCO': 233581182976, 'PYPL': 87010451456, 'CHTR': 57495531520, 'KDP': 45468205056, 'GEHC': 38098636800, 'ZS': 33011798016, 'WBD': 23673088000}\n",
      "Leftover: $54.15\n",
      "['PYPL', 'CTSH', 'CEG', 'DDOG', 'CHTR', 'EA', 'CPRT', 'WBA', 'MSFT', 'ADP']\n",
      "{'MSFT': 3118709080064, 'ADP': 125659160576, 'PYPL': 87010451456, 'CEG': 71854309376, 'CHTR': 57495531520, 'CPRT': 55413329920, 'DDOG': 43674787840, 'EA': 42454126592, 'CTSH': 40469155840, 'WBA': 7950153216}\n",
      "Leftover: $90.91\n",
      "['FTNT', 'TXN', 'CTSH', 'TEAM', 'CMCSA', 'MDB', 'CPRT', 'BIIB', 'REGN', 'CDW']\n",
      "{'TXN': 190361436160, 'CMCSA': 167908573184, 'REGN': 89149177856, 'FTNT': 76273565696, 'TEAM': 65670782976, 'CPRT': 55413329920, 'CTSH': 40469155840, 'CDW': 25252196352, 'BIIB': 24317589504, 'MDB': 22923921408}\n"
     ]
    },
    {
     "name": "stderr",
     "output_type": "stream",
     "text": [
      "/home/diti/miniconda3/envs/devbox/lib/python3.12/site-packages/pypfopt/efficient_frontier/efficient_frontier.py:259: UserWarning:\n",
      "\n",
      "max_sharpe transforms the optimization problem so additional objectives may not work as expected.\n",
      "\n",
      "/home/diti/miniconda3/envs/devbox/lib/python3.12/site-packages/pypfopt/efficient_frontier/efficient_frontier.py:259: UserWarning:\n",
      "\n",
      "max_sharpe transforms the optimization problem so additional objectives may not work as expected.\n",
      "\n",
      "/home/diti/miniconda3/envs/devbox/lib/python3.12/site-packages/pypfopt/efficient_frontier/efficient_frontier.py:259: UserWarning:\n",
      "\n",
      "max_sharpe transforms the optimization problem so additional objectives may not work as expected.\n",
      "\n",
      "/home/diti/miniconda3/envs/devbox/lib/python3.12/site-packages/pypfopt/efficient_frontier/efficient_frontier.py:259: UserWarning:\n",
      "\n",
      "max_sharpe transforms the optimization problem so additional objectives may not work as expected.\n",
      "\n",
      "/home/diti/miniconda3/envs/devbox/lib/python3.12/site-packages/pypfopt/efficient_frontier/efficient_frontier.py:259: UserWarning:\n",
      "\n",
      "max_sharpe transforms the optimization problem so additional objectives may not work as expected.\n",
      "\n",
      "/home/diti/miniconda3/envs/devbox/lib/python3.12/site-packages/pypfopt/efficient_frontier/efficient_frontier.py:259: UserWarning:\n",
      "\n",
      "max_sharpe transforms the optimization problem so additional objectives may not work as expected.\n",
      "\n",
      "/home/diti/miniconda3/envs/devbox/lib/python3.12/site-packages/pypfopt/efficient_frontier/efficient_frontier.py:259: UserWarning:\n",
      "\n",
      "max_sharpe transforms the optimization problem so additional objectives may not work as expected.\n",
      "\n",
      "/home/diti/miniconda3/envs/devbox/lib/python3.12/site-packages/pypfopt/efficient_frontier/efficient_frontier.py:259: UserWarning:\n",
      "\n",
      "max_sharpe transforms the optimization problem so additional objectives may not work as expected.\n",
      "\n"
     ]
    },
    {
     "name": "stdout",
     "output_type": "stream",
     "text": [
      "Leftover: $9.12\n",
      "['LIN', 'PANW', 'CSGP', 'MNST', 'ROP', 'KLAC', 'ABNB', 'META', 'XEL', 'CTAS']\n",
      "{'META': 1467636645888, 'LIN': 216287625216, 'PANW': 132726456320, 'KLAC': 85817745408, 'ABNB': 83713196032, 'CTAS': 90528530432, 'ROP': 60972015616, 'MNST': 54568099840, 'XEL': 39476264960, 'CSGP': 31021672448}\n",
      "Leftover: $12.67\n",
      "['XEL', 'GEHC', 'ADBE', 'KHC', 'PANW', 'CDW', 'CSX', 'DDOG', 'ON', 'ADSK']\n",
      "{'ADBE': 233702195200, 'PANW': 132726456320, 'CSX': 69847375872, 'ADSK': 67468324864, 'DDOG': 43674787840, 'KHC': 38626934784, 'GEHC': 38098636800, 'XEL': 39476264960, 'ON': 29094709248, 'CDW': 25252196352}\n",
      "Leftover: $7.25\n",
      "['WDAY', 'PYPL', 'MRNA', 'MAR', 'CTSH', 'VRTX', 'MU', 'FTNT', 'ADI', 'ROP']\n",
      "{'VRTX': 127268249600, 'MU': 112519364608, 'ADI': 106907353088, 'PYPL': 87010451456, 'MAR': 79909183488, 'WDAY': 73261899776, 'FTNT': 76273565696, 'ROP': 60972015616, 'CTSH': 40469155840, 'MRNA': 16177747968}\n",
      "Leftover: $11.35\n",
      "['QCOM', 'PEP', 'TMUS', 'XEL', 'TTWO', 'MRNA', 'PCAR', 'AMZN', 'DLTR', 'NVDA']\n",
      "{'NVDA': 3603459473408, 'AMZN': 2220347621376, 'TMUS': 277693628416, 'PEP': 223874482176, 'QCOM': 177909989376, 'PCAR': 61264568320, 'XEL': 39476264960, 'TTWO': 31755118592, 'MRNA': 16177747968, 'DLTR': 13452049408}\n",
      "Leftover: $13.05\n",
      "['NFLX', 'MNST', 'CSGP', 'ODFL', 'TTD', 'ZS', 'NVDA', 'FTNT', 'TMUS', 'GILD']\n",
      "{'NVDA': 3603459473408, 'NFLX': 353956593664, 'TMUS': 277693628416, 'GILD': 116414078976, 'FTNT': 76273565696, 'TTD': 64450895872, 'MNST': 54568099840, 'ODFL': 48016748544, 'CSGP': 31021672448, 'ZS': 33011798016}\n",
      "Leftover: $4.11\n",
      "['MDB', 'LRCX', 'AMAT', 'XEL', 'TSLA', 'MELI', 'MU', 'CTAS', 'AEP', 'BIIB']\n",
      "{'TSLA': 1050973634560, 'AMAT': 150989586432, 'MU': 112519364608, 'MELI': 98510118912, 'LRCX': 94886961152, 'CTAS': 90528530432, 'AEP': 49701625856, 'XEL': 39476264960, 'BIIB': 24317589504, 'MDB': 22923921408}\n",
      "Leftover: $213.06\n",
      "['BKNG', 'ZS', 'AAPL', 'MRNA', 'EXC', 'COST', 'AMD', 'ROP', 'TSLA', 'CDNS']\n",
      "{'AAPL': 3384880922624, 'TSLA': 1050973634560, 'COST': 413609558016, 'AMD': 231128711168, 'BKNG': 165385535488, 'CDNS': 83024896000, 'ROP': 60972015616, 'EXC': 38258905088, 'ZS': 33011798016, 'MRNA': 16177747968}\n",
      "Leftover: $27.23\n",
      "['ANSS', 'MELI', 'PAYX', 'TMUS', 'KLAC', 'KHC', 'WBD', 'CEG', 'INTC', 'TSLA']\n",
      "{'TSLA': 1050973634560, 'TMUS': 277693628416, 'MELI': 98510118912, 'INTC': 104999976960, 'KLAC': 85817745408, 'CEG': 71854309376, 'PAYX': 52987777024, 'KHC': 38626934784, 'ANSS': 30192373760, 'WBD': 23673088000}\n",
      "Leftover: $162.58\n",
      "['XEL', 'CTAS', 'BKR', 'NXPI', 'AMAT', 'WBA', 'CDNS', 'AEP', 'LRCX', 'CDW']\n",
      "{'AMAT': 150989586432, 'LRCX': 94886961152, 'CTAS': 90528530432, 'CDNS': 83024896000, 'NXPI': 56408653824, 'AEP': 49701625856, 'BKR': 42836582400, 'XEL': 39476264960, 'CDW': 25252196352, 'WBA': 7950153216}\n",
      "Leftover: $8.14\n",
      "['GOOGL', 'INTU', 'ADP', 'GEHC', 'TTWO', 'INTC', 'DXCM', 'FAST', 'AVGO', 'SNPS']\n",
      "{'GOOGL': 2204467986432, 'AVGO': 811489951744, 'INTU': 199649181696, 'ADP': 125659160576, 'INTC': 104999976960, 'SNPS': 85904015360, 'FAST': 48085184512, 'GEHC': 38098636800, 'TTWO': 31755118592, 'DXCM': 28083781632}\n",
      "Leftover: $11.27\n",
      "['LULU', 'DDOG', 'ADSK', 'AMAT', 'CEG', 'XEL', 'KLAC', 'HON', 'MAR', 'CTSH']\n",
      "{'AMAT': 150989586432, 'HON': 152730009600, 'KLAC': 85817745408, 'MAR': 79909183488, 'CEG': 71854309376, 'ADSK': 67468324864, 'DDOG': 43674787840, 'CTSH': 40469155840, 'LULU': 40281907200, 'XEL': 39476264960}\n"
     ]
    },
    {
     "name": "stderr",
     "output_type": "stream",
     "text": [
      "/home/diti/miniconda3/envs/devbox/lib/python3.12/site-packages/pypfopt/efficient_frontier/efficient_frontier.py:259: UserWarning:\n",
      "\n",
      "max_sharpe transforms the optimization problem so additional objectives may not work as expected.\n",
      "\n",
      "/home/diti/miniconda3/envs/devbox/lib/python3.12/site-packages/pypfopt/efficient_frontier/efficient_frontier.py:259: UserWarning:\n",
      "\n",
      "max_sharpe transforms the optimization problem so additional objectives may not work as expected.\n",
      "\n",
      "/home/diti/miniconda3/envs/devbox/lib/python3.12/site-packages/pypfopt/efficient_frontier/efficient_frontier.py:259: UserWarning:\n",
      "\n",
      "max_sharpe transforms the optimization problem so additional objectives may not work as expected.\n",
      "\n",
      "/home/diti/miniconda3/envs/devbox/lib/python3.12/site-packages/pypfopt/efficient_frontier/efficient_frontier.py:259: UserWarning:\n",
      "\n",
      "max_sharpe transforms the optimization problem so additional objectives may not work as expected.\n",
      "\n",
      "/home/diti/miniconda3/envs/devbox/lib/python3.12/site-packages/pypfopt/efficient_frontier/efficient_frontier.py:259: UserWarning:\n",
      "\n",
      "max_sharpe transforms the optimization problem so additional objectives may not work as expected.\n",
      "\n",
      "/home/diti/miniconda3/envs/devbox/lib/python3.12/site-packages/pypfopt/efficient_frontier/efficient_frontier.py:259: UserWarning:\n",
      "\n",
      "max_sharpe transforms the optimization problem so additional objectives may not work as expected.\n",
      "\n",
      "/home/diti/miniconda3/envs/devbox/lib/python3.12/site-packages/pypfopt/efficient_frontier/efficient_frontier.py:259: UserWarning:\n",
      "\n",
      "max_sharpe transforms the optimization problem so additional objectives may not work as expected.\n",
      "\n",
      "/home/diti/miniconda3/envs/devbox/lib/python3.12/site-packages/pypfopt/efficient_frontier/efficient_frontier.py:259: UserWarning:\n",
      "\n",
      "max_sharpe transforms the optimization problem so additional objectives may not work as expected.\n",
      "\n",
      "/home/diti/miniconda3/envs/devbox/lib/python3.12/site-packages/pypfopt/efficient_frontier/efficient_frontier.py:259: UserWarning:\n",
      "\n",
      "max_sharpe transforms the optimization problem so additional objectives may not work as expected.\n",
      "\n",
      "/home/diti/miniconda3/envs/devbox/lib/python3.12/site-packages/pypfopt/efficient_frontier/efficient_frontier.py:259: UserWarning:\n",
      "\n",
      "max_sharpe transforms the optimization problem so additional objectives may not work as expected.\n",
      "\n",
      "/home/diti/miniconda3/envs/devbox/lib/python3.12/site-packages/pypfopt/efficient_frontier/efficient_frontier.py:259: UserWarning:\n",
      "\n",
      "max_sharpe transforms the optimization problem so additional objectives may not work as expected.\n",
      "\n"
     ]
    },
    {
     "name": "stdout",
     "output_type": "stream",
     "text": [
      "Leftover: $247.81\n",
      "['XEL', 'CTSH', 'KHC', 'AAPL', 'ADP', 'CRWD', 'AMAT', 'ODFL', 'TTD', 'BKNG']\n",
      "{'AAPL': 3384880922624, 'BKNG': 165385535488, 'AMAT': 150989586432, 'ADP': 125659160576, 'CRWD': 87264854016, 'TTD': 64450895872, 'ODFL': 48016748544, 'KHC': 38626934784, 'CTSH': 40469155840, 'XEL': 39476264960}\n",
      "Leftover: $13.21\n",
      "['NVDA', 'ODFL', 'ADBE', 'CDW', 'PDD', 'IDXX', 'LIN', 'HON', 'GFS', 'MNST']\n",
      "{'NVDA': 3603459473408, 'ADBE': 233702195200, 'LIN': 216287625216, 'PDD': 156806037504, 'HON': 152730009600, 'MNST': 54568099840, 'ODFL': 48016748544, 'IDXX': 35063029760, 'CDW': 25252196352, 'GFS': 23222562816}\n",
      "Leftover: $57.41\n",
      "['CEG', 'CPRT', 'INTC', 'ASML', 'BKNG', 'ABNB', 'EXC', 'CSX', 'MDB', 'IDXX']\n",
      "{'ASML': 260052844544, 'BKNG': 165385535488, 'INTC': 104999976960, 'ABNB': 83713196032, 'CEG': 71854309376, 'CSX': 69847375872, 'CPRT': 55413329920, 'EXC': 38258905088, 'IDXX': 35063029760, 'MDB': 22923921408}\n"
     ]
    },
    {
     "name": "stderr",
     "output_type": "stream",
     "text": [
      "/home/diti/miniconda3/envs/devbox/lib/python3.12/site-packages/pypfopt/efficient_frontier/efficient_frontier.py:259: UserWarning:\n",
      "\n",
      "max_sharpe transforms the optimization problem so additional objectives may not work as expected.\n",
      "\n",
      "/home/diti/miniconda3/envs/devbox/lib/python3.12/site-packages/pypfopt/efficient_frontier/efficient_frontier.py:259: UserWarning:\n",
      "\n",
      "max_sharpe transforms the optimization problem so additional objectives may not work as expected.\n",
      "\n",
      "/home/diti/miniconda3/envs/devbox/lib/python3.12/site-packages/pypfopt/efficient_frontier/efficient_frontier.py:259: UserWarning:\n",
      "\n",
      "max_sharpe transforms the optimization problem so additional objectives may not work as expected.\n",
      "\n",
      "/home/diti/miniconda3/envs/devbox/lib/python3.12/site-packages/cvxpy/problems/problem.py:1407: UserWarning:\n",
      "\n",
      "Solution may be inaccurate. Try another solver, adjusting the solver settings, or solve with verbose=True for more information.\n",
      "\n",
      "/home/diti/miniconda3/envs/devbox/lib/python3.12/site-packages/pypfopt/efficient_frontier/efficient_frontier.py:259: UserWarning:\n",
      "\n",
      "max_sharpe transforms the optimization problem so additional objectives may not work as expected.\n",
      "\n",
      "/home/diti/miniconda3/envs/devbox/lib/python3.12/site-packages/pypfopt/efficient_frontier/efficient_frontier.py:259: UserWarning:\n",
      "\n",
      "max_sharpe transforms the optimization problem so additional objectives may not work as expected.\n",
      "\n",
      "/home/diti/miniconda3/envs/devbox/lib/python3.12/site-packages/pypfopt/efficient_frontier/efficient_frontier.py:259: UserWarning:\n",
      "\n",
      "max_sharpe transforms the optimization problem so additional objectives may not work as expected.\n",
      "\n",
      "/home/diti/miniconda3/envs/devbox/lib/python3.12/site-packages/pypfopt/efficient_frontier/efficient_frontier.py:259: UserWarning:\n",
      "\n",
      "max_sharpe transforms the optimization problem so additional objectives may not work as expected.\n",
      "\n",
      "/home/diti/miniconda3/envs/devbox/lib/python3.12/site-packages/pypfopt/efficient_frontier/efficient_frontier.py:259: UserWarning:\n",
      "\n",
      "max_sharpe transforms the optimization problem so additional objectives may not work as expected.\n",
      "\n",
      "/home/diti/miniconda3/envs/devbox/lib/python3.12/site-packages/pypfopt/efficient_frontier/efficient_frontier.py:259: UserWarning:\n",
      "\n",
      "max_sharpe transforms the optimization problem so additional objectives may not work as expected.\n",
      "\n",
      "/home/diti/miniconda3/envs/devbox/lib/python3.12/site-packages/pypfopt/efficient_frontier/efficient_frontier.py:259: UserWarning:\n",
      "\n",
      "max_sharpe transforms the optimization problem so additional objectives may not work as expected.\n",
      "\n",
      "/home/diti/miniconda3/envs/devbox/lib/python3.12/site-packages/pypfopt/efficient_frontier/efficient_frontier.py:259: UserWarning:\n",
      "\n",
      "max_sharpe transforms the optimization problem so additional objectives may not work as expected.\n",
      "\n",
      "/home/diti/miniconda3/envs/devbox/lib/python3.12/site-packages/pypfopt/efficient_frontier/efficient_frontier.py:259: UserWarning:\n",
      "\n",
      "max_sharpe transforms the optimization problem so additional objectives may not work as expected.\n",
      "\n",
      "/home/diti/miniconda3/envs/devbox/lib/python3.12/site-packages/pypfopt/efficient_frontier/efficient_frontier.py:259: UserWarning:\n",
      "\n",
      "max_sharpe transforms the optimization problem so additional objectives may not work as expected.\n",
      "\n",
      "/home/diti/miniconda3/envs/devbox/lib/python3.12/site-packages/pypfopt/efficient_frontier/efficient_frontier.py:259: UserWarning:\n",
      "\n",
      "max_sharpe transforms the optimization problem so additional objectives may not work as expected.\n",
      "\n"
     ]
    },
    {
     "name": "stdout",
     "output_type": "stream",
     "text": [
      "Leftover: $172.93\n",
      "['GFS', 'XEL', 'TTWO', 'ADI', 'PEP', 'AVGO', 'CCEP', 'CDNS', 'WDAY', 'COST']\n",
      "{'AVGO': 811489951744, 'COST': 413609558016, 'PEP': 223874482176, 'ADI': 106907353088, 'CDNS': 83024896000, 'WDAY': 73261899776, 'XEL': 39476264960, 'CCEP': 36756758528, 'TTWO': 31755118592, 'GFS': 23222562816}\n",
      "Leftover: $24.47\n",
      "['AMGN', 'TTD', 'ORLY', 'INTC', 'MRVL', 'CSCO', 'GOOG', 'ADBE', 'AMD', 'MAR']\n",
      "{'GOOG': 2204606398464, 'AMD': 231128711168, 'CSCO': 233581182976, 'ADBE': 233702195200, 'AMGN': 160827195392, 'INTC': 104999976960, 'MRVL': 79118704640, 'MAR': 79909183488, 'ORLY': 71885078528, 'TTD': 64450895872}\n",
      "Leftover: $27.69\n",
      "['ODFL', 'ROST', 'TXN', 'IDXX', 'TTWO', 'VRTX', 'MDB', 'ADSK', 'AEP', 'GOOGL']\n",
      "{'GOOGL': 2204467986432, 'TXN': 190361436160, 'VRTX': 127268249600, 'ADSK': 67468324864, 'AEP': 49701625856, 'ODFL': 48016748544, 'ROST': 46683885568, 'IDXX': 35063029760, 'TTWO': 31755118592, 'MDB': 22923921408}\n",
      "Leftover: $55.90\n",
      "['CDNS', 'AZN', 'LRCX', 'CEG', 'TTD', 'ABNB', 'NFLX', 'MRVL', 'PEP', 'BIIB']\n",
      "{'NFLX': 353956593664, 'PEP': 223874482176, 'AZN': 200795521024, 'LRCX': 94886961152, 'ABNB': 83713196032, 'CDNS': 83024896000, 'MRVL': 79118704640, 'CEG': 71854309376, 'TTD': 64450895872, 'BIIB': 24317589504}\n",
      "Leftover: $72.14\n",
      "['KHC', 'AEP', 'ZS', 'XEL', 'MELI', 'COST', 'TXN', 'TEAM', 'BIIB', 'FANG']\n",
      "{'COST': 413609558016, 'TXN': 190361436160, 'MELI': 98510118912, 'TEAM': 65670782976, 'FANG': 52009078784, 'AEP': 49701625856, 'KHC': 38626934784, 'XEL': 39476264960, 'ZS': 33011798016, 'BIIB': 24317589504}\n",
      "Leftover: $113.53\n",
      "['INTC', 'FANG', 'CSGP', 'WBA', 'CEG', 'ILMN', 'GOOGL', 'MRNA', 'ASML', 'PDD']\n",
      "{'GOOGL': 2204467986432, 'ASML': 260052844544, 'PDD': 156806037504, 'INTC': 104999976960, 'CEG': 71854309376, 'FANG': 52009078784, 'CSGP': 31021672448, 'ILMN': 23188908032, 'MRNA': 16177747968, 'WBA': 7950153216}\n",
      "Leftover: $116.72\n",
      "['ORLY', 'MNST', 'ADI', 'ISRG', 'INTU', 'MSFT', 'MDB', 'VRTX', 'PDD', 'GFS']\n",
      "{'MSFT': 3118709080064, 'INTU': 199649181696, 'ISRG': 191093604352, 'PDD': 156806037504, 'VRTX': 127268249600, 'ADI': 106907353088, 'ORLY': 71885078528, 'MNST': 54568099840, 'GFS': 23222562816, 'MDB': 22923921408}\n",
      "Leftover: $28.13\n",
      "['KLAC', 'CDNS', 'TMUS', 'PAYX', 'GEHC', 'WDAY', 'AMD', 'GOOGL', 'PEP', 'LIN']\n",
      "{'GOOGL': 2204467986432, 'TMUS': 277693628416, 'AMD': 231128711168, 'PEP': 223874482176, 'LIN': 216287625216, 'KLAC': 85817745408, 'CDNS': 83024896000, 'WDAY': 73261899776, 'PAYX': 52987777024, 'GEHC': 38098636800}\n",
      "Leftover: $52.91\n",
      "['SBUX', 'LULU', 'ON', 'AVGO', 'CSX', 'GILD', 'KLAC', 'CHTR', 'PDD', 'ROP']\n",
      "{'AVGO': 811489951744, 'PDD': 156806037504, 'GILD': 116414078976, 'SBUX': 112035135488, 'KLAC': 85817745408, 'CSX': 69847375872, 'CHTR': 57495531520, 'ROP': 60972015616, 'LULU': 40281907200, 'ON': 29094709248}\n",
      "Leftover: $22.05\n",
      "['ABNB', 'ADI', 'TMUS', 'MAR', 'ADBE', 'TEAM', 'PAYX', 'BKNG', 'AEP', 'IDXX']\n",
      "{'TMUS': 277693628416, 'ADBE': 233702195200, 'BKNG': 165385535488, 'ADI': 106907353088, 'ABNB': 83713196032, 'MAR': 79909183488, 'TEAM': 65670782976, 'PAYX': 52987777024, 'AEP': 49701625856, 'IDXX': 35063029760}\n",
      "Leftover: $127.21\n",
      "['TTD', 'GILD', 'MNST', 'QCOM', 'FANG', 'LULU', 'REGN', 'DLTR', 'MAR', 'ANSS']\n",
      "{'QCOM': 177909989376, 'GILD': 116414078976, 'REGN': 89149177856, 'MAR': 79909183488, 'TTD': 64450895872, 'FANG': 52009078784, 'MNST': 54568099840, 'LULU': 40281907200, 'ANSS': 30192373760, 'DLTR': 13452049408}\n",
      "Leftover: $53.85\n",
      "['ARM', 'TTWO', 'SNPS', 'ISRG', 'CTSH', 'ON', 'CRWD', 'XEL', 'LULU', 'MDB']\n",
      "{'ISRG': 191093604352, 'ARM': 142536622080, 'SNPS': 85904015360, 'CRWD': 87264854016, 'CTSH': 40469155840, 'LULU': 40281907200, 'XEL': 39476264960, 'ON': 29094709248, 'TTWO': 31755118592, 'MDB': 22923921408}\n"
     ]
    },
    {
     "name": "stderr",
     "output_type": "stream",
     "text": [
      "/home/diti/miniconda3/envs/devbox/lib/python3.12/site-packages/pypfopt/efficient_frontier/efficient_frontier.py:259: UserWarning:\n",
      "\n",
      "max_sharpe transforms the optimization problem so additional objectives may not work as expected.\n",
      "\n",
      "/home/diti/miniconda3/envs/devbox/lib/python3.12/site-packages/pypfopt/efficient_frontier/efficient_frontier.py:259: UserWarning:\n",
      "\n",
      "max_sharpe transforms the optimization problem so additional objectives may not work as expected.\n",
      "\n",
      "/home/diti/miniconda3/envs/devbox/lib/python3.12/site-packages/pypfopt/efficient_frontier/efficient_frontier.py:259: UserWarning:\n",
      "\n",
      "max_sharpe transforms the optimization problem so additional objectives may not work as expected.\n",
      "\n"
     ]
    },
    {
     "name": "stdout",
     "output_type": "stream",
     "text": [
      "Leftover: $31.52\n",
      "['CSCO', 'AMAT', 'MAR', 'EXC', 'AMGN', 'AZN', 'FAST', 'AVGO', 'CMCSA', 'MDLZ']\n",
      "{'AVGO': 811489951744, 'CSCO': 233581182976, 'AZN': 200795521024, 'AMGN': 160827195392, 'CMCSA': 167908573184, 'AMAT': 150989586432, 'MDLZ': 87735443456, 'MAR': 79909183488, 'FAST': 48085184512, 'EXC': 38258905088}\n",
      "Leftover: $132.28\n",
      "['BKNG', 'FANG', 'CSGP', 'GFS', 'PCAR', 'SNPS', 'MAR', 'MELI', 'MNST', 'MCHP']\n",
      "{'BKNG': 165385535488, 'MELI': 98510118912, 'SNPS': 85904015360, 'MAR': 79909183488, 'PCAR': 61264568320, 'FANG': 52009078784, 'MNST': 54568099840, 'MCHP': 35501731840, 'CSGP': 31021672448, 'GFS': 23222562816}\n",
      "Leftover: $53.79\n",
      "['KDP', 'ROP', 'ASML', 'TXN', 'MSFT', 'CTSH', 'LRCX', 'AMD', 'NFLX', 'MU']\n",
      "{'MSFT': 3118709080064, 'NFLX': 353956593664, 'ASML': 260052844544, 'AMD': 231128711168, 'TXN': 190361436160, 'MU': 112519364608, 'LRCX': 94886961152, 'ROP': 60972015616, 'KDP': 45468205056, 'CTSH': 40469155840}\n"
     ]
    },
    {
     "name": "stderr",
     "output_type": "stream",
     "text": [
      "/home/diti/miniconda3/envs/devbox/lib/python3.12/site-packages/pypfopt/efficient_frontier/efficient_frontier.py:259: UserWarning:\n",
      "\n",
      "max_sharpe transforms the optimization problem so additional objectives may not work as expected.\n",
      "\n",
      "/home/diti/miniconda3/envs/devbox/lib/python3.12/site-packages/pypfopt/efficient_frontier/efficient_frontier.py:259: UserWarning:\n",
      "\n",
      "max_sharpe transforms the optimization problem so additional objectives may not work as expected.\n",
      "\n",
      "/home/diti/miniconda3/envs/devbox/lib/python3.12/site-packages/pypfopt/efficient_frontier/efficient_frontier.py:259: UserWarning:\n",
      "\n",
      "max_sharpe transforms the optimization problem so additional objectives may not work as expected.\n",
      "\n",
      "/home/diti/miniconda3/envs/devbox/lib/python3.12/site-packages/pypfopt/efficient_frontier/efficient_frontier.py:259: UserWarning:\n",
      "\n",
      "max_sharpe transforms the optimization problem so additional objectives may not work as expected.\n",
      "\n",
      "/home/diti/miniconda3/envs/devbox/lib/python3.12/site-packages/pypfopt/efficient_frontier/efficient_frontier.py:259: UserWarning:\n",
      "\n",
      "max_sharpe transforms the optimization problem so additional objectives may not work as expected.\n",
      "\n",
      "/home/diti/miniconda3/envs/devbox/lib/python3.12/site-packages/pypfopt/efficient_frontier/efficient_frontier.py:259: UserWarning:\n",
      "\n",
      "max_sharpe transforms the optimization problem so additional objectives may not work as expected.\n",
      "\n",
      "/home/diti/miniconda3/envs/devbox/lib/python3.12/site-packages/pypfopt/efficient_frontier/efficient_frontier.py:259: UserWarning:\n",
      "\n",
      "max_sharpe transforms the optimization problem so additional objectives may not work as expected.\n",
      "\n",
      "/home/diti/miniconda3/envs/devbox/lib/python3.12/site-packages/pypfopt/efficient_frontier/efficient_frontier.py:259: UserWarning:\n",
      "\n",
      "max_sharpe transforms the optimization problem so additional objectives may not work as expected.\n",
      "\n",
      "/home/diti/miniconda3/envs/devbox/lib/python3.12/site-packages/pypfopt/efficient_frontier/efficient_frontier.py:259: UserWarning:\n",
      "\n",
      "max_sharpe transforms the optimization problem so additional objectives may not work as expected.\n",
      "\n",
      "/home/diti/miniconda3/envs/devbox/lib/python3.12/site-packages/pypfopt/efficient_frontier/efficient_frontier.py:259: UserWarning:\n",
      "\n",
      "max_sharpe transforms the optimization problem so additional objectives may not work as expected.\n",
      "\n",
      "/home/diti/miniconda3/envs/devbox/lib/python3.12/site-packages/pypfopt/efficient_frontier/efficient_frontier.py:259: UserWarning:\n",
      "\n",
      "max_sharpe transforms the optimization problem so additional objectives may not work as expected.\n",
      "\n"
     ]
    },
    {
     "name": "stdout",
     "output_type": "stream",
     "text": [
      "Leftover: $265.16\n",
      "['ASML', 'ADP', 'KLAC', 'CCEP', 'DXCM', 'PDD', 'ADI', 'REGN', 'AAPL', 'CDW']\n",
      "{'AAPL': 3384880922624, 'ASML': 260052844544, 'PDD': 156806037504, 'ADP': 125659160576, 'ADI': 106907353088, 'KLAC': 85817745408, 'REGN': 89149177856, 'CCEP': 36756758528, 'CDW': 25252196352, 'DXCM': 28083781632}\n",
      "Leftover: $282.03\n",
      "['LULU', 'ASML', 'ROP', 'TEAM', 'CSCO', 'LRCX', 'AVGO', 'ISRG', 'MRNA', 'MDLZ']\n",
      "{'AVGO': 811489951744, 'ASML': 260052844544, 'CSCO': 233581182976, 'ISRG': 191093604352, 'LRCX': 94886961152, 'MDLZ': 87735443456, 'ROP': 60972015616, 'TEAM': 65670782976, 'LULU': 40281907200, 'MRNA': 16177747968}\n",
      "Leftover: $23.31\n",
      "['GILD', 'ON', 'MNST', 'ADP', 'CTAS', 'CEG', 'AMAT', 'FTNT', 'XEL', 'NFLX']\n",
      "{'NFLX': 353956593664, 'AMAT': 150989586432, 'ADP': 125659160576, 'GILD': 116414078976, 'CTAS': 90528530432, 'CEG': 71854309376, 'FTNT': 76273565696, 'MNST': 54568099840, 'XEL': 39476264960, 'ON': 29094709248}\n",
      "Leftover: $2.34\n",
      "['QCOM', 'TTD', 'ANSS', 'FTNT', 'VRSK', 'LRCX', 'WDAY', 'ADI', 'MAR', 'MRNA']\n",
      "{'QCOM': 177909989376, 'ADI': 106907353088, 'LRCX': 94886961152, 'MAR': 79909183488, 'WDAY': 73261899776, 'FTNT': 76273565696, 'TTD': 64450895872, 'VRSK': 40749260800, 'ANSS': 30192373760, 'MRNA': 16177747968}\n",
      "Leftover: $36.05\n",
      "['WDAY', 'INTC', 'KHC', 'MELI', 'VRTX', 'LULU', 'PDD', 'AMGN', 'CMCSA', 'CTSH']\n",
      "{'AMGN': 160827195392, 'CMCSA': 167908573184, 'PDD': 156806037504, 'VRTX': 127268249600, 'MELI': 98510118912, 'INTC': 104999976960, 'WDAY': 73261899776, 'KHC': 38626934784, 'CTSH': 40469155840, 'LULU': 40281907200}\n",
      "Leftover: $25.09\n",
      "['AAPL', 'TMUS', 'PYPL', 'ODFL', 'SNPS', 'FTNT', 'CPRT', 'TSLA', 'ROP', 'AZN']\n",
      "{'AAPL': 3384880922624, 'TSLA': 1050973634560, 'TMUS': 277693628416, 'AZN': 200795521024, 'SNPS': 85904015360, 'PYPL': 87010451456, 'FTNT': 76273565696, 'ROP': 60972015616, 'CPRT': 55413329920, 'ODFL': 48016748544}\n",
      "Leftover: $94.07\n",
      "['ADP', 'CTAS', 'CCEP', 'CSGP', 'MRNA', 'ADBE', 'META', 'CRWD', 'ROST', 'PEP']\n",
      "{'META': 1467636645888, 'PEP': 223874482176, 'ADBE': 233702195200, 'ADP': 125659160576, 'CTAS': 90528530432, 'CRWD': 87264854016, 'ROST': 46683885568, 'CCEP': 36756758528, 'CSGP': 31021672448, 'MRNA': 16177747968}\n",
      "Leftover: $47.47\n",
      "['GOOGL', 'TTWO', 'EXC', 'XEL', 'REGN', 'QCOM', 'ZS', 'WDAY', 'MDB', 'MRVL']\n",
      "{'GOOGL': 2204467986432, 'QCOM': 177909989376, 'REGN': 89149177856, 'MRVL': 79118704640, 'WDAY': 73261899776, 'EXC': 38258905088, 'XEL': 39476264960, 'ZS': 33011798016, 'TTWO': 31755118592, 'MDB': 22923921408}\n",
      "Leftover: $30.24\n",
      "['PANW', 'PAYX', 'SNPS', 'GEHC', 'TSLA', 'MNST', 'ASML', 'GFS', 'MSFT', 'CEG']\n",
      "{'MSFT': 3118709080064, 'TSLA': 1050973634560, 'ASML': 260052844544, 'PANW': 132726456320, 'SNPS': 85904015360, 'CEG': 71854309376, 'MNST': 54568099840, 'PAYX': 52987777024, 'GEHC': 38098636800, 'GFS': 23222562816}\n",
      "Leftover: $101.30\n",
      "['ADI', 'DDOG', 'INTC', 'GFS', 'REGN', 'MRVL', 'META', 'GOOG', 'EXC', 'CTAS']\n",
      "{'GOOG': 2204606398464, 'META': 1467636645888, 'ADI': 106907353088, 'INTC': 104999976960, 'REGN': 89149177856, 'CTAS': 90528530432, 'MRVL': 79118704640, 'DDOG': 43674787840, 'EXC': 38258905088, 'GFS': 23222562816}\n",
      "Leftover: $12.14\n",
      "['WBA', 'DDOG', 'AZN', 'TTWO', 'AEP', 'AAPL', 'PANW', 'BIIB', 'GFS', 'CHTR']\n",
      "{'AAPL': 3384880922624, 'AZN': 200795521024, 'PANW': 132726456320, 'CHTR': 57495531520, 'AEP': 49701625856, 'DDOG': 43674787840, 'TTWO': 31755118592, 'BIIB': 24317589504, 'GFS': 23222562816, 'WBA': 7950153216}\n",
      "Leftover: $11.81\n",
      "['NXPI', 'ADI', 'EXC', 'AMD', 'PCAR', 'ODFL', 'MU', 'CSX', 'DDOG', 'SNPS']\n",
      "{'AMD': 231128711168, 'MU': 112519364608, 'ADI': 106907353088, 'SNPS': 85904015360, 'CSX': 69847375872, 'PCAR': 61264568320, 'NXPI': 56408653824, 'ODFL': 48016748544, 'DDOG': 43674787840, 'EXC': 38258905088}\n",
      "Leftover: $1.75\n",
      "['MNST', 'REGN', 'WBA', 'BIIB', 'ABNB', 'CHTR', 'META', 'CRWD', 'KDP', 'EA']\n",
      "{'META': 1467636645888, 'ABNB': 83713196032, 'REGN': 89149177856, 'CRWD': 87264854016, 'CHTR': 57495531520, 'MNST': 54568099840, 'KDP': 45468205056, 'EA': 42454126592, 'BIIB': 24317589504, 'WBA': 7950153216}\n",
      "Leftover: $12.65\n",
      "['MNST', 'FAST', 'PAYX', 'KLAC', 'BKNG', 'SBUX', 'MAR', 'DLTR', 'ADI', 'CDNS']\n",
      "{'BKNG': 165385535488, 'ADI': 106907353088, 'SBUX': 112035135488, 'KLAC': 85817745408, 'CDNS': 83024896000, 'MAR': 79909183488, 'MNST': 54568099840, 'PAYX': 52987777024, 'FAST': 48085184512, 'DLTR': 13452049408}\n",
      "Leftover: $136.49\n",
      "['BKNG', 'AMGN', 'GEHC', 'SBUX', 'ANSS', 'HON', 'BKR', 'REGN', 'CEG', 'AZN']\n",
      "{'AZN': 200795521024, 'AMGN': 160827195392, 'BKNG': 165385535488, 'HON': 152730009600, 'SBUX': 112035135488, 'REGN': 89149177856, 'CEG': 71854309376, 'BKR': 42836582400, 'GEHC': 38098636800, 'ANSS': 30192373760}\n",
      "Leftover: $3.13\n",
      "['CSGP', 'CPRT', 'ROP', 'CTAS', 'GOOG', 'KLAC', 'ZS', 'DDOG', 'ANSS', 'FAST']\n",
      "{'GOOG': 2204606398464, 'KLAC': 85817745408, 'CTAS': 90528530432, 'ROP': 60972015616, 'CPRT': 55413329920, 'FAST': 48085184512, 'DDOG': 43674787840, 'CSGP': 31021672448, 'ZS': 33011798016, 'ANSS': 30192373760}\n",
      "Leftover: $65.43\n",
      "['BIIB', 'TSLA', 'KHC', 'CDW', 'ARM', 'TEAM', 'EXC', 'TTD', 'ON', 'ODFL']\n",
      "{'TSLA': 1050973634560, 'ARM': 142536622080, 'TTD': 64450895872, 'TEAM': 65670782976, 'ODFL': 48016748544, 'KHC': 38626934784, 'EXC': 38258905088, 'ON': 29094709248, 'CDW': 25252196352, 'BIIB': 24317589504}\n",
      "Leftover: $17.63\n"
     ]
    },
    {
     "name": "stderr",
     "output_type": "stream",
     "text": [
      "/home/diti/miniconda3/envs/devbox/lib/python3.12/site-packages/pypfopt/efficient_frontier/efficient_frontier.py:259: UserWarning:\n",
      "\n",
      "max_sharpe transforms the optimization problem so additional objectives may not work as expected.\n",
      "\n",
      "/home/diti/miniconda3/envs/devbox/lib/python3.12/site-packages/pypfopt/efficient_frontier/efficient_frontier.py:259: UserWarning:\n",
      "\n",
      "max_sharpe transforms the optimization problem so additional objectives may not work as expected.\n",
      "\n",
      "/home/diti/miniconda3/envs/devbox/lib/python3.12/site-packages/pypfopt/efficient_frontier/efficient_frontier.py:259: UserWarning:\n",
      "\n",
      "max_sharpe transforms the optimization problem so additional objectives may not work as expected.\n",
      "\n",
      "/home/diti/miniconda3/envs/devbox/lib/python3.12/site-packages/pypfopt/efficient_frontier/efficient_frontier.py:259: UserWarning:\n",
      "\n",
      "max_sharpe transforms the optimization problem so additional objectives may not work as expected.\n",
      "\n",
      "/home/diti/miniconda3/envs/devbox/lib/python3.12/site-packages/pypfopt/efficient_frontier/efficient_frontier.py:259: UserWarning:\n",
      "\n",
      "max_sharpe transforms the optimization problem so additional objectives may not work as expected.\n",
      "\n",
      "/home/diti/miniconda3/envs/devbox/lib/python3.12/site-packages/pypfopt/efficient_frontier/efficient_frontier.py:259: UserWarning:\n",
      "\n",
      "max_sharpe transforms the optimization problem so additional objectives may not work as expected.\n",
      "\n",
      "/home/diti/miniconda3/envs/devbox/lib/python3.12/site-packages/pypfopt/efficient_frontier/efficient_frontier.py:259: UserWarning:\n",
      "\n",
      "max_sharpe transforms the optimization problem so additional objectives may not work as expected.\n",
      "\n"
     ]
    }
   ],
   "source": [
    "portfolio_rand[\"portfolio\"] = portfolio_rand.apply(allocate_assets, args=(\"portfolio_rand\", portfolio_rand,), axis=1)"
   ]
  },
  {
   "cell_type": "code",
   "execution_count": 505,
   "id": "37456ea9-49d8-4701-8758-f129a4442cf1",
   "metadata": {},
   "outputs": [
    {
     "data": {
      "text/plain": [
       "66"
      ]
     },
     "execution_count": 505,
     "metadata": {},
     "output_type": "execute_result"
    }
   ],
   "source": [
    "len(portfolio_rand[\"portfolio\"]) "
   ]
  },
  {
   "cell_type": "code",
   "execution_count": 469,
   "id": "ca45d4dd-eb4f-4b9e-aa72-5e9cf950f72c",
   "metadata": {},
   "outputs": [],
   "source": [
    "portfolio = portfolio[::-1]"
   ]
  },
  {
   "cell_type": "code",
   "execution_count": 507,
   "id": "47c88e9a-606a-493c-8cce-58acff7a4ddc",
   "metadata": {},
   "outputs": [],
   "source": [
    "portfolio_rand.dropna(inplace=True)"
   ]
  },
  {
   "cell_type": "code",
   "execution_count": 511,
   "id": "daf3bd8f-6c31-4097-a091-299a350c4c05",
   "metadata": {},
   "outputs": [],
   "source": [
    "portfolio_rand = portfolio_rand[::-1]"
   ]
  },
  {
   "cell_type": "markdown",
   "id": "2f8d333d-c765-4d1f-a179-c2d2b300a71e",
   "metadata": {},
   "source": [
    "#### Backtesting Result and Plots"
   ]
  },
  {
   "cell_type": "code",
   "execution_count": 164,
   "id": "e60cb410-fdf1-48a4-904a-9e656d1ef132",
   "metadata": {},
   "outputs": [],
   "source": [
    "import plotly.graph_objects as go"
   ]
  },
  {
   "cell_type": "code",
   "execution_count": 470,
   "id": "f5241ad7-22ac-491d-9b11-2d26d59c78ae",
   "metadata": {},
   "outputs": [
    {
     "name": "stderr",
     "output_type": "stream",
     "text": [
      "/tmp/ipykernel_181783/3392517095.py:2: SettingWithCopyWarning: \n",
      "A value is trying to be set on a copy of a slice from a DataFrame.\n",
      "Try using .loc[row_indexer,col_indexer] = value instead\n",
      "\n",
      "See the caveats in the documentation: https://pandas.pydata.org/pandas-docs/stable/user_guide/indexing.html#returning-a-view-versus-a-copy\n",
      "  portfolio[f\"{_t}_min\"] = portfolio[f\"{_t}\"].rolling(window=20, closed='both').min()\n",
      "/tmp/ipykernel_181783/3392517095.py:3: SettingWithCopyWarning: \n",
      "A value is trying to be set on a copy of a slice from a DataFrame.\n",
      "Try using .loc[row_indexer,col_indexer] = value instead\n",
      "\n",
      "See the caveats in the documentation: https://pandas.pydata.org/pandas-docs/stable/user_guide/indexing.html#returning-a-view-versus-a-copy\n",
      "  portfolio[f\"{_t}_max\"] = portfolio[f\"{_t}\"].rolling(window=20, closed='both').max()\n",
      "/tmp/ipykernel_181783/3392517095.py:2: SettingWithCopyWarning: \n",
      "A value is trying to be set on a copy of a slice from a DataFrame.\n",
      "Try using .loc[row_indexer,col_indexer] = value instead\n",
      "\n",
      "See the caveats in the documentation: https://pandas.pydata.org/pandas-docs/stable/user_guide/indexing.html#returning-a-view-versus-a-copy\n",
      "  portfolio[f\"{_t}_min\"] = portfolio[f\"{_t}\"].rolling(window=20, closed='both').min()\n",
      "/tmp/ipykernel_181783/3392517095.py:3: SettingWithCopyWarning: \n",
      "A value is trying to be set on a copy of a slice from a DataFrame.\n",
      "Try using .loc[row_indexer,col_indexer] = value instead\n",
      "\n",
      "See the caveats in the documentation: https://pandas.pydata.org/pandas-docs/stable/user_guide/indexing.html#returning-a-view-versus-a-copy\n",
      "  portfolio[f\"{_t}_max\"] = portfolio[f\"{_t}\"].rolling(window=20, closed='both').max()\n",
      "/tmp/ipykernel_181783/3392517095.py:2: SettingWithCopyWarning: \n",
      "A value is trying to be set on a copy of a slice from a DataFrame.\n",
      "Try using .loc[row_indexer,col_indexer] = value instead\n",
      "\n",
      "See the caveats in the documentation: https://pandas.pydata.org/pandas-docs/stable/user_guide/indexing.html#returning-a-view-versus-a-copy\n",
      "  portfolio[f\"{_t}_min\"] = portfolio[f\"{_t}\"].rolling(window=20, closed='both').min()\n",
      "/tmp/ipykernel_181783/3392517095.py:3: SettingWithCopyWarning: \n",
      "A value is trying to be set on a copy of a slice from a DataFrame.\n",
      "Try using .loc[row_indexer,col_indexer] = value instead\n",
      "\n",
      "See the caveats in the documentation: https://pandas.pydata.org/pandas-docs/stable/user_guide/indexing.html#returning-a-view-versus-a-copy\n",
      "  portfolio[f\"{_t}_max\"] = portfolio[f\"{_t}\"].rolling(window=20, closed='both').max()\n",
      "/tmp/ipykernel_181783/3392517095.py:2: SettingWithCopyWarning: \n",
      "A value is trying to be set on a copy of a slice from a DataFrame.\n",
      "Try using .loc[row_indexer,col_indexer] = value instead\n",
      "\n",
      "See the caveats in the documentation: https://pandas.pydata.org/pandas-docs/stable/user_guide/indexing.html#returning-a-view-versus-a-copy\n",
      "  portfolio[f\"{_t}_min\"] = portfolio[f\"{_t}\"].rolling(window=20, closed='both').min()\n",
      "/tmp/ipykernel_181783/3392517095.py:3: SettingWithCopyWarning: \n",
      "A value is trying to be set on a copy of a slice from a DataFrame.\n",
      "Try using .loc[row_indexer,col_indexer] = value instead\n",
      "\n",
      "See the caveats in the documentation: https://pandas.pydata.org/pandas-docs/stable/user_guide/indexing.html#returning-a-view-versus-a-copy\n",
      "  portfolio[f\"{_t}_max\"] = portfolio[f\"{_t}\"].rolling(window=20, closed='both').max()\n",
      "/tmp/ipykernel_181783/3392517095.py:2: SettingWithCopyWarning: \n",
      "A value is trying to be set on a copy of a slice from a DataFrame.\n",
      "Try using .loc[row_indexer,col_indexer] = value instead\n",
      "\n",
      "See the caveats in the documentation: https://pandas.pydata.org/pandas-docs/stable/user_guide/indexing.html#returning-a-view-versus-a-copy\n",
      "  portfolio[f\"{_t}_min\"] = portfolio[f\"{_t}\"].rolling(window=20, closed='both').min()\n",
      "/tmp/ipykernel_181783/3392517095.py:3: SettingWithCopyWarning: \n",
      "A value is trying to be set on a copy of a slice from a DataFrame.\n",
      "Try using .loc[row_indexer,col_indexer] = value instead\n",
      "\n",
      "See the caveats in the documentation: https://pandas.pydata.org/pandas-docs/stable/user_guide/indexing.html#returning-a-view-versus-a-copy\n",
      "  portfolio[f\"{_t}_max\"] = portfolio[f\"{_t}\"].rolling(window=20, closed='both').max()\n",
      "/tmp/ipykernel_181783/3392517095.py:2: SettingWithCopyWarning: \n",
      "A value is trying to be set on a copy of a slice from a DataFrame.\n",
      "Try using .loc[row_indexer,col_indexer] = value instead\n",
      "\n",
      "See the caveats in the documentation: https://pandas.pydata.org/pandas-docs/stable/user_guide/indexing.html#returning-a-view-versus-a-copy\n",
      "  portfolio[f\"{_t}_min\"] = portfolio[f\"{_t}\"].rolling(window=20, closed='both').min()\n",
      "/tmp/ipykernel_181783/3392517095.py:3: SettingWithCopyWarning: \n",
      "A value is trying to be set on a copy of a slice from a DataFrame.\n",
      "Try using .loc[row_indexer,col_indexer] = value instead\n",
      "\n",
      "See the caveats in the documentation: https://pandas.pydata.org/pandas-docs/stable/user_guide/indexing.html#returning-a-view-versus-a-copy\n",
      "  portfolio[f\"{_t}_max\"] = portfolio[f\"{_t}\"].rolling(window=20, closed='both').max()\n",
      "/tmp/ipykernel_181783/3392517095.py:2: SettingWithCopyWarning: \n",
      "A value is trying to be set on a copy of a slice from a DataFrame.\n",
      "Try using .loc[row_indexer,col_indexer] = value instead\n",
      "\n",
      "See the caveats in the documentation: https://pandas.pydata.org/pandas-docs/stable/user_guide/indexing.html#returning-a-view-versus-a-copy\n",
      "  portfolio[f\"{_t}_min\"] = portfolio[f\"{_t}\"].rolling(window=20, closed='both').min()\n",
      "/tmp/ipykernel_181783/3392517095.py:3: SettingWithCopyWarning: \n",
      "A value is trying to be set on a copy of a slice from a DataFrame.\n",
      "Try using .loc[row_indexer,col_indexer] = value instead\n",
      "\n",
      "See the caveats in the documentation: https://pandas.pydata.org/pandas-docs/stable/user_guide/indexing.html#returning-a-view-versus-a-copy\n",
      "  portfolio[f\"{_t}_max\"] = portfolio[f\"{_t}\"].rolling(window=20, closed='both').max()\n",
      "/tmp/ipykernel_181783/3392517095.py:2: SettingWithCopyWarning: \n",
      "A value is trying to be set on a copy of a slice from a DataFrame.\n",
      "Try using .loc[row_indexer,col_indexer] = value instead\n",
      "\n",
      "See the caveats in the documentation: https://pandas.pydata.org/pandas-docs/stable/user_guide/indexing.html#returning-a-view-versus-a-copy\n",
      "  portfolio[f\"{_t}_min\"] = portfolio[f\"{_t}\"].rolling(window=20, closed='both').min()\n",
      "/tmp/ipykernel_181783/3392517095.py:3: SettingWithCopyWarning: \n",
      "A value is trying to be set on a copy of a slice from a DataFrame.\n",
      "Try using .loc[row_indexer,col_indexer] = value instead\n",
      "\n",
      "See the caveats in the documentation: https://pandas.pydata.org/pandas-docs/stable/user_guide/indexing.html#returning-a-view-versus-a-copy\n",
      "  portfolio[f\"{_t}_max\"] = portfolio[f\"{_t}\"].rolling(window=20, closed='both').max()\n",
      "/tmp/ipykernel_181783/3392517095.py:2: SettingWithCopyWarning: \n",
      "A value is trying to be set on a copy of a slice from a DataFrame.\n",
      "Try using .loc[row_indexer,col_indexer] = value instead\n",
      "\n",
      "See the caveats in the documentation: https://pandas.pydata.org/pandas-docs/stable/user_guide/indexing.html#returning-a-view-versus-a-copy\n",
      "  portfolio[f\"{_t}_min\"] = portfolio[f\"{_t}\"].rolling(window=20, closed='both').min()\n",
      "/tmp/ipykernel_181783/3392517095.py:3: SettingWithCopyWarning: \n",
      "A value is trying to be set on a copy of a slice from a DataFrame.\n",
      "Try using .loc[row_indexer,col_indexer] = value instead\n",
      "\n",
      "See the caveats in the documentation: https://pandas.pydata.org/pandas-docs/stable/user_guide/indexing.html#returning-a-view-versus-a-copy\n",
      "  portfolio[f\"{_t}_max\"] = portfolio[f\"{_t}\"].rolling(window=20, closed='both').max()\n",
      "/tmp/ipykernel_181783/3392517095.py:2: SettingWithCopyWarning: \n",
      "A value is trying to be set on a copy of a slice from a DataFrame.\n",
      "Try using .loc[row_indexer,col_indexer] = value instead\n",
      "\n",
      "See the caveats in the documentation: https://pandas.pydata.org/pandas-docs/stable/user_guide/indexing.html#returning-a-view-versus-a-copy\n",
      "  portfolio[f\"{_t}_min\"] = portfolio[f\"{_t}\"].rolling(window=20, closed='both').min()\n",
      "/tmp/ipykernel_181783/3392517095.py:3: SettingWithCopyWarning: \n",
      "A value is trying to be set on a copy of a slice from a DataFrame.\n",
      "Try using .loc[row_indexer,col_indexer] = value instead\n",
      "\n",
      "See the caveats in the documentation: https://pandas.pydata.org/pandas-docs/stable/user_guide/indexing.html#returning-a-view-versus-a-copy\n",
      "  portfolio[f\"{_t}_max\"] = portfolio[f\"{_t}\"].rolling(window=20, closed='both').max()\n",
      "/tmp/ipykernel_181783/3392517095.py:2: SettingWithCopyWarning: \n",
      "A value is trying to be set on a copy of a slice from a DataFrame.\n",
      "Try using .loc[row_indexer,col_indexer] = value instead\n",
      "\n",
      "See the caveats in the documentation: https://pandas.pydata.org/pandas-docs/stable/user_guide/indexing.html#returning-a-view-versus-a-copy\n",
      "  portfolio[f\"{_t}_min\"] = portfolio[f\"{_t}\"].rolling(window=20, closed='both').min()\n",
      "/tmp/ipykernel_181783/3392517095.py:3: SettingWithCopyWarning: \n",
      "A value is trying to be set on a copy of a slice from a DataFrame.\n",
      "Try using .loc[row_indexer,col_indexer] = value instead\n",
      "\n",
      "See the caveats in the documentation: https://pandas.pydata.org/pandas-docs/stable/user_guide/indexing.html#returning-a-view-versus-a-copy\n",
      "  portfolio[f\"{_t}_max\"] = portfolio[f\"{_t}\"].rolling(window=20, closed='both').max()\n",
      "/tmp/ipykernel_181783/3392517095.py:2: SettingWithCopyWarning: \n",
      "A value is trying to be set on a copy of a slice from a DataFrame.\n",
      "Try using .loc[row_indexer,col_indexer] = value instead\n",
      "\n",
      "See the caveats in the documentation: https://pandas.pydata.org/pandas-docs/stable/user_guide/indexing.html#returning-a-view-versus-a-copy\n",
      "  portfolio[f\"{_t}_min\"] = portfolio[f\"{_t}\"].rolling(window=20, closed='both').min()\n",
      "/tmp/ipykernel_181783/3392517095.py:3: SettingWithCopyWarning: \n",
      "A value is trying to be set on a copy of a slice from a DataFrame.\n",
      "Try using .loc[row_indexer,col_indexer] = value instead\n",
      "\n",
      "See the caveats in the documentation: https://pandas.pydata.org/pandas-docs/stable/user_guide/indexing.html#returning-a-view-versus-a-copy\n",
      "  portfolio[f\"{_t}_max\"] = portfolio[f\"{_t}\"].rolling(window=20, closed='both').max()\n",
      "/tmp/ipykernel_181783/3392517095.py:2: SettingWithCopyWarning: \n",
      "A value is trying to be set on a copy of a slice from a DataFrame.\n",
      "Try using .loc[row_indexer,col_indexer] = value instead\n",
      "\n",
      "See the caveats in the documentation: https://pandas.pydata.org/pandas-docs/stable/user_guide/indexing.html#returning-a-view-versus-a-copy\n",
      "  portfolio[f\"{_t}_min\"] = portfolio[f\"{_t}\"].rolling(window=20, closed='both').min()\n",
      "/tmp/ipykernel_181783/3392517095.py:3: SettingWithCopyWarning: \n",
      "A value is trying to be set on a copy of a slice from a DataFrame.\n",
      "Try using .loc[row_indexer,col_indexer] = value instead\n",
      "\n",
      "See the caveats in the documentation: https://pandas.pydata.org/pandas-docs/stable/user_guide/indexing.html#returning-a-view-versus-a-copy\n",
      "  portfolio[f\"{_t}_max\"] = portfolio[f\"{_t}\"].rolling(window=20, closed='both').max()\n",
      "/tmp/ipykernel_181783/3392517095.py:2: SettingWithCopyWarning: \n",
      "A value is trying to be set on a copy of a slice from a DataFrame.\n",
      "Try using .loc[row_indexer,col_indexer] = value instead\n",
      "\n",
      "See the caveats in the documentation: https://pandas.pydata.org/pandas-docs/stable/user_guide/indexing.html#returning-a-view-versus-a-copy\n",
      "  portfolio[f\"{_t}_min\"] = portfolio[f\"{_t}\"].rolling(window=20, closed='both').min()\n",
      "/tmp/ipykernel_181783/3392517095.py:3: SettingWithCopyWarning: \n",
      "A value is trying to be set on a copy of a slice from a DataFrame.\n",
      "Try using .loc[row_indexer,col_indexer] = value instead\n",
      "\n",
      "See the caveats in the documentation: https://pandas.pydata.org/pandas-docs/stable/user_guide/indexing.html#returning-a-view-versus-a-copy\n",
      "  portfolio[f\"{_t}_max\"] = portfolio[f\"{_t}\"].rolling(window=20, closed='both').max()\n",
      "/tmp/ipykernel_181783/3392517095.py:2: SettingWithCopyWarning: \n",
      "A value is trying to be set on a copy of a slice from a DataFrame.\n",
      "Try using .loc[row_indexer,col_indexer] = value instead\n",
      "\n",
      "See the caveats in the documentation: https://pandas.pydata.org/pandas-docs/stable/user_guide/indexing.html#returning-a-view-versus-a-copy\n",
      "  portfolio[f\"{_t}_min\"] = portfolio[f\"{_t}\"].rolling(window=20, closed='both').min()\n",
      "/tmp/ipykernel_181783/3392517095.py:3: SettingWithCopyWarning: \n",
      "A value is trying to be set on a copy of a slice from a DataFrame.\n",
      "Try using .loc[row_indexer,col_indexer] = value instead\n",
      "\n",
      "See the caveats in the documentation: https://pandas.pydata.org/pandas-docs/stable/user_guide/indexing.html#returning-a-view-versus-a-copy\n",
      "  portfolio[f\"{_t}_max\"] = portfolio[f\"{_t}\"].rolling(window=20, closed='both').max()\n",
      "/tmp/ipykernel_181783/3392517095.py:2: SettingWithCopyWarning: \n",
      "A value is trying to be set on a copy of a slice from a DataFrame.\n",
      "Try using .loc[row_indexer,col_indexer] = value instead\n",
      "\n",
      "See the caveats in the documentation: https://pandas.pydata.org/pandas-docs/stable/user_guide/indexing.html#returning-a-view-versus-a-copy\n",
      "  portfolio[f\"{_t}_min\"] = portfolio[f\"{_t}\"].rolling(window=20, closed='both').min()\n",
      "/tmp/ipykernel_181783/3392517095.py:3: SettingWithCopyWarning: \n",
      "A value is trying to be set on a copy of a slice from a DataFrame.\n",
      "Try using .loc[row_indexer,col_indexer] = value instead\n",
      "\n",
      "See the caveats in the documentation: https://pandas.pydata.org/pandas-docs/stable/user_guide/indexing.html#returning-a-view-versus-a-copy\n",
      "  portfolio[f\"{_t}_max\"] = portfolio[f\"{_t}\"].rolling(window=20, closed='both').max()\n",
      "/tmp/ipykernel_181783/3392517095.py:2: SettingWithCopyWarning: \n",
      "A value is trying to be set on a copy of a slice from a DataFrame.\n",
      "Try using .loc[row_indexer,col_indexer] = value instead\n",
      "\n",
      "See the caveats in the documentation: https://pandas.pydata.org/pandas-docs/stable/user_guide/indexing.html#returning-a-view-versus-a-copy\n",
      "  portfolio[f\"{_t}_min\"] = portfolio[f\"{_t}\"].rolling(window=20, closed='both').min()\n",
      "/tmp/ipykernel_181783/3392517095.py:3: SettingWithCopyWarning: \n",
      "A value is trying to be set on a copy of a slice from a DataFrame.\n",
      "Try using .loc[row_indexer,col_indexer] = value instead\n",
      "\n",
      "See the caveats in the documentation: https://pandas.pydata.org/pandas-docs/stable/user_guide/indexing.html#returning-a-view-versus-a-copy\n",
      "  portfolio[f\"{_t}_max\"] = portfolio[f\"{_t}\"].rolling(window=20, closed='both').max()\n",
      "/tmp/ipykernel_181783/3392517095.py:2: SettingWithCopyWarning: \n",
      "A value is trying to be set on a copy of a slice from a DataFrame.\n",
      "Try using .loc[row_indexer,col_indexer] = value instead\n",
      "\n",
      "See the caveats in the documentation: https://pandas.pydata.org/pandas-docs/stable/user_guide/indexing.html#returning-a-view-versus-a-copy\n",
      "  portfolio[f\"{_t}_min\"] = portfolio[f\"{_t}\"].rolling(window=20, closed='both').min()\n",
      "/tmp/ipykernel_181783/3392517095.py:3: SettingWithCopyWarning: \n",
      "A value is trying to be set on a copy of a slice from a DataFrame.\n",
      "Try using .loc[row_indexer,col_indexer] = value instead\n",
      "\n",
      "See the caveats in the documentation: https://pandas.pydata.org/pandas-docs/stable/user_guide/indexing.html#returning-a-view-versus-a-copy\n",
      "  portfolio[f\"{_t}_max\"] = portfolio[f\"{_t}\"].rolling(window=20, closed='both').max()\n",
      "/tmp/ipykernel_181783/3392517095.py:2: SettingWithCopyWarning: \n",
      "A value is trying to be set on a copy of a slice from a DataFrame.\n",
      "Try using .loc[row_indexer,col_indexer] = value instead\n",
      "\n",
      "See the caveats in the documentation: https://pandas.pydata.org/pandas-docs/stable/user_guide/indexing.html#returning-a-view-versus-a-copy\n",
      "  portfolio[f\"{_t}_min\"] = portfolio[f\"{_t}\"].rolling(window=20, closed='both').min()\n",
      "/tmp/ipykernel_181783/3392517095.py:3: SettingWithCopyWarning: \n",
      "A value is trying to be set on a copy of a slice from a DataFrame.\n",
      "Try using .loc[row_indexer,col_indexer] = value instead\n",
      "\n",
      "See the caveats in the documentation: https://pandas.pydata.org/pandas-docs/stable/user_guide/indexing.html#returning-a-view-versus-a-copy\n",
      "  portfolio[f\"{_t}_max\"] = portfolio[f\"{_t}\"].rolling(window=20, closed='both').max()\n",
      "/tmp/ipykernel_181783/3392517095.py:2: SettingWithCopyWarning: \n",
      "A value is trying to be set on a copy of a slice from a DataFrame.\n",
      "Try using .loc[row_indexer,col_indexer] = value instead\n",
      "\n",
      "See the caveats in the documentation: https://pandas.pydata.org/pandas-docs/stable/user_guide/indexing.html#returning-a-view-versus-a-copy\n",
      "  portfolio[f\"{_t}_min\"] = portfolio[f\"{_t}\"].rolling(window=20, closed='both').min()\n",
      "/tmp/ipykernel_181783/3392517095.py:3: SettingWithCopyWarning: \n",
      "A value is trying to be set on a copy of a slice from a DataFrame.\n",
      "Try using .loc[row_indexer,col_indexer] = value instead\n",
      "\n",
      "See the caveats in the documentation: https://pandas.pydata.org/pandas-docs/stable/user_guide/indexing.html#returning-a-view-versus-a-copy\n",
      "  portfolio[f\"{_t}_max\"] = portfolio[f\"{_t}\"].rolling(window=20, closed='both').max()\n",
      "/tmp/ipykernel_181783/3392517095.py:2: SettingWithCopyWarning: \n",
      "A value is trying to be set on a copy of a slice from a DataFrame.\n",
      "Try using .loc[row_indexer,col_indexer] = value instead\n",
      "\n",
      "See the caveats in the documentation: https://pandas.pydata.org/pandas-docs/stable/user_guide/indexing.html#returning-a-view-versus-a-copy\n",
      "  portfolio[f\"{_t}_min\"] = portfolio[f\"{_t}\"].rolling(window=20, closed='both').min()\n",
      "/tmp/ipykernel_181783/3392517095.py:3: SettingWithCopyWarning: \n",
      "A value is trying to be set on a copy of a slice from a DataFrame.\n",
      "Try using .loc[row_indexer,col_indexer] = value instead\n",
      "\n",
      "See the caveats in the documentation: https://pandas.pydata.org/pandas-docs/stable/user_guide/indexing.html#returning-a-view-versus-a-copy\n",
      "  portfolio[f\"{_t}_max\"] = portfolio[f\"{_t}\"].rolling(window=20, closed='both').max()\n",
      "/tmp/ipykernel_181783/3392517095.py:2: SettingWithCopyWarning: \n",
      "A value is trying to be set on a copy of a slice from a DataFrame.\n",
      "Try using .loc[row_indexer,col_indexer] = value instead\n",
      "\n",
      "See the caveats in the documentation: https://pandas.pydata.org/pandas-docs/stable/user_guide/indexing.html#returning-a-view-versus-a-copy\n",
      "  portfolio[f\"{_t}_min\"] = portfolio[f\"{_t}\"].rolling(window=20, closed='both').min()\n",
      "/tmp/ipykernel_181783/3392517095.py:3: SettingWithCopyWarning: \n",
      "A value is trying to be set on a copy of a slice from a DataFrame.\n",
      "Try using .loc[row_indexer,col_indexer] = value instead\n",
      "\n",
      "See the caveats in the documentation: https://pandas.pydata.org/pandas-docs/stable/user_guide/indexing.html#returning-a-view-versus-a-copy\n",
      "  portfolio[f\"{_t}_max\"] = portfolio[f\"{_t}\"].rolling(window=20, closed='both').max()\n",
      "/tmp/ipykernel_181783/3392517095.py:2: SettingWithCopyWarning: \n",
      "A value is trying to be set on a copy of a slice from a DataFrame.\n",
      "Try using .loc[row_indexer,col_indexer] = value instead\n",
      "\n",
      "See the caveats in the documentation: https://pandas.pydata.org/pandas-docs/stable/user_guide/indexing.html#returning-a-view-versus-a-copy\n",
      "  portfolio[f\"{_t}_min\"] = portfolio[f\"{_t}\"].rolling(window=20, closed='both').min()\n",
      "/tmp/ipykernel_181783/3392517095.py:3: SettingWithCopyWarning: \n",
      "A value is trying to be set on a copy of a slice from a DataFrame.\n",
      "Try using .loc[row_indexer,col_indexer] = value instead\n",
      "\n",
      "See the caveats in the documentation: https://pandas.pydata.org/pandas-docs/stable/user_guide/indexing.html#returning-a-view-versus-a-copy\n",
      "  portfolio[f\"{_t}_max\"] = portfolio[f\"{_t}\"].rolling(window=20, closed='both').max()\n",
      "/tmp/ipykernel_181783/3392517095.py:2: SettingWithCopyWarning: \n",
      "A value is trying to be set on a copy of a slice from a DataFrame.\n",
      "Try using .loc[row_indexer,col_indexer] = value instead\n",
      "\n",
      "See the caveats in the documentation: https://pandas.pydata.org/pandas-docs/stable/user_guide/indexing.html#returning-a-view-versus-a-copy\n",
      "  portfolio[f\"{_t}_min\"] = portfolio[f\"{_t}\"].rolling(window=20, closed='both').min()\n",
      "/tmp/ipykernel_181783/3392517095.py:3: SettingWithCopyWarning: \n",
      "A value is trying to be set on a copy of a slice from a DataFrame.\n",
      "Try using .loc[row_indexer,col_indexer] = value instead\n",
      "\n",
      "See the caveats in the documentation: https://pandas.pydata.org/pandas-docs/stable/user_guide/indexing.html#returning-a-view-versus-a-copy\n",
      "  portfolio[f\"{_t}_max\"] = portfolio[f\"{_t}\"].rolling(window=20, closed='both').max()\n",
      "/tmp/ipykernel_181783/3392517095.py:2: SettingWithCopyWarning: \n",
      "A value is trying to be set on a copy of a slice from a DataFrame.\n",
      "Try using .loc[row_indexer,col_indexer] = value instead\n",
      "\n",
      "See the caveats in the documentation: https://pandas.pydata.org/pandas-docs/stable/user_guide/indexing.html#returning-a-view-versus-a-copy\n",
      "  portfolio[f\"{_t}_min\"] = portfolio[f\"{_t}\"].rolling(window=20, closed='both').min()\n",
      "/tmp/ipykernel_181783/3392517095.py:3: SettingWithCopyWarning: \n",
      "A value is trying to be set on a copy of a slice from a DataFrame.\n",
      "Try using .loc[row_indexer,col_indexer] = value instead\n",
      "\n",
      "See the caveats in the documentation: https://pandas.pydata.org/pandas-docs/stable/user_guide/indexing.html#returning-a-view-versus-a-copy\n",
      "  portfolio[f\"{_t}_max\"] = portfolio[f\"{_t}\"].rolling(window=20, closed='both').max()\n",
      "/tmp/ipykernel_181783/3392517095.py:2: SettingWithCopyWarning: \n",
      "A value is trying to be set on a copy of a slice from a DataFrame.\n",
      "Try using .loc[row_indexer,col_indexer] = value instead\n",
      "\n",
      "See the caveats in the documentation: https://pandas.pydata.org/pandas-docs/stable/user_guide/indexing.html#returning-a-view-versus-a-copy\n",
      "  portfolio[f\"{_t}_min\"] = portfolio[f\"{_t}\"].rolling(window=20, closed='both').min()\n",
      "/tmp/ipykernel_181783/3392517095.py:3: SettingWithCopyWarning: \n",
      "A value is trying to be set on a copy of a slice from a DataFrame.\n",
      "Try using .loc[row_indexer,col_indexer] = value instead\n",
      "\n",
      "See the caveats in the documentation: https://pandas.pydata.org/pandas-docs/stable/user_guide/indexing.html#returning-a-view-versus-a-copy\n",
      "  portfolio[f\"{_t}_max\"] = portfolio[f\"{_t}\"].rolling(window=20, closed='both').max()\n",
      "/tmp/ipykernel_181783/3392517095.py:2: SettingWithCopyWarning: \n",
      "A value is trying to be set on a copy of a slice from a DataFrame.\n",
      "Try using .loc[row_indexer,col_indexer] = value instead\n",
      "\n",
      "See the caveats in the documentation: https://pandas.pydata.org/pandas-docs/stable/user_guide/indexing.html#returning-a-view-versus-a-copy\n",
      "  portfolio[f\"{_t}_min\"] = portfolio[f\"{_t}\"].rolling(window=20, closed='both').min()\n",
      "/tmp/ipykernel_181783/3392517095.py:3: SettingWithCopyWarning: \n",
      "A value is trying to be set on a copy of a slice from a DataFrame.\n",
      "Try using .loc[row_indexer,col_indexer] = value instead\n",
      "\n",
      "See the caveats in the documentation: https://pandas.pydata.org/pandas-docs/stable/user_guide/indexing.html#returning-a-view-versus-a-copy\n",
      "  portfolio[f\"{_t}_max\"] = portfolio[f\"{_t}\"].rolling(window=20, closed='both').max()\n",
      "/tmp/ipykernel_181783/3392517095.py:2: SettingWithCopyWarning: \n",
      "A value is trying to be set on a copy of a slice from a DataFrame.\n",
      "Try using .loc[row_indexer,col_indexer] = value instead\n",
      "\n",
      "See the caveats in the documentation: https://pandas.pydata.org/pandas-docs/stable/user_guide/indexing.html#returning-a-view-versus-a-copy\n",
      "  portfolio[f\"{_t}_min\"] = portfolio[f\"{_t}\"].rolling(window=20, closed='both').min()\n",
      "/tmp/ipykernel_181783/3392517095.py:3: SettingWithCopyWarning: \n",
      "A value is trying to be set on a copy of a slice from a DataFrame.\n",
      "Try using .loc[row_indexer,col_indexer] = value instead\n",
      "\n",
      "See the caveats in the documentation: https://pandas.pydata.org/pandas-docs/stable/user_guide/indexing.html#returning-a-view-versus-a-copy\n",
      "  portfolio[f\"{_t}_max\"] = portfolio[f\"{_t}\"].rolling(window=20, closed='both').max()\n",
      "/tmp/ipykernel_181783/3392517095.py:2: SettingWithCopyWarning: \n",
      "A value is trying to be set on a copy of a slice from a DataFrame.\n",
      "Try using .loc[row_indexer,col_indexer] = value instead\n",
      "\n",
      "See the caveats in the documentation: https://pandas.pydata.org/pandas-docs/stable/user_guide/indexing.html#returning-a-view-versus-a-copy\n",
      "  portfolio[f\"{_t}_min\"] = portfolio[f\"{_t}\"].rolling(window=20, closed='both').min()\n",
      "/tmp/ipykernel_181783/3392517095.py:3: SettingWithCopyWarning: \n",
      "A value is trying to be set on a copy of a slice from a DataFrame.\n",
      "Try using .loc[row_indexer,col_indexer] = value instead\n",
      "\n",
      "See the caveats in the documentation: https://pandas.pydata.org/pandas-docs/stable/user_guide/indexing.html#returning-a-view-versus-a-copy\n",
      "  portfolio[f\"{_t}_max\"] = portfolio[f\"{_t}\"].rolling(window=20, closed='both').max()\n",
      "/tmp/ipykernel_181783/3392517095.py:2: SettingWithCopyWarning: \n",
      "A value is trying to be set on a copy of a slice from a DataFrame.\n",
      "Try using .loc[row_indexer,col_indexer] = value instead\n",
      "\n",
      "See the caveats in the documentation: https://pandas.pydata.org/pandas-docs/stable/user_guide/indexing.html#returning-a-view-versus-a-copy\n",
      "  portfolio[f\"{_t}_min\"] = portfolio[f\"{_t}\"].rolling(window=20, closed='both').min()\n",
      "/tmp/ipykernel_181783/3392517095.py:3: SettingWithCopyWarning: \n",
      "A value is trying to be set on a copy of a slice from a DataFrame.\n",
      "Try using .loc[row_indexer,col_indexer] = value instead\n",
      "\n",
      "See the caveats in the documentation: https://pandas.pydata.org/pandas-docs/stable/user_guide/indexing.html#returning-a-view-versus-a-copy\n",
      "  portfolio[f\"{_t}_max\"] = portfolio[f\"{_t}\"].rolling(window=20, closed='both').max()\n",
      "/tmp/ipykernel_181783/3392517095.py:2: SettingWithCopyWarning: \n",
      "A value is trying to be set on a copy of a slice from a DataFrame.\n",
      "Try using .loc[row_indexer,col_indexer] = value instead\n",
      "\n",
      "See the caveats in the documentation: https://pandas.pydata.org/pandas-docs/stable/user_guide/indexing.html#returning-a-view-versus-a-copy\n",
      "  portfolio[f\"{_t}_min\"] = portfolio[f\"{_t}\"].rolling(window=20, closed='both').min()\n",
      "/tmp/ipykernel_181783/3392517095.py:3: SettingWithCopyWarning: \n",
      "A value is trying to be set on a copy of a slice from a DataFrame.\n",
      "Try using .loc[row_indexer,col_indexer] = value instead\n",
      "\n",
      "See the caveats in the documentation: https://pandas.pydata.org/pandas-docs/stable/user_guide/indexing.html#returning-a-view-versus-a-copy\n",
      "  portfolio[f\"{_t}_max\"] = portfolio[f\"{_t}\"].rolling(window=20, closed='both').max()\n",
      "/tmp/ipykernel_181783/3392517095.py:2: SettingWithCopyWarning: \n",
      "A value is trying to be set on a copy of a slice from a DataFrame.\n",
      "Try using .loc[row_indexer,col_indexer] = value instead\n",
      "\n",
      "See the caveats in the documentation: https://pandas.pydata.org/pandas-docs/stable/user_guide/indexing.html#returning-a-view-versus-a-copy\n",
      "  portfolio[f\"{_t}_min\"] = portfolio[f\"{_t}\"].rolling(window=20, closed='both').min()\n",
      "/tmp/ipykernel_181783/3392517095.py:3: SettingWithCopyWarning: \n",
      "A value is trying to be set on a copy of a slice from a DataFrame.\n",
      "Try using .loc[row_indexer,col_indexer] = value instead\n",
      "\n",
      "See the caveats in the documentation: https://pandas.pydata.org/pandas-docs/stable/user_guide/indexing.html#returning-a-view-versus-a-copy\n",
      "  portfolio[f\"{_t}_max\"] = portfolio[f\"{_t}\"].rolling(window=20, closed='both').max()\n",
      "/tmp/ipykernel_181783/3392517095.py:2: SettingWithCopyWarning: \n",
      "A value is trying to be set on a copy of a slice from a DataFrame.\n",
      "Try using .loc[row_indexer,col_indexer] = value instead\n",
      "\n",
      "See the caveats in the documentation: https://pandas.pydata.org/pandas-docs/stable/user_guide/indexing.html#returning-a-view-versus-a-copy\n",
      "  portfolio[f\"{_t}_min\"] = portfolio[f\"{_t}\"].rolling(window=20, closed='both').min()\n",
      "/tmp/ipykernel_181783/3392517095.py:3: SettingWithCopyWarning: \n",
      "A value is trying to be set on a copy of a slice from a DataFrame.\n",
      "Try using .loc[row_indexer,col_indexer] = value instead\n",
      "\n",
      "See the caveats in the documentation: https://pandas.pydata.org/pandas-docs/stable/user_guide/indexing.html#returning-a-view-versus-a-copy\n",
      "  portfolio[f\"{_t}_max\"] = portfolio[f\"{_t}\"].rolling(window=20, closed='both').max()\n",
      "/tmp/ipykernel_181783/3392517095.py:2: SettingWithCopyWarning: \n",
      "A value is trying to be set on a copy of a slice from a DataFrame.\n",
      "Try using .loc[row_indexer,col_indexer] = value instead\n",
      "\n",
      "See the caveats in the documentation: https://pandas.pydata.org/pandas-docs/stable/user_guide/indexing.html#returning-a-view-versus-a-copy\n",
      "  portfolio[f\"{_t}_min\"] = portfolio[f\"{_t}\"].rolling(window=20, closed='both').min()\n",
      "/tmp/ipykernel_181783/3392517095.py:3: SettingWithCopyWarning: \n",
      "A value is trying to be set on a copy of a slice from a DataFrame.\n",
      "Try using .loc[row_indexer,col_indexer] = value instead\n",
      "\n",
      "See the caveats in the documentation: https://pandas.pydata.org/pandas-docs/stable/user_guide/indexing.html#returning-a-view-versus-a-copy\n",
      "  portfolio[f\"{_t}_max\"] = portfolio[f\"{_t}\"].rolling(window=20, closed='both').max()\n",
      "/tmp/ipykernel_181783/3392517095.py:2: SettingWithCopyWarning: \n",
      "A value is trying to be set on a copy of a slice from a DataFrame.\n",
      "Try using .loc[row_indexer,col_indexer] = value instead\n",
      "\n",
      "See the caveats in the documentation: https://pandas.pydata.org/pandas-docs/stable/user_guide/indexing.html#returning-a-view-versus-a-copy\n",
      "  portfolio[f\"{_t}_min\"] = portfolio[f\"{_t}\"].rolling(window=20, closed='both').min()\n",
      "/tmp/ipykernel_181783/3392517095.py:3: SettingWithCopyWarning: \n",
      "A value is trying to be set on a copy of a slice from a DataFrame.\n",
      "Try using .loc[row_indexer,col_indexer] = value instead\n",
      "\n",
      "See the caveats in the documentation: https://pandas.pydata.org/pandas-docs/stable/user_guide/indexing.html#returning-a-view-versus-a-copy\n",
      "  portfolio[f\"{_t}_max\"] = portfolio[f\"{_t}\"].rolling(window=20, closed='both').max()\n",
      "/tmp/ipykernel_181783/3392517095.py:2: SettingWithCopyWarning: \n",
      "A value is trying to be set on a copy of a slice from a DataFrame.\n",
      "Try using .loc[row_indexer,col_indexer] = value instead\n",
      "\n",
      "See the caveats in the documentation: https://pandas.pydata.org/pandas-docs/stable/user_guide/indexing.html#returning-a-view-versus-a-copy\n",
      "  portfolio[f\"{_t}_min\"] = portfolio[f\"{_t}\"].rolling(window=20, closed='both').min()\n",
      "/tmp/ipykernel_181783/3392517095.py:3: SettingWithCopyWarning: \n",
      "A value is trying to be set on a copy of a slice from a DataFrame.\n",
      "Try using .loc[row_indexer,col_indexer] = value instead\n",
      "\n",
      "See the caveats in the documentation: https://pandas.pydata.org/pandas-docs/stable/user_guide/indexing.html#returning-a-view-versus-a-copy\n",
      "  portfolio[f\"{_t}_max\"] = portfolio[f\"{_t}\"].rolling(window=20, closed='both').max()\n",
      "/tmp/ipykernel_181783/3392517095.py:2: SettingWithCopyWarning: \n",
      "A value is trying to be set on a copy of a slice from a DataFrame.\n",
      "Try using .loc[row_indexer,col_indexer] = value instead\n",
      "\n",
      "See the caveats in the documentation: https://pandas.pydata.org/pandas-docs/stable/user_guide/indexing.html#returning-a-view-versus-a-copy\n",
      "  portfolio[f\"{_t}_min\"] = portfolio[f\"{_t}\"].rolling(window=20, closed='both').min()\n",
      "/tmp/ipykernel_181783/3392517095.py:3: SettingWithCopyWarning: \n",
      "A value is trying to be set on a copy of a slice from a DataFrame.\n",
      "Try using .loc[row_indexer,col_indexer] = value instead\n",
      "\n",
      "See the caveats in the documentation: https://pandas.pydata.org/pandas-docs/stable/user_guide/indexing.html#returning-a-view-versus-a-copy\n",
      "  portfolio[f\"{_t}_max\"] = portfolio[f\"{_t}\"].rolling(window=20, closed='both').max()\n",
      "/tmp/ipykernel_181783/3392517095.py:2: SettingWithCopyWarning: \n",
      "A value is trying to be set on a copy of a slice from a DataFrame.\n",
      "Try using .loc[row_indexer,col_indexer] = value instead\n",
      "\n",
      "See the caveats in the documentation: https://pandas.pydata.org/pandas-docs/stable/user_guide/indexing.html#returning-a-view-versus-a-copy\n",
      "  portfolio[f\"{_t}_min\"] = portfolio[f\"{_t}\"].rolling(window=20, closed='both').min()\n",
      "/tmp/ipykernel_181783/3392517095.py:3: SettingWithCopyWarning: \n",
      "A value is trying to be set on a copy of a slice from a DataFrame.\n",
      "Try using .loc[row_indexer,col_indexer] = value instead\n",
      "\n",
      "See the caveats in the documentation: https://pandas.pydata.org/pandas-docs/stable/user_guide/indexing.html#returning-a-view-versus-a-copy\n",
      "  portfolio[f\"{_t}_max\"] = portfolio[f\"{_t}\"].rolling(window=20, closed='both').max()\n",
      "/tmp/ipykernel_181783/3392517095.py:2: SettingWithCopyWarning: \n",
      "A value is trying to be set on a copy of a slice from a DataFrame.\n",
      "Try using .loc[row_indexer,col_indexer] = value instead\n",
      "\n",
      "See the caveats in the documentation: https://pandas.pydata.org/pandas-docs/stable/user_guide/indexing.html#returning-a-view-versus-a-copy\n",
      "  portfolio[f\"{_t}_min\"] = portfolio[f\"{_t}\"].rolling(window=20, closed='both').min()\n",
      "/tmp/ipykernel_181783/3392517095.py:3: SettingWithCopyWarning: \n",
      "A value is trying to be set on a copy of a slice from a DataFrame.\n",
      "Try using .loc[row_indexer,col_indexer] = value instead\n",
      "\n",
      "See the caveats in the documentation: https://pandas.pydata.org/pandas-docs/stable/user_guide/indexing.html#returning-a-view-versus-a-copy\n",
      "  portfolio[f\"{_t}_max\"] = portfolio[f\"{_t}\"].rolling(window=20, closed='both').max()\n",
      "/tmp/ipykernel_181783/3392517095.py:2: SettingWithCopyWarning: \n",
      "A value is trying to be set on a copy of a slice from a DataFrame.\n",
      "Try using .loc[row_indexer,col_indexer] = value instead\n",
      "\n",
      "See the caveats in the documentation: https://pandas.pydata.org/pandas-docs/stable/user_guide/indexing.html#returning-a-view-versus-a-copy\n",
      "  portfolio[f\"{_t}_min\"] = portfolio[f\"{_t}\"].rolling(window=20, closed='both').min()\n",
      "/tmp/ipykernel_181783/3392517095.py:3: SettingWithCopyWarning: \n",
      "A value is trying to be set on a copy of a slice from a DataFrame.\n",
      "Try using .loc[row_indexer,col_indexer] = value instead\n",
      "\n",
      "See the caveats in the documentation: https://pandas.pydata.org/pandas-docs/stable/user_guide/indexing.html#returning-a-view-versus-a-copy\n",
      "  portfolio[f\"{_t}_max\"] = portfolio[f\"{_t}\"].rolling(window=20, closed='both').max()\n",
      "/tmp/ipykernel_181783/3392517095.py:2: SettingWithCopyWarning: \n",
      "A value is trying to be set on a copy of a slice from a DataFrame.\n",
      "Try using .loc[row_indexer,col_indexer] = value instead\n",
      "\n",
      "See the caveats in the documentation: https://pandas.pydata.org/pandas-docs/stable/user_guide/indexing.html#returning-a-view-versus-a-copy\n",
      "  portfolio[f\"{_t}_min\"] = portfolio[f\"{_t}\"].rolling(window=20, closed='both').min()\n",
      "/tmp/ipykernel_181783/3392517095.py:3: SettingWithCopyWarning: \n",
      "A value is trying to be set on a copy of a slice from a DataFrame.\n",
      "Try using .loc[row_indexer,col_indexer] = value instead\n",
      "\n",
      "See the caveats in the documentation: https://pandas.pydata.org/pandas-docs/stable/user_guide/indexing.html#returning-a-view-versus-a-copy\n",
      "  portfolio[f\"{_t}_max\"] = portfolio[f\"{_t}\"].rolling(window=20, closed='both').max()\n",
      "/tmp/ipykernel_181783/3392517095.py:2: SettingWithCopyWarning: \n",
      "A value is trying to be set on a copy of a slice from a DataFrame.\n",
      "Try using .loc[row_indexer,col_indexer] = value instead\n",
      "\n",
      "See the caveats in the documentation: https://pandas.pydata.org/pandas-docs/stable/user_guide/indexing.html#returning-a-view-versus-a-copy\n",
      "  portfolio[f\"{_t}_min\"] = portfolio[f\"{_t}\"].rolling(window=20, closed='both').min()\n",
      "/tmp/ipykernel_181783/3392517095.py:3: SettingWithCopyWarning: \n",
      "A value is trying to be set on a copy of a slice from a DataFrame.\n",
      "Try using .loc[row_indexer,col_indexer] = value instead\n",
      "\n",
      "See the caveats in the documentation: https://pandas.pydata.org/pandas-docs/stable/user_guide/indexing.html#returning-a-view-versus-a-copy\n",
      "  portfolio[f\"{_t}_max\"] = portfolio[f\"{_t}\"].rolling(window=20, closed='both').max()\n",
      "/tmp/ipykernel_181783/3392517095.py:2: SettingWithCopyWarning: \n",
      "A value is trying to be set on a copy of a slice from a DataFrame.\n",
      "Try using .loc[row_indexer,col_indexer] = value instead\n",
      "\n",
      "See the caveats in the documentation: https://pandas.pydata.org/pandas-docs/stable/user_guide/indexing.html#returning-a-view-versus-a-copy\n",
      "  portfolio[f\"{_t}_min\"] = portfolio[f\"{_t}\"].rolling(window=20, closed='both').min()\n",
      "/tmp/ipykernel_181783/3392517095.py:3: SettingWithCopyWarning: \n",
      "A value is trying to be set on a copy of a slice from a DataFrame.\n",
      "Try using .loc[row_indexer,col_indexer] = value instead\n",
      "\n",
      "See the caveats in the documentation: https://pandas.pydata.org/pandas-docs/stable/user_guide/indexing.html#returning-a-view-versus-a-copy\n",
      "  portfolio[f\"{_t}_max\"] = portfolio[f\"{_t}\"].rolling(window=20, closed='both').max()\n",
      "/tmp/ipykernel_181783/3392517095.py:2: SettingWithCopyWarning: \n",
      "A value is trying to be set on a copy of a slice from a DataFrame.\n",
      "Try using .loc[row_indexer,col_indexer] = value instead\n",
      "\n",
      "See the caveats in the documentation: https://pandas.pydata.org/pandas-docs/stable/user_guide/indexing.html#returning-a-view-versus-a-copy\n",
      "  portfolio[f\"{_t}_min\"] = portfolio[f\"{_t}\"].rolling(window=20, closed='both').min()\n",
      "/tmp/ipykernel_181783/3392517095.py:3: SettingWithCopyWarning: \n",
      "A value is trying to be set on a copy of a slice from a DataFrame.\n",
      "Try using .loc[row_indexer,col_indexer] = value instead\n",
      "\n",
      "See the caveats in the documentation: https://pandas.pydata.org/pandas-docs/stable/user_guide/indexing.html#returning-a-view-versus-a-copy\n",
      "  portfolio[f\"{_t}_max\"] = portfolio[f\"{_t}\"].rolling(window=20, closed='both').max()\n",
      "/tmp/ipykernel_181783/3392517095.py:2: SettingWithCopyWarning: \n",
      "A value is trying to be set on a copy of a slice from a DataFrame.\n",
      "Try using .loc[row_indexer,col_indexer] = value instead\n",
      "\n",
      "See the caveats in the documentation: https://pandas.pydata.org/pandas-docs/stable/user_guide/indexing.html#returning-a-view-versus-a-copy\n",
      "  portfolio[f\"{_t}_min\"] = portfolio[f\"{_t}\"].rolling(window=20, closed='both').min()\n",
      "/tmp/ipykernel_181783/3392517095.py:3: SettingWithCopyWarning: \n",
      "A value is trying to be set on a copy of a slice from a DataFrame.\n",
      "Try using .loc[row_indexer,col_indexer] = value instead\n",
      "\n",
      "See the caveats in the documentation: https://pandas.pydata.org/pandas-docs/stable/user_guide/indexing.html#returning-a-view-versus-a-copy\n",
      "  portfolio[f\"{_t}_max\"] = portfolio[f\"{_t}\"].rolling(window=20, closed='both').max()\n",
      "/tmp/ipykernel_181783/3392517095.py:2: SettingWithCopyWarning: \n",
      "A value is trying to be set on a copy of a slice from a DataFrame.\n",
      "Try using .loc[row_indexer,col_indexer] = value instead\n",
      "\n",
      "See the caveats in the documentation: https://pandas.pydata.org/pandas-docs/stable/user_guide/indexing.html#returning-a-view-versus-a-copy\n",
      "  portfolio[f\"{_t}_min\"] = portfolio[f\"{_t}\"].rolling(window=20, closed='both').min()\n",
      "/tmp/ipykernel_181783/3392517095.py:3: SettingWithCopyWarning: \n",
      "A value is trying to be set on a copy of a slice from a DataFrame.\n",
      "Try using .loc[row_indexer,col_indexer] = value instead\n",
      "\n",
      "See the caveats in the documentation: https://pandas.pydata.org/pandas-docs/stable/user_guide/indexing.html#returning-a-view-versus-a-copy\n",
      "  portfolio[f\"{_t}_max\"] = portfolio[f\"{_t}\"].rolling(window=20, closed='both').max()\n",
      "/tmp/ipykernel_181783/3392517095.py:2: SettingWithCopyWarning: \n",
      "A value is trying to be set on a copy of a slice from a DataFrame.\n",
      "Try using .loc[row_indexer,col_indexer] = value instead\n",
      "\n",
      "See the caveats in the documentation: https://pandas.pydata.org/pandas-docs/stable/user_guide/indexing.html#returning-a-view-versus-a-copy\n",
      "  portfolio[f\"{_t}_min\"] = portfolio[f\"{_t}\"].rolling(window=20, closed='both').min()\n",
      "/tmp/ipykernel_181783/3392517095.py:3: SettingWithCopyWarning: \n",
      "A value is trying to be set on a copy of a slice from a DataFrame.\n",
      "Try using .loc[row_indexer,col_indexer] = value instead\n",
      "\n",
      "See the caveats in the documentation: https://pandas.pydata.org/pandas-docs/stable/user_guide/indexing.html#returning-a-view-versus-a-copy\n",
      "  portfolio[f\"{_t}_max\"] = portfolio[f\"{_t}\"].rolling(window=20, closed='both').max()\n",
      "/tmp/ipykernel_181783/3392517095.py:2: SettingWithCopyWarning: \n",
      "A value is trying to be set on a copy of a slice from a DataFrame.\n",
      "Try using .loc[row_indexer,col_indexer] = value instead\n",
      "\n",
      "See the caveats in the documentation: https://pandas.pydata.org/pandas-docs/stable/user_guide/indexing.html#returning-a-view-versus-a-copy\n",
      "  portfolio[f\"{_t}_min\"] = portfolio[f\"{_t}\"].rolling(window=20, closed='both').min()\n",
      "/tmp/ipykernel_181783/3392517095.py:3: SettingWithCopyWarning: \n",
      "A value is trying to be set on a copy of a slice from a DataFrame.\n",
      "Try using .loc[row_indexer,col_indexer] = value instead\n",
      "\n",
      "See the caveats in the documentation: https://pandas.pydata.org/pandas-docs/stable/user_guide/indexing.html#returning-a-view-versus-a-copy\n",
      "  portfolio[f\"{_t}_max\"] = portfolio[f\"{_t}\"].rolling(window=20, closed='both').max()\n",
      "/tmp/ipykernel_181783/3392517095.py:2: SettingWithCopyWarning: \n",
      "A value is trying to be set on a copy of a slice from a DataFrame.\n",
      "Try using .loc[row_indexer,col_indexer] = value instead\n",
      "\n",
      "See the caveats in the documentation: https://pandas.pydata.org/pandas-docs/stable/user_guide/indexing.html#returning-a-view-versus-a-copy\n",
      "  portfolio[f\"{_t}_min\"] = portfolio[f\"{_t}\"].rolling(window=20, closed='both').min()\n",
      "/tmp/ipykernel_181783/3392517095.py:3: SettingWithCopyWarning: \n",
      "A value is trying to be set on a copy of a slice from a DataFrame.\n",
      "Try using .loc[row_indexer,col_indexer] = value instead\n",
      "\n",
      "See the caveats in the documentation: https://pandas.pydata.org/pandas-docs/stable/user_guide/indexing.html#returning-a-view-versus-a-copy\n",
      "  portfolio[f\"{_t}_max\"] = portfolio[f\"{_t}\"].rolling(window=20, closed='both').max()\n",
      "/tmp/ipykernel_181783/3392517095.py:2: SettingWithCopyWarning: \n",
      "A value is trying to be set on a copy of a slice from a DataFrame.\n",
      "Try using .loc[row_indexer,col_indexer] = value instead\n",
      "\n",
      "See the caveats in the documentation: https://pandas.pydata.org/pandas-docs/stable/user_guide/indexing.html#returning-a-view-versus-a-copy\n",
      "  portfolio[f\"{_t}_min\"] = portfolio[f\"{_t}\"].rolling(window=20, closed='both').min()\n",
      "/tmp/ipykernel_181783/3392517095.py:3: SettingWithCopyWarning: \n",
      "A value is trying to be set on a copy of a slice from a DataFrame.\n",
      "Try using .loc[row_indexer,col_indexer] = value instead\n",
      "\n",
      "See the caveats in the documentation: https://pandas.pydata.org/pandas-docs/stable/user_guide/indexing.html#returning-a-view-versus-a-copy\n",
      "  portfolio[f\"{_t}_max\"] = portfolio[f\"{_t}\"].rolling(window=20, closed='both').max()\n",
      "/tmp/ipykernel_181783/3392517095.py:2: SettingWithCopyWarning: \n",
      "A value is trying to be set on a copy of a slice from a DataFrame.\n",
      "Try using .loc[row_indexer,col_indexer] = value instead\n",
      "\n",
      "See the caveats in the documentation: https://pandas.pydata.org/pandas-docs/stable/user_guide/indexing.html#returning-a-view-versus-a-copy\n",
      "  portfolio[f\"{_t}_min\"] = portfolio[f\"{_t}\"].rolling(window=20, closed='both').min()\n",
      "/tmp/ipykernel_181783/3392517095.py:3: SettingWithCopyWarning: \n",
      "A value is trying to be set on a copy of a slice from a DataFrame.\n",
      "Try using .loc[row_indexer,col_indexer] = value instead\n",
      "\n",
      "See the caveats in the documentation: https://pandas.pydata.org/pandas-docs/stable/user_guide/indexing.html#returning-a-view-versus-a-copy\n",
      "  portfolio[f\"{_t}_max\"] = portfolio[f\"{_t}\"].rolling(window=20, closed='both').max()\n",
      "/tmp/ipykernel_181783/3392517095.py:2: SettingWithCopyWarning: \n",
      "A value is trying to be set on a copy of a slice from a DataFrame.\n",
      "Try using .loc[row_indexer,col_indexer] = value instead\n",
      "\n",
      "See the caveats in the documentation: https://pandas.pydata.org/pandas-docs/stable/user_guide/indexing.html#returning-a-view-versus-a-copy\n",
      "  portfolio[f\"{_t}_min\"] = portfolio[f\"{_t}\"].rolling(window=20, closed='both').min()\n",
      "/tmp/ipykernel_181783/3392517095.py:3: SettingWithCopyWarning: \n",
      "A value is trying to be set on a copy of a slice from a DataFrame.\n",
      "Try using .loc[row_indexer,col_indexer] = value instead\n",
      "\n",
      "See the caveats in the documentation: https://pandas.pydata.org/pandas-docs/stable/user_guide/indexing.html#returning-a-view-versus-a-copy\n",
      "  portfolio[f\"{_t}_max\"] = portfolio[f\"{_t}\"].rolling(window=20, closed='both').max()\n",
      "/tmp/ipykernel_181783/3392517095.py:2: SettingWithCopyWarning: \n",
      "A value is trying to be set on a copy of a slice from a DataFrame.\n",
      "Try using .loc[row_indexer,col_indexer] = value instead\n",
      "\n",
      "See the caveats in the documentation: https://pandas.pydata.org/pandas-docs/stable/user_guide/indexing.html#returning-a-view-versus-a-copy\n",
      "  portfolio[f\"{_t}_min\"] = portfolio[f\"{_t}\"].rolling(window=20, closed='both').min()\n",
      "/tmp/ipykernel_181783/3392517095.py:3: SettingWithCopyWarning: \n",
      "A value is trying to be set on a copy of a slice from a DataFrame.\n",
      "Try using .loc[row_indexer,col_indexer] = value instead\n",
      "\n",
      "See the caveats in the documentation: https://pandas.pydata.org/pandas-docs/stable/user_guide/indexing.html#returning-a-view-versus-a-copy\n",
      "  portfolio[f\"{_t}_max\"] = portfolio[f\"{_t}\"].rolling(window=20, closed='both').max()\n",
      "/tmp/ipykernel_181783/3392517095.py:2: SettingWithCopyWarning: \n",
      "A value is trying to be set on a copy of a slice from a DataFrame.\n",
      "Try using .loc[row_indexer,col_indexer] = value instead\n",
      "\n",
      "See the caveats in the documentation: https://pandas.pydata.org/pandas-docs/stable/user_guide/indexing.html#returning-a-view-versus-a-copy\n",
      "  portfolio[f\"{_t}_min\"] = portfolio[f\"{_t}\"].rolling(window=20, closed='both').min()\n",
      "/tmp/ipykernel_181783/3392517095.py:3: SettingWithCopyWarning: \n",
      "A value is trying to be set on a copy of a slice from a DataFrame.\n",
      "Try using .loc[row_indexer,col_indexer] = value instead\n",
      "\n",
      "See the caveats in the documentation: https://pandas.pydata.org/pandas-docs/stable/user_guide/indexing.html#returning-a-view-versus-a-copy\n",
      "  portfolio[f\"{_t}_max\"] = portfolio[f\"{_t}\"].rolling(window=20, closed='both').max()\n",
      "/tmp/ipykernel_181783/3392517095.py:2: SettingWithCopyWarning: \n",
      "A value is trying to be set on a copy of a slice from a DataFrame.\n",
      "Try using .loc[row_indexer,col_indexer] = value instead\n",
      "\n",
      "See the caveats in the documentation: https://pandas.pydata.org/pandas-docs/stable/user_guide/indexing.html#returning-a-view-versus-a-copy\n",
      "  portfolio[f\"{_t}_min\"] = portfolio[f\"{_t}\"].rolling(window=20, closed='both').min()\n",
      "/tmp/ipykernel_181783/3392517095.py:3: SettingWithCopyWarning: \n",
      "A value is trying to be set on a copy of a slice from a DataFrame.\n",
      "Try using .loc[row_indexer,col_indexer] = value instead\n",
      "\n",
      "See the caveats in the documentation: https://pandas.pydata.org/pandas-docs/stable/user_guide/indexing.html#returning-a-view-versus-a-copy\n",
      "  portfolio[f\"{_t}_max\"] = portfolio[f\"{_t}\"].rolling(window=20, closed='both').max()\n",
      "/tmp/ipykernel_181783/3392517095.py:2: SettingWithCopyWarning: \n",
      "A value is trying to be set on a copy of a slice from a DataFrame.\n",
      "Try using .loc[row_indexer,col_indexer] = value instead\n",
      "\n",
      "See the caveats in the documentation: https://pandas.pydata.org/pandas-docs/stable/user_guide/indexing.html#returning-a-view-versus-a-copy\n",
      "  portfolio[f\"{_t}_min\"] = portfolio[f\"{_t}\"].rolling(window=20, closed='both').min()\n",
      "/tmp/ipykernel_181783/3392517095.py:3: SettingWithCopyWarning: \n",
      "A value is trying to be set on a copy of a slice from a DataFrame.\n",
      "Try using .loc[row_indexer,col_indexer] = value instead\n",
      "\n",
      "See the caveats in the documentation: https://pandas.pydata.org/pandas-docs/stable/user_guide/indexing.html#returning-a-view-versus-a-copy\n",
      "  portfolio[f\"{_t}_max\"] = portfolio[f\"{_t}\"].rolling(window=20, closed='both').max()\n",
      "/tmp/ipykernel_181783/3392517095.py:2: SettingWithCopyWarning: \n",
      "A value is trying to be set on a copy of a slice from a DataFrame.\n",
      "Try using .loc[row_indexer,col_indexer] = value instead\n",
      "\n",
      "See the caveats in the documentation: https://pandas.pydata.org/pandas-docs/stable/user_guide/indexing.html#returning-a-view-versus-a-copy\n",
      "  portfolio[f\"{_t}_min\"] = portfolio[f\"{_t}\"].rolling(window=20, closed='both').min()\n",
      "/tmp/ipykernel_181783/3392517095.py:3: SettingWithCopyWarning: \n",
      "A value is trying to be set on a copy of a slice from a DataFrame.\n",
      "Try using .loc[row_indexer,col_indexer] = value instead\n",
      "\n",
      "See the caveats in the documentation: https://pandas.pydata.org/pandas-docs/stable/user_guide/indexing.html#returning-a-view-versus-a-copy\n",
      "  portfolio[f\"{_t}_max\"] = portfolio[f\"{_t}\"].rolling(window=20, closed='both').max()\n",
      "/tmp/ipykernel_181783/3392517095.py:2: SettingWithCopyWarning: \n",
      "A value is trying to be set on a copy of a slice from a DataFrame.\n",
      "Try using .loc[row_indexer,col_indexer] = value instead\n",
      "\n",
      "See the caveats in the documentation: https://pandas.pydata.org/pandas-docs/stable/user_guide/indexing.html#returning-a-view-versus-a-copy\n",
      "  portfolio[f\"{_t}_min\"] = portfolio[f\"{_t}\"].rolling(window=20, closed='both').min()\n",
      "/tmp/ipykernel_181783/3392517095.py:3: SettingWithCopyWarning: \n",
      "A value is trying to be set on a copy of a slice from a DataFrame.\n",
      "Try using .loc[row_indexer,col_indexer] = value instead\n",
      "\n",
      "See the caveats in the documentation: https://pandas.pydata.org/pandas-docs/stable/user_guide/indexing.html#returning-a-view-versus-a-copy\n",
      "  portfolio[f\"{_t}_max\"] = portfolio[f\"{_t}\"].rolling(window=20, closed='both').max()\n",
      "/tmp/ipykernel_181783/3392517095.py:2: SettingWithCopyWarning: \n",
      "A value is trying to be set on a copy of a slice from a DataFrame.\n",
      "Try using .loc[row_indexer,col_indexer] = value instead\n",
      "\n",
      "See the caveats in the documentation: https://pandas.pydata.org/pandas-docs/stable/user_guide/indexing.html#returning-a-view-versus-a-copy\n",
      "  portfolio[f\"{_t}_min\"] = portfolio[f\"{_t}\"].rolling(window=20, closed='both').min()\n",
      "/tmp/ipykernel_181783/3392517095.py:3: SettingWithCopyWarning: \n",
      "A value is trying to be set on a copy of a slice from a DataFrame.\n",
      "Try using .loc[row_indexer,col_indexer] = value instead\n",
      "\n",
      "See the caveats in the documentation: https://pandas.pydata.org/pandas-docs/stable/user_guide/indexing.html#returning-a-view-versus-a-copy\n",
      "  portfolio[f\"{_t}_max\"] = portfolio[f\"{_t}\"].rolling(window=20, closed='both').max()\n",
      "/tmp/ipykernel_181783/3392517095.py:2: SettingWithCopyWarning: \n",
      "A value is trying to be set on a copy of a slice from a DataFrame.\n",
      "Try using .loc[row_indexer,col_indexer] = value instead\n",
      "\n",
      "See the caveats in the documentation: https://pandas.pydata.org/pandas-docs/stable/user_guide/indexing.html#returning-a-view-versus-a-copy\n",
      "  portfolio[f\"{_t}_min\"] = portfolio[f\"{_t}\"].rolling(window=20, closed='both').min()\n",
      "/tmp/ipykernel_181783/3392517095.py:3: SettingWithCopyWarning: \n",
      "A value is trying to be set on a copy of a slice from a DataFrame.\n",
      "Try using .loc[row_indexer,col_indexer] = value instead\n",
      "\n",
      "See the caveats in the documentation: https://pandas.pydata.org/pandas-docs/stable/user_guide/indexing.html#returning-a-view-versus-a-copy\n",
      "  portfolio[f\"{_t}_max\"] = portfolio[f\"{_t}\"].rolling(window=20, closed='both').max()\n",
      "/tmp/ipykernel_181783/3392517095.py:2: SettingWithCopyWarning: \n",
      "A value is trying to be set on a copy of a slice from a DataFrame.\n",
      "Try using .loc[row_indexer,col_indexer] = value instead\n",
      "\n",
      "See the caveats in the documentation: https://pandas.pydata.org/pandas-docs/stable/user_guide/indexing.html#returning-a-view-versus-a-copy\n",
      "  portfolio[f\"{_t}_min\"] = portfolio[f\"{_t}\"].rolling(window=20, closed='both').min()\n",
      "/tmp/ipykernel_181783/3392517095.py:3: SettingWithCopyWarning: \n",
      "A value is trying to be set on a copy of a slice from a DataFrame.\n",
      "Try using .loc[row_indexer,col_indexer] = value instead\n",
      "\n",
      "See the caveats in the documentation: https://pandas.pydata.org/pandas-docs/stable/user_guide/indexing.html#returning-a-view-versus-a-copy\n",
      "  portfolio[f\"{_t}_max\"] = portfolio[f\"{_t}\"].rolling(window=20, closed='both').max()\n",
      "/tmp/ipykernel_181783/3392517095.py:2: SettingWithCopyWarning: \n",
      "A value is trying to be set on a copy of a slice from a DataFrame.\n",
      "Try using .loc[row_indexer,col_indexer] = value instead\n",
      "\n",
      "See the caveats in the documentation: https://pandas.pydata.org/pandas-docs/stable/user_guide/indexing.html#returning-a-view-versus-a-copy\n",
      "  portfolio[f\"{_t}_min\"] = portfolio[f\"{_t}\"].rolling(window=20, closed='both').min()\n",
      "/tmp/ipykernel_181783/3392517095.py:3: SettingWithCopyWarning: \n",
      "A value is trying to be set on a copy of a slice from a DataFrame.\n",
      "Try using .loc[row_indexer,col_indexer] = value instead\n",
      "\n",
      "See the caveats in the documentation: https://pandas.pydata.org/pandas-docs/stable/user_guide/indexing.html#returning-a-view-versus-a-copy\n",
      "  portfolio[f\"{_t}_max\"] = portfolio[f\"{_t}\"].rolling(window=20, closed='both').max()\n",
      "/tmp/ipykernel_181783/3392517095.py:2: SettingWithCopyWarning: \n",
      "A value is trying to be set on a copy of a slice from a DataFrame.\n",
      "Try using .loc[row_indexer,col_indexer] = value instead\n",
      "\n",
      "See the caveats in the documentation: https://pandas.pydata.org/pandas-docs/stable/user_guide/indexing.html#returning-a-view-versus-a-copy\n",
      "  portfolio[f\"{_t}_min\"] = portfolio[f\"{_t}\"].rolling(window=20, closed='both').min()\n",
      "/tmp/ipykernel_181783/3392517095.py:3: SettingWithCopyWarning: \n",
      "A value is trying to be set on a copy of a slice from a DataFrame.\n",
      "Try using .loc[row_indexer,col_indexer] = value instead\n",
      "\n",
      "See the caveats in the documentation: https://pandas.pydata.org/pandas-docs/stable/user_guide/indexing.html#returning-a-view-versus-a-copy\n",
      "  portfolio[f\"{_t}_max\"] = portfolio[f\"{_t}\"].rolling(window=20, closed='both').max()\n",
      "/tmp/ipykernel_181783/3392517095.py:2: SettingWithCopyWarning: \n",
      "A value is trying to be set on a copy of a slice from a DataFrame.\n",
      "Try using .loc[row_indexer,col_indexer] = value instead\n",
      "\n",
      "See the caveats in the documentation: https://pandas.pydata.org/pandas-docs/stable/user_guide/indexing.html#returning-a-view-versus-a-copy\n",
      "  portfolio[f\"{_t}_min\"] = portfolio[f\"{_t}\"].rolling(window=20, closed='both').min()\n",
      "/tmp/ipykernel_181783/3392517095.py:3: SettingWithCopyWarning: \n",
      "A value is trying to be set on a copy of a slice from a DataFrame.\n",
      "Try using .loc[row_indexer,col_indexer] = value instead\n",
      "\n",
      "See the caveats in the documentation: https://pandas.pydata.org/pandas-docs/stable/user_guide/indexing.html#returning-a-view-versus-a-copy\n",
      "  portfolio[f\"{_t}_max\"] = portfolio[f\"{_t}\"].rolling(window=20, closed='both').max()\n",
      "/tmp/ipykernel_181783/3392517095.py:2: SettingWithCopyWarning: \n",
      "A value is trying to be set on a copy of a slice from a DataFrame.\n",
      "Try using .loc[row_indexer,col_indexer] = value instead\n",
      "\n",
      "See the caveats in the documentation: https://pandas.pydata.org/pandas-docs/stable/user_guide/indexing.html#returning-a-view-versus-a-copy\n",
      "  portfolio[f\"{_t}_min\"] = portfolio[f\"{_t}\"].rolling(window=20, closed='both').min()\n",
      "/tmp/ipykernel_181783/3392517095.py:3: SettingWithCopyWarning: \n",
      "A value is trying to be set on a copy of a slice from a DataFrame.\n",
      "Try using .loc[row_indexer,col_indexer] = value instead\n",
      "\n",
      "See the caveats in the documentation: https://pandas.pydata.org/pandas-docs/stable/user_guide/indexing.html#returning-a-view-versus-a-copy\n",
      "  portfolio[f\"{_t}_max\"] = portfolio[f\"{_t}\"].rolling(window=20, closed='both').max()\n",
      "/tmp/ipykernel_181783/3392517095.py:2: SettingWithCopyWarning: \n",
      "A value is trying to be set on a copy of a slice from a DataFrame.\n",
      "Try using .loc[row_indexer,col_indexer] = value instead\n",
      "\n",
      "See the caveats in the documentation: https://pandas.pydata.org/pandas-docs/stable/user_guide/indexing.html#returning-a-view-versus-a-copy\n",
      "  portfolio[f\"{_t}_min\"] = portfolio[f\"{_t}\"].rolling(window=20, closed='both').min()\n",
      "/tmp/ipykernel_181783/3392517095.py:3: SettingWithCopyWarning: \n",
      "A value is trying to be set on a copy of a slice from a DataFrame.\n",
      "Try using .loc[row_indexer,col_indexer] = value instead\n",
      "\n",
      "See the caveats in the documentation: https://pandas.pydata.org/pandas-docs/stable/user_guide/indexing.html#returning-a-view-versus-a-copy\n",
      "  portfolio[f\"{_t}_max\"] = portfolio[f\"{_t}\"].rolling(window=20, closed='both').max()\n",
      "/tmp/ipykernel_181783/3392517095.py:2: SettingWithCopyWarning: \n",
      "A value is trying to be set on a copy of a slice from a DataFrame.\n",
      "Try using .loc[row_indexer,col_indexer] = value instead\n",
      "\n",
      "See the caveats in the documentation: https://pandas.pydata.org/pandas-docs/stable/user_guide/indexing.html#returning-a-view-versus-a-copy\n",
      "  portfolio[f\"{_t}_min\"] = portfolio[f\"{_t}\"].rolling(window=20, closed='both').min()\n",
      "/tmp/ipykernel_181783/3392517095.py:3: SettingWithCopyWarning: \n",
      "A value is trying to be set on a copy of a slice from a DataFrame.\n",
      "Try using .loc[row_indexer,col_indexer] = value instead\n",
      "\n",
      "See the caveats in the documentation: https://pandas.pydata.org/pandas-docs/stable/user_guide/indexing.html#returning-a-view-versus-a-copy\n",
      "  portfolio[f\"{_t}_max\"] = portfolio[f\"{_t}\"].rolling(window=20, closed='both').max()\n",
      "/tmp/ipykernel_181783/3392517095.py:2: SettingWithCopyWarning: \n",
      "A value is trying to be set on a copy of a slice from a DataFrame.\n",
      "Try using .loc[row_indexer,col_indexer] = value instead\n",
      "\n",
      "See the caveats in the documentation: https://pandas.pydata.org/pandas-docs/stable/user_guide/indexing.html#returning-a-view-versus-a-copy\n",
      "  portfolio[f\"{_t}_min\"] = portfolio[f\"{_t}\"].rolling(window=20, closed='both').min()\n",
      "/tmp/ipykernel_181783/3392517095.py:3: SettingWithCopyWarning: \n",
      "A value is trying to be set on a copy of a slice from a DataFrame.\n",
      "Try using .loc[row_indexer,col_indexer] = value instead\n",
      "\n",
      "See the caveats in the documentation: https://pandas.pydata.org/pandas-docs/stable/user_guide/indexing.html#returning-a-view-versus-a-copy\n",
      "  portfolio[f\"{_t}_max\"] = portfolio[f\"{_t}\"].rolling(window=20, closed='both').max()\n",
      "/tmp/ipykernel_181783/3392517095.py:2: SettingWithCopyWarning: \n",
      "A value is trying to be set on a copy of a slice from a DataFrame.\n",
      "Try using .loc[row_indexer,col_indexer] = value instead\n",
      "\n",
      "See the caveats in the documentation: https://pandas.pydata.org/pandas-docs/stable/user_guide/indexing.html#returning-a-view-versus-a-copy\n",
      "  portfolio[f\"{_t}_min\"] = portfolio[f\"{_t}\"].rolling(window=20, closed='both').min()\n",
      "/tmp/ipykernel_181783/3392517095.py:3: SettingWithCopyWarning: \n",
      "A value is trying to be set on a copy of a slice from a DataFrame.\n",
      "Try using .loc[row_indexer,col_indexer] = value instead\n",
      "\n",
      "See the caveats in the documentation: https://pandas.pydata.org/pandas-docs/stable/user_guide/indexing.html#returning-a-view-versus-a-copy\n",
      "  portfolio[f\"{_t}_max\"] = portfolio[f\"{_t}\"].rolling(window=20, closed='both').max()\n",
      "/tmp/ipykernel_181783/3392517095.py:2: SettingWithCopyWarning: \n",
      "A value is trying to be set on a copy of a slice from a DataFrame.\n",
      "Try using .loc[row_indexer,col_indexer] = value instead\n",
      "\n",
      "See the caveats in the documentation: https://pandas.pydata.org/pandas-docs/stable/user_guide/indexing.html#returning-a-view-versus-a-copy\n",
      "  portfolio[f\"{_t}_min\"] = portfolio[f\"{_t}\"].rolling(window=20, closed='both').min()\n",
      "/tmp/ipykernel_181783/3392517095.py:3: SettingWithCopyWarning: \n",
      "A value is trying to be set on a copy of a slice from a DataFrame.\n",
      "Try using .loc[row_indexer,col_indexer] = value instead\n",
      "\n",
      "See the caveats in the documentation: https://pandas.pydata.org/pandas-docs/stable/user_guide/indexing.html#returning-a-view-versus-a-copy\n",
      "  portfolio[f\"{_t}_max\"] = portfolio[f\"{_t}\"].rolling(window=20, closed='both').max()\n",
      "/tmp/ipykernel_181783/3392517095.py:2: SettingWithCopyWarning: \n",
      "A value is trying to be set on a copy of a slice from a DataFrame.\n",
      "Try using .loc[row_indexer,col_indexer] = value instead\n",
      "\n",
      "See the caveats in the documentation: https://pandas.pydata.org/pandas-docs/stable/user_guide/indexing.html#returning-a-view-versus-a-copy\n",
      "  portfolio[f\"{_t}_min\"] = portfolio[f\"{_t}\"].rolling(window=20, closed='both').min()\n",
      "/tmp/ipykernel_181783/3392517095.py:3: SettingWithCopyWarning: \n",
      "A value is trying to be set on a copy of a slice from a DataFrame.\n",
      "Try using .loc[row_indexer,col_indexer] = value instead\n",
      "\n",
      "See the caveats in the documentation: https://pandas.pydata.org/pandas-docs/stable/user_guide/indexing.html#returning-a-view-versus-a-copy\n",
      "  portfolio[f\"{_t}_max\"] = portfolio[f\"{_t}\"].rolling(window=20, closed='both').max()\n",
      "/tmp/ipykernel_181783/3392517095.py:2: SettingWithCopyWarning: \n",
      "A value is trying to be set on a copy of a slice from a DataFrame.\n",
      "Try using .loc[row_indexer,col_indexer] = value instead\n",
      "\n",
      "See the caveats in the documentation: https://pandas.pydata.org/pandas-docs/stable/user_guide/indexing.html#returning-a-view-versus-a-copy\n",
      "  portfolio[f\"{_t}_min\"] = portfolio[f\"{_t}\"].rolling(window=20, closed='both').min()\n",
      "/tmp/ipykernel_181783/3392517095.py:3: SettingWithCopyWarning: \n",
      "A value is trying to be set on a copy of a slice from a DataFrame.\n",
      "Try using .loc[row_indexer,col_indexer] = value instead\n",
      "\n",
      "See the caveats in the documentation: https://pandas.pydata.org/pandas-docs/stable/user_guide/indexing.html#returning-a-view-versus-a-copy\n",
      "  portfolio[f\"{_t}_max\"] = portfolio[f\"{_t}\"].rolling(window=20, closed='both').max()\n",
      "/tmp/ipykernel_181783/3392517095.py:2: SettingWithCopyWarning: \n",
      "A value is trying to be set on a copy of a slice from a DataFrame.\n",
      "Try using .loc[row_indexer,col_indexer] = value instead\n",
      "\n",
      "See the caveats in the documentation: https://pandas.pydata.org/pandas-docs/stable/user_guide/indexing.html#returning-a-view-versus-a-copy\n",
      "  portfolio[f\"{_t}_min\"] = portfolio[f\"{_t}\"].rolling(window=20, closed='both').min()\n",
      "/tmp/ipykernel_181783/3392517095.py:3: SettingWithCopyWarning: \n",
      "A value is trying to be set on a copy of a slice from a DataFrame.\n",
      "Try using .loc[row_indexer,col_indexer] = value instead\n",
      "\n",
      "See the caveats in the documentation: https://pandas.pydata.org/pandas-docs/stable/user_guide/indexing.html#returning-a-view-versus-a-copy\n",
      "  portfolio[f\"{_t}_max\"] = portfolio[f\"{_t}\"].rolling(window=20, closed='both').max()\n",
      "/tmp/ipykernel_181783/3392517095.py:2: SettingWithCopyWarning: \n",
      "A value is trying to be set on a copy of a slice from a DataFrame.\n",
      "Try using .loc[row_indexer,col_indexer] = value instead\n",
      "\n",
      "See the caveats in the documentation: https://pandas.pydata.org/pandas-docs/stable/user_guide/indexing.html#returning-a-view-versus-a-copy\n",
      "  portfolio[f\"{_t}_min\"] = portfolio[f\"{_t}\"].rolling(window=20, closed='both').min()\n",
      "/tmp/ipykernel_181783/3392517095.py:3: SettingWithCopyWarning: \n",
      "A value is trying to be set on a copy of a slice from a DataFrame.\n",
      "Try using .loc[row_indexer,col_indexer] = value instead\n",
      "\n",
      "See the caveats in the documentation: https://pandas.pydata.org/pandas-docs/stable/user_guide/indexing.html#returning-a-view-versus-a-copy\n",
      "  portfolio[f\"{_t}_max\"] = portfolio[f\"{_t}\"].rolling(window=20, closed='both').max()\n",
      "/tmp/ipykernel_181783/3392517095.py:2: SettingWithCopyWarning: \n",
      "A value is trying to be set on a copy of a slice from a DataFrame.\n",
      "Try using .loc[row_indexer,col_indexer] = value instead\n",
      "\n",
      "See the caveats in the documentation: https://pandas.pydata.org/pandas-docs/stable/user_guide/indexing.html#returning-a-view-versus-a-copy\n",
      "  portfolio[f\"{_t}_min\"] = portfolio[f\"{_t}\"].rolling(window=20, closed='both').min()\n",
      "/tmp/ipykernel_181783/3392517095.py:3: SettingWithCopyWarning: \n",
      "A value is trying to be set on a copy of a slice from a DataFrame.\n",
      "Try using .loc[row_indexer,col_indexer] = value instead\n",
      "\n",
      "See the caveats in the documentation: https://pandas.pydata.org/pandas-docs/stable/user_guide/indexing.html#returning-a-view-versus-a-copy\n",
      "  portfolio[f\"{_t}_max\"] = portfolio[f\"{_t}\"].rolling(window=20, closed='both').max()\n",
      "/tmp/ipykernel_181783/3392517095.py:2: SettingWithCopyWarning: \n",
      "A value is trying to be set on a copy of a slice from a DataFrame.\n",
      "Try using .loc[row_indexer,col_indexer] = value instead\n",
      "\n",
      "See the caveats in the documentation: https://pandas.pydata.org/pandas-docs/stable/user_guide/indexing.html#returning-a-view-versus-a-copy\n",
      "  portfolio[f\"{_t}_min\"] = portfolio[f\"{_t}\"].rolling(window=20, closed='both').min()\n",
      "/tmp/ipykernel_181783/3392517095.py:3: SettingWithCopyWarning: \n",
      "A value is trying to be set on a copy of a slice from a DataFrame.\n",
      "Try using .loc[row_indexer,col_indexer] = value instead\n",
      "\n",
      "See the caveats in the documentation: https://pandas.pydata.org/pandas-docs/stable/user_guide/indexing.html#returning-a-view-versus-a-copy\n",
      "  portfolio[f\"{_t}_max\"] = portfolio[f\"{_t}\"].rolling(window=20, closed='both').max()\n",
      "/tmp/ipykernel_181783/3392517095.py:2: SettingWithCopyWarning: \n",
      "A value is trying to be set on a copy of a slice from a DataFrame.\n",
      "Try using .loc[row_indexer,col_indexer] = value instead\n",
      "\n",
      "See the caveats in the documentation: https://pandas.pydata.org/pandas-docs/stable/user_guide/indexing.html#returning-a-view-versus-a-copy\n",
      "  portfolio[f\"{_t}_min\"] = portfolio[f\"{_t}\"].rolling(window=20, closed='both').min()\n",
      "/tmp/ipykernel_181783/3392517095.py:3: SettingWithCopyWarning: \n",
      "A value is trying to be set on a copy of a slice from a DataFrame.\n",
      "Try using .loc[row_indexer,col_indexer] = value instead\n",
      "\n",
      "See the caveats in the documentation: https://pandas.pydata.org/pandas-docs/stable/user_guide/indexing.html#returning-a-view-versus-a-copy\n",
      "  portfolio[f\"{_t}_max\"] = portfolio[f\"{_t}\"].rolling(window=20, closed='both').max()\n",
      "/tmp/ipykernel_181783/3392517095.py:2: SettingWithCopyWarning: \n",
      "A value is trying to be set on a copy of a slice from a DataFrame.\n",
      "Try using .loc[row_indexer,col_indexer] = value instead\n",
      "\n",
      "See the caveats in the documentation: https://pandas.pydata.org/pandas-docs/stable/user_guide/indexing.html#returning-a-view-versus-a-copy\n",
      "  portfolio[f\"{_t}_min\"] = portfolio[f\"{_t}\"].rolling(window=20, closed='both').min()\n",
      "/tmp/ipykernel_181783/3392517095.py:3: SettingWithCopyWarning: \n",
      "A value is trying to be set on a copy of a slice from a DataFrame.\n",
      "Try using .loc[row_indexer,col_indexer] = value instead\n",
      "\n",
      "See the caveats in the documentation: https://pandas.pydata.org/pandas-docs/stable/user_guide/indexing.html#returning-a-view-versus-a-copy\n",
      "  portfolio[f\"{_t}_max\"] = portfolio[f\"{_t}\"].rolling(window=20, closed='both').max()\n",
      "/tmp/ipykernel_181783/3392517095.py:2: SettingWithCopyWarning: \n",
      "A value is trying to be set on a copy of a slice from a DataFrame.\n",
      "Try using .loc[row_indexer,col_indexer] = value instead\n",
      "\n",
      "See the caveats in the documentation: https://pandas.pydata.org/pandas-docs/stable/user_guide/indexing.html#returning-a-view-versus-a-copy\n",
      "  portfolio[f\"{_t}_min\"] = portfolio[f\"{_t}\"].rolling(window=20, closed='both').min()\n",
      "/tmp/ipykernel_181783/3392517095.py:3: SettingWithCopyWarning: \n",
      "A value is trying to be set on a copy of a slice from a DataFrame.\n",
      "Try using .loc[row_indexer,col_indexer] = value instead\n",
      "\n",
      "See the caveats in the documentation: https://pandas.pydata.org/pandas-docs/stable/user_guide/indexing.html#returning-a-view-versus-a-copy\n",
      "  portfolio[f\"{_t}_max\"] = portfolio[f\"{_t}\"].rolling(window=20, closed='both').max()\n",
      "/tmp/ipykernel_181783/3392517095.py:2: SettingWithCopyWarning: \n",
      "A value is trying to be set on a copy of a slice from a DataFrame.\n",
      "Try using .loc[row_indexer,col_indexer] = value instead\n",
      "\n",
      "See the caveats in the documentation: https://pandas.pydata.org/pandas-docs/stable/user_guide/indexing.html#returning-a-view-versus-a-copy\n",
      "  portfolio[f\"{_t}_min\"] = portfolio[f\"{_t}\"].rolling(window=20, closed='both').min()\n",
      "/tmp/ipykernel_181783/3392517095.py:3: SettingWithCopyWarning: \n",
      "A value is trying to be set on a copy of a slice from a DataFrame.\n",
      "Try using .loc[row_indexer,col_indexer] = value instead\n",
      "\n",
      "See the caveats in the documentation: https://pandas.pydata.org/pandas-docs/stable/user_guide/indexing.html#returning-a-view-versus-a-copy\n",
      "  portfolio[f\"{_t}_max\"] = portfolio[f\"{_t}\"].rolling(window=20, closed='both').max()\n",
      "/tmp/ipykernel_181783/3392517095.py:2: SettingWithCopyWarning: \n",
      "A value is trying to be set on a copy of a slice from a DataFrame.\n",
      "Try using .loc[row_indexer,col_indexer] = value instead\n",
      "\n",
      "See the caveats in the documentation: https://pandas.pydata.org/pandas-docs/stable/user_guide/indexing.html#returning-a-view-versus-a-copy\n",
      "  portfolio[f\"{_t}_min\"] = portfolio[f\"{_t}\"].rolling(window=20, closed='both').min()\n",
      "/tmp/ipykernel_181783/3392517095.py:3: SettingWithCopyWarning: \n",
      "A value is trying to be set on a copy of a slice from a DataFrame.\n",
      "Try using .loc[row_indexer,col_indexer] = value instead\n",
      "\n",
      "See the caveats in the documentation: https://pandas.pydata.org/pandas-docs/stable/user_guide/indexing.html#returning-a-view-versus-a-copy\n",
      "  portfolio[f\"{_t}_max\"] = portfolio[f\"{_t}\"].rolling(window=20, closed='both').max()\n",
      "/tmp/ipykernel_181783/3392517095.py:2: SettingWithCopyWarning: \n",
      "A value is trying to be set on a copy of a slice from a DataFrame.\n",
      "Try using .loc[row_indexer,col_indexer] = value instead\n",
      "\n",
      "See the caveats in the documentation: https://pandas.pydata.org/pandas-docs/stable/user_guide/indexing.html#returning-a-view-versus-a-copy\n",
      "  portfolio[f\"{_t}_min\"] = portfolio[f\"{_t}\"].rolling(window=20, closed='both').min()\n",
      "/tmp/ipykernel_181783/3392517095.py:3: SettingWithCopyWarning: \n",
      "A value is trying to be set on a copy of a slice from a DataFrame.\n",
      "Try using .loc[row_indexer,col_indexer] = value instead\n",
      "\n",
      "See the caveats in the documentation: https://pandas.pydata.org/pandas-docs/stable/user_guide/indexing.html#returning-a-view-versus-a-copy\n",
      "  portfolio[f\"{_t}_max\"] = portfolio[f\"{_t}\"].rolling(window=20, closed='both').max()\n",
      "/tmp/ipykernel_181783/3392517095.py:2: SettingWithCopyWarning: \n",
      "A value is trying to be set on a copy of a slice from a DataFrame.\n",
      "Try using .loc[row_indexer,col_indexer] = value instead\n",
      "\n",
      "See the caveats in the documentation: https://pandas.pydata.org/pandas-docs/stable/user_guide/indexing.html#returning-a-view-versus-a-copy\n",
      "  portfolio[f\"{_t}_min\"] = portfolio[f\"{_t}\"].rolling(window=20, closed='both').min()\n",
      "/tmp/ipykernel_181783/3392517095.py:3: SettingWithCopyWarning: \n",
      "A value is trying to be set on a copy of a slice from a DataFrame.\n",
      "Try using .loc[row_indexer,col_indexer] = value instead\n",
      "\n",
      "See the caveats in the documentation: https://pandas.pydata.org/pandas-docs/stable/user_guide/indexing.html#returning-a-view-versus-a-copy\n",
      "  portfolio[f\"{_t}_max\"] = portfolio[f\"{_t}\"].rolling(window=20, closed='both').max()\n",
      "/tmp/ipykernel_181783/3392517095.py:2: SettingWithCopyWarning: \n",
      "A value is trying to be set on a copy of a slice from a DataFrame.\n",
      "Try using .loc[row_indexer,col_indexer] = value instead\n",
      "\n",
      "See the caveats in the documentation: https://pandas.pydata.org/pandas-docs/stable/user_guide/indexing.html#returning-a-view-versus-a-copy\n",
      "  portfolio[f\"{_t}_min\"] = portfolio[f\"{_t}\"].rolling(window=20, closed='both').min()\n",
      "/tmp/ipykernel_181783/3392517095.py:3: SettingWithCopyWarning: \n",
      "A value is trying to be set on a copy of a slice from a DataFrame.\n",
      "Try using .loc[row_indexer,col_indexer] = value instead\n",
      "\n",
      "See the caveats in the documentation: https://pandas.pydata.org/pandas-docs/stable/user_guide/indexing.html#returning-a-view-versus-a-copy\n",
      "  portfolio[f\"{_t}_max\"] = portfolio[f\"{_t}\"].rolling(window=20, closed='both').max()\n",
      "/tmp/ipykernel_181783/3392517095.py:2: SettingWithCopyWarning: \n",
      "A value is trying to be set on a copy of a slice from a DataFrame.\n",
      "Try using .loc[row_indexer,col_indexer] = value instead\n",
      "\n",
      "See the caveats in the documentation: https://pandas.pydata.org/pandas-docs/stable/user_guide/indexing.html#returning-a-view-versus-a-copy\n",
      "  portfolio[f\"{_t}_min\"] = portfolio[f\"{_t}\"].rolling(window=20, closed='both').min()\n",
      "/tmp/ipykernel_181783/3392517095.py:3: SettingWithCopyWarning: \n",
      "A value is trying to be set on a copy of a slice from a DataFrame.\n",
      "Try using .loc[row_indexer,col_indexer] = value instead\n",
      "\n",
      "See the caveats in the documentation: https://pandas.pydata.org/pandas-docs/stable/user_guide/indexing.html#returning-a-view-versus-a-copy\n",
      "  portfolio[f\"{_t}_max\"] = portfolio[f\"{_t}\"].rolling(window=20, closed='both').max()\n",
      "/tmp/ipykernel_181783/3392517095.py:2: SettingWithCopyWarning: \n",
      "A value is trying to be set on a copy of a slice from a DataFrame.\n",
      "Try using .loc[row_indexer,col_indexer] = value instead\n",
      "\n",
      "See the caveats in the documentation: https://pandas.pydata.org/pandas-docs/stable/user_guide/indexing.html#returning-a-view-versus-a-copy\n",
      "  portfolio[f\"{_t}_min\"] = portfolio[f\"{_t}\"].rolling(window=20, closed='both').min()\n",
      "/tmp/ipykernel_181783/3392517095.py:3: SettingWithCopyWarning: \n",
      "A value is trying to be set on a copy of a slice from a DataFrame.\n",
      "Try using .loc[row_indexer,col_indexer] = value instead\n",
      "\n",
      "See the caveats in the documentation: https://pandas.pydata.org/pandas-docs/stable/user_guide/indexing.html#returning-a-view-versus-a-copy\n",
      "  portfolio[f\"{_t}_max\"] = portfolio[f\"{_t}\"].rolling(window=20, closed='both').max()\n",
      "/tmp/ipykernel_181783/3392517095.py:2: SettingWithCopyWarning: \n",
      "A value is trying to be set on a copy of a slice from a DataFrame.\n",
      "Try using .loc[row_indexer,col_indexer] = value instead\n",
      "\n",
      "See the caveats in the documentation: https://pandas.pydata.org/pandas-docs/stable/user_guide/indexing.html#returning-a-view-versus-a-copy\n",
      "  portfolio[f\"{_t}_min\"] = portfolio[f\"{_t}\"].rolling(window=20, closed='both').min()\n",
      "/tmp/ipykernel_181783/3392517095.py:3: SettingWithCopyWarning: \n",
      "A value is trying to be set on a copy of a slice from a DataFrame.\n",
      "Try using .loc[row_indexer,col_indexer] = value instead\n",
      "\n",
      "See the caveats in the documentation: https://pandas.pydata.org/pandas-docs/stable/user_guide/indexing.html#returning-a-view-versus-a-copy\n",
      "  portfolio[f\"{_t}_max\"] = portfolio[f\"{_t}\"].rolling(window=20, closed='both').max()\n",
      "/tmp/ipykernel_181783/3392517095.py:2: SettingWithCopyWarning: \n",
      "A value is trying to be set on a copy of a slice from a DataFrame.\n",
      "Try using .loc[row_indexer,col_indexer] = value instead\n",
      "\n",
      "See the caveats in the documentation: https://pandas.pydata.org/pandas-docs/stable/user_guide/indexing.html#returning-a-view-versus-a-copy\n",
      "  portfolio[f\"{_t}_min\"] = portfolio[f\"{_t}\"].rolling(window=20, closed='both').min()\n",
      "/tmp/ipykernel_181783/3392517095.py:3: SettingWithCopyWarning: \n",
      "A value is trying to be set on a copy of a slice from a DataFrame.\n",
      "Try using .loc[row_indexer,col_indexer] = value instead\n",
      "\n",
      "See the caveats in the documentation: https://pandas.pydata.org/pandas-docs/stable/user_guide/indexing.html#returning-a-view-versus-a-copy\n",
      "  portfolio[f\"{_t}_max\"] = portfolio[f\"{_t}\"].rolling(window=20, closed='both').max()\n",
      "/tmp/ipykernel_181783/3392517095.py:2: SettingWithCopyWarning: \n",
      "A value is trying to be set on a copy of a slice from a DataFrame.\n",
      "Try using .loc[row_indexer,col_indexer] = value instead\n",
      "\n",
      "See the caveats in the documentation: https://pandas.pydata.org/pandas-docs/stable/user_guide/indexing.html#returning-a-view-versus-a-copy\n",
      "  portfolio[f\"{_t}_min\"] = portfolio[f\"{_t}\"].rolling(window=20, closed='both').min()\n",
      "/tmp/ipykernel_181783/3392517095.py:3: SettingWithCopyWarning: \n",
      "A value is trying to be set on a copy of a slice from a DataFrame.\n",
      "Try using .loc[row_indexer,col_indexer] = value instead\n",
      "\n",
      "See the caveats in the documentation: https://pandas.pydata.org/pandas-docs/stable/user_guide/indexing.html#returning-a-view-versus-a-copy\n",
      "  portfolio[f\"{_t}_max\"] = portfolio[f\"{_t}\"].rolling(window=20, closed='both').max()\n",
      "/tmp/ipykernel_181783/3392517095.py:2: SettingWithCopyWarning: \n",
      "A value is trying to be set on a copy of a slice from a DataFrame.\n",
      "Try using .loc[row_indexer,col_indexer] = value instead\n",
      "\n",
      "See the caveats in the documentation: https://pandas.pydata.org/pandas-docs/stable/user_guide/indexing.html#returning-a-view-versus-a-copy\n",
      "  portfolio[f\"{_t}_min\"] = portfolio[f\"{_t}\"].rolling(window=20, closed='both').min()\n",
      "/tmp/ipykernel_181783/3392517095.py:3: SettingWithCopyWarning: \n",
      "A value is trying to be set on a copy of a slice from a DataFrame.\n",
      "Try using .loc[row_indexer,col_indexer] = value instead\n",
      "\n",
      "See the caveats in the documentation: https://pandas.pydata.org/pandas-docs/stable/user_guide/indexing.html#returning-a-view-versus-a-copy\n",
      "  portfolio[f\"{_t}_max\"] = portfolio[f\"{_t}\"].rolling(window=20, closed='both').max()\n",
      "/tmp/ipykernel_181783/3392517095.py:2: SettingWithCopyWarning: \n",
      "A value is trying to be set on a copy of a slice from a DataFrame.\n",
      "Try using .loc[row_indexer,col_indexer] = value instead\n",
      "\n",
      "See the caveats in the documentation: https://pandas.pydata.org/pandas-docs/stable/user_guide/indexing.html#returning-a-view-versus-a-copy\n",
      "  portfolio[f\"{_t}_min\"] = portfolio[f\"{_t}\"].rolling(window=20, closed='both').min()\n",
      "/tmp/ipykernel_181783/3392517095.py:3: SettingWithCopyWarning: \n",
      "A value is trying to be set on a copy of a slice from a DataFrame.\n",
      "Try using .loc[row_indexer,col_indexer] = value instead\n",
      "\n",
      "See the caveats in the documentation: https://pandas.pydata.org/pandas-docs/stable/user_guide/indexing.html#returning-a-view-versus-a-copy\n",
      "  portfolio[f\"{_t}_max\"] = portfolio[f\"{_t}\"].rolling(window=20, closed='both').max()\n",
      "/tmp/ipykernel_181783/3392517095.py:2: SettingWithCopyWarning: \n",
      "A value is trying to be set on a copy of a slice from a DataFrame.\n",
      "Try using .loc[row_indexer,col_indexer] = value instead\n",
      "\n",
      "See the caveats in the documentation: https://pandas.pydata.org/pandas-docs/stable/user_guide/indexing.html#returning-a-view-versus-a-copy\n",
      "  portfolio[f\"{_t}_min\"] = portfolio[f\"{_t}\"].rolling(window=20, closed='both').min()\n",
      "/tmp/ipykernel_181783/3392517095.py:3: SettingWithCopyWarning: \n",
      "A value is trying to be set on a copy of a slice from a DataFrame.\n",
      "Try using .loc[row_indexer,col_indexer] = value instead\n",
      "\n",
      "See the caveats in the documentation: https://pandas.pydata.org/pandas-docs/stable/user_guide/indexing.html#returning-a-view-versus-a-copy\n",
      "  portfolio[f\"{_t}_max\"] = portfolio[f\"{_t}\"].rolling(window=20, closed='both').max()\n",
      "/tmp/ipykernel_181783/3392517095.py:2: SettingWithCopyWarning: \n",
      "A value is trying to be set on a copy of a slice from a DataFrame.\n",
      "Try using .loc[row_indexer,col_indexer] = value instead\n",
      "\n",
      "See the caveats in the documentation: https://pandas.pydata.org/pandas-docs/stable/user_guide/indexing.html#returning-a-view-versus-a-copy\n",
      "  portfolio[f\"{_t}_min\"] = portfolio[f\"{_t}\"].rolling(window=20, closed='both').min()\n",
      "/tmp/ipykernel_181783/3392517095.py:3: SettingWithCopyWarning: \n",
      "A value is trying to be set on a copy of a slice from a DataFrame.\n",
      "Try using .loc[row_indexer,col_indexer] = value instead\n",
      "\n",
      "See the caveats in the documentation: https://pandas.pydata.org/pandas-docs/stable/user_guide/indexing.html#returning-a-view-versus-a-copy\n",
      "  portfolio[f\"{_t}_max\"] = portfolio[f\"{_t}\"].rolling(window=20, closed='both').max()\n",
      "/tmp/ipykernel_181783/3392517095.py:2: SettingWithCopyWarning: \n",
      "A value is trying to be set on a copy of a slice from a DataFrame.\n",
      "Try using .loc[row_indexer,col_indexer] = value instead\n",
      "\n",
      "See the caveats in the documentation: https://pandas.pydata.org/pandas-docs/stable/user_guide/indexing.html#returning-a-view-versus-a-copy\n",
      "  portfolio[f\"{_t}_min\"] = portfolio[f\"{_t}\"].rolling(window=20, closed='both').min()\n",
      "/tmp/ipykernel_181783/3392517095.py:3: SettingWithCopyWarning: \n",
      "A value is trying to be set on a copy of a slice from a DataFrame.\n",
      "Try using .loc[row_indexer,col_indexer] = value instead\n",
      "\n",
      "See the caveats in the documentation: https://pandas.pydata.org/pandas-docs/stable/user_guide/indexing.html#returning-a-view-versus-a-copy\n",
      "  portfolio[f\"{_t}_max\"] = portfolio[f\"{_t}\"].rolling(window=20, closed='both').max()\n",
      "/tmp/ipykernel_181783/3392517095.py:2: SettingWithCopyWarning: \n",
      "A value is trying to be set on a copy of a slice from a DataFrame.\n",
      "Try using .loc[row_indexer,col_indexer] = value instead\n",
      "\n",
      "See the caveats in the documentation: https://pandas.pydata.org/pandas-docs/stable/user_guide/indexing.html#returning-a-view-versus-a-copy\n",
      "  portfolio[f\"{_t}_min\"] = portfolio[f\"{_t}\"].rolling(window=20, closed='both').min()\n",
      "/tmp/ipykernel_181783/3392517095.py:3: SettingWithCopyWarning: \n",
      "A value is trying to be set on a copy of a slice from a DataFrame.\n",
      "Try using .loc[row_indexer,col_indexer] = value instead\n",
      "\n",
      "See the caveats in the documentation: https://pandas.pydata.org/pandas-docs/stable/user_guide/indexing.html#returning-a-view-versus-a-copy\n",
      "  portfolio[f\"{_t}_max\"] = portfolio[f\"{_t}\"].rolling(window=20, closed='both').max()\n",
      "/tmp/ipykernel_181783/3392517095.py:2: SettingWithCopyWarning: \n",
      "A value is trying to be set on a copy of a slice from a DataFrame.\n",
      "Try using .loc[row_indexer,col_indexer] = value instead\n",
      "\n",
      "See the caveats in the documentation: https://pandas.pydata.org/pandas-docs/stable/user_guide/indexing.html#returning-a-view-versus-a-copy\n",
      "  portfolio[f\"{_t}_min\"] = portfolio[f\"{_t}\"].rolling(window=20, closed='both').min()\n",
      "/tmp/ipykernel_181783/3392517095.py:3: SettingWithCopyWarning: \n",
      "A value is trying to be set on a copy of a slice from a DataFrame.\n",
      "Try using .loc[row_indexer,col_indexer] = value instead\n",
      "\n",
      "See the caveats in the documentation: https://pandas.pydata.org/pandas-docs/stable/user_guide/indexing.html#returning-a-view-versus-a-copy\n",
      "  portfolio[f\"{_t}_max\"] = portfolio[f\"{_t}\"].rolling(window=20, closed='both').max()\n",
      "/tmp/ipykernel_181783/3392517095.py:2: SettingWithCopyWarning: \n",
      "A value is trying to be set on a copy of a slice from a DataFrame.\n",
      "Try using .loc[row_indexer,col_indexer] = value instead\n",
      "\n",
      "See the caveats in the documentation: https://pandas.pydata.org/pandas-docs/stable/user_guide/indexing.html#returning-a-view-versus-a-copy\n",
      "  portfolio[f\"{_t}_min\"] = portfolio[f\"{_t}\"].rolling(window=20, closed='both').min()\n",
      "/tmp/ipykernel_181783/3392517095.py:3: SettingWithCopyWarning: \n",
      "A value is trying to be set on a copy of a slice from a DataFrame.\n",
      "Try using .loc[row_indexer,col_indexer] = value instead\n",
      "\n",
      "See the caveats in the documentation: https://pandas.pydata.org/pandas-docs/stable/user_guide/indexing.html#returning-a-view-versus-a-copy\n",
      "  portfolio[f\"{_t}_max\"] = portfolio[f\"{_t}\"].rolling(window=20, closed='both').max()\n",
      "/tmp/ipykernel_181783/3392517095.py:2: SettingWithCopyWarning: \n",
      "A value is trying to be set on a copy of a slice from a DataFrame.\n",
      "Try using .loc[row_indexer,col_indexer] = value instead\n",
      "\n",
      "See the caveats in the documentation: https://pandas.pydata.org/pandas-docs/stable/user_guide/indexing.html#returning-a-view-versus-a-copy\n",
      "  portfolio[f\"{_t}_min\"] = portfolio[f\"{_t}\"].rolling(window=20, closed='both').min()\n",
      "/tmp/ipykernel_181783/3392517095.py:3: SettingWithCopyWarning: \n",
      "A value is trying to be set on a copy of a slice from a DataFrame.\n",
      "Try using .loc[row_indexer,col_indexer] = value instead\n",
      "\n",
      "See the caveats in the documentation: https://pandas.pydata.org/pandas-docs/stable/user_guide/indexing.html#returning-a-view-versus-a-copy\n",
      "  portfolio[f\"{_t}_max\"] = portfolio[f\"{_t}\"].rolling(window=20, closed='both').max()\n",
      "/tmp/ipykernel_181783/3392517095.py:2: SettingWithCopyWarning: \n",
      "A value is trying to be set on a copy of a slice from a DataFrame.\n",
      "Try using .loc[row_indexer,col_indexer] = value instead\n",
      "\n",
      "See the caveats in the documentation: https://pandas.pydata.org/pandas-docs/stable/user_guide/indexing.html#returning-a-view-versus-a-copy\n",
      "  portfolio[f\"{_t}_min\"] = portfolio[f\"{_t}\"].rolling(window=20, closed='both').min()\n",
      "/tmp/ipykernel_181783/3392517095.py:3: SettingWithCopyWarning: \n",
      "A value is trying to be set on a copy of a slice from a DataFrame.\n",
      "Try using .loc[row_indexer,col_indexer] = value instead\n",
      "\n",
      "See the caveats in the documentation: https://pandas.pydata.org/pandas-docs/stable/user_guide/indexing.html#returning-a-view-versus-a-copy\n",
      "  portfolio[f\"{_t}_max\"] = portfolio[f\"{_t}\"].rolling(window=20, closed='both').max()\n",
      "/tmp/ipykernel_181783/3392517095.py:2: SettingWithCopyWarning: \n",
      "A value is trying to be set on a copy of a slice from a DataFrame.\n",
      "Try using .loc[row_indexer,col_indexer] = value instead\n",
      "\n",
      "See the caveats in the documentation: https://pandas.pydata.org/pandas-docs/stable/user_guide/indexing.html#returning-a-view-versus-a-copy\n",
      "  portfolio[f\"{_t}_min\"] = portfolio[f\"{_t}\"].rolling(window=20, closed='both').min()\n",
      "/tmp/ipykernel_181783/3392517095.py:3: SettingWithCopyWarning: \n",
      "A value is trying to be set on a copy of a slice from a DataFrame.\n",
      "Try using .loc[row_indexer,col_indexer] = value instead\n",
      "\n",
      "See the caveats in the documentation: https://pandas.pydata.org/pandas-docs/stable/user_guide/indexing.html#returning-a-view-versus-a-copy\n",
      "  portfolio[f\"{_t}_max\"] = portfolio[f\"{_t}\"].rolling(window=20, closed='both').max()\n",
      "/tmp/ipykernel_181783/3392517095.py:2: SettingWithCopyWarning: \n",
      "A value is trying to be set on a copy of a slice from a DataFrame.\n",
      "Try using .loc[row_indexer,col_indexer] = value instead\n",
      "\n",
      "See the caveats in the documentation: https://pandas.pydata.org/pandas-docs/stable/user_guide/indexing.html#returning-a-view-versus-a-copy\n",
      "  portfolio[f\"{_t}_min\"] = portfolio[f\"{_t}\"].rolling(window=20, closed='both').min()\n",
      "/tmp/ipykernel_181783/3392517095.py:3: SettingWithCopyWarning: \n",
      "A value is trying to be set on a copy of a slice from a DataFrame.\n",
      "Try using .loc[row_indexer,col_indexer] = value instead\n",
      "\n",
      "See the caveats in the documentation: https://pandas.pydata.org/pandas-docs/stable/user_guide/indexing.html#returning-a-view-versus-a-copy\n",
      "  portfolio[f\"{_t}_max\"] = portfolio[f\"{_t}\"].rolling(window=20, closed='both').max()\n"
     ]
    }
   ],
   "source": [
    "for _t in ticker:\n",
    "    portfolio[f\"{_t}_min\"] = portfolio[f\"{_t}\"].rolling(window=20, closed='both').min()\n",
    "    portfolio[f\"{_t}_max\"] = portfolio[f\"{_t}\"].rolling(window=20, closed='both').max()\n",
    "    portfolio_rand[f\"{_t}_min\"] = portfolio_rand[f\"{_t}\"].rolling(window=20, closed='both').min()\n",
    "    portfolio_rand[f\"{_t}_max\"] = portfolio_rand[f\"{_t}\"].rolling(window=20, closed='both').max()"
   ]
  },
  {
   "cell_type": "code",
   "execution_count": 473,
   "id": "39c133bf-766f-41f3-b2b3-24dee2e79423",
   "metadata": {},
   "outputs": [
    {
     "name": "stderr",
     "output_type": "stream",
     "text": [
      "/tmp/ipykernel_181783/816436986.py:2: SettingWithCopyWarning: \n",
      "A value is trying to be set on a copy of a slice from a DataFrame.\n",
      "Try using .loc[row_indexer,col_indexer] = value instead\n",
      "\n",
      "See the caveats in the documentation: https://pandas.pydata.org/pandas-docs/stable/user_guide/indexing.html#returning-a-view-versus-a-copy\n",
      "  portfolio[\"portfolio\"]=portfolio[\"asset_allocation\"]\n"
     ]
    }
   ],
   "source": [
    "# blacklit_df[\"portfolio\"]\n",
    "portfolio[\"portfolio\"]=portfolio[\"asset_allocation\"]"
   ]
  },
  {
   "cell_type": "code",
   "execution_count": 474,
   "id": "048d1b5a-90c1-4eec-8477-e843a08d40e5",
   "metadata": {},
   "outputs": [],
   "source": [
    "def evaluate_value(window, match_str=\"\", port_type=\"portfolio\"):\n",
    "    print(window[port_type])\n",
    "    try:\n",
    "        portfolio_val = 0\n",
    "        for k,v in window[port_type].items():\n",
    "            portfolio_val = portfolio_val + (v * window[f\"{k}{match_str}\"])\n",
    "        return portfolio_val\n",
    "    except Exception as err:\n",
    "        print(err)\n",
    "        return np.NaN"
   ]
  },
  {
   "cell_type": "code",
   "execution_count": 475,
   "id": "38a97cfd-4828-415b-aeb9-80458d6c2325",
   "metadata": {},
   "outputs": [
    {
     "name": "stdout",
     "output_type": "stream",
     "text": [
      "{'TSLA': 64, 'MDLZ': 9, 'BIIB': 1, 'GOOGL': 45}\n",
      "{'ON': 2, 'BIIB': 5, 'PDD': 7, 'EXC': 1, 'GOOGL': 52, 'GOOG': 47}\n",
      "{'MELI': 2, 'BIIB': 8, 'GOOGL': 43, 'GFS': 1, 'GOOG': 40}\n",
      "{'PDD': 59, 'AMD': 64, 'WBD': 54}\n",
      "{'WBA': 353, 'WBD': 2, 'AAPL': 74}\n",
      "{'MRNA': 57, 'WBA': 221, 'ADP': 6, 'BIIB': 3, 'CHTR': 4, 'TTWO': 18, 'ZS': 8, 'WBD': 4}\n",
      "{'MRNA': 44, 'SNPS': 1, 'WBA': 198, 'BIIB': 9, 'ILMN': 6, 'ZS': 4, 'VRTX': 13}\n",
      "{'MRNA': 98, 'MSFT': 2, 'AAPL': 22}\n",
      "{'MRNA': 12, 'NVDA': 145}\n",
      "{'NVDA': 139, 'AAPL': 9}\n",
      "{'NVDA': 126, 'AAPL': 16}\n",
      "{'NVDA': 109, 'AAPL': 18, 'AVGO': 7}\n",
      "{'NVDA': 98, 'AAPL': 21, 'AVGO': 16}\n",
      "{'NVDA': 146, 'MSFT': 3}\n",
      "{'ADBE': 12, 'GOOG': 36, 'GOOGL': 37}\n",
      "{'ARM': 16, 'ADBE': 5, 'AAPL': 66}\n",
      "{'ADBE': 6, 'AAPL': 74}\n",
      "{'BIIB': 3, 'ADBE': 5, 'AAPL': 72, 'GFS': 1}\n",
      "{'ADBE': 2, 'AAPL': 26, 'TSLA': 51}\n",
      "{'CDNS': 3, 'MSFT': 12, 'AAPL': 59}\n",
      "{'TSLA': 59, 'AAPL': 19}\n",
      "{'TSLA': 63, 'AAPL': 21}\n",
      "{'AVGO': 91, 'AMD': 25}\n",
      "{'AMD': 73, 'INTC': 87, 'GILD': 21, 'MELI': 1, 'AMGN': 2}\n",
      "{'TSLA': 72, 'GILD': 1, 'REGN': 1, 'CHTR': 1}\n",
      "{'INTC': 324, 'ILMN': 3, 'ODFL': 6, 'AMGN': 8, 'GILD': 28, 'CHTR': 8}\n",
      "{'TEAM': 18, 'MDB': 6, 'ODFL': 16, 'CTAS': 15, 'WBA': 2, 'ADP': 7, 'GILD': 73, 'CHTR': 5}\n",
      "{'MDB': 9, 'ODFL': 19, 'REGN': 1, 'ON': 14, 'ILMN': 11, 'ADP': 10, 'GILD': 102}\n",
      "{'ON': 77, 'ODFL': 13, 'ILMN': 9, 'GILD': 93, 'EXC': 5, 'ADP': 10, 'BKR': 15}\n",
      "{'GILD': 95, 'ON': 6, 'WBA': 3, 'ODFL': 9, 'CHTR': 18, 'BKR': 26, 'ADP': 10}\n",
      "{'ODFL': 14, 'GILD': 72, 'CSGP': 7, 'ILMN': 5, 'EA': 1, 'BKR': 37, 'WBA': 1, 'CHTR': 17, 'ADP': 10}\n",
      "{'CHTR': 24, 'GILD': 91, 'WBA': 37, 'ADP': 13, 'MNST': 1}\n",
      "{'CHTR': 17, 'CMCSA': 140, 'EA': 10, 'GEHC': 16, 'REGN': 1, 'MNST': 11, 'ADP': 9, 'EXC': 9, 'TMUS': 7}\n",
      "{'AEP': 27, 'EXC': 32, 'ADP': 6, 'ISRG': 3, 'DASH': 37, 'TMUS': 25, 'MELI': 2}\n",
      "{'XEL': 8, 'AEP': 17, 'ILMN': 7, 'ADP': 6, 'TTD': 49, 'FTNT': 145}\n",
      "{'WBA': 170, 'DASH': 36, 'VRTX': 3, 'MDLZ': 1, 'MELI': 3, 'TMUS': 30}\n",
      "{'WBA': 335, 'MELI': 7, 'EXC': 1, 'ADP': 3, 'MDLZ': 11, 'MDB': 3}\n",
      "{'WBA': 274, 'DASH': 44, 'MELI': 4, 'CMCSA': 18, 'MDLZ': 4, 'REGN': 2}\n",
      "{'XEL': 2, 'MELI': 3, 'ILMN': 9, 'CMCSA': 39, 'DASH': 27, 'REGN': 1, 'FTNT': 84, 'MDLZ': 2, 'GEHC': 1}\n",
      "{'MELI': 3, 'ILMN': 6, 'DASH': 25, 'FTNT': 87, 'ISRG': 7}\n",
      "{'ILMN': 10, 'MELI': 3, 'FTNT': 90, 'REGN': 2, 'ISRG': 7, 'TTWO': 1}\n",
      "{'MELI': 3, 'CHTR': 4, 'REGN': 2, 'ISRG': 7, 'FTNT': 85, 'TTWO': 1}\n",
      "{'CHTR': 11, 'TMUS': 23, 'TTWO': 11, 'WDAY': 35, 'CTAS': 3}\n",
      "{'SBUX': 83, 'CHTR': 3, 'ILMN': 2, 'MELI': 1, 'ISRG': 2, 'WDAY': 12, 'TEAM': 10, 'MRVL': 39}\n",
      "{'CHTR': 4, 'SBUX': 94, 'MELI': 1, 'WDAY': 17, 'TEAM': 15, 'LIN': 2}\n",
      "{'TEAM': 82, 'ADP': 4, 'GILD': 45, 'MDB': 7}\n",
      "{'MDB': 2, 'TSLA': 85}\n",
      "{'MDLZ': 64, 'MDB': 24, 'ADP': 2, 'MRVL': 38, 'GILD': 58}\n",
      "{'CSCO': 19, 'MDB': 12, 'GILD': 24, 'WBD': 5, 'ZS': 67, 'PANW': 6}\n",
      "{'REGN': 6, 'CSGP': 5, 'CTAS': 4, 'MDB': 26, 'GILD': 52}\n",
      "{'REGN': 7, 'MELI': 2, 'CTAS': 8, 'WBD': 231, 'GILD': 51}\n",
      "{'KDP': 8, 'XEL': 1, 'AMD': 7, 'INTC': 10, 'TSLA': 56, 'PDD': 27}\n",
      "{'INTC': 129, 'AMD': 29, 'WBA': 28, 'EXC': 5, 'CSCO': 10, 'ADSK': 1, 'XEL': 3, 'CMCSA': 2, 'PDD': 79}\n",
      "{'INTC': 45, 'TSLA': 44, 'AMD': 6, 'WBA': 135, 'EXC': 5, 'CMCSA': 1, 'PDD': 36}\n",
      "{'PDD': 87, 'CHTR': 4, 'CEG': 15, 'ABNB': 1, 'AMD': 6, 'BKR': 1}\n",
      "{'PDD': 120, 'CHTR': 3, 'ABNB': 1, 'AMD': 8, 'CPRT': 1}\n",
      "{'PDD': 119, 'INTC': 35, 'CHTR': 2, 'AMD': 9, 'ABNB': 1}\n",
      "{'DASH': 15, 'INTC': 463, 'CRWD': 13, 'ABNB': 22, 'CPRT': 1}\n",
      "{'AMD': 79, 'INTC': 152, 'CRWD': 8, 'WBA': 4, 'ABNB': 4}\n",
      "{'INTC': 284, 'MELI': 1, 'MRVL': 9, 'ABNB': 4, 'ZS': 11, 'TEAM': 42}\n",
      "{'PDD': 102, 'TMUS': 13, 'MRVL': 21, 'AMD': 15}\n",
      "{'WBA': 1020, 'MDB': 7, 'BKNG': 1, 'CMCSA': 7, 'WBD': 2, 'TEAM': 15}\n",
      "{'WBA': 815, 'MDB': 12, 'INTC': 11, 'LULU': 2, 'BKNG': 1, 'WBD': 3, 'CDNS': 12}\n",
      "{'WBA': 448, 'MDB': 4, 'LULU': 3, 'MRVL': 41, 'WBD': 21, 'ODFL': 1, 'BKNG': 1, 'ILMN': 1, 'TEAM': 20}\n",
      "{'WBA': 1223, 'LULU': 6, 'INTC': 15, 'TEAM': 26, 'CMCSA': 13}\n",
      "{'CHTR': 19, 'GFS': 22, 'ODFL': 5, 'TEAM': 40, 'BKR': 24}\n",
      "{'TSLA': 64, 'MDLZ': 9, 'BIIB': 1, 'GOOGL': 45}\n",
      "{'ON': 2, 'BIIB': 5, 'PDD': 7, 'EXC': 1, 'GOOGL': 52, 'GOOG': 47}\n",
      "{'MELI': 2, 'BIIB': 8, 'GOOGL': 43, 'GFS': 1, 'GOOG': 40}\n",
      "{'PDD': 59, 'AMD': 64, 'WBD': 54}\n",
      "{'WBA': 353, 'WBD': 2, 'AAPL': 74}\n",
      "{'MRNA': 57, 'WBA': 221, 'ADP': 6, 'BIIB': 3, 'CHTR': 4, 'TTWO': 18, 'ZS': 8, 'WBD': 4}\n",
      "{'MRNA': 44, 'SNPS': 1, 'WBA': 198, 'BIIB': 9, 'ILMN': 6, 'ZS': 4, 'VRTX': 13}\n",
      "{'MRNA': 98, 'MSFT': 2, 'AAPL': 22}\n",
      "{'MRNA': 12, 'NVDA': 145}\n",
      "{'NVDA': 139, 'AAPL': 9}\n",
      "{'NVDA': 126, 'AAPL': 16}\n",
      "{'NVDA': 109, 'AAPL': 18, 'AVGO': 7}\n",
      "{'NVDA': 98, 'AAPL': 21, 'AVGO': 16}\n",
      "{'NVDA': 146, 'MSFT': 3}\n",
      "{'ADBE': 12, 'GOOG': 36, 'GOOGL': 37}\n",
      "{'ARM': 16, 'ADBE': 5, 'AAPL': 66}\n",
      "{'ADBE': 6, 'AAPL': 74}\n",
      "{'BIIB': 3, 'ADBE': 5, 'AAPL': 72, 'GFS': 1}\n",
      "{'ADBE': 2, 'AAPL': 26, 'TSLA': 51}\n",
      "{'CDNS': 3, 'MSFT': 12, 'AAPL': 59}\n",
      "{'TSLA': 59, 'AAPL': 19}\n",
      "{'TSLA': 63, 'AAPL': 21}\n",
      "{'AVGO': 91, 'AMD': 25}\n",
      "{'AMD': 73, 'INTC': 87, 'GILD': 21, 'MELI': 1, 'AMGN': 2}\n",
      "{'TSLA': 72, 'GILD': 1, 'REGN': 1, 'CHTR': 1}\n",
      "{'INTC': 324, 'ILMN': 3, 'ODFL': 6, 'AMGN': 8, 'GILD': 28, 'CHTR': 8}\n",
      "{'TEAM': 18, 'MDB': 6, 'ODFL': 16, 'CTAS': 15, 'WBA': 2, 'ADP': 7, 'GILD': 73, 'CHTR': 5}\n",
      "{'MDB': 9, 'ODFL': 19, 'REGN': 1, 'ON': 14, 'ILMN': 11, 'ADP': 10, 'GILD': 102}\n",
      "{'ON': 77, 'ODFL': 13, 'ILMN': 9, 'GILD': 93, 'EXC': 5, 'ADP': 10, 'BKR': 15}\n",
      "{'GILD': 95, 'ON': 6, 'WBA': 3, 'ODFL': 9, 'CHTR': 18, 'BKR': 26, 'ADP': 10}\n",
      "{'ODFL': 14, 'GILD': 72, 'CSGP': 7, 'ILMN': 5, 'EA': 1, 'BKR': 37, 'WBA': 1, 'CHTR': 17, 'ADP': 10}\n",
      "{'CHTR': 24, 'GILD': 91, 'WBA': 37, 'ADP': 13, 'MNST': 1}\n",
      "{'CHTR': 17, 'CMCSA': 140, 'EA': 10, 'GEHC': 16, 'REGN': 1, 'MNST': 11, 'ADP': 9, 'EXC': 9, 'TMUS': 7}\n",
      "{'AEP': 27, 'EXC': 32, 'ADP': 6, 'ISRG': 3, 'DASH': 37, 'TMUS': 25, 'MELI': 2}\n",
      "{'XEL': 8, 'AEP': 17, 'ILMN': 7, 'ADP': 6, 'TTD': 49, 'FTNT': 145}\n",
      "{'WBA': 170, 'DASH': 36, 'VRTX': 3, 'MDLZ': 1, 'MELI': 3, 'TMUS': 30}\n",
      "{'WBA': 335, 'MELI': 7, 'EXC': 1, 'ADP': 3, 'MDLZ': 11, 'MDB': 3}\n",
      "{'WBA': 274, 'DASH': 44, 'MELI': 4, 'CMCSA': 18, 'MDLZ': 4, 'REGN': 2}\n",
      "{'XEL': 2, 'MELI': 3, 'ILMN': 9, 'CMCSA': 39, 'DASH': 27, 'REGN': 1, 'FTNT': 84, 'MDLZ': 2, 'GEHC': 1}\n",
      "{'MELI': 3, 'ILMN': 6, 'DASH': 25, 'FTNT': 87, 'ISRG': 7}\n",
      "{'ILMN': 10, 'MELI': 3, 'FTNT': 90, 'REGN': 2, 'ISRG': 7, 'TTWO': 1}\n",
      "{'MELI': 3, 'CHTR': 4, 'REGN': 2, 'ISRG': 7, 'FTNT': 85, 'TTWO': 1}\n",
      "{'CHTR': 11, 'TMUS': 23, 'TTWO': 11, 'WDAY': 35, 'CTAS': 3}\n",
      "{'SBUX': 83, 'CHTR': 3, 'ILMN': 2, 'MELI': 1, 'ISRG': 2, 'WDAY': 12, 'TEAM': 10, 'MRVL': 39}\n",
      "{'CHTR': 4, 'SBUX': 94, 'MELI': 1, 'WDAY': 17, 'TEAM': 15, 'LIN': 2}\n",
      "{'TEAM': 82, 'ADP': 4, 'GILD': 45, 'MDB': 7}\n",
      "{'MDB': 2, 'TSLA': 85}\n",
      "{'MDLZ': 64, 'MDB': 24, 'ADP': 2, 'MRVL': 38, 'GILD': 58}\n",
      "{'CSCO': 19, 'MDB': 12, 'GILD': 24, 'WBD': 5, 'ZS': 67, 'PANW': 6}\n",
      "{'REGN': 6, 'CSGP': 5, 'CTAS': 4, 'MDB': 26, 'GILD': 52}\n",
      "{'REGN': 7, 'MELI': 2, 'CTAS': 8, 'WBD': 231, 'GILD': 51}\n",
      "{'KDP': 8, 'XEL': 1, 'AMD': 7, 'INTC': 10, 'TSLA': 56, 'PDD': 27}\n",
      "{'INTC': 129, 'AMD': 29, 'WBA': 28, 'EXC': 5, 'CSCO': 10, 'ADSK': 1, 'XEL': 3, 'CMCSA': 2, 'PDD': 79}\n",
      "{'INTC': 45, 'TSLA': 44, 'AMD': 6, 'WBA': 135, 'EXC': 5, 'CMCSA': 1, 'PDD': 36}\n",
      "{'PDD': 87, 'CHTR': 4, 'CEG': 15, 'ABNB': 1, 'AMD': 6, 'BKR': 1}\n",
      "{'PDD': 120, 'CHTR': 3, 'ABNB': 1, 'AMD': 8, 'CPRT': 1}\n",
      "{'PDD': 119, 'INTC': 35, 'CHTR': 2, 'AMD': 9, 'ABNB': 1}\n",
      "{'DASH': 15, 'INTC': 463, 'CRWD': 13, 'ABNB': 22, 'CPRT': 1}\n",
      "{'AMD': 79, 'INTC': 152, 'CRWD': 8, 'WBA': 4, 'ABNB': 4}\n",
      "{'INTC': 284, 'MELI': 1, 'MRVL': 9, 'ABNB': 4, 'ZS': 11, 'TEAM': 42}\n",
      "{'PDD': 102, 'TMUS': 13, 'MRVL': 21, 'AMD': 15}\n",
      "{'WBA': 1020, 'MDB': 7, 'BKNG': 1, 'CMCSA': 7, 'WBD': 2, 'TEAM': 15}\n",
      "{'WBA': 815, 'MDB': 12, 'INTC': 11, 'LULU': 2, 'BKNG': 1, 'WBD': 3, 'CDNS': 12}\n",
      "{'WBA': 448, 'MDB': 4, 'LULU': 3, 'MRVL': 41, 'WBD': 21, 'ODFL': 1, 'BKNG': 1, 'ILMN': 1, 'TEAM': 20}\n",
      "{'WBA': 1223, 'LULU': 6, 'INTC': 15, 'TEAM': 26, 'CMCSA': 13}\n",
      "{'CHTR': 19, 'GFS': 22, 'ODFL': 5, 'TEAM': 40, 'BKR': 24}\n",
      "{'TSLA': 64, 'MDLZ': 9, 'BIIB': 1, 'GOOGL': 45}\n",
      "{'ON': 2, 'BIIB': 5, 'PDD': 7, 'EXC': 1, 'GOOGL': 52, 'GOOG': 47}\n",
      "{'MELI': 2, 'BIIB': 8, 'GOOGL': 43, 'GFS': 1, 'GOOG': 40}\n",
      "{'PDD': 59, 'AMD': 64, 'WBD': 54}\n",
      "{'WBA': 353, 'WBD': 2, 'AAPL': 74}\n",
      "{'MRNA': 57, 'WBA': 221, 'ADP': 6, 'BIIB': 3, 'CHTR': 4, 'TTWO': 18, 'ZS': 8, 'WBD': 4}\n",
      "{'MRNA': 44, 'SNPS': 1, 'WBA': 198, 'BIIB': 9, 'ILMN': 6, 'ZS': 4, 'VRTX': 13}\n",
      "{'MRNA': 98, 'MSFT': 2, 'AAPL': 22}\n",
      "{'MRNA': 12, 'NVDA': 145}\n",
      "{'NVDA': 139, 'AAPL': 9}\n",
      "{'NVDA': 126, 'AAPL': 16}\n",
      "{'NVDA': 109, 'AAPL': 18, 'AVGO': 7}\n",
      "{'NVDA': 98, 'AAPL': 21, 'AVGO': 16}\n",
      "{'NVDA': 146, 'MSFT': 3}\n",
      "{'ADBE': 12, 'GOOG': 36, 'GOOGL': 37}\n",
      "{'ARM': 16, 'ADBE': 5, 'AAPL': 66}\n",
      "{'ADBE': 6, 'AAPL': 74}\n",
      "{'BIIB': 3, 'ADBE': 5, 'AAPL': 72, 'GFS': 1}\n",
      "{'ADBE': 2, 'AAPL': 26, 'TSLA': 51}\n",
      "{'CDNS': 3, 'MSFT': 12, 'AAPL': 59}\n",
      "{'TSLA': 59, 'AAPL': 19}\n",
      "{'TSLA': 63, 'AAPL': 21}\n",
      "{'AVGO': 91, 'AMD': 25}\n",
      "{'AMD': 73, 'INTC': 87, 'GILD': 21, 'MELI': 1, 'AMGN': 2}\n",
      "{'TSLA': 72, 'GILD': 1, 'REGN': 1, 'CHTR': 1}\n",
      "{'INTC': 324, 'ILMN': 3, 'ODFL': 6, 'AMGN': 8, 'GILD': 28, 'CHTR': 8}\n",
      "{'TEAM': 18, 'MDB': 6, 'ODFL': 16, 'CTAS': 15, 'WBA': 2, 'ADP': 7, 'GILD': 73, 'CHTR': 5}\n",
      "{'MDB': 9, 'ODFL': 19, 'REGN': 1, 'ON': 14, 'ILMN': 11, 'ADP': 10, 'GILD': 102}\n",
      "{'ON': 77, 'ODFL': 13, 'ILMN': 9, 'GILD': 93, 'EXC': 5, 'ADP': 10, 'BKR': 15}\n",
      "{'GILD': 95, 'ON': 6, 'WBA': 3, 'ODFL': 9, 'CHTR': 18, 'BKR': 26, 'ADP': 10}\n",
      "{'ODFL': 14, 'GILD': 72, 'CSGP': 7, 'ILMN': 5, 'EA': 1, 'BKR': 37, 'WBA': 1, 'CHTR': 17, 'ADP': 10}\n",
      "{'CHTR': 24, 'GILD': 91, 'WBA': 37, 'ADP': 13, 'MNST': 1}\n",
      "{'CHTR': 17, 'CMCSA': 140, 'EA': 10, 'GEHC': 16, 'REGN': 1, 'MNST': 11, 'ADP': 9, 'EXC': 9, 'TMUS': 7}\n",
      "{'AEP': 27, 'EXC': 32, 'ADP': 6, 'ISRG': 3, 'DASH': 37, 'TMUS': 25, 'MELI': 2}\n",
      "{'XEL': 8, 'AEP': 17, 'ILMN': 7, 'ADP': 6, 'TTD': 49, 'FTNT': 145}\n",
      "{'WBA': 170, 'DASH': 36, 'VRTX': 3, 'MDLZ': 1, 'MELI': 3, 'TMUS': 30}\n",
      "{'WBA': 335, 'MELI': 7, 'EXC': 1, 'ADP': 3, 'MDLZ': 11, 'MDB': 3}\n",
      "{'WBA': 274, 'DASH': 44, 'MELI': 4, 'CMCSA': 18, 'MDLZ': 4, 'REGN': 2}\n",
      "{'XEL': 2, 'MELI': 3, 'ILMN': 9, 'CMCSA': 39, 'DASH': 27, 'REGN': 1, 'FTNT': 84, 'MDLZ': 2, 'GEHC': 1}\n",
      "{'MELI': 3, 'ILMN': 6, 'DASH': 25, 'FTNT': 87, 'ISRG': 7}\n",
      "{'ILMN': 10, 'MELI': 3, 'FTNT': 90, 'REGN': 2, 'ISRG': 7, 'TTWO': 1}\n",
      "{'MELI': 3, 'CHTR': 4, 'REGN': 2, 'ISRG': 7, 'FTNT': 85, 'TTWO': 1}\n",
      "{'CHTR': 11, 'TMUS': 23, 'TTWO': 11, 'WDAY': 35, 'CTAS': 3}\n",
      "{'SBUX': 83, 'CHTR': 3, 'ILMN': 2, 'MELI': 1, 'ISRG': 2, 'WDAY': 12, 'TEAM': 10, 'MRVL': 39}\n",
      "{'CHTR': 4, 'SBUX': 94, 'MELI': 1, 'WDAY': 17, 'TEAM': 15, 'LIN': 2}\n",
      "{'TEAM': 82, 'ADP': 4, 'GILD': 45, 'MDB': 7}\n",
      "{'MDB': 2, 'TSLA': 85}\n",
      "{'MDLZ': 64, 'MDB': 24, 'ADP': 2, 'MRVL': 38, 'GILD': 58}\n",
      "{'CSCO': 19, 'MDB': 12, 'GILD': 24, 'WBD': 5, 'ZS': 67, 'PANW': 6}\n",
      "{'REGN': 6, 'CSGP': 5, 'CTAS': 4, 'MDB': 26, 'GILD': 52}\n",
      "{'REGN': 7, 'MELI': 2, 'CTAS': 8, 'WBD': 231, 'GILD': 51}\n",
      "{'KDP': 8, 'XEL': 1, 'AMD': 7, 'INTC': 10, 'TSLA': 56, 'PDD': 27}\n",
      "{'INTC': 129, 'AMD': 29, 'WBA': 28, 'EXC': 5, 'CSCO': 10, 'ADSK': 1, 'XEL': 3, 'CMCSA': 2, 'PDD': 79}\n",
      "{'INTC': 45, 'TSLA': 44, 'AMD': 6, 'WBA': 135, 'EXC': 5, 'CMCSA': 1, 'PDD': 36}\n",
      "{'PDD': 87, 'CHTR': 4, 'CEG': 15, 'ABNB': 1, 'AMD': 6, 'BKR': 1}\n",
      "{'PDD': 120, 'CHTR': 3, 'ABNB': 1, 'AMD': 8, 'CPRT': 1}\n",
      "{'PDD': 119, 'INTC': 35, 'CHTR': 2, 'AMD': 9, 'ABNB': 1}\n",
      "{'DASH': 15, 'INTC': 463, 'CRWD': 13, 'ABNB': 22, 'CPRT': 1}\n",
      "{'AMD': 79, 'INTC': 152, 'CRWD': 8, 'WBA': 4, 'ABNB': 4}\n",
      "{'INTC': 284, 'MELI': 1, 'MRVL': 9, 'ABNB': 4, 'ZS': 11, 'TEAM': 42}\n",
      "{'PDD': 102, 'TMUS': 13, 'MRVL': 21, 'AMD': 15}\n",
      "{'WBA': 1020, 'MDB': 7, 'BKNG': 1, 'CMCSA': 7, 'WBD': 2, 'TEAM': 15}\n",
      "{'WBA': 815, 'MDB': 12, 'INTC': 11, 'LULU': 2, 'BKNG': 1, 'WBD': 3, 'CDNS': 12}\n",
      "{'WBA': 448, 'MDB': 4, 'LULU': 3, 'MRVL': 41, 'WBD': 21, 'ODFL': 1, 'BKNG': 1, 'ILMN': 1, 'TEAM': 20}\n",
      "{'WBA': 1223, 'LULU': 6, 'INTC': 15, 'TEAM': 26, 'CMCSA': 13}\n",
      "{'CHTR': 19, 'GFS': 22, 'ODFL': 5, 'TEAM': 40, 'BKR': 24}\n",
      "None\n",
      "'NoneType' object has no attribute 'items'\n",
      "None\n",
      "'NoneType' object has no attribute 'items'\n",
      "None\n",
      "'NoneType' object has no attribute 'items'\n",
      "None\n",
      "'NoneType' object has no attribute 'items'\n",
      "None\n",
      "'NoneType' object has no attribute 'items'\n",
      "None\n",
      "'NoneType' object has no attribute 'items'\n",
      "None\n",
      "'NoneType' object has no attribute 'items'\n",
      "None\n",
      "'NoneType' object has no attribute 'items'\n",
      "None\n",
      "'NoneType' object has no attribute 'items'\n",
      "None\n",
      "'NoneType' object has no attribute 'items'\n",
      "None\n",
      "'NoneType' object has no attribute 'items'\n",
      "None\n",
      "'NoneType' object has no attribute 'items'\n",
      "None\n",
      "'NoneType' object has no attribute 'items'\n",
      "None\n",
      "'NoneType' object has no attribute 'items'\n",
      "None\n",
      "'NoneType' object has no attribute 'items'\n",
      "None\n",
      "'NoneType' object has no attribute 'items'\n",
      "None\n",
      "'NoneType' object has no attribute 'items'\n",
      "None\n",
      "'NoneType' object has no attribute 'items'\n",
      "None\n",
      "'NoneType' object has no attribute 'items'\n",
      "None\n",
      "'NoneType' object has no attribute 'items'\n",
      "{'TSLA': 64, 'MDLZ': 9, 'BIIB': 1, 'GOOGL': 45}\n",
      "{'ON': 2, 'BIIB': 5, 'PDD': 7, 'EXC': 1, 'GOOGL': 52, 'GOOG': 47}\n",
      "{'MELI': 2, 'BIIB': 8, 'GOOGL': 43, 'GFS': 1, 'GOOG': 40}\n",
      "{'PDD': 59, 'AMD': 64, 'WBD': 54}\n",
      "{'WBA': 353, 'WBD': 2, 'AAPL': 74}\n",
      "{'MRNA': 57, 'WBA': 221, 'ADP': 6, 'BIIB': 3, 'CHTR': 4, 'TTWO': 18, 'ZS': 8, 'WBD': 4}\n",
      "{'MRNA': 44, 'SNPS': 1, 'WBA': 198, 'BIIB': 9, 'ILMN': 6, 'ZS': 4, 'VRTX': 13}\n",
      "{'MRNA': 98, 'MSFT': 2, 'AAPL': 22}\n",
      "{'MRNA': 12, 'NVDA': 145}\n",
      "{'NVDA': 139, 'AAPL': 9}\n",
      "{'NVDA': 126, 'AAPL': 16}\n",
      "{'NVDA': 109, 'AAPL': 18, 'AVGO': 7}\n",
      "{'NVDA': 98, 'AAPL': 21, 'AVGO': 16}\n",
      "{'NVDA': 146, 'MSFT': 3}\n",
      "{'ADBE': 12, 'GOOG': 36, 'GOOGL': 37}\n",
      "{'ARM': 16, 'ADBE': 5, 'AAPL': 66}\n",
      "{'ADBE': 6, 'AAPL': 74}\n",
      "{'BIIB': 3, 'ADBE': 5, 'AAPL': 72, 'GFS': 1}\n",
      "{'ADBE': 2, 'AAPL': 26, 'TSLA': 51}\n",
      "{'CDNS': 3, 'MSFT': 12, 'AAPL': 59}\n",
      "{'TSLA': 59, 'AAPL': 19}\n",
      "{'TSLA': 63, 'AAPL': 21}\n",
      "{'AVGO': 91, 'AMD': 25}\n",
      "{'AMD': 73, 'INTC': 87, 'GILD': 21, 'MELI': 1, 'AMGN': 2}\n",
      "{'TSLA': 72, 'GILD': 1, 'REGN': 1, 'CHTR': 1}\n",
      "{'INTC': 324, 'ILMN': 3, 'ODFL': 6, 'AMGN': 8, 'GILD': 28, 'CHTR': 8}\n",
      "{'TEAM': 18, 'MDB': 6, 'ODFL': 16, 'CTAS': 15, 'WBA': 2, 'ADP': 7, 'GILD': 73, 'CHTR': 5}\n",
      "{'MDB': 9, 'ODFL': 19, 'REGN': 1, 'ON': 14, 'ILMN': 11, 'ADP': 10, 'GILD': 102}\n",
      "{'ON': 77, 'ODFL': 13, 'ILMN': 9, 'GILD': 93, 'EXC': 5, 'ADP': 10, 'BKR': 15}\n",
      "{'GILD': 95, 'ON': 6, 'WBA': 3, 'ODFL': 9, 'CHTR': 18, 'BKR': 26, 'ADP': 10}\n",
      "{'ODFL': 14, 'GILD': 72, 'CSGP': 7, 'ILMN': 5, 'EA': 1, 'BKR': 37, 'WBA': 1, 'CHTR': 17, 'ADP': 10}\n",
      "{'CHTR': 24, 'GILD': 91, 'WBA': 37, 'ADP': 13, 'MNST': 1}\n",
      "{'CHTR': 17, 'CMCSA': 140, 'EA': 10, 'GEHC': 16, 'REGN': 1, 'MNST': 11, 'ADP': 9, 'EXC': 9, 'TMUS': 7}\n",
      "{'AEP': 27, 'EXC': 32, 'ADP': 6, 'ISRG': 3, 'DASH': 37, 'TMUS': 25, 'MELI': 2}\n",
      "{'XEL': 8, 'AEP': 17, 'ILMN': 7, 'ADP': 6, 'TTD': 49, 'FTNT': 145}\n",
      "{'WBA': 170, 'DASH': 36, 'VRTX': 3, 'MDLZ': 1, 'MELI': 3, 'TMUS': 30}\n",
      "{'WBA': 335, 'MELI': 7, 'EXC': 1, 'ADP': 3, 'MDLZ': 11, 'MDB': 3}\n",
      "{'WBA': 274, 'DASH': 44, 'MELI': 4, 'CMCSA': 18, 'MDLZ': 4, 'REGN': 2}\n",
      "{'XEL': 2, 'MELI': 3, 'ILMN': 9, 'CMCSA': 39, 'DASH': 27, 'REGN': 1, 'FTNT': 84, 'MDLZ': 2, 'GEHC': 1}\n",
      "{'MELI': 3, 'ILMN': 6, 'DASH': 25, 'FTNT': 87, 'ISRG': 7}\n",
      "{'ILMN': 10, 'MELI': 3, 'FTNT': 90, 'REGN': 2, 'ISRG': 7, 'TTWO': 1}\n",
      "{'MELI': 3, 'CHTR': 4, 'REGN': 2, 'ISRG': 7, 'FTNT': 85, 'TTWO': 1}\n",
      "{'CHTR': 11, 'TMUS': 23, 'TTWO': 11, 'WDAY': 35, 'CTAS': 3}\n",
      "{'SBUX': 83, 'CHTR': 3, 'ILMN': 2, 'MELI': 1, 'ISRG': 2, 'WDAY': 12, 'TEAM': 10, 'MRVL': 39}\n",
      "{'CHTR': 4, 'SBUX': 94, 'MELI': 1, 'WDAY': 17, 'TEAM': 15, 'LIN': 2}\n",
      "{'TEAM': 82, 'ADP': 4, 'GILD': 45, 'MDB': 7}\n"
     ]
    },
    {
     "name": "stderr",
     "output_type": "stream",
     "text": [
      "/tmp/ipykernel_181783/3754507352.py:2: SettingWithCopyWarning: \n",
      "A value is trying to be set on a copy of a slice from a DataFrame.\n",
      "Try using .loc[row_indexer,col_indexer] = value instead\n",
      "\n",
      "See the caveats in the documentation: https://pandas.pydata.org/pandas-docs/stable/user_guide/indexing.html#returning-a-view-versus-a-copy\n",
      "  portfolio[f\"portfolio_max\"] = portfolio.apply(evaluate_value, args=(\"_max\",), axis=1)\n",
      "/tmp/ipykernel_181783/3754507352.py:3: SettingWithCopyWarning: \n",
      "A value is trying to be set on a copy of a slice from a DataFrame.\n",
      "Try using .loc[row_indexer,col_indexer] = value instead\n",
      "\n",
      "See the caveats in the documentation: https://pandas.pydata.org/pandas-docs/stable/user_guide/indexing.html#returning-a-view-versus-a-copy\n",
      "  portfolio[f\"portfolio_min\"] = portfolio.apply(evaluate_value, args=(\"_min\",), axis=1)\n",
      "/tmp/ipykernel_181783/3754507352.py:4: SettingWithCopyWarning: \n",
      "A value is trying to be set on a copy of a slice from a DataFrame.\n",
      "Try using .loc[row_indexer,col_indexer] = value instead\n",
      "\n",
      "See the caveats in the documentation: https://pandas.pydata.org/pandas-docs/stable/user_guide/indexing.html#returning-a-view-versus-a-copy\n",
      "  portfolio[f\"portfolio_curr\"] = portfolio.apply(evaluate_value, args=(\"\",), axis=1)\n",
      "/tmp/ipykernel_181783/3754507352.py:5: SettingWithCopyWarning: \n",
      "A value is trying to be set on a copy of a slice from a DataFrame.\n",
      "Try using .loc[row_indexer,col_indexer] = value instead\n",
      "\n",
      "See the caveats in the documentation: https://pandas.pydata.org/pandas-docs/stable/user_guide/indexing.html#returning-a-view-versus-a-copy\n",
      "  portfolio[f\"portfolio_buy\"] = portfolio.shift(20).apply(evaluate_value, args=(\"\",), axis=1)\n",
      "/tmp/ipykernel_181783/3754507352.py:6: SettingWithCopyWarning: \n",
      "A value is trying to be set on a copy of a slice from a DataFrame\n",
      "\n",
      "See the caveats in the documentation: https://pandas.pydata.org/pandas-docs/stable/user_guide/indexing.html#returning-a-view-versus-a-copy\n",
      "  portfolio.dropna(inplace=True)\n",
      "/tmp/ipykernel_181783/3754507352.py:7: SettingWithCopyWarning: \n",
      "A value is trying to be set on a copy of a slice from a DataFrame.\n",
      "Try using .loc[row_indexer,col_indexer] = value instead\n",
      "\n",
      "See the caveats in the documentation: https://pandas.pydata.org/pandas-docs/stable/user_guide/indexing.html#returning-a-view-versus-a-copy\n",
      "  portfolio[f\"portfolio_max_diff_per\"] = (portfolio[f\"portfolio_max\"] - portfolio[f\"portfolio_buy\"] )/portfolio[f\"portfolio_buy\"]\n",
      "/tmp/ipykernel_181783/3754507352.py:8: SettingWithCopyWarning: \n",
      "A value is trying to be set on a copy of a slice from a DataFrame.\n",
      "Try using .loc[row_indexer,col_indexer] = value instead\n",
      "\n",
      "See the caveats in the documentation: https://pandas.pydata.org/pandas-docs/stable/user_guide/indexing.html#returning-a-view-versus-a-copy\n",
      "  portfolio[f\"portfolio_min_diff_per\"] = (portfolio[f\"portfolio_min\"] - portfolio[f\"portfolio_buy\"])/portfolio[f\"portfolio_buy\"]\n",
      "/tmp/ipykernel_181783/3754507352.py:9: SettingWithCopyWarning: \n",
      "A value is trying to be set on a copy of a slice from a DataFrame.\n",
      "Try using .loc[row_indexer,col_indexer] = value instead\n",
      "\n",
      "See the caveats in the documentation: https://pandas.pydata.org/pandas-docs/stable/user_guide/indexing.html#returning-a-view-versus-a-copy\n",
      "  portfolio[f\"portfolio_curr_diff_per\"] =(portfolio[f\"portfolio_curr\"] - portfolio[f\"portfolio_buy\"])/portfolio[f\"portfolio_buy\"]\n"
     ]
    }
   ],
   "source": [
    "import re\n",
    "portfolio[f\"portfolio_max\"] = portfolio.apply(evaluate_value, args=(\"_max\",), axis=1)\n",
    "portfolio[f\"portfolio_min\"] = portfolio.apply(evaluate_value, args=(\"_min\",), axis=1)\n",
    "portfolio[f\"portfolio_curr\"] = portfolio.apply(evaluate_value, args=(\"\",), axis=1)\n",
    "portfolio[f\"portfolio_buy\"] = portfolio.shift(20).apply(evaluate_value, args=(\"\",), axis=1)\n",
    "portfolio.dropna(inplace=True)\n",
    "portfolio[f\"portfolio_max_diff_per\"] = (portfolio[f\"portfolio_max\"] - portfolio[f\"portfolio_buy\"] )/portfolio[f\"portfolio_buy\"]\n",
    "portfolio[f\"portfolio_min_diff_per\"] = (portfolio[f\"portfolio_min\"] - portfolio[f\"portfolio_buy\"])/portfolio[f\"portfolio_buy\"]\n",
    "portfolio[f\"portfolio_curr_diff_per\"] =(portfolio[f\"portfolio_curr\"] - portfolio[f\"portfolio_buy\"])/portfolio[f\"portfolio_buy\"]"
   ]
  },
  {
   "cell_type": "code",
   "execution_count": 513,
   "id": "e35c4376-a06b-4a32-bab6-078eb274714d",
   "metadata": {},
   "outputs": [
    {
     "name": "stdout",
     "output_type": "stream",
     "text": [
      "{'TSLA': 114, 'EXC': 1}\n",
      "{'CSGP': 13, 'GOOG': 105}\n",
      "{'BKNG': 1, 'AMGN': 24, 'SBUX': 58, 'REGN': 2, 'CEG': 10}\n",
      "{'KLAC': 8, 'SBUX': 33, 'ADI': 48}\n",
      "{'MNST': 64, 'WBA': 689, 'CRWD': 19}\n",
      "{'ADI': 23, 'EXC': 149, 'AMD': 55}\n",
      "{'WBA': 289, 'TTWO': 2, 'AEP': 2, 'AAPL': 19, 'PANW': 4, 'BIIB': 11, 'GFS': 141, 'CHTR': 3}\n",
      "{'ADI': 2, 'GFS': 178, 'MRVL': 83, 'META': 10}\n",
      "{'GEHC': 1, 'MNST': 2, 'ASML': 2, 'GFS': 214, 'MSFT': 16}\n",
      "{'TTWO': 8, 'WDAY': 38, 'MDB': 10, 'MRVL': 119}\n",
      "{'MRNA': 45, 'ADBE': 3, 'META': 21, 'CRWD': 4}\n",
      "{'AAPL': 93}\n",
      "{'WDAY': 10, 'MELI': 3, 'VRTX': 10, 'PDD': 58}\n",
      "{'QCOM': 19, 'FTNT': 1, 'LRCX': 55, 'WDAY': 3, 'MRNA': 71}\n",
      "{'GILD': 54, 'ON': 52, 'MNST': 14, 'ADP': 15, 'AMAT': 18, 'XEL': 4, 'NFLX': 6}\n",
      "{'AVGO': 111, 'MRNA': 14}\n",
      "{'PDD': 5, 'AAPL': 86}\n",
      "{'KDP': 2, 'MSFT': 42, 'CTSH': 1}\n",
      "{'BKNG': 2, 'SNPS': 19, 'MNST': 6}\n",
      "{'AVGO': 115}\n",
      "{'ARM': 86, 'XEL': 3, 'LULU': 2, 'MDB': 13}\n",
      "{'GILD': 71, 'QCOM': 70, 'LULU': 3, 'MAR': 1}\n",
      "{'ADBE': 25, 'TEAM': 32, 'AEP': 1}\n",
      "{'AVGO': 112, 'GILD': 12}\n",
      "{'AMD': 42, 'GOOGL': 68}\n",
      "{'MSFT': 35, 'MDB': 6, 'PDD': 22}\n",
      "{'INTC': 179, 'WBA': 15, 'GOOGL': 71, 'ASML': 2, 'PDD': 4}\n",
      "{'ZS': 28, 'MELI': 4, 'COST': 3, 'TEAM': 21, 'BIIB': 10}\n",
      "{'LRCX': 34, 'NFLX': 8, 'PEP': 6, 'BIIB': 52}\n",
      "{'MDB': 3, 'GOOGL': 112}\n",
      "{'INTC': 207, 'GOOG': 68, 'ADBE': 2, 'AMD': 9}\n",
      "{'GFS': 13, 'PEP': 1, 'AVGO': 125, 'WDAY': 6}\n",
      "{'CPRT': 3, 'INTC': 157, 'ASML': 17, 'EXC': 11, 'MDB': 10}\n",
      "{'NVDA': 190}\n",
      "{'CTSH': 10, 'AAPL': 55, 'ODFL': 33, 'TTD': 7}\n",
      "{'AMAT': 62, 'XEL': 1, 'KLAC': 8, 'CTSH': 1}\n",
      "{'GOOGL': 34, 'INTC': 146, 'AVGO': 68}\n",
      "{'BKR': 65, 'AMAT': 32, 'WBA': 407, 'CDNS': 7, 'AEP': 7, 'LRCX': 48}\n",
      "{'MELI': 1, 'PAYX': 1, 'TMUS': 6, 'KHC': 3, 'WBD': 197, 'INTC': 189, 'TSLA': 53}\n",
      "{'AAPL': 40, 'MRNA': 1, 'EXC': 1, 'AMD': 7, 'TSLA': 44}\n",
      "{'TSLA': 74, 'MELI': 2}\n",
      "{'CSGP': 5, 'TTD': 9, 'NVDA': 142, 'GILD': 6}\n",
      "{'PEP': 4, 'XEL': 4, 'AMZN': 2, 'NVDA': 149}\n",
      "{'WDAY': 25, 'PYPL': 47, 'MU': 24, 'FTNT': 79, 'ADI': 7}\n",
      "{'ADBE': 11, 'PANW': 27, 'ON': 51, 'ADSK': 2}\n",
      "{'LIN': 1, 'PANW': 37, 'MNST': 1, 'META': 13}\n",
      "{'TEAM': 38, 'CMCSA': 53, 'MDB': 13, 'CPRT': 69, 'REGN': 4}\n",
      "{'TSLA': 114, 'EXC': 1}\n",
      "{'CSGP': 13, 'GOOG': 105}\n",
      "{'BKNG': 1, 'AMGN': 24, 'SBUX': 58, 'REGN': 2, 'CEG': 10}\n",
      "{'KLAC': 8, 'SBUX': 33, 'ADI': 48}\n",
      "{'MNST': 64, 'WBA': 689, 'CRWD': 19}\n",
      "{'ADI': 23, 'EXC': 149, 'AMD': 55}\n",
      "{'WBA': 289, 'TTWO': 2, 'AEP': 2, 'AAPL': 19, 'PANW': 4, 'BIIB': 11, 'GFS': 141, 'CHTR': 3}\n",
      "{'ADI': 2, 'GFS': 178, 'MRVL': 83, 'META': 10}\n",
      "{'GEHC': 1, 'MNST': 2, 'ASML': 2, 'GFS': 214, 'MSFT': 16}\n",
      "{'TTWO': 8, 'WDAY': 38, 'MDB': 10, 'MRVL': 119}\n",
      "{'MRNA': 45, 'ADBE': 3, 'META': 21, 'CRWD': 4}\n",
      "{'AAPL': 93}\n",
      "{'WDAY': 10, 'MELI': 3, 'VRTX': 10, 'PDD': 58}\n",
      "{'QCOM': 19, 'FTNT': 1, 'LRCX': 55, 'WDAY': 3, 'MRNA': 71}\n",
      "{'GILD': 54, 'ON': 52, 'MNST': 14, 'ADP': 15, 'AMAT': 18, 'XEL': 4, 'NFLX': 6}\n",
      "{'AVGO': 111, 'MRNA': 14}\n",
      "{'PDD': 5, 'AAPL': 86}\n",
      "{'KDP': 2, 'MSFT': 42, 'CTSH': 1}\n",
      "{'BKNG': 2, 'SNPS': 19, 'MNST': 6}\n",
      "{'AVGO': 115}\n",
      "{'ARM': 86, 'XEL': 3, 'LULU': 2, 'MDB': 13}\n",
      "{'GILD': 71, 'QCOM': 70, 'LULU': 3, 'MAR': 1}\n",
      "{'ADBE': 25, 'TEAM': 32, 'AEP': 1}\n",
      "{'AVGO': 112, 'GILD': 12}\n",
      "{'AMD': 42, 'GOOGL': 68}\n",
      "{'MSFT': 35, 'MDB': 6, 'PDD': 22}\n",
      "{'INTC': 179, 'WBA': 15, 'GOOGL': 71, 'ASML': 2, 'PDD': 4}\n",
      "{'ZS': 28, 'MELI': 4, 'COST': 3, 'TEAM': 21, 'BIIB': 10}\n",
      "{'LRCX': 34, 'NFLX': 8, 'PEP': 6, 'BIIB': 52}\n",
      "{'MDB': 3, 'GOOGL': 112}\n",
      "{'INTC': 207, 'GOOG': 68, 'ADBE': 2, 'AMD': 9}\n",
      "{'GFS': 13, 'PEP': 1, 'AVGO': 125, 'WDAY': 6}\n",
      "{'CPRT': 3, 'INTC': 157, 'ASML': 17, 'EXC': 11, 'MDB': 10}\n",
      "{'NVDA': 190}\n",
      "{'CTSH': 10, 'AAPL': 55, 'ODFL': 33, 'TTD': 7}\n",
      "{'AMAT': 62, 'XEL': 1, 'KLAC': 8, 'CTSH': 1}\n",
      "{'GOOGL': 34, 'INTC': 146, 'AVGO': 68}\n",
      "{'BKR': 65, 'AMAT': 32, 'WBA': 407, 'CDNS': 7, 'AEP': 7, 'LRCX': 48}\n",
      "{'MELI': 1, 'PAYX': 1, 'TMUS': 6, 'KHC': 3, 'WBD': 197, 'INTC': 189, 'TSLA': 53}\n",
      "{'AAPL': 40, 'MRNA': 1, 'EXC': 1, 'AMD': 7, 'TSLA': 44}\n",
      "{'TSLA': 74, 'MELI': 2}\n",
      "{'CSGP': 5, 'TTD': 9, 'NVDA': 142, 'GILD': 6}\n",
      "{'PEP': 4, 'XEL': 4, 'AMZN': 2, 'NVDA': 149}\n",
      "{'WDAY': 25, 'PYPL': 47, 'MU': 24, 'FTNT': 79, 'ADI': 7}\n",
      "{'ADBE': 11, 'PANW': 27, 'ON': 51, 'ADSK': 2}\n",
      "{'LIN': 1, 'PANW': 37, 'MNST': 1, 'META': 13}\n",
      "{'TEAM': 38, 'CMCSA': 53, 'MDB': 13, 'CPRT': 69, 'REGN': 4}\n",
      "{'TSLA': 114, 'EXC': 1}\n",
      "{'CSGP': 13, 'GOOG': 105}\n",
      "{'BKNG': 1, 'AMGN': 24, 'SBUX': 58, 'REGN': 2, 'CEG': 10}\n",
      "{'KLAC': 8, 'SBUX': 33, 'ADI': 48}\n",
      "{'MNST': 64, 'WBA': 689, 'CRWD': 19}\n",
      "{'ADI': 23, 'EXC': 149, 'AMD': 55}\n",
      "{'WBA': 289, 'TTWO': 2, 'AEP': 2, 'AAPL': 19, 'PANW': 4, 'BIIB': 11, 'GFS': 141, 'CHTR': 3}\n",
      "{'ADI': 2, 'GFS': 178, 'MRVL': 83, 'META': 10}\n",
      "{'GEHC': 1, 'MNST': 2, 'ASML': 2, 'GFS': 214, 'MSFT': 16}\n",
      "{'TTWO': 8, 'WDAY': 38, 'MDB': 10, 'MRVL': 119}\n",
      "{'MRNA': 45, 'ADBE': 3, 'META': 21, 'CRWD': 4}\n",
      "{'AAPL': 93}\n",
      "{'WDAY': 10, 'MELI': 3, 'VRTX': 10, 'PDD': 58}\n",
      "{'QCOM': 19, 'FTNT': 1, 'LRCX': 55, 'WDAY': 3, 'MRNA': 71}\n",
      "{'GILD': 54, 'ON': 52, 'MNST': 14, 'ADP': 15, 'AMAT': 18, 'XEL': 4, 'NFLX': 6}\n",
      "{'AVGO': 111, 'MRNA': 14}\n",
      "{'PDD': 5, 'AAPL': 86}\n",
      "{'KDP': 2, 'MSFT': 42, 'CTSH': 1}\n",
      "{'BKNG': 2, 'SNPS': 19, 'MNST': 6}\n",
      "{'AVGO': 115}\n",
      "{'ARM': 86, 'XEL': 3, 'LULU': 2, 'MDB': 13}\n",
      "{'GILD': 71, 'QCOM': 70, 'LULU': 3, 'MAR': 1}\n",
      "{'ADBE': 25, 'TEAM': 32, 'AEP': 1}\n",
      "{'AVGO': 112, 'GILD': 12}\n",
      "{'AMD': 42, 'GOOGL': 68}\n",
      "{'MSFT': 35, 'MDB': 6, 'PDD': 22}\n",
      "{'INTC': 179, 'WBA': 15, 'GOOGL': 71, 'ASML': 2, 'PDD': 4}\n",
      "{'ZS': 28, 'MELI': 4, 'COST': 3, 'TEAM': 21, 'BIIB': 10}\n",
      "{'LRCX': 34, 'NFLX': 8, 'PEP': 6, 'BIIB': 52}\n",
      "{'MDB': 3, 'GOOGL': 112}\n",
      "{'INTC': 207, 'GOOG': 68, 'ADBE': 2, 'AMD': 9}\n",
      "{'GFS': 13, 'PEP': 1, 'AVGO': 125, 'WDAY': 6}\n",
      "{'CPRT': 3, 'INTC': 157, 'ASML': 17, 'EXC': 11, 'MDB': 10}\n",
      "{'NVDA': 190}\n",
      "{'CTSH': 10, 'AAPL': 55, 'ODFL': 33, 'TTD': 7}\n",
      "{'AMAT': 62, 'XEL': 1, 'KLAC': 8, 'CTSH': 1}\n",
      "{'GOOGL': 34, 'INTC': 146, 'AVGO': 68}\n",
      "{'BKR': 65, 'AMAT': 32, 'WBA': 407, 'CDNS': 7, 'AEP': 7, 'LRCX': 48}\n",
      "{'MELI': 1, 'PAYX': 1, 'TMUS': 6, 'KHC': 3, 'WBD': 197, 'INTC': 189, 'TSLA': 53}\n",
      "{'AAPL': 40, 'MRNA': 1, 'EXC': 1, 'AMD': 7, 'TSLA': 44}\n",
      "{'TSLA': 74, 'MELI': 2}\n",
      "{'CSGP': 5, 'TTD': 9, 'NVDA': 142, 'GILD': 6}\n",
      "{'PEP': 4, 'XEL': 4, 'AMZN': 2, 'NVDA': 149}\n",
      "{'WDAY': 25, 'PYPL': 47, 'MU': 24, 'FTNT': 79, 'ADI': 7}\n",
      "{'ADBE': 11, 'PANW': 27, 'ON': 51, 'ADSK': 2}\n",
      "{'LIN': 1, 'PANW': 37, 'MNST': 1, 'META': 13}\n",
      "{'TEAM': 38, 'CMCSA': 53, 'MDB': 13, 'CPRT': 69, 'REGN': 4}\n",
      "None\n",
      "'NoneType' object has no attribute 'items'\n",
      "None\n",
      "'NoneType' object has no attribute 'items'\n",
      "None\n",
      "'NoneType' object has no attribute 'items'\n",
      "None\n",
      "'NoneType' object has no attribute 'items'\n",
      "None\n",
      "'NoneType' object has no attribute 'items'\n",
      "None\n",
      "'NoneType' object has no attribute 'items'\n",
      "None\n",
      "'NoneType' object has no attribute 'items'\n",
      "None\n",
      "'NoneType' object has no attribute 'items'\n",
      "None\n",
      "'NoneType' object has no attribute 'items'\n",
      "None\n",
      "'NoneType' object has no attribute 'items'\n",
      "None\n",
      "'NoneType' object has no attribute 'items'\n",
      "None\n",
      "'NoneType' object has no attribute 'items'\n",
      "None\n",
      "'NoneType' object has no attribute 'items'\n",
      "None\n",
      "'NoneType' object has no attribute 'items'\n",
      "None\n",
      "'NoneType' object has no attribute 'items'\n",
      "None\n",
      "'NoneType' object has no attribute 'items'\n",
      "None\n",
      "'NoneType' object has no attribute 'items'\n",
      "None\n",
      "'NoneType' object has no attribute 'items'\n",
      "None\n",
      "'NoneType' object has no attribute 'items'\n",
      "None\n",
      "'NoneType' object has no attribute 'items'\n",
      "{'TSLA': 114, 'EXC': 1}\n",
      "{'CSGP': 13, 'GOOG': 105}\n",
      "{'BKNG': 1, 'AMGN': 24, 'SBUX': 58, 'REGN': 2, 'CEG': 10}\n",
      "{'KLAC': 8, 'SBUX': 33, 'ADI': 48}\n",
      "{'MNST': 64, 'WBA': 689, 'CRWD': 19}\n",
      "{'ADI': 23, 'EXC': 149, 'AMD': 55}\n",
      "{'WBA': 289, 'TTWO': 2, 'AEP': 2, 'AAPL': 19, 'PANW': 4, 'BIIB': 11, 'GFS': 141, 'CHTR': 3}\n",
      "{'ADI': 2, 'GFS': 178, 'MRVL': 83, 'META': 10}\n",
      "{'GEHC': 1, 'MNST': 2, 'ASML': 2, 'GFS': 214, 'MSFT': 16}\n",
      "{'TTWO': 8, 'WDAY': 38, 'MDB': 10, 'MRVL': 119}\n",
      "{'MRNA': 45, 'ADBE': 3, 'META': 21, 'CRWD': 4}\n",
      "{'AAPL': 93}\n",
      "{'WDAY': 10, 'MELI': 3, 'VRTX': 10, 'PDD': 58}\n",
      "{'QCOM': 19, 'FTNT': 1, 'LRCX': 55, 'WDAY': 3, 'MRNA': 71}\n",
      "{'GILD': 54, 'ON': 52, 'MNST': 14, 'ADP': 15, 'AMAT': 18, 'XEL': 4, 'NFLX': 6}\n",
      "{'AVGO': 111, 'MRNA': 14}\n",
      "{'PDD': 5, 'AAPL': 86}\n",
      "{'KDP': 2, 'MSFT': 42, 'CTSH': 1}\n",
      "{'BKNG': 2, 'SNPS': 19, 'MNST': 6}\n",
      "{'AVGO': 115}\n",
      "{'ARM': 86, 'XEL': 3, 'LULU': 2, 'MDB': 13}\n",
      "{'GILD': 71, 'QCOM': 70, 'LULU': 3, 'MAR': 1}\n",
      "{'ADBE': 25, 'TEAM': 32, 'AEP': 1}\n",
      "{'AVGO': 112, 'GILD': 12}\n",
      "{'AMD': 42, 'GOOGL': 68}\n",
      "{'MSFT': 35, 'MDB': 6, 'PDD': 22}\n",
      "{'INTC': 179, 'WBA': 15, 'GOOGL': 71, 'ASML': 2, 'PDD': 4}\n"
     ]
    },
    {
     "name": "stderr",
     "output_type": "stream",
     "text": [
      "/tmp/ipykernel_181783/2403093935.py:2: SettingWithCopyWarning:\n",
      "\n",
      "\n",
      "A value is trying to be set on a copy of a slice from a DataFrame.\n",
      "Try using .loc[row_indexer,col_indexer] = value instead\n",
      "\n",
      "See the caveats in the documentation: https://pandas.pydata.org/pandas-docs/stable/user_guide/indexing.html#returning-a-view-versus-a-copy\n",
      "\n",
      "/tmp/ipykernel_181783/2403093935.py:3: SettingWithCopyWarning:\n",
      "\n",
      "\n",
      "A value is trying to be set on a copy of a slice from a DataFrame.\n",
      "Try using .loc[row_indexer,col_indexer] = value instead\n",
      "\n",
      "See the caveats in the documentation: https://pandas.pydata.org/pandas-docs/stable/user_guide/indexing.html#returning-a-view-versus-a-copy\n",
      "\n",
      "/tmp/ipykernel_181783/2403093935.py:4: SettingWithCopyWarning:\n",
      "\n",
      "\n",
      "A value is trying to be set on a copy of a slice from a DataFrame.\n",
      "Try using .loc[row_indexer,col_indexer] = value instead\n",
      "\n",
      "See the caveats in the documentation: https://pandas.pydata.org/pandas-docs/stable/user_guide/indexing.html#returning-a-view-versus-a-copy\n",
      "\n",
      "/tmp/ipykernel_181783/2403093935.py:5: SettingWithCopyWarning:\n",
      "\n",
      "\n",
      "A value is trying to be set on a copy of a slice from a DataFrame.\n",
      "Try using .loc[row_indexer,col_indexer] = value instead\n",
      "\n",
      "See the caveats in the documentation: https://pandas.pydata.org/pandas-docs/stable/user_guide/indexing.html#returning-a-view-versus-a-copy\n",
      "\n",
      "/tmp/ipykernel_181783/2403093935.py:6: SettingWithCopyWarning:\n",
      "\n",
      "\n",
      "A value is trying to be set on a copy of a slice from a DataFrame\n",
      "\n",
      "See the caveats in the documentation: https://pandas.pydata.org/pandas-docs/stable/user_guide/indexing.html#returning-a-view-versus-a-copy\n",
      "\n",
      "/tmp/ipykernel_181783/2403093935.py:7: SettingWithCopyWarning:\n",
      "\n",
      "\n",
      "A value is trying to be set on a copy of a slice from a DataFrame.\n",
      "Try using .loc[row_indexer,col_indexer] = value instead\n",
      "\n",
      "See the caveats in the documentation: https://pandas.pydata.org/pandas-docs/stable/user_guide/indexing.html#returning-a-view-versus-a-copy\n",
      "\n",
      "/tmp/ipykernel_181783/2403093935.py:8: SettingWithCopyWarning:\n",
      "\n",
      "\n",
      "A value is trying to be set on a copy of a slice from a DataFrame.\n",
      "Try using .loc[row_indexer,col_indexer] = value instead\n",
      "\n",
      "See the caveats in the documentation: https://pandas.pydata.org/pandas-docs/stable/user_guide/indexing.html#returning-a-view-versus-a-copy\n",
      "\n",
      "/tmp/ipykernel_181783/2403093935.py:9: SettingWithCopyWarning:\n",
      "\n",
      "\n",
      "A value is trying to be set on a copy of a slice from a DataFrame.\n",
      "Try using .loc[row_indexer,col_indexer] = value instead\n",
      "\n",
      "See the caveats in the documentation: https://pandas.pydata.org/pandas-docs/stable/user_guide/indexing.html#returning-a-view-versus-a-copy\n",
      "\n"
     ]
    }
   ],
   "source": [
    "import re\n",
    "portfolio_rand[f\"portfolio_max_rand\"] = portfolio_rand.apply(evaluate_value, args=(\"_max\", \"portfolio\"), axis=1)\n",
    "portfolio_rand[f\"portfolio_min_rand\"] = portfolio_rand.apply(evaluate_value, args=(\"_min\",\"portfolio\"), axis=1)\n",
    "portfolio_rand[f\"portfolio_curr_rand\"] =portfolio_rand.apply(evaluate_value, args=(\"\",\"portfolio\"), axis=1)\n",
    "portfolio_rand[f\"portfolio_buy_rand\"] = portfolio_rand.shift(20).apply(evaluate_value, args=(\"\",\"portfolio\"), axis=1)\n",
    "portfolio_rand.dropna(inplace=True)\n",
    "portfolio_rand[f\"portfolio_max_diff_per_rand\"] = (portfolio_rand[f\"portfolio_max_rand\"] - portfolio_rand[f\"portfolio_buy_rand\"])/portfolio_rand[f\"portfolio_buy_rand\"]\n",
    "portfolio_rand[f\"portfolio_min_diff_per_rand\"] = (portfolio_rand[f\"portfolio_min_rand\"] - portfolio_rand[f\"portfolio_buy_rand\"])/portfolio_rand[f\"portfolio_buy_rand\"]\n",
    "portfolio_rand[f\"portfolio_curr_diff_per_rand\"] =(portfolio_rand[f\"portfolio_curr_rand\"] -portfolio_rand[f\"portfolio_buy_rand\"])/portfolio_rand[f\"portfolio_buy_rand\"]"
   ]
  },
  {
   "cell_type": "code",
   "execution_count": 476,
   "id": "f1e6be14-7c3d-4e67-802e-8a741131b96c",
   "metadata": {},
   "outputs": [],
   "source": [
    "portfolio = portfolio[::-1]\n",
    "# portfolio_rand = portfolio_rand[::-1]"
   ]
  },
  {
   "cell_type": "code",
   "execution_count": 477,
   "id": "9c50e3c9-a192-4a66-b34e-63a25c6a6efc",
   "metadata": {},
   "outputs": [
    {
     "name": "stdout",
     "output_type": "stream",
     "text": [
      "(46, 315)\n"
     ]
    }
   ],
   "source": [
    "print(portfolio.shape)\n",
    "# print(portfolio_rand.shape)"
   ]
  },
  {
   "cell_type": "code",
   "execution_count": 481,
   "id": "956b5b67-e98c-4019-83f3-c6b39dcb6cf8",
   "metadata": {},
   "outputs": [
    {
     "data": {
      "text/plain": [
       "Date\n",
       "2024-11-07    19966.793060\n",
       "2024-11-06    19962.530243\n",
       "2024-11-05    19986.830696\n",
       "2024-11-04    19989.022827\n",
       "2024-11-01    19949.910004\n",
       "2024-10-29    19997.949875\n",
       "2024-10-15    19916.880318\n",
       "2024-10-11    19934.684055\n",
       "2024-10-10    19946.499704\n",
       "2024-10-09    19918.089291\n",
       "2024-10-08    19992.868359\n",
       "2024-10-07    19936.024597\n",
       "2024-10-01    19951.507256\n",
       "2024-09-30    19997.860115\n",
       "2024-09-27    19752.229650\n",
       "2024-09-17    19994.005857\n",
       "2024-09-16    19995.165998\n",
       "2024-09-13    19967.061024\n",
       "2024-09-12    19991.423889\n",
       "2024-09-10    19995.343853\n",
       "2024-09-04    19987.405563\n",
       "2024-09-03    19965.706490\n",
       "2024-08-30    19979.677032\n",
       "2024-08-28    19965.612305\n",
       "2024-08-27    19958.334824\n",
       "2024-08-26    19953.842590\n",
       "2024-08-23    19926.859360\n",
       "2024-08-22    19967.212036\n",
       "2024-08-21    19899.428299\n",
       "2024-08-20    19796.645325\n",
       "2024-08-19    19974.922333\n",
       "2024-08-14    19991.537582\n",
       "2024-08-08    19824.551636\n",
       "2024-08-05    19970.975021\n",
       "2024-08-02    19883.363373\n",
       "2024-08-01    19964.780182\n",
       "2024-07-31    19940.178925\n",
       "2024-07-30    19925.086380\n",
       "2024-07-29    19958.053802\n",
       "2024-07-26    19975.104931\n",
       "2024-07-17    19972.848766\n",
       "2024-07-16    19936.084585\n",
       "2024-07-15    19963.579525\n",
       "2024-07-12    19998.613930\n",
       "2024-07-11    19983.433594\n",
       "2024-07-10    19998.509094\n",
       "Name: portfolio_buy, dtype: float64"
      ]
     },
     "execution_count": 481,
     "metadata": {},
     "output_type": "execute_result"
    }
   ],
   "source": [
    "portfolio['portfolio_buy']"
   ]
  },
  {
   "cell_type": "code",
   "execution_count": 484,
   "id": "e5477427-4fac-41bc-a851-bb4029846d6c",
   "metadata": {},
   "outputs": [],
   "source": [
    "def create_candle_stick(df_portfolio, date='2024-01-15', period=30):\n",
    "    # Backtest the tool for the last 30 days\n",
    "    df_portfolio = df_portfolio[datetime.strptime(date, '%Y-%m-%d'):]\n",
    "    df_portfolio = df_portfolio.iloc[:20]\n",
    "    # print(df_portfolio.tail())\n",
    "    fig = go.Figure(data=[go.Candlestick(x=df_portfolio.index,\n",
    "                open=df_portfolio['portfolio_buy'], high=df_portfolio['portfolio_max'],\n",
    "                low=df_portfolio['portfolio_min'], close=df_portfolio['portfolio_curr'])\n",
    "                     ])\n",
    "\n",
    "    fig.update_layout(xaxis_rangeslider_visible=False)\n",
    "    fig.show()"
   ]
  },
  {
   "cell_type": "code",
   "execution_count": 524,
   "id": "9b26c4dd-62ee-4451-ab32-256beb1b1791",
   "metadata": {
    "scrolled": true
   },
   "outputs": [
    {
     "data": {
      "application/vnd.plotly.v1+json": {
       "config": {
        "plotlyServerURL": "https://plot.ly"
       },
       "data": [
        {
         "close": [
          19807.4298248291,
          19966.793060302734,
          19962.530242919922,
          19986.830696105957,
          19989.022827148438,
          19949.91000366211,
          19997.94987487793,
          19916.88031768799,
          19934.68405532837,
          19946.499704360962,
          19918.089290618896,
          19992.86835861206,
          19936.02459716797,
          19951.5072555542,
          19997.86011505127,
          19752.229649543762,
          19994.00585746765,
          19995.165998458862,
          19967.06102371216,
          19991.423889160156
         ],
         "high": [
          20311.480499267574,
          21358.351280212402,
          21063.14501953125,
          20630.490394592285,
          20523.28729248047,
          20095.669982910156,
          20236.42985534668,
          20145.999824523926,
          20306.73975753784,
          20488.27084350586,
          20586.44288253784,
          20263.87966156006,
          20177.89680480957,
          20095.16725921631,
          20841.034103393555,
          20272.790781021118,
          20391.52676963806,
          20258.12988090515,
          20362.33079147339,
          20242.70453643799
         ],
         "low": [
          17344.399688720707,
          17191.224327087402,
          16314.869033813477,
          15793.373901367188,
          16774.488845825195,
          16007.840316772461,
          16199.610168457031,
          15839.80029296875,
          16032.822883605957,
          16752.31558418274,
          16655.762293815613,
          16925.80760383606,
          16107.608757019043,
          17455.66909790039,
          17829.90195083618,
          15814.127640724182,
          16312.148844718933,
          15971.888396263123,
          17138.231853485107,
          17018.003883361816
         ],
         "open": [
          19995.343852996826,
          19987.405563354492,
          19965.706489562985,
          19979.677032470703,
          19965.6123046875,
          19958.3348236084,
          19953.84259033203,
          19926.85935974121,
          19967.212036132812,
          19899.428298950195,
          19796.64532470703,
          19974.922332763672,
          19991.53758239746,
          19824.551635742188,
          19970.975021362305,
          19883.363372802734,
          19964.780181884766,
          19940.178924560547,
          19925.086380004886,
          19958.053802490234
         ],
         "type": "candlestick",
         "x": [
          "2024-09-10T00:00:00",
          "2024-09-04T00:00:00",
          "2024-09-03T00:00:00",
          "2024-08-30T00:00:00",
          "2024-08-28T00:00:00",
          "2024-08-27T00:00:00",
          "2024-08-26T00:00:00",
          "2024-08-23T00:00:00",
          "2024-08-22T00:00:00",
          "2024-08-21T00:00:00",
          "2024-08-20T00:00:00",
          "2024-08-19T00:00:00",
          "2024-08-14T00:00:00",
          "2024-08-08T00:00:00",
          "2024-08-05T00:00:00",
          "2024-08-02T00:00:00",
          "2024-08-01T00:00:00",
          "2024-07-31T00:00:00",
          "2024-07-30T00:00:00",
          "2024-07-29T00:00:00"
         ]
        }
       ],
       "layout": {
        "autosize": true,
        "template": {
         "data": {
          "bar": [
           {
            "error_x": {
             "color": "#2a3f5f"
            },
            "error_y": {
             "color": "#2a3f5f"
            },
            "marker": {
             "line": {
              "color": "#E5ECF6",
              "width": 0.5
             },
             "pattern": {
              "fillmode": "overlay",
              "size": 10,
              "solidity": 0.2
             }
            },
            "type": "bar"
           }
          ],
          "barpolar": [
           {
            "marker": {
             "line": {
              "color": "#E5ECF6",
              "width": 0.5
             },
             "pattern": {
              "fillmode": "overlay",
              "size": 10,
              "solidity": 0.2
             }
            },
            "type": "barpolar"
           }
          ],
          "carpet": [
           {
            "aaxis": {
             "endlinecolor": "#2a3f5f",
             "gridcolor": "white",
             "linecolor": "white",
             "minorgridcolor": "white",
             "startlinecolor": "#2a3f5f"
            },
            "baxis": {
             "endlinecolor": "#2a3f5f",
             "gridcolor": "white",
             "linecolor": "white",
             "minorgridcolor": "white",
             "startlinecolor": "#2a3f5f"
            },
            "type": "carpet"
           }
          ],
          "choropleth": [
           {
            "colorbar": {
             "outlinewidth": 0,
             "ticks": ""
            },
            "type": "choropleth"
           }
          ],
          "contour": [
           {
            "colorbar": {
             "outlinewidth": 0,
             "ticks": ""
            },
            "colorscale": [
             [
              0,
              "#0d0887"
             ],
             [
              0.1111111111111111,
              "#46039f"
             ],
             [
              0.2222222222222222,
              "#7201a8"
             ],
             [
              0.3333333333333333,
              "#9c179e"
             ],
             [
              0.4444444444444444,
              "#bd3786"
             ],
             [
              0.5555555555555556,
              "#d8576b"
             ],
             [
              0.6666666666666666,
              "#ed7953"
             ],
             [
              0.7777777777777778,
              "#fb9f3a"
             ],
             [
              0.8888888888888888,
              "#fdca26"
             ],
             [
              1,
              "#f0f921"
             ]
            ],
            "type": "contour"
           }
          ],
          "contourcarpet": [
           {
            "colorbar": {
             "outlinewidth": 0,
             "ticks": ""
            },
            "type": "contourcarpet"
           }
          ],
          "heatmap": [
           {
            "colorbar": {
             "outlinewidth": 0,
             "ticks": ""
            },
            "colorscale": [
             [
              0,
              "#0d0887"
             ],
             [
              0.1111111111111111,
              "#46039f"
             ],
             [
              0.2222222222222222,
              "#7201a8"
             ],
             [
              0.3333333333333333,
              "#9c179e"
             ],
             [
              0.4444444444444444,
              "#bd3786"
             ],
             [
              0.5555555555555556,
              "#d8576b"
             ],
             [
              0.6666666666666666,
              "#ed7953"
             ],
             [
              0.7777777777777778,
              "#fb9f3a"
             ],
             [
              0.8888888888888888,
              "#fdca26"
             ],
             [
              1,
              "#f0f921"
             ]
            ],
            "type": "heatmap"
           }
          ],
          "heatmapgl": [
           {
            "colorbar": {
             "outlinewidth": 0,
             "ticks": ""
            },
            "colorscale": [
             [
              0,
              "#0d0887"
             ],
             [
              0.1111111111111111,
              "#46039f"
             ],
             [
              0.2222222222222222,
              "#7201a8"
             ],
             [
              0.3333333333333333,
              "#9c179e"
             ],
             [
              0.4444444444444444,
              "#bd3786"
             ],
             [
              0.5555555555555556,
              "#d8576b"
             ],
             [
              0.6666666666666666,
              "#ed7953"
             ],
             [
              0.7777777777777778,
              "#fb9f3a"
             ],
             [
              0.8888888888888888,
              "#fdca26"
             ],
             [
              1,
              "#f0f921"
             ]
            ],
            "type": "heatmapgl"
           }
          ],
          "histogram": [
           {
            "marker": {
             "pattern": {
              "fillmode": "overlay",
              "size": 10,
              "solidity": 0.2
             }
            },
            "type": "histogram"
           }
          ],
          "histogram2d": [
           {
            "colorbar": {
             "outlinewidth": 0,
             "ticks": ""
            },
            "colorscale": [
             [
              0,
              "#0d0887"
             ],
             [
              0.1111111111111111,
              "#46039f"
             ],
             [
              0.2222222222222222,
              "#7201a8"
             ],
             [
              0.3333333333333333,
              "#9c179e"
             ],
             [
              0.4444444444444444,
              "#bd3786"
             ],
             [
              0.5555555555555556,
              "#d8576b"
             ],
             [
              0.6666666666666666,
              "#ed7953"
             ],
             [
              0.7777777777777778,
              "#fb9f3a"
             ],
             [
              0.8888888888888888,
              "#fdca26"
             ],
             [
              1,
              "#f0f921"
             ]
            ],
            "type": "histogram2d"
           }
          ],
          "histogram2dcontour": [
           {
            "colorbar": {
             "outlinewidth": 0,
             "ticks": ""
            },
            "colorscale": [
             [
              0,
              "#0d0887"
             ],
             [
              0.1111111111111111,
              "#46039f"
             ],
             [
              0.2222222222222222,
              "#7201a8"
             ],
             [
              0.3333333333333333,
              "#9c179e"
             ],
             [
              0.4444444444444444,
              "#bd3786"
             ],
             [
              0.5555555555555556,
              "#d8576b"
             ],
             [
              0.6666666666666666,
              "#ed7953"
             ],
             [
              0.7777777777777778,
              "#fb9f3a"
             ],
             [
              0.8888888888888888,
              "#fdca26"
             ],
             [
              1,
              "#f0f921"
             ]
            ],
            "type": "histogram2dcontour"
           }
          ],
          "mesh3d": [
           {
            "colorbar": {
             "outlinewidth": 0,
             "ticks": ""
            },
            "type": "mesh3d"
           }
          ],
          "parcoords": [
           {
            "line": {
             "colorbar": {
              "outlinewidth": 0,
              "ticks": ""
             }
            },
            "type": "parcoords"
           }
          ],
          "pie": [
           {
            "automargin": true,
            "type": "pie"
           }
          ],
          "scatter": [
           {
            "fillpattern": {
             "fillmode": "overlay",
             "size": 10,
             "solidity": 0.2
            },
            "type": "scatter"
           }
          ],
          "scatter3d": [
           {
            "line": {
             "colorbar": {
              "outlinewidth": 0,
              "ticks": ""
             }
            },
            "marker": {
             "colorbar": {
              "outlinewidth": 0,
              "ticks": ""
             }
            },
            "type": "scatter3d"
           }
          ],
          "scattercarpet": [
           {
            "marker": {
             "colorbar": {
              "outlinewidth": 0,
              "ticks": ""
             }
            },
            "type": "scattercarpet"
           }
          ],
          "scattergeo": [
           {
            "marker": {
             "colorbar": {
              "outlinewidth": 0,
              "ticks": ""
             }
            },
            "type": "scattergeo"
           }
          ],
          "scattergl": [
           {
            "marker": {
             "colorbar": {
              "outlinewidth": 0,
              "ticks": ""
             }
            },
            "type": "scattergl"
           }
          ],
          "scattermapbox": [
           {
            "marker": {
             "colorbar": {
              "outlinewidth": 0,
              "ticks": ""
             }
            },
            "type": "scattermapbox"
           }
          ],
          "scatterpolar": [
           {
            "marker": {
             "colorbar": {
              "outlinewidth": 0,
              "ticks": ""
             }
            },
            "type": "scatterpolar"
           }
          ],
          "scatterpolargl": [
           {
            "marker": {
             "colorbar": {
              "outlinewidth": 0,
              "ticks": ""
             }
            },
            "type": "scatterpolargl"
           }
          ],
          "scatterternary": [
           {
            "marker": {
             "colorbar": {
              "outlinewidth": 0,
              "ticks": ""
             }
            },
            "type": "scatterternary"
           }
          ],
          "surface": [
           {
            "colorbar": {
             "outlinewidth": 0,
             "ticks": ""
            },
            "colorscale": [
             [
              0,
              "#0d0887"
             ],
             [
              0.1111111111111111,
              "#46039f"
             ],
             [
              0.2222222222222222,
              "#7201a8"
             ],
             [
              0.3333333333333333,
              "#9c179e"
             ],
             [
              0.4444444444444444,
              "#bd3786"
             ],
             [
              0.5555555555555556,
              "#d8576b"
             ],
             [
              0.6666666666666666,
              "#ed7953"
             ],
             [
              0.7777777777777778,
              "#fb9f3a"
             ],
             [
              0.8888888888888888,
              "#fdca26"
             ],
             [
              1,
              "#f0f921"
             ]
            ],
            "type": "surface"
           }
          ],
          "table": [
           {
            "cells": {
             "fill": {
              "color": "#EBF0F8"
             },
             "line": {
              "color": "white"
             }
            },
            "header": {
             "fill": {
              "color": "#C8D4E3"
             },
             "line": {
              "color": "white"
             }
            },
            "type": "table"
           }
          ]
         },
         "layout": {
          "annotationdefaults": {
           "arrowcolor": "#2a3f5f",
           "arrowhead": 0,
           "arrowwidth": 1
          },
          "autotypenumbers": "strict",
          "coloraxis": {
           "colorbar": {
            "outlinewidth": 0,
            "ticks": ""
           }
          },
          "colorscale": {
           "diverging": [
            [
             0,
             "#8e0152"
            ],
            [
             0.1,
             "#c51b7d"
            ],
            [
             0.2,
             "#de77ae"
            ],
            [
             0.3,
             "#f1b6da"
            ],
            [
             0.4,
             "#fde0ef"
            ],
            [
             0.5,
             "#f7f7f7"
            ],
            [
             0.6,
             "#e6f5d0"
            ],
            [
             0.7,
             "#b8e186"
            ],
            [
             0.8,
             "#7fbc41"
            ],
            [
             0.9,
             "#4d9221"
            ],
            [
             1,
             "#276419"
            ]
           ],
           "sequential": [
            [
             0,
             "#0d0887"
            ],
            [
             0.1111111111111111,
             "#46039f"
            ],
            [
             0.2222222222222222,
             "#7201a8"
            ],
            [
             0.3333333333333333,
             "#9c179e"
            ],
            [
             0.4444444444444444,
             "#bd3786"
            ],
            [
             0.5555555555555556,
             "#d8576b"
            ],
            [
             0.6666666666666666,
             "#ed7953"
            ],
            [
             0.7777777777777778,
             "#fb9f3a"
            ],
            [
             0.8888888888888888,
             "#fdca26"
            ],
            [
             1,
             "#f0f921"
            ]
           ],
           "sequentialminus": [
            [
             0,
             "#0d0887"
            ],
            [
             0.1111111111111111,
             "#46039f"
            ],
            [
             0.2222222222222222,
             "#7201a8"
            ],
            [
             0.3333333333333333,
             "#9c179e"
            ],
            [
             0.4444444444444444,
             "#bd3786"
            ],
            [
             0.5555555555555556,
             "#d8576b"
            ],
            [
             0.6666666666666666,
             "#ed7953"
            ],
            [
             0.7777777777777778,
             "#fb9f3a"
            ],
            [
             0.8888888888888888,
             "#fdca26"
            ],
            [
             1,
             "#f0f921"
            ]
           ]
          },
          "colorway": [
           "#636efa",
           "#EF553B",
           "#00cc96",
           "#ab63fa",
           "#FFA15A",
           "#19d3f3",
           "#FF6692",
           "#B6E880",
           "#FF97FF",
           "#FECB52"
          ],
          "font": {
           "color": "#2a3f5f"
          },
          "geo": {
           "bgcolor": "white",
           "lakecolor": "white",
           "landcolor": "#E5ECF6",
           "showlakes": true,
           "showland": true,
           "subunitcolor": "white"
          },
          "hoverlabel": {
           "align": "left"
          },
          "hovermode": "closest",
          "mapbox": {
           "style": "light"
          },
          "paper_bgcolor": "white",
          "plot_bgcolor": "#E5ECF6",
          "polar": {
           "angularaxis": {
            "gridcolor": "white",
            "linecolor": "white",
            "ticks": ""
           },
           "bgcolor": "#E5ECF6",
           "radialaxis": {
            "gridcolor": "white",
            "linecolor": "white",
            "ticks": ""
           }
          },
          "scene": {
           "xaxis": {
            "backgroundcolor": "#E5ECF6",
            "gridcolor": "white",
            "gridwidth": 2,
            "linecolor": "white",
            "showbackground": true,
            "ticks": "",
            "zerolinecolor": "white"
           },
           "yaxis": {
            "backgroundcolor": "#E5ECF6",
            "gridcolor": "white",
            "gridwidth": 2,
            "linecolor": "white",
            "showbackground": true,
            "ticks": "",
            "zerolinecolor": "white"
           },
           "zaxis": {
            "backgroundcolor": "#E5ECF6",
            "gridcolor": "white",
            "gridwidth": 2,
            "linecolor": "white",
            "showbackground": true,
            "ticks": "",
            "zerolinecolor": "white"
           }
          },
          "shapedefaults": {
           "line": {
            "color": "#2a3f5f"
           }
          },
          "ternary": {
           "aaxis": {
            "gridcolor": "white",
            "linecolor": "white",
            "ticks": ""
           },
           "baxis": {
            "gridcolor": "white",
            "linecolor": "white",
            "ticks": ""
           },
           "bgcolor": "#E5ECF6",
           "caxis": {
            "gridcolor": "white",
            "linecolor": "white",
            "ticks": ""
           }
          },
          "title": {
           "x": 0.05
          },
          "xaxis": {
           "automargin": true,
           "gridcolor": "white",
           "linecolor": "white",
           "ticks": "",
           "title": {
            "standoff": 15
           },
           "zerolinecolor": "white",
           "zerolinewidth": 2
          },
          "yaxis": {
           "automargin": true,
           "gridcolor": "white",
           "linecolor": "white",
           "ticks": "",
           "title": {
            "standoff": 15
           },
           "zerolinecolor": "white",
           "zerolinewidth": 2
          }
         }
        },
        "xaxis": {
         "autorange": true,
         "range": [
          "2024-07-28 12:00",
          "2024-09-10 12:00"
         ],
         "rangeslider": {
          "visible": false,
          "yaxis": {}
         },
         "type": "date"
        },
        "yaxis": {
         "autorange": true,
         "range": [
          15484.208491431342,
          21667.516690148248
         ]
        }
       }
      },
      "image/png": "[encoded data removed]",
      "text/html": [
       "<div>                            <div id=\"febf2288-2569-4678-a9d0-38965b253e10\" class=\"plotly-graph-div\" style=\"height:525px; width:100%;\"></div>            <script type=\"text/javascript\">                require([\"plotly\"], function(Plotly) {                    window.PLOTLYENV=window.PLOTLYENV || {};                                    if (document.getElementById(\"febf2288-2569-4678-a9d0-38965b253e10\")) {                    Plotly.newPlot(                        \"febf2288-2569-4678-a9d0-38965b253e10\",                        [{\"close\":[19807.4298248291,19966.793060302734,19962.530242919922,19986.830696105957,19989.022827148438,19949.91000366211,19997.94987487793,19916.88031768799,19934.68405532837,19946.499704360962,19918.089290618896,19992.86835861206,19936.02459716797,19951.5072555542,19997.86011505127,19752.229649543762,19994.00585746765,19995.165998458862,19967.06102371216,19991.423889160156],\"high\":[20311.480499267574,21358.351280212402,21063.14501953125,20630.490394592285,20523.28729248047,20095.669982910156,20236.42985534668,20145.999824523926,20306.73975753784,20488.27084350586,20586.44288253784,20263.87966156006,20177.89680480957,20095.16725921631,20841.034103393555,20272.790781021118,20391.52676963806,20258.12988090515,20362.33079147339,20242.70453643799],\"low\":[17344.399688720707,17191.224327087402,16314.869033813477,15793.373901367188,16774.488845825195,16007.840316772461,16199.610168457031,15839.80029296875,16032.822883605957,16752.31558418274,16655.762293815613,16925.80760383606,16107.608757019043,17455.66909790039,17829.90195083618,15814.127640724182,16312.148844718933,15971.888396263123,17138.231853485107,17018.003883361816],\"open\":[19995.343852996826,19987.405563354492,19965.706489562985,19979.677032470703,19965.6123046875,19958.3348236084,19953.84259033203,19926.85935974121,19967.212036132812,19899.428298950195,19796.64532470703,19974.922332763672,19991.53758239746,19824.551635742188,19970.975021362305,19883.363372802734,19964.780181884766,19940.178924560547,19925.086380004886,19958.053802490234],\"x\":[\"2024-09-10T00:00:00\",\"2024-09-04T00:00:00\",\"2024-09-03T00:00:00\",\"2024-08-30T00:00:00\",\"2024-08-28T00:00:00\",\"2024-08-27T00:00:00\",\"2024-08-26T00:00:00\",\"2024-08-23T00:00:00\",\"2024-08-22T00:00:00\",\"2024-08-21T00:00:00\",\"2024-08-20T00:00:00\",\"2024-08-19T00:00:00\",\"2024-08-14T00:00:00\",\"2024-08-08T00:00:00\",\"2024-08-05T00:00:00\",\"2024-08-02T00:00:00\",\"2024-08-01T00:00:00\",\"2024-07-31T00:00:00\",\"2024-07-30T00:00:00\",\"2024-07-29T00:00:00\"],\"type\":\"candlestick\"}],                        {\"template\":{\"data\":{\"histogram2dcontour\":[{\"type\":\"histogram2dcontour\",\"colorbar\":{\"outlinewidth\":0,\"ticks\":\"\"},\"colorscale\":[[0.0,\"#0d0887\"],[0.1111111111111111,\"#46039f\"],[0.2222222222222222,\"#7201a8\"],[0.3333333333333333,\"#9c179e\"],[0.4444444444444444,\"#bd3786\"],[0.5555555555555556,\"#d8576b\"],[0.6666666666666666,\"#ed7953\"],[0.7777777777777778,\"#fb9f3a\"],[0.8888888888888888,\"#fdca26\"],[1.0,\"#f0f921\"]]}],\"choropleth\":[{\"type\":\"choropleth\",\"colorbar\":{\"outlinewidth\":0,\"ticks\":\"\"}}],\"histogram2d\":[{\"type\":\"histogram2d\",\"colorbar\":{\"outlinewidth\":0,\"ticks\":\"\"},\"colorscale\":[[0.0,\"#0d0887\"],[0.1111111111111111,\"#46039f\"],[0.2222222222222222,\"#7201a8\"],[0.3333333333333333,\"#9c179e\"],[0.4444444444444444,\"#bd3786\"],[0.5555555555555556,\"#d8576b\"],[0.6666666666666666,\"#ed7953\"],[0.7777777777777778,\"#fb9f3a\"],[0.8888888888888888,\"#fdca26\"],[1.0,\"#f0f921\"]]}],\"heatmap\":[{\"type\":\"heatmap\",\"colorbar\":{\"outlinewidth\":0,\"ticks\":\"\"},\"colorscale\":[[0.0,\"#0d0887\"],[0.1111111111111111,\"#46039f\"],[0.2222222222222222,\"#7201a8\"],[0.3333333333333333,\"#9c179e\"],[0.4444444444444444,\"#bd3786\"],[0.5555555555555556,\"#d8576b\"],[0.6666666666666666,\"#ed7953\"],[0.7777777777777778,\"#fb9f3a\"],[0.8888888888888888,\"#fdca26\"],[1.0,\"#f0f921\"]]}],\"heatmapgl\":[{\"type\":\"heatmapgl\",\"colorbar\":{\"outlinewidth\":0,\"ticks\":\"\"},\"colorscale\":[[0.0,\"#0d0887\"],[0.1111111111111111,\"#46039f\"],[0.2222222222222222,\"#7201a8\"],[0.3333333333333333,\"#9c179e\"],[0.4444444444444444,\"#bd3786\"],[0.5555555555555556,\"#d8576b\"],[0.6666666666666666,\"#ed7953\"],[0.7777777777777778,\"#fb9f3a\"],[0.8888888888888888,\"#fdca26\"],[1.0,\"#f0f921\"]]}],\"contourcarpet\":[{\"type\":\"contourcarpet\",\"colorbar\":{\"outlinewidth\":0,\"ticks\":\"\"}}],\"contour\":[{\"type\":\"contour\",\"colorbar\":{\"outlinewidth\":0,\"ticks\":\"\"},\"colorscale\":[[0.0,\"#0d0887\"],[0.1111111111111111,\"#46039f\"],[0.2222222222222222,\"#7201a8\"],[0.3333333333333333,\"#9c179e\"],[0.4444444444444444,\"#bd3786\"],[0.5555555555555556,\"#d8576b\"],[0.6666666666666666,\"#ed7953\"],[0.7777777777777778,\"#fb9f3a\"],[0.8888888888888888,\"#fdca26\"],[1.0,\"#f0f921\"]]}],\"surface\":[{\"type\":\"surface\",\"colorbar\":{\"outlinewidth\":0,\"ticks\":\"\"},\"colorscale\":[[0.0,\"#0d0887\"],[0.1111111111111111,\"#46039f\"],[0.2222222222222222,\"#7201a8\"],[0.3333333333333333,\"#9c179e\"],[0.4444444444444444,\"#bd3786\"],[0.5555555555555556,\"#d8576b\"],[0.6666666666666666,\"#ed7953\"],[0.7777777777777778,\"#fb9f3a\"],[0.8888888888888888,\"#fdca26\"],[1.0,\"#f0f921\"]]}],\"mesh3d\":[{\"type\":\"mesh3d\",\"colorbar\":{\"outlinewidth\":0,\"ticks\":\"\"}}],\"scatter\":[{\"fillpattern\":{\"fillmode\":\"overlay\",\"size\":10,\"solidity\":0.2},\"type\":\"scatter\"}],\"parcoords\":[{\"type\":\"parcoords\",\"line\":{\"colorbar\":{\"outlinewidth\":0,\"ticks\":\"\"}}}],\"scatterpolargl\":[{\"type\":\"scatterpolargl\",\"marker\":{\"colorbar\":{\"outlinewidth\":0,\"ticks\":\"\"}}}],\"bar\":[{\"error_x\":{\"color\":\"#2a3f5f\"},\"error_y\":{\"color\":\"#2a3f5f\"},\"marker\":{\"line\":{\"color\":\"#E5ECF6\",\"width\":0.5},\"pattern\":{\"fillmode\":\"overlay\",\"size\":10,\"solidity\":0.2}},\"type\":\"bar\"}],\"scattergeo\":[{\"type\":\"scattergeo\",\"marker\":{\"colorbar\":{\"outlinewidth\":0,\"ticks\":\"\"}}}],\"scatterpolar\":[{\"type\":\"scatterpolar\",\"marker\":{\"colorbar\":{\"outlinewidth\":0,\"ticks\":\"\"}}}],\"histogram\":[{\"marker\":{\"pattern\":{\"fillmode\":\"overlay\",\"size\":10,\"solidity\":0.2}},\"type\":\"histogram\"}],\"scattergl\":[{\"type\":\"scattergl\",\"marker\":{\"colorbar\":{\"outlinewidth\":0,\"ticks\":\"\"}}}],\"scatter3d\":[{\"type\":\"scatter3d\",\"line\":{\"colorbar\":{\"outlinewidth\":0,\"ticks\":\"\"}},\"marker\":{\"colorbar\":{\"outlinewidth\":0,\"ticks\":\"\"}}}],\"scattermapbox\":[{\"type\":\"scattermapbox\",\"marker\":{\"colorbar\":{\"outlinewidth\":0,\"ticks\":\"\"}}}],\"scatterternary\":[{\"type\":\"scatterternary\",\"marker\":{\"colorbar\":{\"outlinewidth\":0,\"ticks\":\"\"}}}],\"scattercarpet\":[{\"type\":\"scattercarpet\",\"marker\":{\"colorbar\":{\"outlinewidth\":0,\"ticks\":\"\"}}}],\"carpet\":[{\"aaxis\":{\"endlinecolor\":\"#2a3f5f\",\"gridcolor\":\"white\",\"linecolor\":\"white\",\"minorgridcolor\":\"white\",\"startlinecolor\":\"#2a3f5f\"},\"baxis\":{\"endlinecolor\":\"#2a3f5f\",\"gridcolor\":\"white\",\"linecolor\":\"white\",\"minorgridcolor\":\"white\",\"startlinecolor\":\"#2a3f5f\"},\"type\":\"carpet\"}],\"table\":[{\"cells\":{\"fill\":{\"color\":\"#EBF0F8\"},\"line\":{\"color\":\"white\"}},\"header\":{\"fill\":{\"color\":\"#C8D4E3\"},\"line\":{\"color\":\"white\"}},\"type\":\"table\"}],\"barpolar\":[{\"marker\":{\"line\":{\"color\":\"#E5ECF6\",\"width\":0.5},\"pattern\":{\"fillmode\":\"overlay\",\"size\":10,\"solidity\":0.2}},\"type\":\"barpolar\"}],\"pie\":[{\"automargin\":true,\"type\":\"pie\"}]},\"layout\":{\"autotypenumbers\":\"strict\",\"colorway\":[\"#636efa\",\"#EF553B\",\"#00cc96\",\"#ab63fa\",\"#FFA15A\",\"#19d3f3\",\"#FF6692\",\"#B6E880\",\"#FF97FF\",\"#FECB52\"],\"font\":{\"color\":\"#2a3f5f\"},\"hovermode\":\"closest\",\"hoverlabel\":{\"align\":\"left\"},\"paper_bgcolor\":\"white\",\"plot_bgcolor\":\"#E5ECF6\",\"polar\":{\"bgcolor\":\"#E5ECF6\",\"angularaxis\":{\"gridcolor\":\"white\",\"linecolor\":\"white\",\"ticks\":\"\"},\"radialaxis\":{\"gridcolor\":\"white\",\"linecolor\":\"white\",\"ticks\":\"\"}},\"ternary\":{\"bgcolor\":\"#E5ECF6\",\"aaxis\":{\"gridcolor\":\"white\",\"linecolor\":\"white\",\"ticks\":\"\"},\"baxis\":{\"gridcolor\":\"white\",\"linecolor\":\"white\",\"ticks\":\"\"},\"caxis\":{\"gridcolor\":\"white\",\"linecolor\":\"white\",\"ticks\":\"\"}},\"coloraxis\":{\"colorbar\":{\"outlinewidth\":0,\"ticks\":\"\"}},\"colorscale\":{\"sequential\":[[0.0,\"#0d0887\"],[0.1111111111111111,\"#46039f\"],[0.2222222222222222,\"#7201a8\"],[0.3333333333333333,\"#9c179e\"],[0.4444444444444444,\"#bd3786\"],[0.5555555555555556,\"#d8576b\"],[0.6666666666666666,\"#ed7953\"],[0.7777777777777778,\"#fb9f3a\"],[0.8888888888888888,\"#fdca26\"],[1.0,\"#f0f921\"]],\"sequentialminus\":[[0.0,\"#0d0887\"],[0.1111111111111111,\"#46039f\"],[0.2222222222222222,\"#7201a8\"],[0.3333333333333333,\"#9c179e\"],[0.4444444444444444,\"#bd3786\"],[0.5555555555555556,\"#d8576b\"],[0.6666666666666666,\"#ed7953\"],[0.7777777777777778,\"#fb9f3a\"],[0.8888888888888888,\"#fdca26\"],[1.0,\"#f0f921\"]],\"diverging\":[[0,\"#8e0152\"],[0.1,\"#c51b7d\"],[0.2,\"#de77ae\"],[0.3,\"#f1b6da\"],[0.4,\"#fde0ef\"],[0.5,\"#f7f7f7\"],[0.6,\"#e6f5d0\"],[0.7,\"#b8e186\"],[0.8,\"#7fbc41\"],[0.9,\"#4d9221\"],[1,\"#276419\"]]},\"xaxis\":{\"gridcolor\":\"white\",\"linecolor\":\"white\",\"ticks\":\"\",\"title\":{\"standoff\":15},\"zerolinecolor\":\"white\",\"automargin\":true,\"zerolinewidth\":2},\"yaxis\":{\"gridcolor\":\"white\",\"linecolor\":\"white\",\"ticks\":\"\",\"title\":{\"standoff\":15},\"zerolinecolor\":\"white\",\"automargin\":true,\"zerolinewidth\":2},\"scene\":{\"xaxis\":{\"backgroundcolor\":\"#E5ECF6\",\"gridcolor\":\"white\",\"linecolor\":\"white\",\"showbackground\":true,\"ticks\":\"\",\"zerolinecolor\":\"white\",\"gridwidth\":2},\"yaxis\":{\"backgroundcolor\":\"#E5ECF6\",\"gridcolor\":\"white\",\"linecolor\":\"white\",\"showbackground\":true,\"ticks\":\"\",\"zerolinecolor\":\"white\",\"gridwidth\":2},\"zaxis\":{\"backgroundcolor\":\"#E5ECF6\",\"gridcolor\":\"white\",\"linecolor\":\"white\",\"showbackground\":true,\"ticks\":\"\",\"zerolinecolor\":\"white\",\"gridwidth\":2}},\"shapedefaults\":{\"line\":{\"color\":\"#2a3f5f\"}},\"annotationdefaults\":{\"arrowcolor\":\"#2a3f5f\",\"arrowhead\":0,\"arrowwidth\":1},\"geo\":{\"bgcolor\":\"white\",\"landcolor\":\"#E5ECF6\",\"subunitcolor\":\"white\",\"showland\":true,\"showlakes\":true,\"lakecolor\":\"white\"},\"title\":{\"x\":0.05},\"mapbox\":{\"style\":\"light\"}}},\"xaxis\":{\"rangeslider\":{\"visible\":false}}},                        {\"responsive\": true}                    ).then(function(){\n",
       "                            \n",
       "var gd = document.getElementById('febf2288-2569-4678-a9d0-38965b253e10');\n",
       "var x = new MutationObserver(function (mutations, observer) {{\n",
       "        var display = window.getComputedStyle(gd).display;\n",
       "        if (!display || display === 'none') {{\n",
       "            console.log([gd, 'removed!']);\n",
       "            Plotly.purge(gd);\n",
       "            observer.disconnect();\n",
       "        }}\n",
       "}});\n",
       "\n",
       "// Listen for the removal of the full notebook cells\n",
       "var notebookContainer = gd.closest('#notebook-container');\n",
       "if (notebookContainer) {{\n",
       "    x.observe(notebookContainer, {childList: true});\n",
       "}}\n",
       "\n",
       "// Listen for the clearing of the current output cell\n",
       "var outputEl = gd.closest('.output');\n",
       "if (outputEl) {{\n",
       "    x.observe(outputEl, {childList: true});\n",
       "}}\n",
       "\n",
       "                        })                };                });            </script>        </div>"
      ]
     },
     "metadata": {},
     "output_type": "display_data"
    }
   ],
   "source": [
    "create_candle_stick(portfolio[ticker+[col for col in portfolio.columns if re.search(\".*portfolio.*\", col)]], date='2024-09-10')"
   ]
  },
  {
   "cell_type": "code",
   "execution_count": 516,
   "id": "e43e9f7a-0836-49f4-b097-8945a0cf671f",
   "metadata": {},
   "outputs": [],
   "source": [
    "portfolio_rand = portfolio_rand[::-1]"
   ]
  },
  {
   "cell_type": "code",
   "execution_count": 525,
   "id": "a5fc3dd9-b7e7-42b3-aef6-4e9a8be61949",
   "metadata": {},
   "outputs": [],
   "source": [
    "def create_candle_stick_rand(df_portfolio, date='2024-01-15', period=30):\n",
    "    # Backtest the tool for the last 30 days\n",
    "    df_portfolio = df_portfolio[datetime.strptime(date, '%Y-%m-%d'):]\n",
    "    df_portfolio = df_portfolio.iloc[:20]\n",
    "    # print(df_portfolio.tail())\n",
    "    fig = go.Figure(data=[go.Candlestick(x=df_portfolio.index,\n",
    "                open=df_portfolio['portfolio_buy_rand'], high=df_portfolio['portfolio_max_rand'],\n",
    "                low=df_portfolio['portfolio_min_rand'], close=df_portfolio['portfolio_curr_rand'])\n",
    "                     ])\n",
    "\n",
    "    fig.update_layout(xaxis_rangeslider_visible=False)\n",
    "    fig.show()"
   ]
  },
  {
   "cell_type": "code",
   "execution_count": 526,
   "id": "c2cfd84b-c7c6-45b5-917b-8e17225de81a",
   "metadata": {},
   "outputs": [
    {
     "data": {
      "application/vnd.plotly.v1+json": {
       "config": {
        "plotlyServerURL": "https://plot.ly"
       },
       "data": [
        {
         "close": [
          19990.879627227783,
          19987.326442718506,
          19992.750038146973,
          19988.652221679688,
          19986.950256347656,
          19995.89471435547,
          19786.940399169922,
          19972.770149230957,
          19837.41890144348,
          19991.85851955414,
          19988.733600616455,
          19752.18900680542,
          19986.79180908203,
          19942.59407043457,
          19827.07274246216,
          19975.53028869629,
          19972.30690383911,
          19944.09880065918,
          19927.857711791992,
          19886.473190307617
         ],
         "high": [
          23636.559844970703,
          22567.08037185669,
          21266.269485473633,
          21206.960327148438,
          22420.109985351562,
          22085.140022277832,
          23640.820556640625,
          22198.53048324585,
          23738.111804008484,
          20267.322562217712,
          21813.119956970215,
          19813.574951171875,
          21091.734085083008,
          24697.886505126953,
          23316.18614578247,
          23958.980262756348,
          20280.016971588135,
          20072.55877685547,
          20886.7774810791,
          22800.24772644043
         ],
         "low": [
          18024.800491333008,
          19243.01601791382,
          18176.99045562744,
          18612.665496826172,
          17068.534088134766,
          16798.141761779785,
          19151.9599609375,
          18758.890312194824,
          19243.767419338226,
          17322.527109146118,
          17870.76132965088,
          16881.64641571045,
          19552.433975219727,
          19942.59407043457,
          18494.228031158447,
          19626.708419799805,
          16340.679546356201,
          17314.42041015625,
          18467.325744628906,
          18085.22789001465
         ],
         "open": [
          19883.284337997437,
          19971.87075805664,
          19947.086456298828,
          19977.95181274414,
          19872.793144226074,
          19946.14714050293,
          19968.477226257324,
          19867.71873474121,
          19946.21110534668,
          19734.840019226074,
          19717.971405029293,
          19976.694549560547,
          19997.663230895996,
          19963.94591140747,
          19974.910064697266,
          19905.927978515625,
          19952.52993774414,
          19969.755584716797,
          19898.702995300293,
          19987.856925964355
         ],
         "type": "candlestick",
         "x": [
          "2024-09-10T00:00:00",
          "2024-09-04T00:00:00",
          "2024-09-03T00:00:00",
          "2024-08-30T00:00:00",
          "2024-08-28T00:00:00",
          "2024-08-27T00:00:00",
          "2024-08-26T00:00:00",
          "2024-08-23T00:00:00",
          "2024-08-22T00:00:00",
          "2024-08-21T00:00:00",
          "2024-08-20T00:00:00",
          "2024-08-19T00:00:00",
          "2024-08-14T00:00:00",
          "2024-08-08T00:00:00",
          "2024-08-05T00:00:00",
          "2024-08-02T00:00:00",
          "2024-08-01T00:00:00",
          "2024-07-31T00:00:00",
          "2024-07-30T00:00:00",
          "2024-07-29T00:00:00"
         ]
        }
       ],
       "layout": {
        "autosize": true,
        "template": {
         "data": {
          "bar": [
           {
            "error_x": {
             "color": "#2a3f5f"
            },
            "error_y": {
             "color": "#2a3f5f"
            },
            "marker": {
             "line": {
              "color": "#E5ECF6",
              "width": 0.5
             },
             "pattern": {
              "fillmode": "overlay",
              "size": 10,
              "solidity": 0.2
             }
            },
            "type": "bar"
           }
          ],
          "barpolar": [
           {
            "marker": {
             "line": {
              "color": "#E5ECF6",
              "width": 0.5
             },
             "pattern": {
              "fillmode": "overlay",
              "size": 10,
              "solidity": 0.2
             }
            },
            "type": "barpolar"
           }
          ],
          "carpet": [
           {
            "aaxis": {
             "endlinecolor": "#2a3f5f",
             "gridcolor": "white",
             "linecolor": "white",
             "minorgridcolor": "white",
             "startlinecolor": "#2a3f5f"
            },
            "baxis": {
             "endlinecolor": "#2a3f5f",
             "gridcolor": "white",
             "linecolor": "white",
             "minorgridcolor": "white",
             "startlinecolor": "#2a3f5f"
            },
            "type": "carpet"
           }
          ],
          "choropleth": [
           {
            "colorbar": {
             "outlinewidth": 0,
             "ticks": ""
            },
            "type": "choropleth"
           }
          ],
          "contour": [
           {
            "colorbar": {
             "outlinewidth": 0,
             "ticks": ""
            },
            "colorscale": [
             [
              0,
              "#0d0887"
             ],
             [
              0.1111111111111111,
              "#46039f"
             ],
             [
              0.2222222222222222,
              "#7201a8"
             ],
             [
              0.3333333333333333,
              "#9c179e"
             ],
             [
              0.4444444444444444,
              "#bd3786"
             ],
             [
              0.5555555555555556,
              "#d8576b"
             ],
             [
              0.6666666666666666,
              "#ed7953"
             ],
             [
              0.7777777777777778,
              "#fb9f3a"
             ],
             [
              0.8888888888888888,
              "#fdca26"
             ],
             [
              1,
              "#f0f921"
             ]
            ],
            "type": "contour"
           }
          ],
          "contourcarpet": [
           {
            "colorbar": {
             "outlinewidth": 0,
             "ticks": ""
            },
            "type": "contourcarpet"
           }
          ],
          "heatmap": [
           {
            "colorbar": {
             "outlinewidth": 0,
             "ticks": ""
            },
            "colorscale": [
             [
              0,
              "#0d0887"
             ],
             [
              0.1111111111111111,
              "#46039f"
             ],
             [
              0.2222222222222222,
              "#7201a8"
             ],
             [
              0.3333333333333333,
              "#9c179e"
             ],
             [
              0.4444444444444444,
              "#bd3786"
             ],
             [
              0.5555555555555556,
              "#d8576b"
             ],
             [
              0.6666666666666666,
              "#ed7953"
             ],
             [
              0.7777777777777778,
              "#fb9f3a"
             ],
             [
              0.8888888888888888,
              "#fdca26"
             ],
             [
              1,
              "#f0f921"
             ]
            ],
            "type": "heatmap"
           }
          ],
          "heatmapgl": [
           {
            "colorbar": {
             "outlinewidth": 0,
             "ticks": ""
            },
            "colorscale": [
             [
              0,
              "#0d0887"
             ],
             [
              0.1111111111111111,
              "#46039f"
             ],
             [
              0.2222222222222222,
              "#7201a8"
             ],
             [
              0.3333333333333333,
              "#9c179e"
             ],
             [
              0.4444444444444444,
              "#bd3786"
             ],
             [
              0.5555555555555556,
              "#d8576b"
             ],
             [
              0.6666666666666666,
              "#ed7953"
             ],
             [
              0.7777777777777778,
              "#fb9f3a"
             ],
             [
              0.8888888888888888,
              "#fdca26"
             ],
             [
              1,
              "#f0f921"
             ]
            ],
            "type": "heatmapgl"
           }
          ],
          "histogram": [
           {
            "marker": {
             "pattern": {
              "fillmode": "overlay",
              "size": 10,
              "solidity": 0.2
             }
            },
            "type": "histogram"
           }
          ],
          "histogram2d": [
           {
            "colorbar": {
             "outlinewidth": 0,
             "ticks": ""
            },
            "colorscale": [
             [
              0,
              "#0d0887"
             ],
             [
              0.1111111111111111,
              "#46039f"
             ],
             [
              0.2222222222222222,
              "#7201a8"
             ],
             [
              0.3333333333333333,
              "#9c179e"
             ],
             [
              0.4444444444444444,
              "#bd3786"
             ],
             [
              0.5555555555555556,
              "#d8576b"
             ],
             [
              0.6666666666666666,
              "#ed7953"
             ],
             [
              0.7777777777777778,
              "#fb9f3a"
             ],
             [
              0.8888888888888888,
              "#fdca26"
             ],
             [
              1,
              "#f0f921"
             ]
            ],
            "type": "histogram2d"
           }
          ],
          "histogram2dcontour": [
           {
            "colorbar": {
             "outlinewidth": 0,
             "ticks": ""
            },
            "colorscale": [
             [
              0,
              "#0d0887"
             ],
             [
              0.1111111111111111,
              "#46039f"
             ],
             [
              0.2222222222222222,
              "#7201a8"
             ],
             [
              0.3333333333333333,
              "#9c179e"
             ],
             [
              0.4444444444444444,
              "#bd3786"
             ],
             [
              0.5555555555555556,
              "#d8576b"
             ],
             [
              0.6666666666666666,
              "#ed7953"
             ],
             [
              0.7777777777777778,
              "#fb9f3a"
             ],
             [
              0.8888888888888888,
              "#fdca26"
             ],
             [
              1,
              "#f0f921"
             ]
            ],
            "type": "histogram2dcontour"
           }
          ],
          "mesh3d": [
           {
            "colorbar": {
             "outlinewidth": 0,
             "ticks": ""
            },
            "type": "mesh3d"
           }
          ],
          "parcoords": [
           {
            "line": {
             "colorbar": {
              "outlinewidth": 0,
              "ticks": ""
             }
            },
            "type": "parcoords"
           }
          ],
          "pie": [
           {
            "automargin": true,
            "type": "pie"
           }
          ],
          "scatter": [
           {
            "fillpattern": {
             "fillmode": "overlay",
             "size": 10,
             "solidity": 0.2
            },
            "type": "scatter"
           }
          ],
          "scatter3d": [
           {
            "line": {
             "colorbar": {
              "outlinewidth": 0,
              "ticks": ""
             }
            },
            "marker": {
             "colorbar": {
              "outlinewidth": 0,
              "ticks": ""
             }
            },
            "type": "scatter3d"
           }
          ],
          "scattercarpet": [
           {
            "marker": {
             "colorbar": {
              "outlinewidth": 0,
              "ticks": ""
             }
            },
            "type": "scattercarpet"
           }
          ],
          "scattergeo": [
           {
            "marker": {
             "colorbar": {
              "outlinewidth": 0,
              "ticks": ""
             }
            },
            "type": "scattergeo"
           }
          ],
          "scattergl": [
           {
            "marker": {
             "colorbar": {
              "outlinewidth": 0,
              "ticks": ""
             }
            },
            "type": "scattergl"
           }
          ],
          "scattermapbox": [
           {
            "marker": {
             "colorbar": {
              "outlinewidth": 0,
              "ticks": ""
             }
            },
            "type": "scattermapbox"
           }
          ],
          "scatterpolar": [
           {
            "marker": {
             "colorbar": {
              "outlinewidth": 0,
              "ticks": ""
             }
            },
            "type": "scatterpolar"
           }
          ],
          "scatterpolargl": [
           {
            "marker": {
             "colorbar": {
              "outlinewidth": 0,
              "ticks": ""
             }
            },
            "type": "scatterpolargl"
           }
          ],
          "scatterternary": [
           {
            "marker": {
             "colorbar": {
              "outlinewidth": 0,
              "ticks": ""
             }
            },
            "type": "scatterternary"
           }
          ],
          "surface": [
           {
            "colorbar": {
             "outlinewidth": 0,
             "ticks": ""
            },
            "colorscale": [
             [
              0,
              "#0d0887"
             ],
             [
              0.1111111111111111,
              "#46039f"
             ],
             [
              0.2222222222222222,
              "#7201a8"
             ],
             [
              0.3333333333333333,
              "#9c179e"
             ],
             [
              0.4444444444444444,
              "#bd3786"
             ],
             [
              0.5555555555555556,
              "#d8576b"
             ],
             [
              0.6666666666666666,
              "#ed7953"
             ],
             [
              0.7777777777777778,
              "#fb9f3a"
             ],
             [
              0.8888888888888888,
              "#fdca26"
             ],
             [
              1,
              "#f0f921"
             ]
            ],
            "type": "surface"
           }
          ],
          "table": [
           {
            "cells": {
             "fill": {
              "color": "#EBF0F8"
             },
             "line": {
              "color": "white"
             }
            },
            "header": {
             "fill": {
              "color": "#C8D4E3"
             },
             "line": {
              "color": "white"
             }
            },
            "type": "table"
           }
          ]
         },
         "layout": {
          "annotationdefaults": {
           "arrowcolor": "#2a3f5f",
           "arrowhead": 0,
           "arrowwidth": 1
          },
          "autotypenumbers": "strict",
          "coloraxis": {
           "colorbar": {
            "outlinewidth": 0,
            "ticks": ""
           }
          },
          "colorscale": {
           "diverging": [
            [
             0,
             "#8e0152"
            ],
            [
             0.1,
             "#c51b7d"
            ],
            [
             0.2,
             "#de77ae"
            ],
            [
             0.3,
             "#f1b6da"
            ],
            [
             0.4,
             "#fde0ef"
            ],
            [
             0.5,
             "#f7f7f7"
            ],
            [
             0.6,
             "#e6f5d0"
            ],
            [
             0.7,
             "#b8e186"
            ],
            [
             0.8,
             "#7fbc41"
            ],
            [
             0.9,
             "#4d9221"
            ],
            [
             1,
             "#276419"
            ]
           ],
           "sequential": [
            [
             0,
             "#0d0887"
            ],
            [
             0.1111111111111111,
             "#46039f"
            ],
            [
             0.2222222222222222,
             "#7201a8"
            ],
            [
             0.3333333333333333,
             "#9c179e"
            ],
            [
             0.4444444444444444,
             "#bd3786"
            ],
            [
             0.5555555555555556,
             "#d8576b"
            ],
            [
             0.6666666666666666,
             "#ed7953"
            ],
            [
             0.7777777777777778,
             "#fb9f3a"
            ],
            [
             0.8888888888888888,
             "#fdca26"
            ],
            [
             1,
             "#f0f921"
            ]
           ],
           "sequentialminus": [
            [
             0,
             "#0d0887"
            ],
            [
             0.1111111111111111,
             "#46039f"
            ],
            [
             0.2222222222222222,
             "#7201a8"
            ],
            [
             0.3333333333333333,
             "#9c179e"
            ],
            [
             0.4444444444444444,
             "#bd3786"
            ],
            [
             0.5555555555555556,
             "#d8576b"
            ],
            [
             0.6666666666666666,
             "#ed7953"
            ],
            [
             0.7777777777777778,
             "#fb9f3a"
            ],
            [
             0.8888888888888888,
             "#fdca26"
            ],
            [
             1,
             "#f0f921"
            ]
           ]
          },
          "colorway": [
           "#636efa",
           "#EF553B",
           "#00cc96",
           "#ab63fa",
           "#FFA15A",
           "#19d3f3",
           "#FF6692",
           "#B6E880",
           "#FF97FF",
           "#FECB52"
          ],
          "font": {
           "color": "#2a3f5f"
          },
          "geo": {
           "bgcolor": "white",
           "lakecolor": "white",
           "landcolor": "#E5ECF6",
           "showlakes": true,
           "showland": true,
           "subunitcolor": "white"
          },
          "hoverlabel": {
           "align": "left"
          },
          "hovermode": "closest",
          "mapbox": {
           "style": "light"
          },
          "paper_bgcolor": "white",
          "plot_bgcolor": "#E5ECF6",
          "polar": {
           "angularaxis": {
            "gridcolor": "white",
            "linecolor": "white",
            "ticks": ""
           },
           "bgcolor": "#E5ECF6",
           "radialaxis": {
            "gridcolor": "white",
            "linecolor": "white",
            "ticks": ""
           }
          },
          "scene": {
           "xaxis": {
            "backgroundcolor": "#E5ECF6",
            "gridcolor": "white",
            "gridwidth": 2,
            "linecolor": "white",
            "showbackground": true,
            "ticks": "",
            "zerolinecolor": "white"
           },
           "yaxis": {
            "backgroundcolor": "#E5ECF6",
            "gridcolor": "white",
            "gridwidth": 2,
            "linecolor": "white",
            "showbackground": true,
            "ticks": "",
            "zerolinecolor": "white"
           },
           "zaxis": {
            "backgroundcolor": "#E5ECF6",
            "gridcolor": "white",
            "gridwidth": 2,
            "linecolor": "white",
            "showbackground": true,
            "ticks": "",
            "zerolinecolor": "white"
           }
          },
          "shapedefaults": {
           "line": {
            "color": "#2a3f5f"
           }
          },
          "ternary": {
           "aaxis": {
            "gridcolor": "white",
            "linecolor": "white",
            "ticks": ""
           },
           "baxis": {
            "gridcolor": "white",
            "linecolor": "white",
            "ticks": ""
           },
           "bgcolor": "#E5ECF6",
           "caxis": {
            "gridcolor": "white",
            "linecolor": "white",
            "ticks": ""
           }
          },
          "title": {
           "x": 0.05
          },
          "xaxis": {
           "automargin": true,
           "gridcolor": "white",
           "linecolor": "white",
           "ticks": "",
           "title": {
            "standoff": 15
           },
           "zerolinecolor": "white",
           "zerolinewidth": 2
          },
          "yaxis": {
           "automargin": true,
           "gridcolor": "white",
           "linecolor": "white",
           "ticks": "",
           "title": {
            "standoff": 15
           },
           "zerolinecolor": "white",
           "zerolinewidth": 2
          }
         }
        },
        "xaxis": {
         "autorange": true,
         "range": [
          "2024-07-28 12:00",
          "2024-09-10 12:00"
         ],
         "rangeslider": {
          "visible": false,
          "yaxis": {}
         },
         "type": "date"
        },
        "yaxis": {
         "autorange": true,
         "range": [
          15876.390270868937,
          25162.175780614216
         ]
        }
       }
      },
      "image/png": "[encoded data removed]",
      "text/html": [
       "<div>                            <div id=\"5f5b3db3-e14a-492b-90f5-1419750ea784\" class=\"plotly-graph-div\" style=\"height:525px; width:100%;\"></div>            <script type=\"text/javascript\">                require([\"plotly\"], function(Plotly) {                    window.PLOTLYENV=window.PLOTLYENV || {};                                    if (document.getElementById(\"5f5b3db3-e14a-492b-90f5-1419750ea784\")) {                    Plotly.newPlot(                        \"5f5b3db3-e14a-492b-90f5-1419750ea784\",                        [{\"close\":[19990.879627227783,19987.326442718506,19992.750038146973,19988.652221679688,19986.950256347656,19995.89471435547,19786.940399169922,19972.770149230957,19837.41890144348,19991.85851955414,19988.733600616455,19752.18900680542,19986.79180908203,19942.59407043457,19827.07274246216,19975.53028869629,19972.30690383911,19944.09880065918,19927.857711791992,19886.473190307617],\"high\":[23636.559844970703,22567.08037185669,21266.269485473633,21206.960327148438,22420.109985351562,22085.140022277832,23640.820556640625,22198.53048324585,23738.111804008484,20267.322562217712,21813.119956970215,19813.574951171875,21091.734085083008,24697.886505126953,23316.18614578247,23958.980262756348,20280.016971588135,20072.55877685547,20886.7774810791,22800.24772644043],\"low\":[18024.800491333008,19243.01601791382,18176.99045562744,18612.665496826172,17068.534088134766,16798.141761779785,19151.9599609375,18758.890312194824,19243.767419338226,17322.527109146118,17870.76132965088,16881.64641571045,19552.433975219727,19942.59407043457,18494.228031158447,19626.708419799805,16340.679546356201,17314.42041015625,18467.325744628906,18085.22789001465],\"open\":[19883.284337997437,19971.87075805664,19947.086456298828,19977.95181274414,19872.793144226074,19946.14714050293,19968.477226257324,19867.71873474121,19946.21110534668,19734.840019226074,19717.971405029293,19976.694549560547,19997.663230895996,19963.94591140747,19974.910064697266,19905.927978515625,19952.52993774414,19969.755584716797,19898.702995300293,19987.856925964355],\"x\":[\"2024-09-10T00:00:00\",\"2024-09-04T00:00:00\",\"2024-09-03T00:00:00\",\"2024-08-30T00:00:00\",\"2024-08-28T00:00:00\",\"2024-08-27T00:00:00\",\"2024-08-26T00:00:00\",\"2024-08-23T00:00:00\",\"2024-08-22T00:00:00\",\"2024-08-21T00:00:00\",\"2024-08-20T00:00:00\",\"2024-08-19T00:00:00\",\"2024-08-14T00:00:00\",\"2024-08-08T00:00:00\",\"2024-08-05T00:00:00\",\"2024-08-02T00:00:00\",\"2024-08-01T00:00:00\",\"2024-07-31T00:00:00\",\"2024-07-30T00:00:00\",\"2024-07-29T00:00:00\"],\"type\":\"candlestick\"}],                        {\"template\":{\"data\":{\"histogram2dcontour\":[{\"type\":\"histogram2dcontour\",\"colorbar\":{\"outlinewidth\":0,\"ticks\":\"\"},\"colorscale\":[[0.0,\"#0d0887\"],[0.1111111111111111,\"#46039f\"],[0.2222222222222222,\"#7201a8\"],[0.3333333333333333,\"#9c179e\"],[0.4444444444444444,\"#bd3786\"],[0.5555555555555556,\"#d8576b\"],[0.6666666666666666,\"#ed7953\"],[0.7777777777777778,\"#fb9f3a\"],[0.8888888888888888,\"#fdca26\"],[1.0,\"#f0f921\"]]}],\"choropleth\":[{\"type\":\"choropleth\",\"colorbar\":{\"outlinewidth\":0,\"ticks\":\"\"}}],\"histogram2d\":[{\"type\":\"histogram2d\",\"colorbar\":{\"outlinewidth\":0,\"ticks\":\"\"},\"colorscale\":[[0.0,\"#0d0887\"],[0.1111111111111111,\"#46039f\"],[0.2222222222222222,\"#7201a8\"],[0.3333333333333333,\"#9c179e\"],[0.4444444444444444,\"#bd3786\"],[0.5555555555555556,\"#d8576b\"],[0.6666666666666666,\"#ed7953\"],[0.7777777777777778,\"#fb9f3a\"],[0.8888888888888888,\"#fdca26\"],[1.0,\"#f0f921\"]]}],\"heatmap\":[{\"type\":\"heatmap\",\"colorbar\":{\"outlinewidth\":0,\"ticks\":\"\"},\"colorscale\":[[0.0,\"#0d0887\"],[0.1111111111111111,\"#46039f\"],[0.2222222222222222,\"#7201a8\"],[0.3333333333333333,\"#9c179e\"],[0.4444444444444444,\"#bd3786\"],[0.5555555555555556,\"#d8576b\"],[0.6666666666666666,\"#ed7953\"],[0.7777777777777778,\"#fb9f3a\"],[0.8888888888888888,\"#fdca26\"],[1.0,\"#f0f921\"]]}],\"heatmapgl\":[{\"type\":\"heatmapgl\",\"colorbar\":{\"outlinewidth\":0,\"ticks\":\"\"},\"colorscale\":[[0.0,\"#0d0887\"],[0.1111111111111111,\"#46039f\"],[0.2222222222222222,\"#7201a8\"],[0.3333333333333333,\"#9c179e\"],[0.4444444444444444,\"#bd3786\"],[0.5555555555555556,\"#d8576b\"],[0.6666666666666666,\"#ed7953\"],[0.7777777777777778,\"#fb9f3a\"],[0.8888888888888888,\"#fdca26\"],[1.0,\"#f0f921\"]]}],\"contourcarpet\":[{\"type\":\"contourcarpet\",\"colorbar\":{\"outlinewidth\":0,\"ticks\":\"\"}}],\"contour\":[{\"type\":\"contour\",\"colorbar\":{\"outlinewidth\":0,\"ticks\":\"\"},\"colorscale\":[[0.0,\"#0d0887\"],[0.1111111111111111,\"#46039f\"],[0.2222222222222222,\"#7201a8\"],[0.3333333333333333,\"#9c179e\"],[0.4444444444444444,\"#bd3786\"],[0.5555555555555556,\"#d8576b\"],[0.6666666666666666,\"#ed7953\"],[0.7777777777777778,\"#fb9f3a\"],[0.8888888888888888,\"#fdca26\"],[1.0,\"#f0f921\"]]}],\"surface\":[{\"type\":\"surface\",\"colorbar\":{\"outlinewidth\":0,\"ticks\":\"\"},\"colorscale\":[[0.0,\"#0d0887\"],[0.1111111111111111,\"#46039f\"],[0.2222222222222222,\"#7201a8\"],[0.3333333333333333,\"#9c179e\"],[0.4444444444444444,\"#bd3786\"],[0.5555555555555556,\"#d8576b\"],[0.6666666666666666,\"#ed7953\"],[0.7777777777777778,\"#fb9f3a\"],[0.8888888888888888,\"#fdca26\"],[1.0,\"#f0f921\"]]}],\"mesh3d\":[{\"type\":\"mesh3d\",\"colorbar\":{\"outlinewidth\":0,\"ticks\":\"\"}}],\"scatter\":[{\"fillpattern\":{\"fillmode\":\"overlay\",\"size\":10,\"solidity\":0.2},\"type\":\"scatter\"}],\"parcoords\":[{\"type\":\"parcoords\",\"line\":{\"colorbar\":{\"outlinewidth\":0,\"ticks\":\"\"}}}],\"scatterpolargl\":[{\"type\":\"scatterpolargl\",\"marker\":{\"colorbar\":{\"outlinewidth\":0,\"ticks\":\"\"}}}],\"bar\":[{\"error_x\":{\"color\":\"#2a3f5f\"},\"error_y\":{\"color\":\"#2a3f5f\"},\"marker\":{\"line\":{\"color\":\"#E5ECF6\",\"width\":0.5},\"pattern\":{\"fillmode\":\"overlay\",\"size\":10,\"solidity\":0.2}},\"type\":\"bar\"}],\"scattergeo\":[{\"type\":\"scattergeo\",\"marker\":{\"colorbar\":{\"outlinewidth\":0,\"ticks\":\"\"}}}],\"scatterpolar\":[{\"type\":\"scatterpolar\",\"marker\":{\"colorbar\":{\"outlinewidth\":0,\"ticks\":\"\"}}}],\"histogram\":[{\"marker\":{\"pattern\":{\"fillmode\":\"overlay\",\"size\":10,\"solidity\":0.2}},\"type\":\"histogram\"}],\"scattergl\":[{\"type\":\"scattergl\",\"marker\":{\"colorbar\":{\"outlinewidth\":0,\"ticks\":\"\"}}}],\"scatter3d\":[{\"type\":\"scatter3d\",\"line\":{\"colorbar\":{\"outlinewidth\":0,\"ticks\":\"\"}},\"marker\":{\"colorbar\":{\"outlinewidth\":0,\"ticks\":\"\"}}}],\"scattermapbox\":[{\"type\":\"scattermapbox\",\"marker\":{\"colorbar\":{\"outlinewidth\":0,\"ticks\":\"\"}}}],\"scatterternary\":[{\"type\":\"scatterternary\",\"marker\":{\"colorbar\":{\"outlinewidth\":0,\"ticks\":\"\"}}}],\"scattercarpet\":[{\"type\":\"scattercarpet\",\"marker\":{\"colorbar\":{\"outlinewidth\":0,\"ticks\":\"\"}}}],\"carpet\":[{\"aaxis\":{\"endlinecolor\":\"#2a3f5f\",\"gridcolor\":\"white\",\"linecolor\":\"white\",\"minorgridcolor\":\"white\",\"startlinecolor\":\"#2a3f5f\"},\"baxis\":{\"endlinecolor\":\"#2a3f5f\",\"gridcolor\":\"white\",\"linecolor\":\"white\",\"minorgridcolor\":\"white\",\"startlinecolor\":\"#2a3f5f\"},\"type\":\"carpet\"}],\"table\":[{\"cells\":{\"fill\":{\"color\":\"#EBF0F8\"},\"line\":{\"color\":\"white\"}},\"header\":{\"fill\":{\"color\":\"#C8D4E3\"},\"line\":{\"color\":\"white\"}},\"type\":\"table\"}],\"barpolar\":[{\"marker\":{\"line\":{\"color\":\"#E5ECF6\",\"width\":0.5},\"pattern\":{\"fillmode\":\"overlay\",\"size\":10,\"solidity\":0.2}},\"type\":\"barpolar\"}],\"pie\":[{\"automargin\":true,\"type\":\"pie\"}]},\"layout\":{\"autotypenumbers\":\"strict\",\"colorway\":[\"#636efa\",\"#EF553B\",\"#00cc96\",\"#ab63fa\",\"#FFA15A\",\"#19d3f3\",\"#FF6692\",\"#B6E880\",\"#FF97FF\",\"#FECB52\"],\"font\":{\"color\":\"#2a3f5f\"},\"hovermode\":\"closest\",\"hoverlabel\":{\"align\":\"left\"},\"paper_bgcolor\":\"white\",\"plot_bgcolor\":\"#E5ECF6\",\"polar\":{\"bgcolor\":\"#E5ECF6\",\"angularaxis\":{\"gridcolor\":\"white\",\"linecolor\":\"white\",\"ticks\":\"\"},\"radialaxis\":{\"gridcolor\":\"white\",\"linecolor\":\"white\",\"ticks\":\"\"}},\"ternary\":{\"bgcolor\":\"#E5ECF6\",\"aaxis\":{\"gridcolor\":\"white\",\"linecolor\":\"white\",\"ticks\":\"\"},\"baxis\":{\"gridcolor\":\"white\",\"linecolor\":\"white\",\"ticks\":\"\"},\"caxis\":{\"gridcolor\":\"white\",\"linecolor\":\"white\",\"ticks\":\"\"}},\"coloraxis\":{\"colorbar\":{\"outlinewidth\":0,\"ticks\":\"\"}},\"colorscale\":{\"sequential\":[[0.0,\"#0d0887\"],[0.1111111111111111,\"#46039f\"],[0.2222222222222222,\"#7201a8\"],[0.3333333333333333,\"#9c179e\"],[0.4444444444444444,\"#bd3786\"],[0.5555555555555556,\"#d8576b\"],[0.6666666666666666,\"#ed7953\"],[0.7777777777777778,\"#fb9f3a\"],[0.8888888888888888,\"#fdca26\"],[1.0,\"#f0f921\"]],\"sequentialminus\":[[0.0,\"#0d0887\"],[0.1111111111111111,\"#46039f\"],[0.2222222222222222,\"#7201a8\"],[0.3333333333333333,\"#9c179e\"],[0.4444444444444444,\"#bd3786\"],[0.5555555555555556,\"#d8576b\"],[0.6666666666666666,\"#ed7953\"],[0.7777777777777778,\"#fb9f3a\"],[0.8888888888888888,\"#fdca26\"],[1.0,\"#f0f921\"]],\"diverging\":[[0,\"#8e0152\"],[0.1,\"#c51b7d\"],[0.2,\"#de77ae\"],[0.3,\"#f1b6da\"],[0.4,\"#fde0ef\"],[0.5,\"#f7f7f7\"],[0.6,\"#e6f5d0\"],[0.7,\"#b8e186\"],[0.8,\"#7fbc41\"],[0.9,\"#4d9221\"],[1,\"#276419\"]]},\"xaxis\":{\"gridcolor\":\"white\",\"linecolor\":\"white\",\"ticks\":\"\",\"title\":{\"standoff\":15},\"zerolinecolor\":\"white\",\"automargin\":true,\"zerolinewidth\":2},\"yaxis\":{\"gridcolor\":\"white\",\"linecolor\":\"white\",\"ticks\":\"\",\"title\":{\"standoff\":15},\"zerolinecolor\":\"white\",\"automargin\":true,\"zerolinewidth\":2},\"scene\":{\"xaxis\":{\"backgroundcolor\":\"#E5ECF6\",\"gridcolor\":\"white\",\"linecolor\":\"white\",\"showbackground\":true,\"ticks\":\"\",\"zerolinecolor\":\"white\",\"gridwidth\":2},\"yaxis\":{\"backgroundcolor\":\"#E5ECF6\",\"gridcolor\":\"white\",\"linecolor\":\"white\",\"showbackground\":true,\"ticks\":\"\",\"zerolinecolor\":\"white\",\"gridwidth\":2},\"zaxis\":{\"backgroundcolor\":\"#E5ECF6\",\"gridcolor\":\"white\",\"linecolor\":\"white\",\"showbackground\":true,\"ticks\":\"\",\"zerolinecolor\":\"white\",\"gridwidth\":2}},\"shapedefaults\":{\"line\":{\"color\":\"#2a3f5f\"}},\"annotationdefaults\":{\"arrowcolor\":\"#2a3f5f\",\"arrowhead\":0,\"arrowwidth\":1},\"geo\":{\"bgcolor\":\"white\",\"landcolor\":\"#E5ECF6\",\"subunitcolor\":\"white\",\"showland\":true,\"showlakes\":true,\"lakecolor\":\"white\"},\"title\":{\"x\":0.05},\"mapbox\":{\"style\":\"light\"}}},\"xaxis\":{\"rangeslider\":{\"visible\":false}}},                        {\"responsive\": true}                    ).then(function(){\n",
       "                            \n",
       "var gd = document.getElementById('5f5b3db3-e14a-492b-90f5-1419750ea784');\n",
       "var x = new MutationObserver(function (mutations, observer) {{\n",
       "        var display = window.getComputedStyle(gd).display;\n",
       "        if (!display || display === 'none') {{\n",
       "            console.log([gd, 'removed!']);\n",
       "            Plotly.purge(gd);\n",
       "            observer.disconnect();\n",
       "        }}\n",
       "}});\n",
       "\n",
       "// Listen for the removal of the full notebook cells\n",
       "var notebookContainer = gd.closest('#notebook-container');\n",
       "if (notebookContainer) {{\n",
       "    x.observe(notebookContainer, {childList: true});\n",
       "}}\n",
       "\n",
       "// Listen for the clearing of the current output cell\n",
       "var outputEl = gd.closest('.output');\n",
       "if (outputEl) {{\n",
       "    x.observe(outputEl, {childList: true});\n",
       "}}\n",
       "\n",
       "                        })                };                });            </script>        </div>"
      ]
     },
     "metadata": {},
     "output_type": "display_data"
    }
   ],
   "source": [
    "create_candle_stick_rand(portfolio_rand[ticker+[col for col in portfolio_rand.columns if re.search(\".*portfolio.*\", col)]], date='2024-11-07')"
   ]
  },
  {
   "cell_type": "code",
   "execution_count": 556,
   "id": "80f4a23b-d813-4249-8432-7c3c3541ca2f",
   "metadata": {},
   "outputs": [
    {
     "data": {
      "application/vnd.plotly.v1+json": {
       "config": {
        "plotlyServerURL": "https://plot.ly"
       },
       "data": [
        {
         "cells": {
          "values": [
           [
            "CHTR:22",
            "GFS:1",
            "TEAM:48",
            "BKR:1"
           ],
           [
            "WBA:1903",
            "LULU:2",
            "TEAM:8"
           ],
           [
            "WBA:851",
            "MDB:11",
            "MRVL:19",
            "BKNG:1",
            "TEAM:10"
           ],
           [
            "WBA:1288",
            "MDB:23",
            "INTC:8",
            "LULU:1",
            "WBD:1",
            "CDNS:4",
            "EA:1"
           ],
           [
            "WBA:1702",
            "MDB:10",
            "INTC:6",
            "ODFL:1",
            "CMCSA:4",
            "WBD:30",
            "TEAM:1"
           ],
           [
            "PDD:141",
            "TMUS:5",
            "MRVL:10",
            "AMD:2"
           ],
           [
            "INTC:498",
            "MELI:1",
            "TEAM:35"
           ],
           [
            "AMD:102",
            "INTC:122"
           ],
           [
            "INTC:766",
            "CRWD:7"
           ],
           [
            "PDD:134",
            "WBA:4",
            "CHTR:3"
           ]
          ]
         },
         "header": {
          "values": [
           "2024-11-07",
           "2024-11-06",
           "2024-11-05",
           "2024-11-04",
           "2024-11-01",
           "2024-10-29",
           "2024-10-15",
           "2024-10-11",
           "2024-10-10",
           "2024-10-09"
          ]
         },
         "type": "table"
        }
       ],
       "layout": {
        "autosize": true,
        "template": {
         "data": {
          "bar": [
           {
            "error_x": {
             "color": "#2a3f5f"
            },
            "error_y": {
             "color": "#2a3f5f"
            },
            "marker": {
             "line": {
              "color": "#E5ECF6",
              "width": 0.5
             },
             "pattern": {
              "fillmode": "overlay",
              "size": 10,
              "solidity": 0.2
             }
            },
            "type": "bar"
           }
          ],
          "barpolar": [
           {
            "marker": {
             "line": {
              "color": "#E5ECF6",
              "width": 0.5
             },
             "pattern": {
              "fillmode": "overlay",
              "size": 10,
              "solidity": 0.2
             }
            },
            "type": "barpolar"
           }
          ],
          "carpet": [
           {
            "aaxis": {
             "endlinecolor": "#2a3f5f",
             "gridcolor": "white",
             "linecolor": "white",
             "minorgridcolor": "white",
             "startlinecolor": "#2a3f5f"
            },
            "baxis": {
             "endlinecolor": "#2a3f5f",
             "gridcolor": "white",
             "linecolor": "white",
             "minorgridcolor": "white",
             "startlinecolor": "#2a3f5f"
            },
            "type": "carpet"
           }
          ],
          "choropleth": [
           {
            "colorbar": {
             "outlinewidth": 0,
             "ticks": ""
            },
            "type": "choropleth"
           }
          ],
          "contour": [
           {
            "colorbar": {
             "outlinewidth": 0,
             "ticks": ""
            },
            "colorscale": [
             [
              0,
              "#0d0887"
             ],
             [
              0.1111111111111111,
              "#46039f"
             ],
             [
              0.2222222222222222,
              "#7201a8"
             ],
             [
              0.3333333333333333,
              "#9c179e"
             ],
             [
              0.4444444444444444,
              "#bd3786"
             ],
             [
              0.5555555555555556,
              "#d8576b"
             ],
             [
              0.6666666666666666,
              "#ed7953"
             ],
             [
              0.7777777777777778,
              "#fb9f3a"
             ],
             [
              0.8888888888888888,
              "#fdca26"
             ],
             [
              1,
              "#f0f921"
             ]
            ],
            "type": "contour"
           }
          ],
          "contourcarpet": [
           {
            "colorbar": {
             "outlinewidth": 0,
             "ticks": ""
            },
            "type": "contourcarpet"
           }
          ],
          "heatmap": [
           {
            "colorbar": {
             "outlinewidth": 0,
             "ticks": ""
            },
            "colorscale": [
             [
              0,
              "#0d0887"
             ],
             [
              0.1111111111111111,
              "#46039f"
             ],
             [
              0.2222222222222222,
              "#7201a8"
             ],
             [
              0.3333333333333333,
              "#9c179e"
             ],
             [
              0.4444444444444444,
              "#bd3786"
             ],
             [
              0.5555555555555556,
              "#d8576b"
             ],
             [
              0.6666666666666666,
              "#ed7953"
             ],
             [
              0.7777777777777778,
              "#fb9f3a"
             ],
             [
              0.8888888888888888,
              "#fdca26"
             ],
             [
              1,
              "#f0f921"
             ]
            ],
            "type": "heatmap"
           }
          ],
          "heatmapgl": [
           {
            "colorbar": {
             "outlinewidth": 0,
             "ticks": ""
            },
            "colorscale": [
             [
              0,
              "#0d0887"
             ],
             [
              0.1111111111111111,
              "#46039f"
             ],
             [
              0.2222222222222222,
              "#7201a8"
             ],
             [
              0.3333333333333333,
              "#9c179e"
             ],
             [
              0.4444444444444444,
              "#bd3786"
             ],
             [
              0.5555555555555556,
              "#d8576b"
             ],
             [
              0.6666666666666666,
              "#ed7953"
             ],
             [
              0.7777777777777778,
              "#fb9f3a"
             ],
             [
              0.8888888888888888,
              "#fdca26"
             ],
             [
              1,
              "#f0f921"
             ]
            ],
            "type": "heatmapgl"
           }
          ],
          "histogram": [
           {
            "marker": {
             "pattern": {
              "fillmode": "overlay",
              "size": 10,
              "solidity": 0.2
             }
            },
            "type": "histogram"
           }
          ],
          "histogram2d": [
           {
            "colorbar": {
             "outlinewidth": 0,
             "ticks": ""
            },
            "colorscale": [
             [
              0,
              "#0d0887"
             ],
             [
              0.1111111111111111,
              "#46039f"
             ],
             [
              0.2222222222222222,
              "#7201a8"
             ],
             [
              0.3333333333333333,
              "#9c179e"
             ],
             [
              0.4444444444444444,
              "#bd3786"
             ],
             [
              0.5555555555555556,
              "#d8576b"
             ],
             [
              0.6666666666666666,
              "#ed7953"
             ],
             [
              0.7777777777777778,
              "#fb9f3a"
             ],
             [
              0.8888888888888888,
              "#fdca26"
             ],
             [
              1,
              "#f0f921"
             ]
            ],
            "type": "histogram2d"
           }
          ],
          "histogram2dcontour": [
           {
            "colorbar": {
             "outlinewidth": 0,
             "ticks": ""
            },
            "colorscale": [
             [
              0,
              "#0d0887"
             ],
             [
              0.1111111111111111,
              "#46039f"
             ],
             [
              0.2222222222222222,
              "#7201a8"
             ],
             [
              0.3333333333333333,
              "#9c179e"
             ],
             [
              0.4444444444444444,
              "#bd3786"
             ],
             [
              0.5555555555555556,
              "#d8576b"
             ],
             [
              0.6666666666666666,
              "#ed7953"
             ],
             [
              0.7777777777777778,
              "#fb9f3a"
             ],
             [
              0.8888888888888888,
              "#fdca26"
             ],
             [
              1,
              "#f0f921"
             ]
            ],
            "type": "histogram2dcontour"
           }
          ],
          "mesh3d": [
           {
            "colorbar": {
             "outlinewidth": 0,
             "ticks": ""
            },
            "type": "mesh3d"
           }
          ],
          "parcoords": [
           {
            "line": {
             "colorbar": {
              "outlinewidth": 0,
              "ticks": ""
             }
            },
            "type": "parcoords"
           }
          ],
          "pie": [
           {
            "automargin": true,
            "type": "pie"
           }
          ],
          "scatter": [
           {
            "fillpattern": {
             "fillmode": "overlay",
             "size": 10,
             "solidity": 0.2
            },
            "type": "scatter"
           }
          ],
          "scatter3d": [
           {
            "line": {
             "colorbar": {
              "outlinewidth": 0,
              "ticks": ""
             }
            },
            "marker": {
             "colorbar": {
              "outlinewidth": 0,
              "ticks": ""
             }
            },
            "type": "scatter3d"
           }
          ],
          "scattercarpet": [
           {
            "marker": {
             "colorbar": {
              "outlinewidth": 0,
              "ticks": ""
             }
            },
            "type": "scattercarpet"
           }
          ],
          "scattergeo": [
           {
            "marker": {
             "colorbar": {
              "outlinewidth": 0,
              "ticks": ""
             }
            },
            "type": "scattergeo"
           }
          ],
          "scattergl": [
           {
            "marker": {
             "colorbar": {
              "outlinewidth": 0,
              "ticks": ""
             }
            },
            "type": "scattergl"
           }
          ],
          "scattermapbox": [
           {
            "marker": {
             "colorbar": {
              "outlinewidth": 0,
              "ticks": ""
             }
            },
            "type": "scattermapbox"
           }
          ],
          "scatterpolar": [
           {
            "marker": {
             "colorbar": {
              "outlinewidth": 0,
              "ticks": ""
             }
            },
            "type": "scatterpolar"
           }
          ],
          "scatterpolargl": [
           {
            "marker": {
             "colorbar": {
              "outlinewidth": 0,
              "ticks": ""
             }
            },
            "type": "scatterpolargl"
           }
          ],
          "scatterternary": [
           {
            "marker": {
             "colorbar": {
              "outlinewidth": 0,
              "ticks": ""
             }
            },
            "type": "scatterternary"
           }
          ],
          "surface": [
           {
            "colorbar": {
             "outlinewidth": 0,
             "ticks": ""
            },
            "colorscale": [
             [
              0,
              "#0d0887"
             ],
             [
              0.1111111111111111,
              "#46039f"
             ],
             [
              0.2222222222222222,
              "#7201a8"
             ],
             [
              0.3333333333333333,
              "#9c179e"
             ],
             [
              0.4444444444444444,
              "#bd3786"
             ],
             [
              0.5555555555555556,
              "#d8576b"
             ],
             [
              0.6666666666666666,
              "#ed7953"
             ],
             [
              0.7777777777777778,
              "#fb9f3a"
             ],
             [
              0.8888888888888888,
              "#fdca26"
             ],
             [
              1,
              "#f0f921"
             ]
            ],
            "type": "surface"
           }
          ],
          "table": [
           {
            "cells": {
             "fill": {
              "color": "#EBF0F8"
             },
             "line": {
              "color": "white"
             }
            },
            "header": {
             "fill": {
              "color": "#C8D4E3"
             },
             "line": {
              "color": "white"
             }
            },
            "type": "table"
           }
          ]
         },
         "layout": {
          "annotationdefaults": {
           "arrowcolor": "#2a3f5f",
           "arrowhead": 0,
           "arrowwidth": 1
          },
          "autotypenumbers": "strict",
          "coloraxis": {
           "colorbar": {
            "outlinewidth": 0,
            "ticks": ""
           }
          },
          "colorscale": {
           "diverging": [
            [
             0,
             "#8e0152"
            ],
            [
             0.1,
             "#c51b7d"
            ],
            [
             0.2,
             "#de77ae"
            ],
            [
             0.3,
             "#f1b6da"
            ],
            [
             0.4,
             "#fde0ef"
            ],
            [
             0.5,
             "#f7f7f7"
            ],
            [
             0.6,
             "#e6f5d0"
            ],
            [
             0.7,
             "#b8e186"
            ],
            [
             0.8,
             "#7fbc41"
            ],
            [
             0.9,
             "#4d9221"
            ],
            [
             1,
             "#276419"
            ]
           ],
           "sequential": [
            [
             0,
             "#0d0887"
            ],
            [
             0.1111111111111111,
             "#46039f"
            ],
            [
             0.2222222222222222,
             "#7201a8"
            ],
            [
             0.3333333333333333,
             "#9c179e"
            ],
            [
             0.4444444444444444,
             "#bd3786"
            ],
            [
             0.5555555555555556,
             "#d8576b"
            ],
            [
             0.6666666666666666,
             "#ed7953"
            ],
            [
             0.7777777777777778,
             "#fb9f3a"
            ],
            [
             0.8888888888888888,
             "#fdca26"
            ],
            [
             1,
             "#f0f921"
            ]
           ],
           "sequentialminus": [
            [
             0,
             "#0d0887"
            ],
            [
             0.1111111111111111,
             "#46039f"
            ],
            [
             0.2222222222222222,
             "#7201a8"
            ],
            [
             0.3333333333333333,
             "#9c179e"
            ],
            [
             0.4444444444444444,
             "#bd3786"
            ],
            [
             0.5555555555555556,
             "#d8576b"
            ],
            [
             0.6666666666666666,
             "#ed7953"
            ],
            [
             0.7777777777777778,
             "#fb9f3a"
            ],
            [
             0.8888888888888888,
             "#fdca26"
            ],
            [
             1,
             "#f0f921"
            ]
           ]
          },
          "colorway": [
           "#636efa",
           "#EF553B",
           "#00cc96",
           "#ab63fa",
           "#FFA15A",
           "#19d3f3",
           "#FF6692",
           "#B6E880",
           "#FF97FF",
           "#FECB52"
          ],
          "font": {
           "color": "#2a3f5f"
          },
          "geo": {
           "bgcolor": "white",
           "lakecolor": "white",
           "landcolor": "#E5ECF6",
           "showlakes": true,
           "showland": true,
           "subunitcolor": "white"
          },
          "hoverlabel": {
           "align": "left"
          },
          "hovermode": "closest",
          "mapbox": {
           "style": "light"
          },
          "paper_bgcolor": "white",
          "plot_bgcolor": "#E5ECF6",
          "polar": {
           "angularaxis": {
            "gridcolor": "white",
            "linecolor": "white",
            "ticks": ""
           },
           "bgcolor": "#E5ECF6",
           "radialaxis": {
            "gridcolor": "white",
            "linecolor": "white",
            "ticks": ""
           }
          },
          "scene": {
           "xaxis": {
            "backgroundcolor": "#E5ECF6",
            "gridcolor": "white",
            "gridwidth": 2,
            "linecolor": "white",
            "showbackground": true,
            "ticks": "",
            "zerolinecolor": "white"
           },
           "yaxis": {
            "backgroundcolor": "#E5ECF6",
            "gridcolor": "white",
            "gridwidth": 2,
            "linecolor": "white",
            "showbackground": true,
            "ticks": "",
            "zerolinecolor": "white"
           },
           "zaxis": {
            "backgroundcolor": "#E5ECF6",
            "gridcolor": "white",
            "gridwidth": 2,
            "linecolor": "white",
            "showbackground": true,
            "ticks": "",
            "zerolinecolor": "white"
           }
          },
          "shapedefaults": {
           "line": {
            "color": "#2a3f5f"
           }
          },
          "ternary": {
           "aaxis": {
            "gridcolor": "white",
            "linecolor": "white",
            "ticks": ""
           },
           "baxis": {
            "gridcolor": "white",
            "linecolor": "white",
            "ticks": ""
           },
           "bgcolor": "#E5ECF6",
           "caxis": {
            "gridcolor": "white",
            "linecolor": "white",
            "ticks": ""
           }
          },
          "title": {
           "x": 0.05
          },
          "xaxis": {
           "automargin": true,
           "gridcolor": "white",
           "linecolor": "white",
           "ticks": "",
           "title": {
            "standoff": 15
           },
           "zerolinecolor": "white",
           "zerolinewidth": 2
          },
          "yaxis": {
           "automargin": true,
           "gridcolor": "white",
           "linecolor": "white",
           "ticks": "",
           "title": {
            "standoff": 15
           },
           "zerolinecolor": "white",
           "zerolinewidth": 2
          }
         }
        }
       }
      },
      "image/png": "[encoded data removed]",
      "text/html": [
       "<div>                            <div id=\"c1f23d44-5233-4698-9f8d-2be4ff05bf32\" class=\"plotly-graph-div\" style=\"height:525px; width:100%;\"></div>            <script type=\"text/javascript\">                require([\"plotly\"], function(Plotly) {                    window.PLOTLYENV=window.PLOTLYENV || {};                                    if (document.getElementById(\"c1f23d44-5233-4698-9f8d-2be4ff05bf32\")) {                    Plotly.newPlot(                        \"c1f23d44-5233-4698-9f8d-2be4ff05bf32\",                        [{\"cells\":{\"values\":[[\"CHTR:22\",\"GFS:1\",\"TEAM:48\",\"BKR:1\"],[\"WBA:1903\",\"LULU:2\",\"TEAM:8\"],[\"WBA:851\",\"MDB:11\",\"MRVL:19\",\"BKNG:1\",\"TEAM:10\"],[\"WBA:1288\",\"MDB:23\",\"INTC:8\",\"LULU:1\",\"WBD:1\",\"CDNS:4\",\"EA:1\"],[\"WBA:1702\",\"MDB:10\",\"INTC:6\",\"ODFL:1\",\"CMCSA:4\",\"WBD:30\",\"TEAM:1\"],[\"PDD:141\",\"TMUS:5\",\"MRVL:10\",\"AMD:2\"],[\"INTC:498\",\"MELI:1\",\"TEAM:35\"],[\"AMD:102\",\"INTC:122\"],[\"INTC:766\",\"CRWD:7\"],[\"PDD:134\",\"WBA:4\",\"CHTR:3\"]]},\"header\":{\"values\":[\"2024-11-07\",\"2024-11-06\",\"2024-11-05\",\"2024-11-04\",\"2024-11-01\",\"2024-10-29\",\"2024-10-15\",\"2024-10-11\",\"2024-10-10\",\"2024-10-09\"]},\"type\":\"table\"}],                        {\"template\":{\"data\":{\"histogram2dcontour\":[{\"type\":\"histogram2dcontour\",\"colorbar\":{\"outlinewidth\":0,\"ticks\":\"\"},\"colorscale\":[[0.0,\"#0d0887\"],[0.1111111111111111,\"#46039f\"],[0.2222222222222222,\"#7201a8\"],[0.3333333333333333,\"#9c179e\"],[0.4444444444444444,\"#bd3786\"],[0.5555555555555556,\"#d8576b\"],[0.6666666666666666,\"#ed7953\"],[0.7777777777777778,\"#fb9f3a\"],[0.8888888888888888,\"#fdca26\"],[1.0,\"#f0f921\"]]}],\"choropleth\":[{\"type\":\"choropleth\",\"colorbar\":{\"outlinewidth\":0,\"ticks\":\"\"}}],\"histogram2d\":[{\"type\":\"histogram2d\",\"colorbar\":{\"outlinewidth\":0,\"ticks\":\"\"},\"colorscale\":[[0.0,\"#0d0887\"],[0.1111111111111111,\"#46039f\"],[0.2222222222222222,\"#7201a8\"],[0.3333333333333333,\"#9c179e\"],[0.4444444444444444,\"#bd3786\"],[0.5555555555555556,\"#d8576b\"],[0.6666666666666666,\"#ed7953\"],[0.7777777777777778,\"#fb9f3a\"],[0.8888888888888888,\"#fdca26\"],[1.0,\"#f0f921\"]]}],\"heatmap\":[{\"type\":\"heatmap\",\"colorbar\":{\"outlinewidth\":0,\"ticks\":\"\"},\"colorscale\":[[0.0,\"#0d0887\"],[0.1111111111111111,\"#46039f\"],[0.2222222222222222,\"#7201a8\"],[0.3333333333333333,\"#9c179e\"],[0.4444444444444444,\"#bd3786\"],[0.5555555555555556,\"#d8576b\"],[0.6666666666666666,\"#ed7953\"],[0.7777777777777778,\"#fb9f3a\"],[0.8888888888888888,\"#fdca26\"],[1.0,\"#f0f921\"]]}],\"heatmapgl\":[{\"type\":\"heatmapgl\",\"colorbar\":{\"outlinewidth\":0,\"ticks\":\"\"},\"colorscale\":[[0.0,\"#0d0887\"],[0.1111111111111111,\"#46039f\"],[0.2222222222222222,\"#7201a8\"],[0.3333333333333333,\"#9c179e\"],[0.4444444444444444,\"#bd3786\"],[0.5555555555555556,\"#d8576b\"],[0.6666666666666666,\"#ed7953\"],[0.7777777777777778,\"#fb9f3a\"],[0.8888888888888888,\"#fdca26\"],[1.0,\"#f0f921\"]]}],\"contourcarpet\":[{\"type\":\"contourcarpet\",\"colorbar\":{\"outlinewidth\":0,\"ticks\":\"\"}}],\"contour\":[{\"type\":\"contour\",\"colorbar\":{\"outlinewidth\":0,\"ticks\":\"\"},\"colorscale\":[[0.0,\"#0d0887\"],[0.1111111111111111,\"#46039f\"],[0.2222222222222222,\"#7201a8\"],[0.3333333333333333,\"#9c179e\"],[0.4444444444444444,\"#bd3786\"],[0.5555555555555556,\"#d8576b\"],[0.6666666666666666,\"#ed7953\"],[0.7777777777777778,\"#fb9f3a\"],[0.8888888888888888,\"#fdca26\"],[1.0,\"#f0f921\"]]}],\"surface\":[{\"type\":\"surface\",\"colorbar\":{\"outlinewidth\":0,\"ticks\":\"\"},\"colorscale\":[[0.0,\"#0d0887\"],[0.1111111111111111,\"#46039f\"],[0.2222222222222222,\"#7201a8\"],[0.3333333333333333,\"#9c179e\"],[0.4444444444444444,\"#bd3786\"],[0.5555555555555556,\"#d8576b\"],[0.6666666666666666,\"#ed7953\"],[0.7777777777777778,\"#fb9f3a\"],[0.8888888888888888,\"#fdca26\"],[1.0,\"#f0f921\"]]}],\"mesh3d\":[{\"type\":\"mesh3d\",\"colorbar\":{\"outlinewidth\":0,\"ticks\":\"\"}}],\"scatter\":[{\"fillpattern\":{\"fillmode\":\"overlay\",\"size\":10,\"solidity\":0.2},\"type\":\"scatter\"}],\"parcoords\":[{\"type\":\"parcoords\",\"line\":{\"colorbar\":{\"outlinewidth\":0,\"ticks\":\"\"}}}],\"scatterpolargl\":[{\"type\":\"scatterpolargl\",\"marker\":{\"colorbar\":{\"outlinewidth\":0,\"ticks\":\"\"}}}],\"bar\":[{\"error_x\":{\"color\":\"#2a3f5f\"},\"error_y\":{\"color\":\"#2a3f5f\"},\"marker\":{\"line\":{\"color\":\"#E5ECF6\",\"width\":0.5},\"pattern\":{\"fillmode\":\"overlay\",\"size\":10,\"solidity\":0.2}},\"type\":\"bar\"}],\"scattergeo\":[{\"type\":\"scattergeo\",\"marker\":{\"colorbar\":{\"outlinewidth\":0,\"ticks\":\"\"}}}],\"scatterpolar\":[{\"type\":\"scatterpolar\",\"marker\":{\"colorbar\":{\"outlinewidth\":0,\"ticks\":\"\"}}}],\"histogram\":[{\"marker\":{\"pattern\":{\"fillmode\":\"overlay\",\"size\":10,\"solidity\":0.2}},\"type\":\"histogram\"}],\"scattergl\":[{\"type\":\"scattergl\",\"marker\":{\"colorbar\":{\"outlinewidth\":0,\"ticks\":\"\"}}}],\"scatter3d\":[{\"type\":\"scatter3d\",\"line\":{\"colorbar\":{\"outlinewidth\":0,\"ticks\":\"\"}},\"marker\":{\"colorbar\":{\"outlinewidth\":0,\"ticks\":\"\"}}}],\"scattermapbox\":[{\"type\":\"scattermapbox\",\"marker\":{\"colorbar\":{\"outlinewidth\":0,\"ticks\":\"\"}}}],\"scatterternary\":[{\"type\":\"scatterternary\",\"marker\":{\"colorbar\":{\"outlinewidth\":0,\"ticks\":\"\"}}}],\"scattercarpet\":[{\"type\":\"scattercarpet\",\"marker\":{\"colorbar\":{\"outlinewidth\":0,\"ticks\":\"\"}}}],\"carpet\":[{\"aaxis\":{\"endlinecolor\":\"#2a3f5f\",\"gridcolor\":\"white\",\"linecolor\":\"white\",\"minorgridcolor\":\"white\",\"startlinecolor\":\"#2a3f5f\"},\"baxis\":{\"endlinecolor\":\"#2a3f5f\",\"gridcolor\":\"white\",\"linecolor\":\"white\",\"minorgridcolor\":\"white\",\"startlinecolor\":\"#2a3f5f\"},\"type\":\"carpet\"}],\"table\":[{\"cells\":{\"fill\":{\"color\":\"#EBF0F8\"},\"line\":{\"color\":\"white\"}},\"header\":{\"fill\":{\"color\":\"#C8D4E3\"},\"line\":{\"color\":\"white\"}},\"type\":\"table\"}],\"barpolar\":[{\"marker\":{\"line\":{\"color\":\"#E5ECF6\",\"width\":0.5},\"pattern\":{\"fillmode\":\"overlay\",\"size\":10,\"solidity\":0.2}},\"type\":\"barpolar\"}],\"pie\":[{\"automargin\":true,\"type\":\"pie\"}]},\"layout\":{\"autotypenumbers\":\"strict\",\"colorway\":[\"#636efa\",\"#EF553B\",\"#00cc96\",\"#ab63fa\",\"#FFA15A\",\"#19d3f3\",\"#FF6692\",\"#B6E880\",\"#FF97FF\",\"#FECB52\"],\"font\":{\"color\":\"#2a3f5f\"},\"hovermode\":\"closest\",\"hoverlabel\":{\"align\":\"left\"},\"paper_bgcolor\":\"white\",\"plot_bgcolor\":\"#E5ECF6\",\"polar\":{\"bgcolor\":\"#E5ECF6\",\"angularaxis\":{\"gridcolor\":\"white\",\"linecolor\":\"white\",\"ticks\":\"\"},\"radialaxis\":{\"gridcolor\":\"white\",\"linecolor\":\"white\",\"ticks\":\"\"}},\"ternary\":{\"bgcolor\":\"#E5ECF6\",\"aaxis\":{\"gridcolor\":\"white\",\"linecolor\":\"white\",\"ticks\":\"\"},\"baxis\":{\"gridcolor\":\"white\",\"linecolor\":\"white\",\"ticks\":\"\"},\"caxis\":{\"gridcolor\":\"white\",\"linecolor\":\"white\",\"ticks\":\"\"}},\"coloraxis\":{\"colorbar\":{\"outlinewidth\":0,\"ticks\":\"\"}},\"colorscale\":{\"sequential\":[[0.0,\"#0d0887\"],[0.1111111111111111,\"#46039f\"],[0.2222222222222222,\"#7201a8\"],[0.3333333333333333,\"#9c179e\"],[0.4444444444444444,\"#bd3786\"],[0.5555555555555556,\"#d8576b\"],[0.6666666666666666,\"#ed7953\"],[0.7777777777777778,\"#fb9f3a\"],[0.8888888888888888,\"#fdca26\"],[1.0,\"#f0f921\"]],\"sequentialminus\":[[0.0,\"#0d0887\"],[0.1111111111111111,\"#46039f\"],[0.2222222222222222,\"#7201a8\"],[0.3333333333333333,\"#9c179e\"],[0.4444444444444444,\"#bd3786\"],[0.5555555555555556,\"#d8576b\"],[0.6666666666666666,\"#ed7953\"],[0.7777777777777778,\"#fb9f3a\"],[0.8888888888888888,\"#fdca26\"],[1.0,\"#f0f921\"]],\"diverging\":[[0,\"#8e0152\"],[0.1,\"#c51b7d\"],[0.2,\"#de77ae\"],[0.3,\"#f1b6da\"],[0.4,\"#fde0ef\"],[0.5,\"#f7f7f7\"],[0.6,\"#e6f5d0\"],[0.7,\"#b8e186\"],[0.8,\"#7fbc41\"],[0.9,\"#4d9221\"],[1,\"#276419\"]]},\"xaxis\":{\"gridcolor\":\"white\",\"linecolor\":\"white\",\"ticks\":\"\",\"title\":{\"standoff\":15},\"zerolinecolor\":\"white\",\"automargin\":true,\"zerolinewidth\":2},\"yaxis\":{\"gridcolor\":\"white\",\"linecolor\":\"white\",\"ticks\":\"\",\"title\":{\"standoff\":15},\"zerolinecolor\":\"white\",\"automargin\":true,\"zerolinewidth\":2},\"scene\":{\"xaxis\":{\"backgroundcolor\":\"#E5ECF6\",\"gridcolor\":\"white\",\"linecolor\":\"white\",\"showbackground\":true,\"ticks\":\"\",\"zerolinecolor\":\"white\",\"gridwidth\":2},\"yaxis\":{\"backgroundcolor\":\"#E5ECF6\",\"gridcolor\":\"white\",\"linecolor\":\"white\",\"showbackground\":true,\"ticks\":\"\",\"zerolinecolor\":\"white\",\"gridwidth\":2},\"zaxis\":{\"backgroundcolor\":\"#E5ECF6\",\"gridcolor\":\"white\",\"linecolor\":\"white\",\"showbackground\":true,\"ticks\":\"\",\"zerolinecolor\":\"white\",\"gridwidth\":2}},\"shapedefaults\":{\"line\":{\"color\":\"#2a3f5f\"}},\"annotationdefaults\":{\"arrowcolor\":\"#2a3f5f\",\"arrowhead\":0,\"arrowwidth\":1},\"geo\":{\"bgcolor\":\"white\",\"landcolor\":\"#E5ECF6\",\"subunitcolor\":\"white\",\"showland\":true,\"showlakes\":true,\"lakecolor\":\"white\"},\"title\":{\"x\":0.05},\"mapbox\":{\"style\":\"light\"}}}},                        {\"responsive\": true}                    ).then(function(){\n",
       "                            \n",
       "var gd = document.getElementById('c1f23d44-5233-4698-9f8d-2be4ff05bf32');\n",
       "var x = new MutationObserver(function (mutations, observer) {{\n",
       "        var display = window.getComputedStyle(gd).display;\n",
       "        if (!display || display === 'none') {{\n",
       "            console.log([gd, 'removed!']);\n",
       "            Plotly.purge(gd);\n",
       "            observer.disconnect();\n",
       "        }}\n",
       "}});\n",
       "\n",
       "// Listen for the removal of the full notebook cells\n",
       "var notebookContainer = gd.closest('#notebook-container');\n",
       "if (notebookContainer) {{\n",
       "    x.observe(notebookContainer, {childList: true});\n",
       "}}\n",
       "\n",
       "// Listen for the clearing of the current output cell\n",
       "var outputEl = gd.closest('.output');\n",
       "if (outputEl) {{\n",
       "    x.observe(outputEl, {childList: true});\n",
       "}}\n",
       "\n",
       "                        })                };                });            </script>        </div>"
      ]
     },
     "metadata": {},
     "output_type": "display_data"
    }
   ],
   "source": [
    "def list_of_list(window):\n",
    "    # print(window.keys())\n",
    "    return list(f\"{k}:{v}\" for k, v in window.items())\n",
    "\n",
    "    \n",
    "# Sample data\n",
    "header_values = portfolio.iloc[:10].index.strftime(\"%Y-%m-%d\")\n",
    "cell_values = portfolio.iloc[:10][\"portfolio\"].apply(list_of_list).to_frame().values.tolist() #[['John', 25, 'New York'], ['Mary', 30, 'Los Angeles'], ['Bob', 35, 'Chicago']]\n",
    "cell_values = [c[0] for c in cell_values]\n",
    "# Create the table figure\n",
    "fig = go.Figure(data=[go.Table(\n",
    "    header=dict(values=header_values),\n",
    "    cells=dict(values=cell_values)\n",
    ")])\n",
    "\n",
    "# Display the figure\n",
    "\n",
    "fig.show()"
   ]
  },
  {
   "cell_type": "code",
   "execution_count": 519,
   "id": "ea9c2e91-948d-413e-9be3-c87f4ac68145",
   "metadata": {},
   "outputs": [
    {
     "data": {
      "application/vnd.plotly.v1+json": {
       "config": {
        "plotlyServerURL": "https://plot.ly"
       },
       "data": [
        {
         "cells": {
          "values": [
           [
            "TEAM",
            "CMCSA",
            "MDB",
            "CPRT",
            "REGN"
           ],
           [
            "LIN",
            "PANW",
            "MNST",
            "META"
           ],
           [
            "ADBE",
            "PANW",
            "ON",
            "ADSK"
           ],
           [
            "WDAY",
            "PYPL",
            "MU",
            "FTNT",
            "ADI"
           ],
           [
            "PEP",
            "XEL",
            "AMZN",
            "NVDA"
           ]
          ]
         },
         "header": {
          "values": [
           "2024-09-10",
           "2024-09-04",
           "2024-09-03",
           "2024-08-30",
           "2024-08-28"
          ]
         },
         "type": "table"
        }
       ],
       "layout": {
        "autosize": true,
        "template": {
         "data": {
          "bar": [
           {
            "error_x": {
             "color": "#2a3f5f"
            },
            "error_y": {
             "color": "#2a3f5f"
            },
            "marker": {
             "line": {
              "color": "#E5ECF6",
              "width": 0.5
             },
             "pattern": {
              "fillmode": "overlay",
              "size": 10,
              "solidity": 0.2
             }
            },
            "type": "bar"
           }
          ],
          "barpolar": [
           {
            "marker": {
             "line": {
              "color": "#E5ECF6",
              "width": 0.5
             },
             "pattern": {
              "fillmode": "overlay",
              "size": 10,
              "solidity": 0.2
             }
            },
            "type": "barpolar"
           }
          ],
          "carpet": [
           {
            "aaxis": {
             "endlinecolor": "#2a3f5f",
             "gridcolor": "white",
             "linecolor": "white",
             "minorgridcolor": "white",
             "startlinecolor": "#2a3f5f"
            },
            "baxis": {
             "endlinecolor": "#2a3f5f",
             "gridcolor": "white",
             "linecolor": "white",
             "minorgridcolor": "white",
             "startlinecolor": "#2a3f5f"
            },
            "type": "carpet"
           }
          ],
          "choropleth": [
           {
            "colorbar": {
             "outlinewidth": 0,
             "ticks": ""
            },
            "type": "choropleth"
           }
          ],
          "contour": [
           {
            "colorbar": {
             "outlinewidth": 0,
             "ticks": ""
            },
            "colorscale": [
             [
              0,
              "#0d0887"
             ],
             [
              0.1111111111111111,
              "#46039f"
             ],
             [
              0.2222222222222222,
              "#7201a8"
             ],
             [
              0.3333333333333333,
              "#9c179e"
             ],
             [
              0.4444444444444444,
              "#bd3786"
             ],
             [
              0.5555555555555556,
              "#d8576b"
             ],
             [
              0.6666666666666666,
              "#ed7953"
             ],
             [
              0.7777777777777778,
              "#fb9f3a"
             ],
             [
              0.8888888888888888,
              "#fdca26"
             ],
             [
              1,
              "#f0f921"
             ]
            ],
            "type": "contour"
           }
          ],
          "contourcarpet": [
           {
            "colorbar": {
             "outlinewidth": 0,
             "ticks": ""
            },
            "type": "contourcarpet"
           }
          ],
          "heatmap": [
           {
            "colorbar": {
             "outlinewidth": 0,
             "ticks": ""
            },
            "colorscale": [
             [
              0,
              "#0d0887"
             ],
             [
              0.1111111111111111,
              "#46039f"
             ],
             [
              0.2222222222222222,
              "#7201a8"
             ],
             [
              0.3333333333333333,
              "#9c179e"
             ],
             [
              0.4444444444444444,
              "#bd3786"
             ],
             [
              0.5555555555555556,
              "#d8576b"
             ],
             [
              0.6666666666666666,
              "#ed7953"
             ],
             [
              0.7777777777777778,
              "#fb9f3a"
             ],
             [
              0.8888888888888888,
              "#fdca26"
             ],
             [
              1,
              "#f0f921"
             ]
            ],
            "type": "heatmap"
           }
          ],
          "heatmapgl": [
           {
            "colorbar": {
             "outlinewidth": 0,
             "ticks": ""
            },
            "colorscale": [
             [
              0,
              "#0d0887"
             ],
             [
              0.1111111111111111,
              "#46039f"
             ],
             [
              0.2222222222222222,
              "#7201a8"
             ],
             [
              0.3333333333333333,
              "#9c179e"
             ],
             [
              0.4444444444444444,
              "#bd3786"
             ],
             [
              0.5555555555555556,
              "#d8576b"
             ],
             [
              0.6666666666666666,
              "#ed7953"
             ],
             [
              0.7777777777777778,
              "#fb9f3a"
             ],
             [
              0.8888888888888888,
              "#fdca26"
             ],
             [
              1,
              "#f0f921"
             ]
            ],
            "type": "heatmapgl"
           }
          ],
          "histogram": [
           {
            "marker": {
             "pattern": {
              "fillmode": "overlay",
              "size": 10,
              "solidity": 0.2
             }
            },
            "type": "histogram"
           }
          ],
          "histogram2d": [
           {
            "colorbar": {
             "outlinewidth": 0,
             "ticks": ""
            },
            "colorscale": [
             [
              0,
              "#0d0887"
             ],
             [
              0.1111111111111111,
              "#46039f"
             ],
             [
              0.2222222222222222,
              "#7201a8"
             ],
             [
              0.3333333333333333,
              "#9c179e"
             ],
             [
              0.4444444444444444,
              "#bd3786"
             ],
             [
              0.5555555555555556,
              "#d8576b"
             ],
             [
              0.6666666666666666,
              "#ed7953"
             ],
             [
              0.7777777777777778,
              "#fb9f3a"
             ],
             [
              0.8888888888888888,
              "#fdca26"
             ],
             [
              1,
              "#f0f921"
             ]
            ],
            "type": "histogram2d"
           }
          ],
          "histogram2dcontour": [
           {
            "colorbar": {
             "outlinewidth": 0,
             "ticks": ""
            },
            "colorscale": [
             [
              0,
              "#0d0887"
             ],
             [
              0.1111111111111111,
              "#46039f"
             ],
             [
              0.2222222222222222,
              "#7201a8"
             ],
             [
              0.3333333333333333,
              "#9c179e"
             ],
             [
              0.4444444444444444,
              "#bd3786"
             ],
             [
              0.5555555555555556,
              "#d8576b"
             ],
             [
              0.6666666666666666,
              "#ed7953"
             ],
             [
              0.7777777777777778,
              "#fb9f3a"
             ],
             [
              0.8888888888888888,
              "#fdca26"
             ],
             [
              1,
              "#f0f921"
             ]
            ],
            "type": "histogram2dcontour"
           }
          ],
          "mesh3d": [
           {
            "colorbar": {
             "outlinewidth": 0,
             "ticks": ""
            },
            "type": "mesh3d"
           }
          ],
          "parcoords": [
           {
            "line": {
             "colorbar": {
              "outlinewidth": 0,
              "ticks": ""
             }
            },
            "type": "parcoords"
           }
          ],
          "pie": [
           {
            "automargin": true,
            "type": "pie"
           }
          ],
          "scatter": [
           {
            "fillpattern": {
             "fillmode": "overlay",
             "size": 10,
             "solidity": 0.2
            },
            "type": "scatter"
           }
          ],
          "scatter3d": [
           {
            "line": {
             "colorbar": {
              "outlinewidth": 0,
              "ticks": ""
             }
            },
            "marker": {
             "colorbar": {
              "outlinewidth": 0,
              "ticks": ""
             }
            },
            "type": "scatter3d"
           }
          ],
          "scattercarpet": [
           {
            "marker": {
             "colorbar": {
              "outlinewidth": 0,
              "ticks": ""
             }
            },
            "type": "scattercarpet"
           }
          ],
          "scattergeo": [
           {
            "marker": {
             "colorbar": {
              "outlinewidth": 0,
              "ticks": ""
             }
            },
            "type": "scattergeo"
           }
          ],
          "scattergl": [
           {
            "marker": {
             "colorbar": {
              "outlinewidth": 0,
              "ticks": ""
             }
            },
            "type": "scattergl"
           }
          ],
          "scattermapbox": [
           {
            "marker": {
             "colorbar": {
              "outlinewidth": 0,
              "ticks": ""
             }
            },
            "type": "scattermapbox"
           }
          ],
          "scatterpolar": [
           {
            "marker": {
             "colorbar": {
              "outlinewidth": 0,
              "ticks": ""
             }
            },
            "type": "scatterpolar"
           }
          ],
          "scatterpolargl": [
           {
            "marker": {
             "colorbar": {
              "outlinewidth": 0,
              "ticks": ""
             }
            },
            "type": "scatterpolargl"
           }
          ],
          "scatterternary": [
           {
            "marker": {
             "colorbar": {
              "outlinewidth": 0,
              "ticks": ""
             }
            },
            "type": "scatterternary"
           }
          ],
          "surface": [
           {
            "colorbar": {
             "outlinewidth": 0,
             "ticks": ""
            },
            "colorscale": [
             [
              0,
              "#0d0887"
             ],
             [
              0.1111111111111111,
              "#46039f"
             ],
             [
              0.2222222222222222,
              "#7201a8"
             ],
             [
              0.3333333333333333,
              "#9c179e"
             ],
             [
              0.4444444444444444,
              "#bd3786"
             ],
             [
              0.5555555555555556,
              "#d8576b"
             ],
             [
              0.6666666666666666,
              "#ed7953"
             ],
             [
              0.7777777777777778,
              "#fb9f3a"
             ],
             [
              0.8888888888888888,
              "#fdca26"
             ],
             [
              1,
              "#f0f921"
             ]
            ],
            "type": "surface"
           }
          ],
          "table": [
           {
            "cells": {
             "fill": {
              "color": "#EBF0F8"
             },
             "line": {
              "color": "white"
             }
            },
            "header": {
             "fill": {
              "color": "#C8D4E3"
             },
             "line": {
              "color": "white"
             }
            },
            "type": "table"
           }
          ]
         },
         "layout": {
          "annotationdefaults": {
           "arrowcolor": "#2a3f5f",
           "arrowhead": 0,
           "arrowwidth": 1
          },
          "autotypenumbers": "strict",
          "coloraxis": {
           "colorbar": {
            "outlinewidth": 0,
            "ticks": ""
           }
          },
          "colorscale": {
           "diverging": [
            [
             0,
             "#8e0152"
            ],
            [
             0.1,
             "#c51b7d"
            ],
            [
             0.2,
             "#de77ae"
            ],
            [
             0.3,
             "#f1b6da"
            ],
            [
             0.4,
             "#fde0ef"
            ],
            [
             0.5,
             "#f7f7f7"
            ],
            [
             0.6,
             "#e6f5d0"
            ],
            [
             0.7,
             "#b8e186"
            ],
            [
             0.8,
             "#7fbc41"
            ],
            [
             0.9,
             "#4d9221"
            ],
            [
             1,
             "#276419"
            ]
           ],
           "sequential": [
            [
             0,
             "#0d0887"
            ],
            [
             0.1111111111111111,
             "#46039f"
            ],
            [
             0.2222222222222222,
             "#7201a8"
            ],
            [
             0.3333333333333333,
             "#9c179e"
            ],
            [
             0.4444444444444444,
             "#bd3786"
            ],
            [
             0.5555555555555556,
             "#d8576b"
            ],
            [
             0.6666666666666666,
             "#ed7953"
            ],
            [
             0.7777777777777778,
             "#fb9f3a"
            ],
            [
             0.8888888888888888,
             "#fdca26"
            ],
            [
             1,
             "#f0f921"
            ]
           ],
           "sequentialminus": [
            [
             0,
             "#0d0887"
            ],
            [
             0.1111111111111111,
             "#46039f"
            ],
            [
             0.2222222222222222,
             "#7201a8"
            ],
            [
             0.3333333333333333,
             "#9c179e"
            ],
            [
             0.4444444444444444,
             "#bd3786"
            ],
            [
             0.5555555555555556,
             "#d8576b"
            ],
            [
             0.6666666666666666,
             "#ed7953"
            ],
            [
             0.7777777777777778,
             "#fb9f3a"
            ],
            [
             0.8888888888888888,
             "#fdca26"
            ],
            [
             1,
             "#f0f921"
            ]
           ]
          },
          "colorway": [
           "#636efa",
           "#EF553B",
           "#00cc96",
           "#ab63fa",
           "#FFA15A",
           "#19d3f3",
           "#FF6692",
           "#B6E880",
           "#FF97FF",
           "#FECB52"
          ],
          "font": {
           "color": "#2a3f5f"
          },
          "geo": {
           "bgcolor": "white",
           "lakecolor": "white",
           "landcolor": "#E5ECF6",
           "showlakes": true,
           "showland": true,
           "subunitcolor": "white"
          },
          "hoverlabel": {
           "align": "left"
          },
          "hovermode": "closest",
          "mapbox": {
           "style": "light"
          },
          "paper_bgcolor": "white",
          "plot_bgcolor": "#E5ECF6",
          "polar": {
           "angularaxis": {
            "gridcolor": "white",
            "linecolor": "white",
            "ticks": ""
           },
           "bgcolor": "#E5ECF6",
           "radialaxis": {
            "gridcolor": "white",
            "linecolor": "white",
            "ticks": ""
           }
          },
          "scene": {
           "xaxis": {
            "backgroundcolor": "#E5ECF6",
            "gridcolor": "white",
            "gridwidth": 2,
            "linecolor": "white",
            "showbackground": true,
            "ticks": "",
            "zerolinecolor": "white"
           },
           "yaxis": {
            "backgroundcolor": "#E5ECF6",
            "gridcolor": "white",
            "gridwidth": 2,
            "linecolor": "white",
            "showbackground": true,
            "ticks": "",
            "zerolinecolor": "white"
           },
           "zaxis": {
            "backgroundcolor": "#E5ECF6",
            "gridcolor": "white",
            "gridwidth": 2,
            "linecolor": "white",
            "showbackground": true,
            "ticks": "",
            "zerolinecolor": "white"
           }
          },
          "shapedefaults": {
           "line": {
            "color": "#2a3f5f"
           }
          },
          "ternary": {
           "aaxis": {
            "gridcolor": "white",
            "linecolor": "white",
            "ticks": ""
           },
           "baxis": {
            "gridcolor": "white",
            "linecolor": "white",
            "ticks": ""
           },
           "bgcolor": "#E5ECF6",
           "caxis": {
            "gridcolor": "white",
            "linecolor": "white",
            "ticks": ""
           }
          },
          "title": {
           "x": 0.05
          },
          "xaxis": {
           "automargin": true,
           "gridcolor": "white",
           "linecolor": "white",
           "ticks": "",
           "title": {
            "standoff": 15
           },
           "zerolinecolor": "white",
           "zerolinewidth": 2
          },
          "yaxis": {
           "automargin": true,
           "gridcolor": "white",
           "linecolor": "white",
           "ticks": "",
           "title": {
            "standoff": 15
           },
           "zerolinecolor": "white",
           "zerolinewidth": 2
          }
         }
        }
       }
      },
      "image/png": "[encoded data removed]",
      "text/html": [
       "<div>                            <div id=\"55310cda-fbc0-4b5a-885e-1069683d2e89\" class=\"plotly-graph-div\" style=\"height:525px; width:100%;\"></div>            <script type=\"text/javascript\">                require([\"plotly\"], function(Plotly) {                    window.PLOTLYENV=window.PLOTLYENV || {};                                    if (document.getElementById(\"55310cda-fbc0-4b5a-885e-1069683d2e89\")) {                    Plotly.newPlot(                        \"55310cda-fbc0-4b5a-885e-1069683d2e89\",                        [{\"cells\":{\"values\":[[\"TEAM\",\"CMCSA\",\"MDB\",\"CPRT\",\"REGN\"],[\"LIN\",\"PANW\",\"MNST\",\"META\"],[\"ADBE\",\"PANW\",\"ON\",\"ADSK\"],[\"WDAY\",\"PYPL\",\"MU\",\"FTNT\",\"ADI\"],[\"PEP\",\"XEL\",\"AMZN\",\"NVDA\"]]},\"header\":{\"values\":[\"2024-09-10\",\"2024-09-04\",\"2024-09-03\",\"2024-08-30\",\"2024-08-28\"]},\"type\":\"table\"}],                        {\"template\":{\"data\":{\"histogram2dcontour\":[{\"type\":\"histogram2dcontour\",\"colorbar\":{\"outlinewidth\":0,\"ticks\":\"\"},\"colorscale\":[[0.0,\"#0d0887\"],[0.1111111111111111,\"#46039f\"],[0.2222222222222222,\"#7201a8\"],[0.3333333333333333,\"#9c179e\"],[0.4444444444444444,\"#bd3786\"],[0.5555555555555556,\"#d8576b\"],[0.6666666666666666,\"#ed7953\"],[0.7777777777777778,\"#fb9f3a\"],[0.8888888888888888,\"#fdca26\"],[1.0,\"#f0f921\"]]}],\"choropleth\":[{\"type\":\"choropleth\",\"colorbar\":{\"outlinewidth\":0,\"ticks\":\"\"}}],\"histogram2d\":[{\"type\":\"histogram2d\",\"colorbar\":{\"outlinewidth\":0,\"ticks\":\"\"},\"colorscale\":[[0.0,\"#0d0887\"],[0.1111111111111111,\"#46039f\"],[0.2222222222222222,\"#7201a8\"],[0.3333333333333333,\"#9c179e\"],[0.4444444444444444,\"#bd3786\"],[0.5555555555555556,\"#d8576b\"],[0.6666666666666666,\"#ed7953\"],[0.7777777777777778,\"#fb9f3a\"],[0.8888888888888888,\"#fdca26\"],[1.0,\"#f0f921\"]]}],\"heatmap\":[{\"type\":\"heatmap\",\"colorbar\":{\"outlinewidth\":0,\"ticks\":\"\"},\"colorscale\":[[0.0,\"#0d0887\"],[0.1111111111111111,\"#46039f\"],[0.2222222222222222,\"#7201a8\"],[0.3333333333333333,\"#9c179e\"],[0.4444444444444444,\"#bd3786\"],[0.5555555555555556,\"#d8576b\"],[0.6666666666666666,\"#ed7953\"],[0.7777777777777778,\"#fb9f3a\"],[0.8888888888888888,\"#fdca26\"],[1.0,\"#f0f921\"]]}],\"heatmapgl\":[{\"type\":\"heatmapgl\",\"colorbar\":{\"outlinewidth\":0,\"ticks\":\"\"},\"colorscale\":[[0.0,\"#0d0887\"],[0.1111111111111111,\"#46039f\"],[0.2222222222222222,\"#7201a8\"],[0.3333333333333333,\"#9c179e\"],[0.4444444444444444,\"#bd3786\"],[0.5555555555555556,\"#d8576b\"],[0.6666666666666666,\"#ed7953\"],[0.7777777777777778,\"#fb9f3a\"],[0.8888888888888888,\"#fdca26\"],[1.0,\"#f0f921\"]]}],\"contourcarpet\":[{\"type\":\"contourcarpet\",\"colorbar\":{\"outlinewidth\":0,\"ticks\":\"\"}}],\"contour\":[{\"type\":\"contour\",\"colorbar\":{\"outlinewidth\":0,\"ticks\":\"\"},\"colorscale\":[[0.0,\"#0d0887\"],[0.1111111111111111,\"#46039f\"],[0.2222222222222222,\"#7201a8\"],[0.3333333333333333,\"#9c179e\"],[0.4444444444444444,\"#bd3786\"],[0.5555555555555556,\"#d8576b\"],[0.6666666666666666,\"#ed7953\"],[0.7777777777777778,\"#fb9f3a\"],[0.8888888888888888,\"#fdca26\"],[1.0,\"#f0f921\"]]}],\"surface\":[{\"type\":\"surface\",\"colorbar\":{\"outlinewidth\":0,\"ticks\":\"\"},\"colorscale\":[[0.0,\"#0d0887\"],[0.1111111111111111,\"#46039f\"],[0.2222222222222222,\"#7201a8\"],[0.3333333333333333,\"#9c179e\"],[0.4444444444444444,\"#bd3786\"],[0.5555555555555556,\"#d8576b\"],[0.6666666666666666,\"#ed7953\"],[0.7777777777777778,\"#fb9f3a\"],[0.8888888888888888,\"#fdca26\"],[1.0,\"#f0f921\"]]}],\"mesh3d\":[{\"type\":\"mesh3d\",\"colorbar\":{\"outlinewidth\":0,\"ticks\":\"\"}}],\"scatter\":[{\"fillpattern\":{\"fillmode\":\"overlay\",\"size\":10,\"solidity\":0.2},\"type\":\"scatter\"}],\"parcoords\":[{\"type\":\"parcoords\",\"line\":{\"colorbar\":{\"outlinewidth\":0,\"ticks\":\"\"}}}],\"scatterpolargl\":[{\"type\":\"scatterpolargl\",\"marker\":{\"colorbar\":{\"outlinewidth\":0,\"ticks\":\"\"}}}],\"bar\":[{\"error_x\":{\"color\":\"#2a3f5f\"},\"error_y\":{\"color\":\"#2a3f5f\"},\"marker\":{\"line\":{\"color\":\"#E5ECF6\",\"width\":0.5},\"pattern\":{\"fillmode\":\"overlay\",\"size\":10,\"solidity\":0.2}},\"type\":\"bar\"}],\"scattergeo\":[{\"type\":\"scattergeo\",\"marker\":{\"colorbar\":{\"outlinewidth\":0,\"ticks\":\"\"}}}],\"scatterpolar\":[{\"type\":\"scatterpolar\",\"marker\":{\"colorbar\":{\"outlinewidth\":0,\"ticks\":\"\"}}}],\"histogram\":[{\"marker\":{\"pattern\":{\"fillmode\":\"overlay\",\"size\":10,\"solidity\":0.2}},\"type\":\"histogram\"}],\"scattergl\":[{\"type\":\"scattergl\",\"marker\":{\"colorbar\":{\"outlinewidth\":0,\"ticks\":\"\"}}}],\"scatter3d\":[{\"type\":\"scatter3d\",\"line\":{\"colorbar\":{\"outlinewidth\":0,\"ticks\":\"\"}},\"marker\":{\"colorbar\":{\"outlinewidth\":0,\"ticks\":\"\"}}}],\"scattermapbox\":[{\"type\":\"scattermapbox\",\"marker\":{\"colorbar\":{\"outlinewidth\":0,\"ticks\":\"\"}}}],\"scatterternary\":[{\"type\":\"scatterternary\",\"marker\":{\"colorbar\":{\"outlinewidth\":0,\"ticks\":\"\"}}}],\"scattercarpet\":[{\"type\":\"scattercarpet\",\"marker\":{\"colorbar\":{\"outlinewidth\":0,\"ticks\":\"\"}}}],\"carpet\":[{\"aaxis\":{\"endlinecolor\":\"#2a3f5f\",\"gridcolor\":\"white\",\"linecolor\":\"white\",\"minorgridcolor\":\"white\",\"startlinecolor\":\"#2a3f5f\"},\"baxis\":{\"endlinecolor\":\"#2a3f5f\",\"gridcolor\":\"white\",\"linecolor\":\"white\",\"minorgridcolor\":\"white\",\"startlinecolor\":\"#2a3f5f\"},\"type\":\"carpet\"}],\"table\":[{\"cells\":{\"fill\":{\"color\":\"#EBF0F8\"},\"line\":{\"color\":\"white\"}},\"header\":{\"fill\":{\"color\":\"#C8D4E3\"},\"line\":{\"color\":\"white\"}},\"type\":\"table\"}],\"barpolar\":[{\"marker\":{\"line\":{\"color\":\"#E5ECF6\",\"width\":0.5},\"pattern\":{\"fillmode\":\"overlay\",\"size\":10,\"solidity\":0.2}},\"type\":\"barpolar\"}],\"pie\":[{\"automargin\":true,\"type\":\"pie\"}]},\"layout\":{\"autotypenumbers\":\"strict\",\"colorway\":[\"#636efa\",\"#EF553B\",\"#00cc96\",\"#ab63fa\",\"#FFA15A\",\"#19d3f3\",\"#FF6692\",\"#B6E880\",\"#FF97FF\",\"#FECB52\"],\"font\":{\"color\":\"#2a3f5f\"},\"hovermode\":\"closest\",\"hoverlabel\":{\"align\":\"left\"},\"paper_bgcolor\":\"white\",\"plot_bgcolor\":\"#E5ECF6\",\"polar\":{\"bgcolor\":\"#E5ECF6\",\"angularaxis\":{\"gridcolor\":\"white\",\"linecolor\":\"white\",\"ticks\":\"\"},\"radialaxis\":{\"gridcolor\":\"white\",\"linecolor\":\"white\",\"ticks\":\"\"}},\"ternary\":{\"bgcolor\":\"#E5ECF6\",\"aaxis\":{\"gridcolor\":\"white\",\"linecolor\":\"white\",\"ticks\":\"\"},\"baxis\":{\"gridcolor\":\"white\",\"linecolor\":\"white\",\"ticks\":\"\"},\"caxis\":{\"gridcolor\":\"white\",\"linecolor\":\"white\",\"ticks\":\"\"}},\"coloraxis\":{\"colorbar\":{\"outlinewidth\":0,\"ticks\":\"\"}},\"colorscale\":{\"sequential\":[[0.0,\"#0d0887\"],[0.1111111111111111,\"#46039f\"],[0.2222222222222222,\"#7201a8\"],[0.3333333333333333,\"#9c179e\"],[0.4444444444444444,\"#bd3786\"],[0.5555555555555556,\"#d8576b\"],[0.6666666666666666,\"#ed7953\"],[0.7777777777777778,\"#fb9f3a\"],[0.8888888888888888,\"#fdca26\"],[1.0,\"#f0f921\"]],\"sequentialminus\":[[0.0,\"#0d0887\"],[0.1111111111111111,\"#46039f\"],[0.2222222222222222,\"#7201a8\"],[0.3333333333333333,\"#9c179e\"],[0.4444444444444444,\"#bd3786\"],[0.5555555555555556,\"#d8576b\"],[0.6666666666666666,\"#ed7953\"],[0.7777777777777778,\"#fb9f3a\"],[0.8888888888888888,\"#fdca26\"],[1.0,\"#f0f921\"]],\"diverging\":[[0,\"#8e0152\"],[0.1,\"#c51b7d\"],[0.2,\"#de77ae\"],[0.3,\"#f1b6da\"],[0.4,\"#fde0ef\"],[0.5,\"#f7f7f7\"],[0.6,\"#e6f5d0\"],[0.7,\"#b8e186\"],[0.8,\"#7fbc41\"],[0.9,\"#4d9221\"],[1,\"#276419\"]]},\"xaxis\":{\"gridcolor\":\"white\",\"linecolor\":\"white\",\"ticks\":\"\",\"title\":{\"standoff\":15},\"zerolinecolor\":\"white\",\"automargin\":true,\"zerolinewidth\":2},\"yaxis\":{\"gridcolor\":\"white\",\"linecolor\":\"white\",\"ticks\":\"\",\"title\":{\"standoff\":15},\"zerolinecolor\":\"white\",\"automargin\":true,\"zerolinewidth\":2},\"scene\":{\"xaxis\":{\"backgroundcolor\":\"#E5ECF6\",\"gridcolor\":\"white\",\"linecolor\":\"white\",\"showbackground\":true,\"ticks\":\"\",\"zerolinecolor\":\"white\",\"gridwidth\":2},\"yaxis\":{\"backgroundcolor\":\"#E5ECF6\",\"gridcolor\":\"white\",\"linecolor\":\"white\",\"showbackground\":true,\"ticks\":\"\",\"zerolinecolor\":\"white\",\"gridwidth\":2},\"zaxis\":{\"backgroundcolor\":\"#E5ECF6\",\"gridcolor\":\"white\",\"linecolor\":\"white\",\"showbackground\":true,\"ticks\":\"\",\"zerolinecolor\":\"white\",\"gridwidth\":2}},\"shapedefaults\":{\"line\":{\"color\":\"#2a3f5f\"}},\"annotationdefaults\":{\"arrowcolor\":\"#2a3f5f\",\"arrowhead\":0,\"arrowwidth\":1},\"geo\":{\"bgcolor\":\"white\",\"landcolor\":\"#E5ECF6\",\"subunitcolor\":\"white\",\"showland\":true,\"showlakes\":true,\"lakecolor\":\"white\"},\"title\":{\"x\":0.05},\"mapbox\":{\"style\":\"light\"}}}},                        {\"responsive\": true}                    ).then(function(){\n",
       "                            \n",
       "var gd = document.getElementById('55310cda-fbc0-4b5a-885e-1069683d2e89');\n",
       "var x = new MutationObserver(function (mutations, observer) {{\n",
       "        var display = window.getComputedStyle(gd).display;\n",
       "        if (!display || display === 'none') {{\n",
       "            console.log([gd, 'removed!']);\n",
       "            Plotly.purge(gd);\n",
       "            observer.disconnect();\n",
       "        }}\n",
       "}});\n",
       "\n",
       "// Listen for the removal of the full notebook cells\n",
       "var notebookContainer = gd.closest('#notebook-container');\n",
       "if (notebookContainer) {{\n",
       "    x.observe(notebookContainer, {childList: true});\n",
       "}}\n",
       "\n",
       "// Listen for the clearing of the current output cell\n",
       "var outputEl = gd.closest('.output');\n",
       "if (outputEl) {{\n",
       "    x.observe(outputEl, {childList: true});\n",
       "}}\n",
       "\n",
       "                        })                };                });            </script>        </div>"
      ]
     },
     "metadata": {},
     "output_type": "display_data"
    }
   ],
   "source": [
    "def list_of_list(window):\n",
    "    # print(window.keys())\n",
    "    return list(window.keys())\n",
    "\n",
    "    \n",
    "# Sample data\n",
    "header_values = portfolio_rand[:5].index.strftime(\"%Y-%m-%d\")\n",
    "cell_values = portfolio_rand[:5][\"portfolio\"].apply(list_of_list).to_frame().values.tolist() #[['John', 25, 'New York'], ['Mary', 30, 'Los Angeles'], ['Bob', 35, 'Chicago']]\n",
    "cell_values = [c[0] for c in cell_values]\n",
    "# Create the table figure\n",
    "fig = go.Figure(data=[go.Table(\n",
    "    header=dict(values=header_values),\n",
    "    cells=dict(values=cell_values)\n",
    ")])\n",
    "\n",
    "# Display the figure\n",
    "fig.show()"
   ]
  },
  {
   "cell_type": "code",
   "execution_count": 168,
   "id": "62a7fa51-b501-4565-a198-791abcba9d35",
   "metadata": {},
   "outputs": [
    {
     "data": {
      "text/plain": [
       "Series([], Name: MDB_expected_upward_movement_interval, dtype: object)"
      ]
     },
     "execution_count": 168,
     "metadata": {},
     "output_type": "execute_result"
    }
   ],
   "source": [
    "# blacklit_df[blacklit_df[\"MDB_expected_upward_movement_interval\"]==(np.NaN, np.NaN)][\"MDB_expected_upward_movement_interval\"]"
   ]
  },
  {
   "cell_type": "code",
   "execution_count": 528,
   "id": "3a9c097b-5fb8-4f16-9a7e-af7a3a7d4608",
   "metadata": {},
   "outputs": [
    {
     "data": {
      "text/plain": [
       "46"
      ]
     },
     "execution_count": 528,
     "metadata": {},
     "output_type": "execute_result"
    }
   ],
   "source": [
    "len(portfolio)"
   ]
  },
  {
   "cell_type": "code",
   "execution_count": 529,
   "id": "600651d1-8b51-4246-a57a-a0bb1543a977",
   "metadata": {},
   "outputs": [
    {
     "ename": "NameError",
     "evalue": "name 'data1' is not defined",
     "output_type": "error",
     "traceback": [
      "\u001b[0;31m---------------------------------------------------------------------------\u001b[0m",
      "\u001b[0;31mNameError\u001b[0m                                 Traceback (most recent call last)",
      "Cell \u001b[0;32mIn[529], line 5\u001b[0m\n\u001b[1;32m      2\u001b[0m \u001b[38;5;28;01mimport\u001b[39;00m \u001b[38;5;21;01mpandas\u001b[39;00m \u001b[38;5;28;01mas\u001b[39;00m \u001b[38;5;21;01mpd\u001b[39;00m\n\u001b[1;32m      4\u001b[0m \u001b[38;5;66;03m# Create a DataFrame\u001b[39;00m\n\u001b[0;32m----> 5\u001b[0m data \u001b[38;5;241m=\u001b[39m pd\u001b[38;5;241m.\u001b[39mDataFrame({\u001b[38;5;124m'\u001b[39m\u001b[38;5;124mValue\u001b[39m\u001b[38;5;124m'\u001b[39m: np\u001b[38;5;241m.\u001b[39mconcatenate([data1, data2, data3]),\n\u001b[1;32m      6\u001b[0m                      \u001b[38;5;124m'\u001b[39m\u001b[38;5;124mGroup\u001b[39m\u001b[38;5;124m'\u001b[39m: [\u001b[38;5;124m'\u001b[39m\u001b[38;5;124mData 1\u001b[39m\u001b[38;5;124m'\u001b[39m] \u001b[38;5;241m*\u001b[39m \u001b[38;5;28mlen\u001b[39m(data1) \u001b[38;5;241m+\u001b[39m [\u001b[38;5;124m'\u001b[39m\u001b[38;5;124mData 2\u001b[39m\u001b[38;5;124m'\u001b[39m] \u001b[38;5;241m*\u001b[39m \u001b[38;5;28mlen\u001b[39m(data2) \u001b[38;5;241m+\u001b[39m [\u001b[38;5;124m'\u001b[39m\u001b[38;5;124mData 3\u001b[39m\u001b[38;5;124m'\u001b[39m] \u001b[38;5;241m*\u001b[39m \u001b[38;5;28mlen\u001b[39m(data3)})\n\u001b[1;32m      8\u001b[0m \u001b[38;5;66;03m# Plot the KDEs\u001b[39;00m\n\u001b[1;32m      9\u001b[0m sns\u001b[38;5;241m.\u001b[39mkdeplot(data\u001b[38;5;241m=\u001b[39mdata, x\u001b[38;5;241m=\u001b[39m\u001b[38;5;124m'\u001b[39m\u001b[38;5;124mValue\u001b[39m\u001b[38;5;124m'\u001b[39m, hue\u001b[38;5;241m=\u001b[39m\u001b[38;5;124m'\u001b[39m\u001b[38;5;124mGroup\u001b[39m\u001b[38;5;124m'\u001b[39m)\n",
      "\u001b[0;31mNameError\u001b[0m: name 'data1' is not defined"
     ]
    }
   ],
   "source": [
    "import seaborn as sns\n",
    "import pandas as pd\n",
    "\n",
    "# Create a DataFrame\n",
    "data = pd.DataFrame({'Value': np.concatenate([data1, data2, data3]),\n",
    "                     'Group': ['Data 1'] * len(data1) + ['Data 2'] * len(data2) + ['Data 3'] * len(data3)})\n",
    "\n",
    "# Plot the KDEs\n",
    "sns.kdeplot(data=data, x='Value', hue='Group')\n",
    "plt.show()"
   ]
  },
  {
   "cell_type": "code",
   "execution_count": 546,
   "id": "1fe0fbd0-a2f0-4467-9d40-6fa274b43393",
   "metadata": {},
   "outputs": [
    {
     "data": {
      "image/png": "[encoded data removed]",
      "text/plain": [
       "<Figure size 1000x600 with 1 Axes>"
      ]
     },
     "metadata": {},
     "output_type": "display_data"
    }
   ],
   "source": [
    "import matplotlib.pyplot as plt\n",
    "import numpy as np\n",
    "\n",
    "# Generate some data\n",
    "data1 = ((portfolio_rand[\"portfolio_curr_rand\"] - portfolio_rand[\"portfolio_buy_rand\"])/portfolio_rand[\"portfolio_buy_rand\"])*100 #np.random.normal(0, 1, 1000)\n",
    "data2 = ((portfolio[\"portfolio_curr\"] - portfolio[\"portfolio_buy\"])/portfolio[\"portfolio_buy\"])*100 #np.random.normal(2, 1, 1000)\n",
    "# data3 = np.random.normal(-2, 1, 1000)\n",
    "\n",
    "# Plot the histograms\n",
    "plt.hist(data1, bins=30, alpha=0.5, label='Random Portfolio')\n",
    "plt.hist(data2, bins=30, alpha=0.5, label='Recommended Portfolio')\n",
    "# plt.hist(data3, bins=30, alpha=0.5, label='Data 3')\n",
    "\n",
    "plt.legend()\n",
    "plt.show()"
   ]
  },
  {
   "cell_type": "code",
   "execution_count": 540,
   "id": "886d0d25-e70c-4a19-a31b-7669bfb85264",
   "metadata": {},
   "outputs": [
    {
     "data": {
      "text/plain": [
       "Date\n",
       "2024-09-10    107.595289\n",
       "2024-09-04     15.455685\n",
       "2024-09-03     45.663582\n",
       "2024-08-30     10.700409\n",
       "2024-08-28    114.157112\n",
       "2024-08-27     49.747574\n",
       "2024-08-26   -181.536827\n",
       "2024-08-23    105.051414\n",
       "2024-08-22   -108.792204\n",
       "2024-08-21    257.018500\n",
       "2024-08-20    270.762196\n",
       "2024-08-19   -224.505543\n",
       "2024-08-14    -10.871422\n",
       "2024-08-08    -21.351841\n",
       "2024-08-05   -147.837322\n",
       "2024-08-02     69.602310\n",
       "2024-08-01     19.776966\n",
       "2024-07-31    -25.656784\n",
       "2024-07-30     29.154716\n",
       "2024-07-29   -101.383736\n",
       "2024-07-26   -104.907543\n",
       "2024-07-17    -26.378113\n",
       "2024-07-16    -40.268129\n",
       "2024-07-15    114.446411\n",
       "2024-07-12   -124.073204\n",
       "2024-07-11     11.580498\n",
       "2024-07-10    -13.892490\n",
       "dtype: float64"
      ]
     },
     "execution_count": 540,
     "metadata": {},
     "output_type": "execute_result"
    }
   ],
   "source": [
    "portfolio_rand[\"portfolio_curr_rand\"]-portfolio_rand[\"portfolio_buy_rand\"]"
   ]
  },
  {
   "cell_type": "code",
   "execution_count": 543,
   "id": "193638af-82a0-423c-b89a-4f7f9771c040",
   "metadata": {},
   "outputs": [
    {
     "data": {
      "application/vnd.plotly.v1+json": {
       "config": {
        "plotlyServerURL": "https://plot.ly"
       },
       "data": [
        {
         "close": [
          11,
          13,
          11.5,
          14,
          15
         ],
         "high": [
          12,
          14,
          12,
          15,
          16
         ],
         "hovertext": [
          "Buy Date: 2024-05-01<br>High: 12<br>Low: 9<br>Close: 11",
          "Buy Date: 2024-05-01<br>High: 14<br>Low: 10<br>Close: 13",
          "Buy Date: 2024-05-01<br>High: 12<br>Low: 10<br>Close: 11.5",
          "Buy Date: 2024-05-01<br>High: 15<br>Low: 12<br>Close: 14",
          "Buy Date: 2024-05-01<br>High: 16<br>Low: 13<br>Close: 15"
         ],
         "low": [
          9,
          10,
          10,
          12,
          13
         ],
         "open": [
          10,
          12,
          11,
          13,
          15
         ],
         "type": "candlestick",
         "x": [
          1,
          2,
          3,
          4,
          5
         ]
        }
       ],
       "layout": {
        "autosize": true,
        "template": {
         "data": {
          "bar": [
           {
            "error_x": {
             "color": "#2a3f5f"
            },
            "error_y": {
             "color": "#2a3f5f"
            },
            "marker": {
             "line": {
              "color": "#E5ECF6",
              "width": 0.5
             },
             "pattern": {
              "fillmode": "overlay",
              "size": 10,
              "solidity": 0.2
             }
            },
            "type": "bar"
           }
          ],
          "barpolar": [
           {
            "marker": {
             "line": {
              "color": "#E5ECF6",
              "width": 0.5
             },
             "pattern": {
              "fillmode": "overlay",
              "size": 10,
              "solidity": 0.2
             }
            },
            "type": "barpolar"
           }
          ],
          "carpet": [
           {
            "aaxis": {
             "endlinecolor": "#2a3f5f",
             "gridcolor": "white",
             "linecolor": "white",
             "minorgridcolor": "white",
             "startlinecolor": "#2a3f5f"
            },
            "baxis": {
             "endlinecolor": "#2a3f5f",
             "gridcolor": "white",
             "linecolor": "white",
             "minorgridcolor": "white",
             "startlinecolor": "#2a3f5f"
            },
            "type": "carpet"
           }
          ],
          "choropleth": [
           {
            "colorbar": {
             "outlinewidth": 0,
             "ticks": ""
            },
            "type": "choropleth"
           }
          ],
          "contour": [
           {
            "colorbar": {
             "outlinewidth": 0,
             "ticks": ""
            },
            "colorscale": [
             [
              0,
              "#0d0887"
             ],
             [
              0.1111111111111111,
              "#46039f"
             ],
             [
              0.2222222222222222,
              "#7201a8"
             ],
             [
              0.3333333333333333,
              "#9c179e"
             ],
             [
              0.4444444444444444,
              "#bd3786"
             ],
             [
              0.5555555555555556,
              "#d8576b"
             ],
             [
              0.6666666666666666,
              "#ed7953"
             ],
             [
              0.7777777777777778,
              "#fb9f3a"
             ],
             [
              0.8888888888888888,
              "#fdca26"
             ],
             [
              1,
              "#f0f921"
             ]
            ],
            "type": "contour"
           }
          ],
          "contourcarpet": [
           {
            "colorbar": {
             "outlinewidth": 0,
             "ticks": ""
            },
            "type": "contourcarpet"
           }
          ],
          "heatmap": [
           {
            "colorbar": {
             "outlinewidth": 0,
             "ticks": ""
            },
            "colorscale": [
             [
              0,
              "#0d0887"
             ],
             [
              0.1111111111111111,
              "#46039f"
             ],
             [
              0.2222222222222222,
              "#7201a8"
             ],
             [
              0.3333333333333333,
              "#9c179e"
             ],
             [
              0.4444444444444444,
              "#bd3786"
             ],
             [
              0.5555555555555556,
              "#d8576b"
             ],
             [
              0.6666666666666666,
              "#ed7953"
             ],
             [
              0.7777777777777778,
              "#fb9f3a"
             ],
             [
              0.8888888888888888,
              "#fdca26"
             ],
             [
              1,
              "#f0f921"
             ]
            ],
            "type": "heatmap"
           }
          ],
          "heatmapgl": [
           {
            "colorbar": {
             "outlinewidth": 0,
             "ticks": ""
            },
            "colorscale": [
             [
              0,
              "#0d0887"
             ],
             [
              0.1111111111111111,
              "#46039f"
             ],
             [
              0.2222222222222222,
              "#7201a8"
             ],
             [
              0.3333333333333333,
              "#9c179e"
             ],
             [
              0.4444444444444444,
              "#bd3786"
             ],
             [
              0.5555555555555556,
              "#d8576b"
             ],
             [
              0.6666666666666666,
              "#ed7953"
             ],
             [
              0.7777777777777778,
              "#fb9f3a"
             ],
             [
              0.8888888888888888,
              "#fdca26"
             ],
             [
              1,
              "#f0f921"
             ]
            ],
            "type": "heatmapgl"
           }
          ],
          "histogram": [
           {
            "marker": {
             "pattern": {
              "fillmode": "overlay",
              "size": 10,
              "solidity": 0.2
             }
            },
            "type": "histogram"
           }
          ],
          "histogram2d": [
           {
            "colorbar": {
             "outlinewidth": 0,
             "ticks": ""
            },
            "colorscale": [
             [
              0,
              "#0d0887"
             ],
             [
              0.1111111111111111,
              "#46039f"
             ],
             [
              0.2222222222222222,
              "#7201a8"
             ],
             [
              0.3333333333333333,
              "#9c179e"
             ],
             [
              0.4444444444444444,
              "#bd3786"
             ],
             [
              0.5555555555555556,
              "#d8576b"
             ],
             [
              0.6666666666666666,
              "#ed7953"
             ],
             [
              0.7777777777777778,
              "#fb9f3a"
             ],
             [
              0.8888888888888888,
              "#fdca26"
             ],
             [
              1,
              "#f0f921"
             ]
            ],
            "type": "histogram2d"
           }
          ],
          "histogram2dcontour": [
           {
            "colorbar": {
             "outlinewidth": 0,
             "ticks": ""
            },
            "colorscale": [
             [
              0,
              "#0d0887"
             ],
             [
              0.1111111111111111,
              "#46039f"
             ],
             [
              0.2222222222222222,
              "#7201a8"
             ],
             [
              0.3333333333333333,
              "#9c179e"
             ],
             [
              0.4444444444444444,
              "#bd3786"
             ],
             [
              0.5555555555555556,
              "#d8576b"
             ],
             [
              0.6666666666666666,
              "#ed7953"
             ],
             [
              0.7777777777777778,
              "#fb9f3a"
             ],
             [
              0.8888888888888888,
              "#fdca26"
             ],
             [
              1,
              "#f0f921"
             ]
            ],
            "type": "histogram2dcontour"
           }
          ],
          "mesh3d": [
           {
            "colorbar": {
             "outlinewidth": 0,
             "ticks": ""
            },
            "type": "mesh3d"
           }
          ],
          "parcoords": [
           {
            "line": {
             "colorbar": {
              "outlinewidth": 0,
              "ticks": ""
             }
            },
            "type": "parcoords"
           }
          ],
          "pie": [
           {
            "automargin": true,
            "type": "pie"
           }
          ],
          "scatter": [
           {
            "fillpattern": {
             "fillmode": "overlay",
             "size": 10,
             "solidity": 0.2
            },
            "type": "scatter"
           }
          ],
          "scatter3d": [
           {
            "line": {
             "colorbar": {
              "outlinewidth": 0,
              "ticks": ""
             }
            },
            "marker": {
             "colorbar": {
              "outlinewidth": 0,
              "ticks": ""
             }
            },
            "type": "scatter3d"
           }
          ],
          "scattercarpet": [
           {
            "marker": {
             "colorbar": {
              "outlinewidth": 0,
              "ticks": ""
             }
            },
            "type": "scattercarpet"
           }
          ],
          "scattergeo": [
           {
            "marker": {
             "colorbar": {
              "outlinewidth": 0,
              "ticks": ""
             }
            },
            "type": "scattergeo"
           }
          ],
          "scattergl": [
           {
            "marker": {
             "colorbar": {
              "outlinewidth": 0,
              "ticks": ""
             }
            },
            "type": "scattergl"
           }
          ],
          "scattermapbox": [
           {
            "marker": {
             "colorbar": {
              "outlinewidth": 0,
              "ticks": ""
             }
            },
            "type": "scattermapbox"
           }
          ],
          "scatterpolar": [
           {
            "marker": {
             "colorbar": {
              "outlinewidth": 0,
              "ticks": ""
             }
            },
            "type": "scatterpolar"
           }
          ],
          "scatterpolargl": [
           {
            "marker": {
             "colorbar": {
              "outlinewidth": 0,
              "ticks": ""
             }
            },
            "type": "scatterpolargl"
           }
          ],
          "scatterternary": [
           {
            "marker": {
             "colorbar": {
              "outlinewidth": 0,
              "ticks": ""
             }
            },
            "type": "scatterternary"
           }
          ],
          "surface": [
           {
            "colorbar": {
             "outlinewidth": 0,
             "ticks": ""
            },
            "colorscale": [
             [
              0,
              "#0d0887"
             ],
             [
              0.1111111111111111,
              "#46039f"
             ],
             [
              0.2222222222222222,
              "#7201a8"
             ],
             [
              0.3333333333333333,
              "#9c179e"
             ],
             [
              0.4444444444444444,
              "#bd3786"
             ],
             [
              0.5555555555555556,
              "#d8576b"
             ],
             [
              0.6666666666666666,
              "#ed7953"
             ],
             [
              0.7777777777777778,
              "#fb9f3a"
             ],
             [
              0.8888888888888888,
              "#fdca26"
             ],
             [
              1,
              "#f0f921"
             ]
            ],
            "type": "surface"
           }
          ],
          "table": [
           {
            "cells": {
             "fill": {
              "color": "#EBF0F8"
             },
             "line": {
              "color": "white"
             }
            },
            "header": {
             "fill": {
              "color": "#C8D4E3"
             },
             "line": {
              "color": "white"
             }
            },
            "type": "table"
           }
          ]
         },
         "layout": {
          "annotationdefaults": {
           "arrowcolor": "#2a3f5f",
           "arrowhead": 0,
           "arrowwidth": 1
          },
          "autotypenumbers": "strict",
          "coloraxis": {
           "colorbar": {
            "outlinewidth": 0,
            "ticks": ""
           }
          },
          "colorscale": {
           "diverging": [
            [
             0,
             "#8e0152"
            ],
            [
             0.1,
             "#c51b7d"
            ],
            [
             0.2,
             "#de77ae"
            ],
            [
             0.3,
             "#f1b6da"
            ],
            [
             0.4,
             "#fde0ef"
            ],
            [
             0.5,
             "#f7f7f7"
            ],
            [
             0.6,
             "#e6f5d0"
            ],
            [
             0.7,
             "#b8e186"
            ],
            [
             0.8,
             "#7fbc41"
            ],
            [
             0.9,
             "#4d9221"
            ],
            [
             1,
             "#276419"
            ]
           ],
           "sequential": [
            [
             0,
             "#0d0887"
            ],
            [
             0.1111111111111111,
             "#46039f"
            ],
            [
             0.2222222222222222,
             "#7201a8"
            ],
            [
             0.3333333333333333,
             "#9c179e"
            ],
            [
             0.4444444444444444,
             "#bd3786"
            ],
            [
             0.5555555555555556,
             "#d8576b"
            ],
            [
             0.6666666666666666,
             "#ed7953"
            ],
            [
             0.7777777777777778,
             "#fb9f3a"
            ],
            [
             0.8888888888888888,
             "#fdca26"
            ],
            [
             1,
             "#f0f921"
            ]
           ],
           "sequentialminus": [
            [
             0,
             "#0d0887"
            ],
            [
             0.1111111111111111,
             "#46039f"
            ],
            [
             0.2222222222222222,
             "#7201a8"
            ],
            [
             0.3333333333333333,
             "#9c179e"
            ],
            [
             0.4444444444444444,
             "#bd3786"
            ],
            [
             0.5555555555555556,
             "#d8576b"
            ],
            [
             0.6666666666666666,
             "#ed7953"
            ],
            [
             0.7777777777777778,
             "#fb9f3a"
            ],
            [
             0.8888888888888888,
             "#fdca26"
            ],
            [
             1,
             "#f0f921"
            ]
           ]
          },
          "colorway": [
           "#636efa",
           "#EF553B",
           "#00cc96",
           "#ab63fa",
           "#FFA15A",
           "#19d3f3",
           "#FF6692",
           "#B6E880",
           "#FF97FF",
           "#FECB52"
          ],
          "font": {
           "color": "#2a3f5f"
          },
          "geo": {
           "bgcolor": "white",
           "lakecolor": "white",
           "landcolor": "#E5ECF6",
           "showlakes": true,
           "showland": true,
           "subunitcolor": "white"
          },
          "hoverlabel": {
           "align": "left"
          },
          "hovermode": "closest",
          "mapbox": {
           "style": "light"
          },
          "paper_bgcolor": "white",
          "plot_bgcolor": "#E5ECF6",
          "polar": {
           "angularaxis": {
            "gridcolor": "white",
            "linecolor": "white",
            "ticks": ""
           },
           "bgcolor": "#E5ECF6",
           "radialaxis": {
            "gridcolor": "white",
            "linecolor": "white",
            "ticks": ""
           }
          },
          "scene": {
           "xaxis": {
            "backgroundcolor": "#E5ECF6",
            "gridcolor": "white",
            "gridwidth": 2,
            "linecolor": "white",
            "showbackground": true,
            "ticks": "",
            "zerolinecolor": "white"
           },
           "yaxis": {
            "backgroundcolor": "#E5ECF6",
            "gridcolor": "white",
            "gridwidth": 2,
            "linecolor": "white",
            "showbackground": true,
            "ticks": "",
            "zerolinecolor": "white"
           },
           "zaxis": {
            "backgroundcolor": "#E5ECF6",
            "gridcolor": "white",
            "gridwidth": 2,
            "linecolor": "white",
            "showbackground": true,
            "ticks": "",
            "zerolinecolor": "white"
           }
          },
          "shapedefaults": {
           "line": {
            "color": "#2a3f5f"
           }
          },
          "ternary": {
           "aaxis": {
            "gridcolor": "white",
            "linecolor": "white",
            "ticks": ""
           },
           "baxis": {
            "gridcolor": "white",
            "linecolor": "white",
            "ticks": ""
           },
           "bgcolor": "#E5ECF6",
           "caxis": {
            "gridcolor": "white",
            "linecolor": "white",
            "ticks": ""
           }
          },
          "title": {
           "x": 0.05
          },
          "xaxis": {
           "automargin": true,
           "gridcolor": "white",
           "linecolor": "white",
           "ticks": "",
           "title": {
            "standoff": 15
           },
           "zerolinecolor": "white",
           "zerolinewidth": 2
          },
          "yaxis": {
           "automargin": true,
           "gridcolor": "white",
           "linecolor": "white",
           "ticks": "",
           "title": {
            "standoff": 15
           },
           "zerolinecolor": "white",
           "zerolinewidth": 2
          }
         }
        },
        "xaxis": {
         "autorange": true,
         "range": [
          0.5,
          5.5
         ],
         "rangeslider": {
          "autorange": true,
          "range": [
           0.5,
           5.5
          ],
          "yaxis": {
           "_template": null,
           "rangemode": "match"
          }
         },
         "type": "linear"
        },
        "yaxis": {
         "autorange": true,
         "range": [
          8.61111111111111,
          16.38888888888889
         ]
        }
       }
      },
      "image/png": "[encoded data removed]",
      "text/html": [
       "<div>                            <div id=\"87fe1bb5-1a59-417a-86f8-c492fec2bfa4\" class=\"plotly-graph-div\" style=\"height:525px; width:100%;\"></div>            <script type=\"text/javascript\">                require([\"plotly\"], function(Plotly) {                    window.PLOTLYENV=window.PLOTLYENV || {};                                    if (document.getElementById(\"87fe1bb5-1a59-417a-86f8-c492fec2bfa4\")) {                    Plotly.newPlot(                        \"87fe1bb5-1a59-417a-86f8-c492fec2bfa4\",                        [{\"close\":[11,13,11.5,14,15],\"high\":[12,14,12,15,16],\"hovertext\":[\"Buy Date: 2024-05-01\\u003cbr\\u003eHigh: 12\\u003cbr\\u003eLow: 9\\u003cbr\\u003eClose: 11\",\"Buy Date: 2024-05-01\\u003cbr\\u003eHigh: 14\\u003cbr\\u003eLow: 10\\u003cbr\\u003eClose: 13\",\"Buy Date: 2024-05-01\\u003cbr\\u003eHigh: 12\\u003cbr\\u003eLow: 10\\u003cbr\\u003eClose: 11.5\",\"Buy Date: 2024-05-01\\u003cbr\\u003eHigh: 15\\u003cbr\\u003eLow: 12\\u003cbr\\u003eClose: 14\",\"Buy Date: 2024-05-01\\u003cbr\\u003eHigh: 16\\u003cbr\\u003eLow: 13\\u003cbr\\u003eClose: 15\"],\"low\":[9,10,10,12,13],\"open\":[10,12,11,13,15],\"x\":[1,2,3,4,5],\"type\":\"candlestick\"}],                        {\"template\":{\"data\":{\"histogram2dcontour\":[{\"type\":\"histogram2dcontour\",\"colorbar\":{\"outlinewidth\":0,\"ticks\":\"\"},\"colorscale\":[[0.0,\"#0d0887\"],[0.1111111111111111,\"#46039f\"],[0.2222222222222222,\"#7201a8\"],[0.3333333333333333,\"#9c179e\"],[0.4444444444444444,\"#bd3786\"],[0.5555555555555556,\"#d8576b\"],[0.6666666666666666,\"#ed7953\"],[0.7777777777777778,\"#fb9f3a\"],[0.8888888888888888,\"#fdca26\"],[1.0,\"#f0f921\"]]}],\"choropleth\":[{\"type\":\"choropleth\",\"colorbar\":{\"outlinewidth\":0,\"ticks\":\"\"}}],\"histogram2d\":[{\"type\":\"histogram2d\",\"colorbar\":{\"outlinewidth\":0,\"ticks\":\"\"},\"colorscale\":[[0.0,\"#0d0887\"],[0.1111111111111111,\"#46039f\"],[0.2222222222222222,\"#7201a8\"],[0.3333333333333333,\"#9c179e\"],[0.4444444444444444,\"#bd3786\"],[0.5555555555555556,\"#d8576b\"],[0.6666666666666666,\"#ed7953\"],[0.7777777777777778,\"#fb9f3a\"],[0.8888888888888888,\"#fdca26\"],[1.0,\"#f0f921\"]]}],\"heatmap\":[{\"type\":\"heatmap\",\"colorbar\":{\"outlinewidth\":0,\"ticks\":\"\"},\"colorscale\":[[0.0,\"#0d0887\"],[0.1111111111111111,\"#46039f\"],[0.2222222222222222,\"#7201a8\"],[0.3333333333333333,\"#9c179e\"],[0.4444444444444444,\"#bd3786\"],[0.5555555555555556,\"#d8576b\"],[0.6666666666666666,\"#ed7953\"],[0.7777777777777778,\"#fb9f3a\"],[0.8888888888888888,\"#fdca26\"],[1.0,\"#f0f921\"]]}],\"heatmapgl\":[{\"type\":\"heatmapgl\",\"colorbar\":{\"outlinewidth\":0,\"ticks\":\"\"},\"colorscale\":[[0.0,\"#0d0887\"],[0.1111111111111111,\"#46039f\"],[0.2222222222222222,\"#7201a8\"],[0.3333333333333333,\"#9c179e\"],[0.4444444444444444,\"#bd3786\"],[0.5555555555555556,\"#d8576b\"],[0.6666666666666666,\"#ed7953\"],[0.7777777777777778,\"#fb9f3a\"],[0.8888888888888888,\"#fdca26\"],[1.0,\"#f0f921\"]]}],\"contourcarpet\":[{\"type\":\"contourcarpet\",\"colorbar\":{\"outlinewidth\":0,\"ticks\":\"\"}}],\"contour\":[{\"type\":\"contour\",\"colorbar\":{\"outlinewidth\":0,\"ticks\":\"\"},\"colorscale\":[[0.0,\"#0d0887\"],[0.1111111111111111,\"#46039f\"],[0.2222222222222222,\"#7201a8\"],[0.3333333333333333,\"#9c179e\"],[0.4444444444444444,\"#bd3786\"],[0.5555555555555556,\"#d8576b\"],[0.6666666666666666,\"#ed7953\"],[0.7777777777777778,\"#fb9f3a\"],[0.8888888888888888,\"#fdca26\"],[1.0,\"#f0f921\"]]}],\"surface\":[{\"type\":\"surface\",\"colorbar\":{\"outlinewidth\":0,\"ticks\":\"\"},\"colorscale\":[[0.0,\"#0d0887\"],[0.1111111111111111,\"#46039f\"],[0.2222222222222222,\"#7201a8\"],[0.3333333333333333,\"#9c179e\"],[0.4444444444444444,\"#bd3786\"],[0.5555555555555556,\"#d8576b\"],[0.6666666666666666,\"#ed7953\"],[0.7777777777777778,\"#fb9f3a\"],[0.8888888888888888,\"#fdca26\"],[1.0,\"#f0f921\"]]}],\"mesh3d\":[{\"type\":\"mesh3d\",\"colorbar\":{\"outlinewidth\":0,\"ticks\":\"\"}}],\"scatter\":[{\"fillpattern\":{\"fillmode\":\"overlay\",\"size\":10,\"solidity\":0.2},\"type\":\"scatter\"}],\"parcoords\":[{\"type\":\"parcoords\",\"line\":{\"colorbar\":{\"outlinewidth\":0,\"ticks\":\"\"}}}],\"scatterpolargl\":[{\"type\":\"scatterpolargl\",\"marker\":{\"colorbar\":{\"outlinewidth\":0,\"ticks\":\"\"}}}],\"bar\":[{\"error_x\":{\"color\":\"#2a3f5f\"},\"error_y\":{\"color\":\"#2a3f5f\"},\"marker\":{\"line\":{\"color\":\"#E5ECF6\",\"width\":0.5},\"pattern\":{\"fillmode\":\"overlay\",\"size\":10,\"solidity\":0.2}},\"type\":\"bar\"}],\"scattergeo\":[{\"type\":\"scattergeo\",\"marker\":{\"colorbar\":{\"outlinewidth\":0,\"ticks\":\"\"}}}],\"scatterpolar\":[{\"type\":\"scatterpolar\",\"marker\":{\"colorbar\":{\"outlinewidth\":0,\"ticks\":\"\"}}}],\"histogram\":[{\"marker\":{\"pattern\":{\"fillmode\":\"overlay\",\"size\":10,\"solidity\":0.2}},\"type\":\"histogram\"}],\"scattergl\":[{\"type\":\"scattergl\",\"marker\":{\"colorbar\":{\"outlinewidth\":0,\"ticks\":\"\"}}}],\"scatter3d\":[{\"type\":\"scatter3d\",\"line\":{\"colorbar\":{\"outlinewidth\":0,\"ticks\":\"\"}},\"marker\":{\"colorbar\":{\"outlinewidth\":0,\"ticks\":\"\"}}}],\"scattermapbox\":[{\"type\":\"scattermapbox\",\"marker\":{\"colorbar\":{\"outlinewidth\":0,\"ticks\":\"\"}}}],\"scatterternary\":[{\"type\":\"scatterternary\",\"marker\":{\"colorbar\":{\"outlinewidth\":0,\"ticks\":\"\"}}}],\"scattercarpet\":[{\"type\":\"scattercarpet\",\"marker\":{\"colorbar\":{\"outlinewidth\":0,\"ticks\":\"\"}}}],\"carpet\":[{\"aaxis\":{\"endlinecolor\":\"#2a3f5f\",\"gridcolor\":\"white\",\"linecolor\":\"white\",\"minorgridcolor\":\"white\",\"startlinecolor\":\"#2a3f5f\"},\"baxis\":{\"endlinecolor\":\"#2a3f5f\",\"gridcolor\":\"white\",\"linecolor\":\"white\",\"minorgridcolor\":\"white\",\"startlinecolor\":\"#2a3f5f\"},\"type\":\"carpet\"}],\"table\":[{\"cells\":{\"fill\":{\"color\":\"#EBF0F8\"},\"line\":{\"color\":\"white\"}},\"header\":{\"fill\":{\"color\":\"#C8D4E3\"},\"line\":{\"color\":\"white\"}},\"type\":\"table\"}],\"barpolar\":[{\"marker\":{\"line\":{\"color\":\"#E5ECF6\",\"width\":0.5},\"pattern\":{\"fillmode\":\"overlay\",\"size\":10,\"solidity\":0.2}},\"type\":\"barpolar\"}],\"pie\":[{\"automargin\":true,\"type\":\"pie\"}]},\"layout\":{\"autotypenumbers\":\"strict\",\"colorway\":[\"#636efa\",\"#EF553B\",\"#00cc96\",\"#ab63fa\",\"#FFA15A\",\"#19d3f3\",\"#FF6692\",\"#B6E880\",\"#FF97FF\",\"#FECB52\"],\"font\":{\"color\":\"#2a3f5f\"},\"hovermode\":\"closest\",\"hoverlabel\":{\"align\":\"left\"},\"paper_bgcolor\":\"white\",\"plot_bgcolor\":\"#E5ECF6\",\"polar\":{\"bgcolor\":\"#E5ECF6\",\"angularaxis\":{\"gridcolor\":\"white\",\"linecolor\":\"white\",\"ticks\":\"\"},\"radialaxis\":{\"gridcolor\":\"white\",\"linecolor\":\"white\",\"ticks\":\"\"}},\"ternary\":{\"bgcolor\":\"#E5ECF6\",\"aaxis\":{\"gridcolor\":\"white\",\"linecolor\":\"white\",\"ticks\":\"\"},\"baxis\":{\"gridcolor\":\"white\",\"linecolor\":\"white\",\"ticks\":\"\"},\"caxis\":{\"gridcolor\":\"white\",\"linecolor\":\"white\",\"ticks\":\"\"}},\"coloraxis\":{\"colorbar\":{\"outlinewidth\":0,\"ticks\":\"\"}},\"colorscale\":{\"sequential\":[[0.0,\"#0d0887\"],[0.1111111111111111,\"#46039f\"],[0.2222222222222222,\"#7201a8\"],[0.3333333333333333,\"#9c179e\"],[0.4444444444444444,\"#bd3786\"],[0.5555555555555556,\"#d8576b\"],[0.6666666666666666,\"#ed7953\"],[0.7777777777777778,\"#fb9f3a\"],[0.8888888888888888,\"#fdca26\"],[1.0,\"#f0f921\"]],\"sequentialminus\":[[0.0,\"#0d0887\"],[0.1111111111111111,\"#46039f\"],[0.2222222222222222,\"#7201a8\"],[0.3333333333333333,\"#9c179e\"],[0.4444444444444444,\"#bd3786\"],[0.5555555555555556,\"#d8576b\"],[0.6666666666666666,\"#ed7953\"],[0.7777777777777778,\"#fb9f3a\"],[0.8888888888888888,\"#fdca26\"],[1.0,\"#f0f921\"]],\"diverging\":[[0,\"#8e0152\"],[0.1,\"#c51b7d\"],[0.2,\"#de77ae\"],[0.3,\"#f1b6da\"],[0.4,\"#fde0ef\"],[0.5,\"#f7f7f7\"],[0.6,\"#e6f5d0\"],[0.7,\"#b8e186\"],[0.8,\"#7fbc41\"],[0.9,\"#4d9221\"],[1,\"#276419\"]]},\"xaxis\":{\"gridcolor\":\"white\",\"linecolor\":\"white\",\"ticks\":\"\",\"title\":{\"standoff\":15},\"zerolinecolor\":\"white\",\"automargin\":true,\"zerolinewidth\":2},\"yaxis\":{\"gridcolor\":\"white\",\"linecolor\":\"white\",\"ticks\":\"\",\"title\":{\"standoff\":15},\"zerolinecolor\":\"white\",\"automargin\":true,\"zerolinewidth\":2},\"scene\":{\"xaxis\":{\"backgroundcolor\":\"#E5ECF6\",\"gridcolor\":\"white\",\"linecolor\":\"white\",\"showbackground\":true,\"ticks\":\"\",\"zerolinecolor\":\"white\",\"gridwidth\":2},\"yaxis\":{\"backgroundcolor\":\"#E5ECF6\",\"gridcolor\":\"white\",\"linecolor\":\"white\",\"showbackground\":true,\"ticks\":\"\",\"zerolinecolor\":\"white\",\"gridwidth\":2},\"zaxis\":{\"backgroundcolor\":\"#E5ECF6\",\"gridcolor\":\"white\",\"linecolor\":\"white\",\"showbackground\":true,\"ticks\":\"\",\"zerolinecolor\":\"white\",\"gridwidth\":2}},\"shapedefaults\":{\"line\":{\"color\":\"#2a3f5f\"}},\"annotationdefaults\":{\"arrowcolor\":\"#2a3f5f\",\"arrowhead\":0,\"arrowwidth\":1},\"geo\":{\"bgcolor\":\"white\",\"landcolor\":\"#E5ECF6\",\"subunitcolor\":\"white\",\"showland\":true,\"showlakes\":true,\"lakecolor\":\"white\"},\"title\":{\"x\":0.05},\"mapbox\":{\"style\":\"light\"}}}},                        {\"responsive\": true}                    ).then(function(){\n",
       "                            \n",
       "var gd = document.getElementById('87fe1bb5-1a59-417a-86f8-c492fec2bfa4');\n",
       "var x = new MutationObserver(function (mutations, observer) {{\n",
       "        var display = window.getComputedStyle(gd).display;\n",
       "        if (!display || display === 'none') {{\n",
       "            console.log([gd, 'removed!']);\n",
       "            Plotly.purge(gd);\n",
       "            observer.disconnect();\n",
       "        }}\n",
       "}});\n",
       "\n",
       "// Listen for the removal of the full notebook cells\n",
       "var notebookContainer = gd.closest('#notebook-container');\n",
       "if (notebookContainer) {{\n",
       "    x.observe(notebookContainer, {childList: true});\n",
       "}}\n",
       "\n",
       "// Listen for the clearing of the current output cell\n",
       "var outputEl = gd.closest('.output');\n",
       "if (outputEl) {{\n",
       "    x.observe(outputEl, {childList: true});\n",
       "}}\n",
       "\n",
       "                        })                };                });            </script>        </div>"
      ]
     },
     "metadata": {},
     "output_type": "display_data"
    }
   ],
   "source": [
    "import plotly.graph_objects as go\n",
    "\n",
    "\n",
    "\n",
    "# Sample data\n",
    "\n",
    "x = [1, 2, 3, 4, 5]\n",
    "\n",
    "open_prices = [10, 12, 11, 13, 15]\n",
    "\n",
    "high_prices = [12, 14, 12, 15, 16]\n",
    "\n",
    "low_prices = [9, 10, 10, 12, 13]\n",
    "\n",
    "close_prices = [11, 13, 11.5, 14, 15]\n",
    "\n",
    "\n",
    "\n",
    "fig = go.Figure(data=[go.Candlestick(x=x, open=open_prices, high=high_prices, low=low_prices, close=close_prices,\n",
    "\n",
    "                                    hovertext=[\"Buy Date: \" + \"2024-05-01\" + \"<br>High: \" + str(h) + \"<br>Low: \" + str(l) + \"<br>Close: \" + str(c) \n",
    "\n",
    "                                              for o, h, l, c in zip(open_prices, high_prices, low_prices, close_prices)])])\n",
    "\n",
    "\n",
    "\n",
    "fig.show()"
   ]
  },
  {
   "cell_type": "code",
   "execution_count": 549,
   "id": "344b77ba-ae52-49ea-8fb9-71773ece20d9",
   "metadata": {},
   "outputs": [
    {
     "data": {
      "text/plain": [
       "Date\n",
       "2024-11-07         {'CHTR': 22, 'GFS': 1, 'TEAM': 48, 'BKR': 1}\n",
       "2024-11-06                  {'WBA': 1903, 'LULU': 2, 'TEAM': 8}\n",
       "2024-11-05    {'WBA': 851, 'MDB': 11, 'MRVL': 19, 'BKNG': 1,...\n",
       "2024-11-04    {'WBA': 1288, 'MDB': 23, 'INTC': 8, 'LULU': 1,...\n",
       "2024-11-01    {'WBA': 1702, 'MDB': 10, 'INTC': 6, 'ODFL': 1,...\n",
       "2024-10-29        {'PDD': 141, 'TMUS': 5, 'MRVL': 10, 'AMD': 2}\n",
       "2024-10-15                 {'INTC': 498, 'MELI': 1, 'TEAM': 35}\n",
       "2024-10-11                            {'AMD': 102, 'INTC': 122}\n",
       "2024-10-10                             {'INTC': 766, 'CRWD': 7}\n",
       "2024-10-09                    {'PDD': 134, 'WBA': 4, 'CHTR': 3}\n",
       "2024-10-08                              {'PDD': 129, 'CHTR': 4}\n",
       "2024-10-07          {'PDD': 94, 'CHTR': 6, 'CEG': 13, 'WBA': 3}\n",
       "2024-10-01    {'ADSK': 3, 'INTC': 49, 'TSLA': 45, 'AMD': 4, ...\n",
       "2024-09-30    {'INTC': 122, 'AMD': 30, 'WBA': 25, 'EXC': 4, ...\n",
       "2024-09-27                    {'AMD': 2, 'TSLA': 67, 'PDD': 16}\n",
       "2024-09-17         {'REGN': 14, 'MELI': 1, 'CTAS': 9, 'WBD': 1}\n",
       "2024-09-16    {'REGN': 8, 'CSGP': 20, 'KDP': 2, 'MDB': 31, '...\n",
       "2024-09-13    {'CSCO': 3, 'MDB': 12, 'WBD': 1, 'ZS': 86, 'PA...\n",
       "2024-09-12                              {'MDLZ': 98, 'MDB': 43}\n",
       "2024-09-10                                         {'TSLA': 88}\n",
       "2024-09-04                                        {'TEAM': 123}\n",
       "2024-09-03    {'CHTR': 8, 'SBUX': 100, 'MELI': 1, 'WDAY': 14...\n",
       "2024-08-30    {'SBUX': 101, 'CHTR': 8, 'ILMN': 3, 'ISRG': 1,...\n",
       "2024-08-28    {'CHTR': 24, 'EXC': 2, 'TMUS': 12, 'TTWO': 2, ...\n",
       "2024-08-27    {'MELI': 4, 'CHTR': 7, 'REGN': 2, 'ISRG': 4, '...\n",
       "2024-08-26    {'ILMN': 21, 'MELI': 3, 'FTNT': 92, 'REGN': 2,...\n",
       "2024-08-23    {'MELI': 4, 'ILMN': 6, 'DASH': 22, 'FTNT': 73,...\n",
       "2024-08-22    {'XEL': 2, 'MELI': 3, 'ILMN': 15, 'CMCSA': 59,...\n",
       "2024-08-21       {'WBA': 577, 'DASH': 37, 'MELI': 4, 'REGN': 1}\n",
       "2024-08-20    {'XEL': 1, 'WBA': 705, 'MELI': 6, 'EXC': 2, 'M...\n",
       "2024-08-19    {'WBA': 417, 'DASH': 27, 'VRTX': 3, 'MELI': 3,...\n",
       "2024-08-14    {'XEL': 4, 'AEP': 30, 'ILMN': 15, 'ADP': 5, 'T...\n",
       "2024-08-08                  {'AEP': 144, 'EXC': 125, 'TMUS': 7}\n",
       "2024-08-05    {'CHTR': 16, 'CMCSA': 172, 'EA': 16, 'GEHC': 2...\n",
       "2024-08-02    {'CHTR': 29, 'GILD': 107, 'WBA': 37, 'ADP': 2,...\n",
       "2024-08-01    {'ODFL': 22, 'GILD': 74, 'CSGP': 6, 'ILMN': 2,...\n",
       "2024-07-31                            {'GILD': 129, 'CHTR': 27}\n",
       "2024-07-30                   {'ON': 197, 'ODFL': 8, 'GILD': 49}\n",
       "2024-07-29       {'MDB': 35, 'ODFL': 23, 'REGN': 1, 'GILD': 71}\n",
       "2024-07-26    {'TEAM': 46, 'MDB': 23, 'ODFL': 12, 'CTAS': 8,...\n",
       "2024-07-17                                        {'INTC': 584}\n",
       "2024-07-16                     {'TSLA': 77, 'EA': 1, 'GEHC': 1}\n",
       "2024-07-15                              {'AMD': 98, 'INTC': 68}\n",
       "2024-07-12                             {'AVGO': 105, 'AMD': 12}\n",
       "2024-07-11                             {'TSLA': 65, 'AAPL': 19}\n",
       "2024-07-10                  {'TSLA': 65, 'AAPL': 12, 'INTC': 1}\n",
       "Name: portfolio, dtype: object"
      ]
     },
     "execution_count": 549,
     "metadata": {},
     "output_type": "execute_result"
    }
   ],
   "source": [
    "portfolio[\"portfolio\"]"
   ]
  },
  {
   "cell_type": "markdown",
   "id": "724b42a9-74fe-4728-9554-5df688611a35",
   "metadata": {},
   "source": [
    "#### "
   ]
  },
  {
   "cell_type": "markdown",
   "id": "33190c9c-9219-46e6-a31d-16610718a3e9",
   "metadata": {},
   "source": [
    "#### "
   ]
  },
  {
   "cell_type": "markdown",
   "id": "a0cc9266-3db1-4be4-84ca-dc34ca30e0da",
   "metadata": {},
   "source": [
    "#### "
   ]
  },
  {
   "cell_type": "markdown",
   "id": "6c69ab1a-4caf-497b-8413-5ee08a89e461",
   "metadata": {},
   "source": [
    "#### "
   ]
  },
  {
   "cell_type": "markdown",
   "id": "cdc70aa3-c8f3-4a0b-a1fc-577ef88ab3f3",
   "metadata": {},
   "source": [
    "#### "
   ]
  },
  {
   "cell_type": "markdown",
   "id": "750df300-586b-46f3-8fc6-12044e39817a",
   "metadata": {},
   "source": [
    "#### "
   ]
  },
  {
   "cell_type": "markdown",
   "id": "409bc290-55c9-45c6-b8eb-8ea2465f5ad4",
   "metadata": {},
   "source": [
    "#### "
   ]
  },
  {
   "cell_type": "markdown",
   "id": "f8c27183-f4e1-4edf-ba23-f51bfab85c6e",
   "metadata": {},
   "source": [
    "#### "
   ]
  },
  {
   "cell_type": "markdown",
   "id": "c03543a7-0cc5-4fbb-bffc-63d73ccf07c7",
   "metadata": {},
   "source": [
    "#### "
   ]
  },
  {
   "cell_type": "markdown",
   "id": "e37885d1-cc84-41e7-a5a5-8dd51686e030",
   "metadata": {},
   "source": [
    "#### "
   ]
  },
  {
   "cell_type": "markdown",
   "id": "0554bbe9-d4fb-4adf-b6bb-9a12cf4ea727",
   "metadata": {},
   "source": [
    "#### "
   ]
  },
  {
   "cell_type": "markdown",
   "id": "4453889a-6920-462d-8d36-1287d1687787",
   "metadata": {},
   "source": [
    "#### "
   ]
  },
  {
   "cell_type": "markdown",
   "id": "a674ad19-8789-4243-a8f0-55b59724569f",
   "metadata": {},
   "source": [
    "#### "
   ]
  },
  {
   "cell_type": "markdown",
   "id": "26f66267-1b43-4441-854c-0224ec2154fa",
   "metadata": {},
   "source": [
    "#### "
   ]
  },
  {
   "cell_type": "markdown",
   "id": "c7661cf7-df78-4667-a074-c68e7e5ea390",
   "metadata": {},
   "source": [
    "#### "
   ]
  },
  {
   "cell_type": "markdown",
   "id": "fbec5404-73fe-4e3e-bc1b-110773e08a16",
   "metadata": {},
   "source": [
    "#### "
   ]
  },
  {
   "cell_type": "markdown",
   "id": "47cf4fde-a60f-4bd7-b787-c856139f4406",
   "metadata": {},
   "source": [
    "#### "
   ]
  },
  {
   "cell_type": "markdown",
   "id": "5f891217-2c32-4594-b1be-676aee219222",
   "metadata": {},
   "source": [
    "#### "
   ]
  },
  {
   "cell_type": "markdown",
   "id": "6fc6e0de-0f97-4b25-ac8b-137c8fbea194",
   "metadata": {},
   "source": [
    "#### "
   ]
  },
  {
   "cell_type": "markdown",
   "id": "5c04cb7a-0155-4400-9304-7f4944a66741",
   "metadata": {},
   "source": [
    "#### "
   ]
  },
  {
   "cell_type": "markdown",
   "id": "2629f5df-059a-407c-9705-69239f020f39",
   "metadata": {},
   "source": [
    "#### "
   ]
  },
  {
   "cell_type": "markdown",
   "id": "fecc2053-3cca-4a33-802e-6ffe156ff760",
   "metadata": {},
   "source": [
    "#### "
   ]
  },
  {
   "cell_type": "markdown",
   "id": "855dab0b-dcee-4804-8beb-aabc80c2f9bd",
   "metadata": {},
   "source": [
    "#### "
   ]
  },
  {
   "cell_type": "markdown",
   "id": "d06c366d-a3ab-4653-9f9e-4eedc7d25b2b",
   "metadata": {},
   "source": [
    "#### "
   ]
  },
  {
   "cell_type": "markdown",
   "id": "15c75e74-8dbe-4913-8782-a7c4da33661d",
   "metadata": {},
   "source": [
    "#### "
   ]
  },
  {
   "cell_type": "markdown",
   "id": "91e55630-4df5-48cf-9749-9a208a6bec10",
   "metadata": {},
   "source": [
    "#### "
   ]
  },
  {
   "cell_type": "markdown",
   "id": "f0a661f1-8440-42d5-a586-0b812b11af80",
   "metadata": {},
   "source": [
    "#### "
   ]
  },
  {
   "cell_type": "markdown",
   "id": "b4951258-009d-46a4-a0c3-647c2eea51c5",
   "metadata": {},
   "source": [
    "#### "
   ]
  },
  {
   "cell_type": "markdown",
   "id": "38b0151f-644e-430b-a71f-0c330cccfb77",
   "metadata": {},
   "source": [
    "#### "
   ]
  },
  {
   "cell_type": "markdown",
   "id": "9a205ead-6e8f-4a98-8d31-8f1e3bf6b6f7",
   "metadata": {},
   "source": [
    "#### "
   ]
  },
  {
   "cell_type": "markdown",
   "id": "f5dc51b2-60f6-4a94-aeb1-8ced0f7938d3",
   "metadata": {},
   "source": [
    "#### "
   ]
  },
  {
   "cell_type": "markdown",
   "id": "25aa18ba-3c07-4d04-bfae-f615968dfdf5",
   "metadata": {},
   "source": [
    "#### "
   ]
  },
  {
   "cell_type": "markdown",
   "id": "d3b65cd1-8ad7-4501-b5df-b3fd6e0bd092",
   "metadata": {},
   "source": [
    "#### "
   ]
  },
  {
   "cell_type": "markdown",
   "id": "0d7c0e13-3eea-4920-b90d-3ae7611eaeb4",
   "metadata": {},
   "source": [
    "#### "
   ]
  },
  {
   "cell_type": "markdown",
   "id": "6f53f6f4-8833-4401-bf1f-9b1c9bdb654a",
   "metadata": {},
   "source": [
    "#### "
   ]
  },
  {
   "cell_type": "markdown",
   "id": "03b14a0d-fb63-460a-940c-8b19d6aed007",
   "metadata": {},
   "source": [
    "#### "
   ]
  },
  {
   "cell_type": "markdown",
   "id": "2ee2924e-46f6-4265-9f14-efba58017aee",
   "metadata": {},
   "source": [
    "#### "
   ]
  },
  {
   "cell_type": "markdown",
   "id": "f9996029-c7aa-4581-b42e-80dbdb3c8adb",
   "metadata": {},
   "source": [
    "#### "
   ]
  },
  {
   "cell_type": "code",
   "execution_count": null,
   "id": "0d8dd2f6-b8b6-4d67-b01a-5866016dd234",
   "metadata": {},
   "outputs": [],
   "source": []
  }
 ],
 "metadata": {
  "kernelspec": {
   "display_name": "Python 3 (ipykernel)",
   "language": "python",
   "name": "python3"
  },
  "language_info": {
   "codemirror_mode": {
    "name": "ipython",
    "version": 3
   },
   "file_extension": ".py",
   "mimetype": "text/x-python",
   "name": "python",
   "nbconvert_exporter": "python",
   "pygments_lexer": "ipython3",
   "version": "3.12.2"
  }
 },
 "nbformat": 4,
 "nbformat_minor": 5
}
